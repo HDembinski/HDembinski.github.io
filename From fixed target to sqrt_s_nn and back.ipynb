{
 "cells": [
  {
   "cell_type": "code",
   "execution_count": 1,
   "metadata": {},
   "outputs": [],
   "source": [
    "from sympy import *"
   ]
  },
  {
   "cell_type": "code",
   "execution_count": 28,
   "metadata": {},
   "outputs": [],
   "source": [
    "e1, p1, e2, p2, m = symbols(\"E_1 p_1 E_2 p_2 m\",real=True, positive=True)"
   ]
  },
  {
   "cell_type": "markdown",
   "metadata": {},
   "source": [
    "We work in 1-dimensional coordinates with $p = p_z$. We generally use $m = m_p = m_n$, in other words we neglect the mass difference between protons and neutrons. We consider a proton projectile and a nuclear target with $A$ nucleons.\n",
    "\n",
    "We first compute the cms energy $\\sqrt{s_{nn}}$ in the nucleon-nucleon system from the fixed target system.\n",
    "\n",
    "In this system, we have these 4-vectors:\n",
    "* projectile $(E, p)$\n",
    "* target $(m, 0)$"
   ]
  },
  {
   "cell_type": "code",
   "execution_count": 34,
   "metadata": {
    "scrolled": true
   },
   "outputs": [
    {
     "data": {
      "text/latex": [
       "$\\displaystyle - p_{1}^{2} + \\left(E_{1} + m\\right)^{2}$"
      ],
      "text/plain": [
       "-p_1**2 + (E_1 + m)**2"
      ]
     },
     "execution_count": 34,
     "metadata": {},
     "output_type": "execute_result"
    }
   ],
   "source": [
    "s2 = (e1 + m)**2 - (p1 + 0)**2; s2"
   ]
  },
  {
   "cell_type": "code",
   "execution_count": 35,
   "metadata": {},
   "outputs": [
    {
     "data": {
      "text/latex": [
       "$\\displaystyle - p_{1}^{2} + \\left(m + \\sqrt{m^{2} + p_{1}^{2}}\\right)^{2}$"
      ],
      "text/plain": [
       "-p_1**2 + (m + sqrt(m**2 + p_1**2))**2"
      ]
     },
     "execution_count": 35,
     "metadata": {},
     "output_type": "execute_result"
    }
   ],
   "source": [
    "s2 = s2.subs(e1, sqrt(p1 ** 2 + m ** 2)); s2"
   ]
  },
  {
   "cell_type": "code",
   "execution_count": 36,
   "metadata": {},
   "outputs": [
    {
     "data": {
      "text/latex": [
       "$\\displaystyle 2 m p_{1} + O\\left(m^{2}\\right)$"
      ],
      "text/plain": [
       "2*m*p_1 + O(m**2)"
      ]
     },
     "execution_count": 36,
     "metadata": {},
     "output_type": "execute_result"
    }
   ],
   "source": [
    "s2.series(m, 0, 2)"
   ]
  },
  {
   "cell_type": "code",
   "execution_count": 37,
   "metadata": {},
   "outputs": [
    {
     "data": {
      "text/latex": [
       "$\\displaystyle \\sqrt{- p_{1}^{2} + \\left(E_{1} + m\\right)^{2}}$"
      ],
      "text/plain": [
       "sqrt(-p_1**2 + (E_1 + m)**2)"
      ]
     },
     "execution_count": 37,
     "metadata": {},
     "output_type": "execute_result"
    }
   ],
   "source": [
    "s = sqrt((e1 + m)**2 - (p1 + 0)**2); s"
   ]
  },
  {
   "cell_type": "code",
   "execution_count": 38,
   "metadata": {},
   "outputs": [
    {
     "data": {
      "text/latex": [
       "$\\displaystyle \\sqrt{- p_{1}^{2} + \\left(m + \\sqrt{m^{2} + p_{1}^{2}}\\right)^{2}}$"
      ],
      "text/plain": [
       "sqrt(-p_1**2 + (m + sqrt(m**2 + p_1**2))**2)"
      ]
     },
     "execution_count": 38,
     "metadata": {},
     "output_type": "execute_result"
    }
   ],
   "source": [
    "s = s.subs(e1, sqrt(p1 ** 2 + m ** 2)); s"
   ]
  },
  {
   "cell_type": "code",
   "execution_count": 43,
   "metadata": {},
   "outputs": [
    {
     "data": {
      "text/latex": [
       "$\\displaystyle \\sqrt{2} \\sqrt{m} \\sqrt{p_{1}} + \\frac{\\sqrt{2} m^{\\frac{3}{2}}}{2 \\sqrt{p_{1}}} + O\\left(m^{2}\\right)$"
      ],
      "text/plain": [
       "sqrt(2)*sqrt(m)*sqrt(p_1) + sqrt(2)*m**(3/2)/(2*sqrt(p_1)) + O(m**2)"
      ]
     },
     "execution_count": 43,
     "metadata": {},
     "output_type": "execute_result"
    }
   ],
   "source": [
    "s.series(m, 0, 2)"
   ]
  },
  {
   "cell_type": "code",
   "execution_count": 78,
   "metadata": {},
   "outputs": [],
   "source": [
    "def sqrt_snn(energy):\n",
    "    mass = (938.27 + 939.57) * 0.5e-9 # nucleon mass in PeV\n",
    "    return sqrt(2 * mass * energy) * 1e3 # sqrt(sNN) in TeV"
   ]
  },
  {
   "cell_type": "code",
   "execution_count": 88,
   "metadata": {},
   "outputs": [
    {
     "data": {
      "text/latex": [
       "$\\displaystyle 110.127117815583$"
      ],
      "text/plain": [
       "110.127117815583"
      ]
     },
     "execution_count": 88,
     "metadata": {},
     "output_type": "execute_result"
    }
   ],
   "source": [
    "0.5 * (sqrt_snn(320000+90000) - sqrt_snn(320000-90000))"
   ]
  },
  {
   "cell_type": "code",
   "execution_count": 55,
   "metadata": {},
   "outputs": [],
   "source": [
    "def beam_energy(sqrt_snn):\n",
    "    mass = (938.27 + 939.57) * 0.5e-3 # nucleon mass in GeV\n",
    "    return (sqrt_snn * 1e3) ** 2 / (2 * mass) / 1e6 # beam in PeV"
   ]
  },
  {
   "cell_type": "code",
   "execution_count": 83,
   "metadata": {},
   "outputs": [
    {
     "data": {
      "text/plain": [
       "104.37523963702976"
      ]
     },
     "execution_count": 83,
     "metadata": {},
     "output_type": "execute_result"
    }
   ],
   "source": [
    "beam_energy(14)"
   ]
  }
 ],
 "metadata": {
  "kernelspec": {
   "display_name": "py38",
   "language": "python",
   "name": "py38"
  },
  "language_info": {
   "codemirror_mode": {
    "name": "ipython",
    "version": 3
   },
   "file_extension": ".py",
   "mimetype": "text/x-python",
   "name": "python",
   "nbconvert_exporter": "python",
   "pygments_lexer": "ipython3",
   "version": "3.8.6"
  }
 },
 "nbformat": 4,
 "nbformat_minor": 4
}
