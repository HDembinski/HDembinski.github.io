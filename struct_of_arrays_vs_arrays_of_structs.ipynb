{
 "cells": [
  {
   "cell_type": "code",
   "execution_count": 219,
   "metadata": {},
   "outputs": [],
   "source": [
    "import numpy as np\n",
    "import numba as nb\n",
    "from numpy.testing import assert_allclose\n",
    "\n",
    "aos = np.empty((ni, 6))\n",
    "soa = np.empty((6, ni))\n",
    "for i in range(6):\n",
    "    aos[:, i] = np.arange(ni) + i\n",
    "    soa[i, :] = np.arange(ni) + i\n",
    "\n",
    "assert_allclose(aos, soa.T)\n",
    "\n",
    "aos_32 = aos.astype(np.float32)\n",
    "soa_32 = soa.astype(np.float32)\n",
    "\n",
    "\n",
    "@nb.njit\n",
    "def move_aos(aos, step):\n",
    "    for i in range(len(aos)):\n",
    "        r = aos[i, :3]\n",
    "        p = aos[i, 3:]\n",
    "        pn = np.sqrt(p[0] * p[0] + p[1] * p[1] + p[2] * p[2])\n",
    "        ps = step / pn\n",
    "        r += p * ps\n",
    "    return aos\n",
    "\n",
    "\n",
    "@nb.njit\n",
    "def move_aos_improved(aos, step):\n",
    "    r = aos[:, :3]\n",
    "    p = aos[:, 3:]\n",
    "    pn = np.sqrt(p[:,0] * p[:,0] + p[:,1] * p[:,1] + p[:,2] * p[:,2])\n",
    "    ps = step / pn\n",
    "    for i in range(3):\n",
    "        r[:, i] += p[:, i] * ps\n",
    "    return aos\n",
    "\n",
    "\n",
    "@nb.njit\n",
    "def move_soa(soa, step):\n",
    "    r = soa[:3]\n",
    "    p = soa[3:]\n",
    "    pn = np.sqrt(p[0] * p[0] + p[1] * p[1] + p[2] * p[2])\n",
    "    ps = step / pn\n",
    "    for i in range(3):\n",
    "        r[i] += p[i] * ps\n",
    "    return soa\n",
    "\n",
    "\n",
    "assert_allclose(move_aos(aos, 3), move_soa(soa, 3).T)\n",
    "assert_allclose(move_aos_improved(aos, 3), move_soa(soa, 3).T)\n",
    "assert_allclose(move_aos(aos_32, 3), move_soa(soa_32, 3).T, rtol=1e-6)\n",
    "assert_allclose(move_aos_improved(aos_32, 3), move_soa(soa_32, 3).T, rtol=1e-6)\n",
    "\n",
    "fns = (\"move_aos\", \"move_aos_improved\", \"move_soa\")"
   ]
  },
  {
   "cell_type": "code",
   "execution_count": 223,
   "metadata": {},
   "outputs": [],
   "source": [
    "from timeit import Timer\n",
    "\n",
    "for bits in (32, 64):\n",
    "    for ifn, fn in enumerate(fns):\n",
    "        times = []\n",
    "        n = np.geomspace(1, 1e6, 15).astype(int)\n",
    "        for ni in n:\n",
    "            arg = \"aos\" if \"aos\" in fn else \"soa\"\n",
    "            dtype = np.float32 if bits == 32 else np.float64\n",
    "            aos = np.empty((ni, 6), dtype=dtype)\n",
    "            soa = np.empty((6, ni), dtype=dtype)\n",
    "            for i in range(6):\n",
    "                aos[:, i] = np.arange(ni) + i\n",
    "                soa[i, :] = np.arange(ni) + i\n",
    "            t = Timer(f\"{fn}({arg}, 3)\", f\"from __main__ import {fn}, {arg}\")\n",
    "            m, dt = t.autorange()\n",
    "            tmin = min(dt, *t.repeat(3, m))\n",
    "            times.append(tmin / m)\n",
    "        plt.plot(n, times, color=f\"C{ifn}\",\n",
    "                 ls=\"-\" if bits == 64 else \"--\",\n",
    "                 label=f\"{bits} bit: {fn}\")\n",
    "plt.legend()\n",
    "plt.loglog();"
   ]
  },
  {
   "cell_type": "code",
   "execution_count": 221,
   "metadata": {},
   "outputs": [],
   "source": [
    "import boost_histogram as bh\n",
    "\n",
    "h = bh.Histogram(bh.axis.StrCategory([], growth=True), bh.axis.Integer(0, 3))\n",
    "\n",
    "for ifn, fn in enumerate(fns):\n",
    "    cmds = []\n",
    "    for line in list(globals()[fn].inspect_asm().values())[0].split(\"\\n\"):\n",
    "        line = line.strip(\"\\t \")\n",
    "        if line.startswith(\".\") or line.startswith(\"__\"):\n",
    "            continue\n",
    "        if \"\\t\" not in line:\n",
    "            continue\n",
    "        cmd = line.split(\"\\t\")[0]\n",
    "        if not cmd.startswith(\"v\"):\n",
    "            continue\n",
    "        if cmd.endswith(\"sd\"):\n",
    "            continue\n",
    "        cmds.append(cmd)\n",
    "\n",
    "    h.fill(cmds, ifn)"
   ]
  },
  {
   "cell_type": "code",
   "execution_count": 222,
   "metadata": {},
   "outputs": [
    {
     "data": {
      "image/png": "[encoded data removed]",
      "text/plain": [
       "<Figure size 432x288 with 1 Axes>"
      ]
     },
     "metadata": {
      "needs_background": "light"
     },
     "output_type": "display_data"
    }
   ],
   "source": [
    "import matplotlib.pyplot as plt\n",
    "\n",
    "xlabels = []\n",
    "values = []\n",
    "\n",
    "for x, v in sorted(zip(h.axes[0], h.values())):\n",
    "    xlabels.append(x)\n",
    "    values.append(v)\n",
    "\n",
    "values = np.array(values)\n",
    "\n",
    "xe = np.arange(len(xlabels) + 1)\n",
    "v = 0\n",
    "for ifn, fn in enumerate((move_aos, move_aos_improved, move_soa)):\n",
    "    before = v\n",
    "    v = v + values[:, ifn]\n",
    "    plt.stairs(v, 1-xe, baseline=before, fill=True, label=fn.__name__, orientation=\"horizontal\")\n",
    "plt.legend()\n",
    "plt.gca().yaxis.set_ticks(-np.arange(len(v)) + 0.5)\n",
    "plt.gca().yaxis.set_ticklabels(xlabels);"
   ]
  }
 ],
 "metadata": {
  "kernelspec": {
   "display_name": "Python 3.9.13 64-bit",
   "language": "python",
   "name": "python3"
  },
  "language_info": {
   "codemirror_mode": {
    "name": "ipython",
    "version": 3
   },
   "file_extension": ".py",
   "mimetype": "text/x-python",
   "name": "python",
   "nbconvert_exporter": "python",
   "pygments_lexer": "ipython3",
   "version": "3.9.13"
  },
  "orig_nbformat": 4,
  "vscode": {
   "interpreter": {
    "hash": "aee8b7b246df8f9039afb4144a1f6fd8d2ca17a180786b69acc140d282b71a49"
   }
  }
 },
 "nbformat": 4,
 "nbformat_minor": 2
}
