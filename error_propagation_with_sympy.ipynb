{
 "cells": [
  {
   "cell_type": "markdown",
   "metadata": {},
   "source": [
    "# Error propagation with Sympy\n",
    "\n",
    "Sympy is a Python module for symbolic computation (like Mathematica and Matlab) with an elegant Python design.\n",
    "\n",
    "It can easily do mechanical tasks such as computing first derivatives for error propagation. We use this here to write a generic error propagation function in only 20+ lines."
   ]
  },
  {
   "cell_type": "code",
   "execution_count": 1,
   "metadata": {},
   "outputs": [],
   "source": [
    "import sympy\n",
    "\n",
    "\n",
    "def value_and_covariance_gen(expr, variables):\n",
    "    expr = sympy.parse_expr(expr)\n",
    "\n",
    "    symbols = sympy.symbols(variables)\n",
    "    cov_symbols = sympy.symbols(tuple(\"C_\" + k for k in variables))\n",
    "    expr2 = sum(expr.diff(s) ** 2 * c for s, c in zip(symbols, cov_symbols))\n",
    "    expr2 = expr2.simplify()\n",
    "\n",
    "    fval = sympy.lambdify(symbols, expr)\n",
    "    fcov = sympy.lambdify(symbols + cov_symbols, expr2)\n",
    "\n",
    "    def fn(**kwargs):\n",
    "        x = tuple(v[0] for v in kwargs.values())\n",
    "        c = tuple(v[1] for v in kwargs.values())\n",
    "        return fval(*x), fcov(*x, *c)\n",
    "\n",
    "    return fn\n",
    "\n",
    "\n",
    "def value_and_covariance(expr, **kwargs):\n",
    "    return value_and_covariance_gen(expr, tuple(kwargs))(**kwargs)"
   ]
  },
  {
   "cell_type": "markdown",
   "metadata": {},
   "source": [
    "That's all, folks!\n",
    "\n",
    "`value_and_covariance_gen` generates a Python function that computes the value of the expression and the propagated covariance. `value_and_covariance` is just a shortcut to generate and immediately call the function. The generated Python code is fast to evaluate (it just calls numpy functions).\n",
    "\n",
    "Generating the propagating function takes about 6ms on my computer. Evaluating it is very fast.\n",
    "\n",
    "**Limitations** \n",
    "- Only uncorrelated inputs are currently supported\n",
    "- Expression must consist of basic math"
   ]
  },
  {
   "cell_type": "markdown",
   "metadata": {},
   "source": [
    "## Some examples"
   ]
  },
  {
   "cell_type": "code",
   "execution_count": 4,
   "metadata": {},
   "outputs": [
    {
     "data": {
      "text/plain": [
       "(3, 0.30000000000000004)"
      ]
     },
     "execution_count": 4,
     "metadata": {},
     "output_type": "execute_result"
    }
   ],
   "source": [
    "value_and_covariance(\"a + b\", a=(1, 0.1), b=(2, 0.2))"
   ]
  },
  {
   "cell_type": "code",
   "execution_count": 3,
   "metadata": {},
   "outputs": [
    {
     "data": {
      "text/plain": [
       "(0.3333333333333333, 0.001037037037037037)"
      ]
     },
     "execution_count": 3,
     "metadata": {},
     "output_type": "execute_result"
    }
   ],
   "source": [
    "value_and_covariance(\"s / (s + b)\", s=(5, 0.5), b=(10, 0.1))"
   ]
  }
 ],
 "metadata": {
  "kernelspec": {
   "display_name": "Python 3",
   "language": "python",
   "name": "python3"
  },
  "language_info": {
   "codemirror_mode": {
    "name": "ipython",
    "version": 3
   },
   "file_extension": ".py",
   "mimetype": "text/x-python",
   "name": "python",
   "nbconvert_exporter": "python",
   "pygments_lexer": "ipython3",
   "version": "3.8.5"
  }
 },
 "nbformat": 4,
 "nbformat_minor": 4
}
