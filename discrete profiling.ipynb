{
 "cells": [
  {
   "cell_type": "code",
   "execution_count": 1,
   "metadata": {},
   "outputs": [],
   "source": [
    "from iminuit import Minuit\n",
    "from iminuit.cost import ExtendedBinnedNLL\n",
    "from scipy.stats import norm, expon\n",
    "from scipy.interpolate import BPoly\n",
    "import numpy as np\n",
    "from pyik.mplext import plot_hist\n",
    "import matplotlib.pyplot as plt"
   ]
  },
  {
   "cell_type": "code",
   "execution_count": 2,
   "metadata": {},
   "outputs": [],
   "source": [
    "def scaled_cdf_bernstein(x, pars):\n",
    "    pars = np.atleast_1d(pars)\n",
    "    c = BPoly(pars[..., np.newaxis], xrange).antiderivative()\n",
    "    return c(x)\n",
    "\n",
    "\n",
    "def scaled_cdf_expon(x, a, b):\n",
    "    return a * (1 - np.exp(-b * x))\n",
    "\n",
    "\n",
    "def model1(x, a, b, c):\n",
    "    sig = a * norm(0.5, 0.05).cdf(x)\n",
    "    bkg = scaled_cdf_expon(x, b, c)\n",
    "    return bkg + sig\n",
    "\n",
    "\n",
    "def model2(x, par):\n",
    "    sig = par[0] * norm(0.5, 0.05).cdf(x)\n",
    "    bkg = scaled_cdf_bernstein(x, par[1:])\n",
    "    return bkg + sig"
   ]
  },
  {
   "cell_type": "code",
   "execution_count": 3,
   "metadata": {},
   "outputs": [
    {
     "data": {
      "text/plain": [
       "[<matplotlib.lines.Line2D at 0x131c4c5b0>]"
      ]
     },
     "execution_count": 3,
     "metadata": {},
     "output_type": "execute_result"
    },
    {
     "data": {
      "image/png": "[encoded data removed]",
      "text/plain": [
       "<Figure size 432x288 with 1 Axes>"
      ]
     },
     "metadata": {
      "needs_background": "light"
     },
     "output_type": "display_data"
    }
   ],
   "source": [
    "rng = np.random.default_rng(1)\n",
    "xrange = np.array((0, 1))\n",
    "x_bkg = rng.exponential(0.4, size=10000)\n",
    "x_sig = norm(0.5, 0.05).rvs(5000)\n",
    "x = np.append(x_bkg, x_sig)\n",
    "x = x[(x > xrange[0]) & (x < xrange[1])]\n",
    "n, xe = np.histogram(x, bins=50, range=xrange)\n",
    "plot_hist(xe, n)"
   ]
  },
  {
   "cell_type": "code",
   "execution_count": 4,
   "metadata": {},
   "outputs": [
    {
     "data": {
      "text/html": [
       "<table>\n",
       "    <tr>\n",
       "        <td colspan=\"2\" style=\"text-align:left\" title=\"Minimum value of function\"> FCN = 50.68 </td>\n",
       "        <td colspan=\"3\" style=\"text-align:center\" title=\"No. of function evaluations in last call and total number\"> Nfcn = 98 </td>\n",
       "    </tr>\n",
       "    <tr>\n",
       "        <td colspan=\"2\" style=\"text-align:left\" title=\"Estimated distance to minimum and goal\"> EDM = 4e-06 (Goal: 0.0002) </td>\n",
       "        <td colspan=\"3\" style=\"text-align:center\" title=\"No. of gradient evaluations in last call and total number\">  </td>\n",
       "    </tr>\n",
       "    <tr>\n",
       "        <td style=\"text-align:center;background-color:#92CCA6;color:black\"> Valid Minimum </td>\n",
       "        <td style=\"text-align:center;background-color:#92CCA6;color:black\"> Valid Parameters </td>\n",
       "        <td colspan=\"3\" style=\"text-align:center;background-color:#92CCA6;color:black\"> No Parameters at limit </td>\n",
       "    </tr>\n",
       "    <tr>\n",
       "        <td colspan=\"2\" style=\"text-align:center;background-color:#92CCA6;color:black\"> Below EDM threshold (goal x 10) </td>\n",
       "        <td colspan=\"3\" style=\"text-align:center;background-color:#92CCA6;color:black\"> Below call limit </td>\n",
       "    </tr>\n",
       "    <tr>\n",
       "        <td style=\"text-align:center;background-color:#92CCA6;color:black\"> Covariance </td>\n",
       "        <td style=\"text-align:center;background-color:#92CCA6;color:black\"> Hesse ok </td>\n",
       "        <td style=\"text-align:center;background-color:#92CCA6;color:black\" title=\"Is covariance matrix accurate?\"> Accurate </td>\n",
       "        <td style=\"text-align:center;background-color:#92CCA6;color:black\" title=\"Is covariance matrix positive definite?\"> Pos. def. </td>\n",
       "        <td style=\"text-align:center;background-color:#92CCA6;color:black\" title=\"Was positive definiteness enforced by Minuit?\"> Not forced </td>\n",
       "    </tr>\n",
       "</table><table>\n",
       "    <tr>\n",
       "        <td></td>\n",
       "        <th title=\"Variable name\"> Name </th>\n",
       "        <th title=\"Value of parameter\"> Value </th>\n",
       "        <th title=\"Hesse error\"> Hesse Error </th>\n",
       "        <th title=\"Minos lower error\"> Minos Error- </th>\n",
       "        <th title=\"Minos upper error\"> Minos Error+ </th>\n",
       "        <th title=\"Lower limit of the parameter\"> Limit- </th>\n",
       "        <th title=\"Upper limit of the parameter\"> Limit+ </th>\n",
       "        <th title=\"Is the parameter fixed in the fit\"> Fixed </th>\n",
       "    </tr>\n",
       "    <tr>\n",
       "        <th> 0 </th>\n",
       "        <td> a </td>\n",
       "        <td> 5.01e3 </td>\n",
       "        <td> 0.08e3 </td>\n",
       "        <td>  </td>\n",
       "        <td>  </td>\n",
       "        <td> 0 </td>\n",
       "        <td>  </td>\n",
       "        <td>  </td>\n",
       "    </tr>\n",
       "    <tr>\n",
       "        <th> 1 </th>\n",
       "        <td> b </td>\n",
       "        <td> 10.06e3 </td>\n",
       "        <td> 0.13e3 </td>\n",
       "        <td>  </td>\n",
       "        <td>  </td>\n",
       "        <td> 0 </td>\n",
       "        <td>  </td>\n",
       "        <td>  </td>\n",
       "    </tr>\n",
       "    <tr>\n",
       "        <th> 2 </th>\n",
       "        <td> c </td>\n",
       "        <td> 2.46 </td>\n",
       "        <td> 0.04 </td>\n",
       "        <td>  </td>\n",
       "        <td>  </td>\n",
       "        <td> 0 </td>\n",
       "        <td>  </td>\n",
       "        <td>  </td>\n",
       "    </tr>\n",
       "</table><table>\n",
       "    <tr>\n",
       "        <td></td>\n",
       "        <th> a </th>\n",
       "        <th> b </th>\n",
       "        <th> c </th>\n",
       "    </tr>\n",
       "    <tr>\n",
       "        <th> a </th>\n",
       "        <td> 7.23e+03 </td>\n",
       "        <td style=\"background-color:rgb(214,214,250);color:black\"> -3.09e+03 <strong>(-0.280)</strong> </td>\n",
       "        <td style=\"background-color:rgb(250,222,222);color:black\"> 0.703 <strong>(0.186)</strong> </td>\n",
       "    </tr>\n",
       "    <tr>\n",
       "        <th> b </th>\n",
       "        <td style=\"background-color:rgb(214,214,250);color:black\"> -3.09e+03 <strong>(-0.280)</strong> </td>\n",
       "        <td> 1.68e+04 </td>\n",
       "        <td style=\"background-color:rgb(191,191,250);color:black\"> -2.61 <strong>(-0.454)</strong> </td>\n",
       "    </tr>\n",
       "    <tr>\n",
       "        <th> c </th>\n",
       "        <td style=\"background-color:rgb(250,222,222);color:black\"> 0.703 <strong>(0.186)</strong> </td>\n",
       "        <td style=\"background-color:rgb(191,191,250);color:black\"> -2.61 <strong>(-0.454)</strong> </td>\n",
       "        <td> 0.00196 </td>\n",
       "    </tr>\n",
       "</table>"
      ],
      "text/plain": [
       "┌──────────────────────────────────┬──────────────────────────────────────┐\n",
       "│ FCN = 50.68                      │              Nfcn = 98               │\n",
       "│ EDM = 4e-06 (Goal: 0.0002)       │                                      │\n",
       "├───────────────┬──────────────────┼──────────────────────────────────────┤\n",
       "│ Valid Minimum │ Valid Parameters │        No Parameters at limit        │\n",
       "├───────────────┴──────────────────┼──────────────────────────────────────┤\n",
       "│ Below EDM threshold (goal x 10)  │           Below call limit           │\n",
       "├───────────────┬──────────────────┼───────────┬─────────────┬────────────┤\n",
       "│  Covariance   │     Hesse ok     │ Accurate  │  Pos. def.  │ Not forced │\n",
       "└───────────────┴──────────────────┴───────────┴─────────────┴────────────┘\n",
       "┌───┬──────┬───────────┬───────────┬────────────┬────────────┬─────────┬─────────┬───────┐\n",
       "│   │ Name │   Value   │ Hesse Err │ Minos Err- │ Minos Err+ │ Limit-  │ Limit+  │ Fixed │\n",
       "├───┼──────┼───────────┼───────────┼────────────┼────────────┼─────────┼─────────┼───────┤\n",
       "│ 0 │ a    │  5.01e3   │  0.08e3   │            │            │    0    │         │       │\n",
       "│ 1 │ b    │  10.06e3  │  0.13e3   │            │            │    0    │         │       │\n",
       "│ 2 │ c    │   2.46    │   0.04    │            │            │    0    │         │       │\n",
       "└───┴──────┴───────────┴───────────┴────────────┴────────────┴─────────┴─────────┴───────┘\n",
       "┌───┬───────────────────────────────┐\n",
       "│   │         a         b         c │\n",
       "├───┼───────────────────────────────┤\n",
       "│ a │  7.23e+03 -3.09e+03     0.703 │\n",
       "│ b │ -3.09e+03  1.68e+04     -2.61 │\n",
       "│ c │     0.703     -2.61   0.00196 │\n",
       "└───┴───────────────────────────────┘"
      ]
     },
     "execution_count": 4,
     "metadata": {},
     "output_type": "execute_result"
    }
   ],
   "source": [
    "m1 = Minuit(ExtendedBinnedNLL(n, xe, model1), 500, 1000, 1)\n",
    "m1.limits = (0, None)\n",
    "m1.migrad()"
   ]
  },
  {
   "cell_type": "code",
   "execution_count": 5,
   "metadata": {},
   "outputs": [
    {
     "data": {
      "text/plain": [
       "[<matplotlib.lines.Line2D at 0x1320eaeb0>]"
      ]
     },
     "execution_count": 5,
     "metadata": {},
     "output_type": "execute_result"
    },
    {
     "data": {
      "image/png": "[encoded data removed]",
      "text/plain": [
       "<Figure size 432x288 with 1 Axes>"
      ]
     },
     "metadata": {
      "needs_background": "light"
     },
     "output_type": "display_data"
    }
   ],
   "source": [
    "plot_hist(xe, n)\n",
    "plot_hist(xe, np.diff(model1(xe, *m1.values)))"
   ]
  },
  {
   "cell_type": "code",
   "execution_count": 6,
   "metadata": {},
   "outputs": [
    {
     "data": {
      "text/html": [
       "<table>\n",
       "    <tr>\n",
       "        <td colspan=\"2\" style=\"text-align:left\" title=\"Minimum value of function\"> FCN = 65.9 </td>\n",
       "        <td colspan=\"3\" style=\"text-align:center\" title=\"No. of function evaluations in last call and total number\"> Nfcn = 126 </td>\n",
       "    </tr>\n",
       "    <tr>\n",
       "        <td colspan=\"2\" style=\"text-align:left\" title=\"Estimated distance to minimum and goal\"> EDM = 1.1e-06 (Goal: 0.0002) </td>\n",
       "        <td colspan=\"3\" style=\"text-align:center\" title=\"No. of gradient evaluations in last call and total number\">  </td>\n",
       "    </tr>\n",
       "    <tr>\n",
       "        <td style=\"text-align:center;background-color:#92CCA6;color:black\"> Valid Minimum </td>\n",
       "        <td style=\"text-align:center;background-color:#92CCA6;color:black\"> Valid Parameters </td>\n",
       "        <td colspan=\"3\" style=\"text-align:center;background-color:#92CCA6;color:black\"> No Parameters at limit </td>\n",
       "    </tr>\n",
       "    <tr>\n",
       "        <td colspan=\"2\" style=\"text-align:center;background-color:#92CCA6;color:black\"> Below EDM threshold (goal x 10) </td>\n",
       "        <td colspan=\"3\" style=\"text-align:center;background-color:#92CCA6;color:black\"> Below call limit </td>\n",
       "    </tr>\n",
       "    <tr>\n",
       "        <td style=\"text-align:center;background-color:#92CCA6;color:black\"> Covariance </td>\n",
       "        <td style=\"text-align:center;background-color:#92CCA6;color:black\"> Hesse ok </td>\n",
       "        <td style=\"text-align:center;background-color:#92CCA6;color:black\" title=\"Is covariance matrix accurate?\"> Accurate </td>\n",
       "        <td style=\"text-align:center;background-color:#92CCA6;color:black\" title=\"Is covariance matrix positive definite?\"> Pos. def. </td>\n",
       "        <td style=\"text-align:center;background-color:#92CCA6;color:black\" title=\"Was positive definiteness enforced by Minuit?\"> Not forced </td>\n",
       "    </tr>\n",
       "</table><table>\n",
       "    <tr>\n",
       "        <td></td>\n",
       "        <th title=\"Variable name\"> Name </th>\n",
       "        <th title=\"Value of parameter\"> Value </th>\n",
       "        <th title=\"Hesse error\"> Hesse Error </th>\n",
       "        <th title=\"Minos lower error\"> Minos Error- </th>\n",
       "        <th title=\"Minos upper error\"> Minos Error+ </th>\n",
       "        <th title=\"Lower limit of the parameter\"> Limit- </th>\n",
       "        <th title=\"Upper limit of the parameter\"> Limit+ </th>\n",
       "        <th title=\"Is the parameter fixed in the fit\"> Fixed </th>\n",
       "    </tr>\n",
       "    <tr>\n",
       "        <th> 0 </th>\n",
       "        <td> x0 </td>\n",
       "        <td> 4.95e3 </td>\n",
       "        <td> 0.09e3 </td>\n",
       "        <td>  </td>\n",
       "        <td>  </td>\n",
       "        <td> 0 </td>\n",
       "        <td>  </td>\n",
       "        <td>  </td>\n",
       "    </tr>\n",
       "    <tr>\n",
       "        <th> 1 </th>\n",
       "        <td> x1 </td>\n",
       "        <td> 23.0e3 </td>\n",
       "        <td> 0.4e3 </td>\n",
       "        <td>  </td>\n",
       "        <td>  </td>\n",
       "        <td> 0 </td>\n",
       "        <td>  </td>\n",
       "        <td>  </td>\n",
       "    </tr>\n",
       "    <tr>\n",
       "        <th> 2 </th>\n",
       "        <td> x2 </td>\n",
       "        <td> 2.2e3 </td>\n",
       "        <td> 0.5e3 </td>\n",
       "        <td>  </td>\n",
       "        <td>  </td>\n",
       "        <td> 0 </td>\n",
       "        <td>  </td>\n",
       "        <td>  </td>\n",
       "    </tr>\n",
       "    <tr>\n",
       "        <th> 3 </th>\n",
       "        <td> x3 </td>\n",
       "        <td> 2.54e3 </td>\n",
       "        <td> 0.19e3 </td>\n",
       "        <td>  </td>\n",
       "        <td>  </td>\n",
       "        <td> 0 </td>\n",
       "        <td>  </td>\n",
       "        <td>  </td>\n",
       "    </tr>\n",
       "</table><table>\n",
       "    <tr>\n",
       "        <td></td>\n",
       "        <th> x0 </th>\n",
       "        <th> x1 </th>\n",
       "        <th> x2 </th>\n",
       "        <th> x3 </th>\n",
       "    </tr>\n",
       "    <tr>\n",
       "        <th> x0 </th>\n",
       "        <td> 7.86e+03 </td>\n",
       "        <td style=\"background-color:rgb(250,241,241);color:black\"> 1.98e+03 <strong>(0.060)</strong> </td>\n",
       "        <td style=\"background-color:rgb(205,205,250);color:black\"> -1.41e+04 <strong>(-0.345)</strong> </td>\n",
       "        <td style=\"background-color:rgb(250,219,219);color:black\"> 3.41e+03 <strong>(0.207)</strong> </td>\n",
       "    </tr>\n",
       "    <tr>\n",
       "        <th> x1 </th>\n",
       "        <td style=\"background-color:rgb(250,241,241);color:black\"> 1.98e+03 <strong>(0.060)</strong> </td>\n",
       "        <td> 1.4e+05 </td>\n",
       "        <td style=\"background-color:rgb(173,173,250);color:black\"> -1.02e+05 <strong>(-0.590)</strong> </td>\n",
       "        <td style=\"background-color:rgb(250,197,197);color:black\"> 2.48e+04 <strong>(0.356)</strong> </td>\n",
       "    </tr>\n",
       "    <tr>\n",
       "        <th> x2 </th>\n",
       "        <td style=\"background-color:rgb(205,205,250);color:black\"> -1.41e+04 <strong>(-0.345)</strong> </td>\n",
       "        <td style=\"background-color:rgb(173,173,250);color:black\"> -1.02e+05 <strong>(-0.590)</strong> </td>\n",
       "        <td> 2.13e+05 </td>\n",
       "        <td style=\"background-color:rgb(156,156,250);color:black\"> -6.22e+04 <strong>(-0.722)</strong> </td>\n",
       "    </tr>\n",
       "    <tr>\n",
       "        <th> x3 </th>\n",
       "        <td style=\"background-color:rgb(250,219,219);color:black\"> 3.41e+03 <strong>(0.207)</strong> </td>\n",
       "        <td style=\"background-color:rgb(250,197,197);color:black\"> 2.48e+04 <strong>(0.356)</strong> </td>\n",
       "        <td style=\"background-color:rgb(156,156,250);color:black\"> -6.22e+04 <strong>(-0.722)</strong> </td>\n",
       "        <td> 3.47e+04 </td>\n",
       "    </tr>\n",
       "</table>"
      ],
      "text/plain": [
       "┌──────────────────────────────────┬──────────────────────────────────────┐\n",
       "│ FCN = 65.9                       │              Nfcn = 126              │\n",
       "│ EDM = 1.1e-06 (Goal: 0.0002)     │                                      │\n",
       "├───────────────┬──────────────────┼──────────────────────────────────────┤\n",
       "│ Valid Minimum │ Valid Parameters │        No Parameters at limit        │\n",
       "├───────────────┴──────────────────┼──────────────────────────────────────┤\n",
       "│ Below EDM threshold (goal x 10)  │           Below call limit           │\n",
       "├───────────────┬──────────────────┼───────────┬─────────────┬────────────┤\n",
       "│  Covariance   │     Hesse ok     │ Accurate  │  Pos. def.  │ Not forced │\n",
       "└───────────────┴──────────────────┴───────────┴─────────────┴────────────┘\n",
       "┌───┬──────┬───────────┬───────────┬────────────┬────────────┬─────────┬─────────┬───────┐\n",
       "│   │ Name │   Value   │ Hesse Err │ Minos Err- │ Minos Err+ │ Limit-  │ Limit+  │ Fixed │\n",
       "├───┼──────┼───────────┼───────────┼────────────┼────────────┼─────────┼─────────┼───────┤\n",
       "│ 0 │ x0   │  4.95e3   │  0.09e3   │            │            │    0    │         │       │\n",
       "│ 1 │ x1   │  23.0e3   │   0.4e3   │            │            │    0    │         │       │\n",
       "│ 2 │ x2   │   2.2e3   │   0.5e3   │            │            │    0    │         │       │\n",
       "│ 3 │ x3   │  2.54e3   │  0.19e3   │            │            │    0    │         │       │\n",
       "└───┴──────┴───────────┴───────────┴────────────┴────────────┴─────────┴─────────┴───────┘\n",
       "┌────┬─────────────────────────────────────────┐\n",
       "│    │        x0        x1        x2        x3 │\n",
       "├────┼─────────────────────────────────────────┤\n",
       "│ x0 │  7.86e+03  1.98e+03 -1.41e+04  3.41e+03 │\n",
       "│ x1 │  1.98e+03   1.4e+05 -1.02e+05  2.48e+04 │\n",
       "│ x2 │ -1.41e+04 -1.02e+05  2.13e+05 -6.22e+04 │\n",
       "│ x3 │  3.41e+03  2.48e+04 -6.22e+04  3.47e+04 │\n",
       "└────┴─────────────────────────────────────────┘"
      ]
     },
     "execution_count": 6,
     "metadata": {},
     "output_type": "execute_result"
    }
   ],
   "source": [
    "m2 = Minuit(ExtendedBinnedNLL(n, xe, model2), (500, 2e4, 2e3, 3e3))\n",
    "m2.limits = (0, None)\n",
    "m2.migrad()"
   ]
  },
  {
   "cell_type": "code",
   "execution_count": 7,
   "metadata": {},
   "outputs": [
    {
     "data": {
      "text/plain": [
       "[<matplotlib.lines.Line2D at 0x13215b280>]"
      ]
     },
     "execution_count": 7,
     "metadata": {},
     "output_type": "execute_result"
    },
    {
     "data": {
      "image/png": "[encoded data removed]",
      "text/plain": [
       "<Figure size 432x288 with 1 Axes>"
      ]
     },
     "metadata": {
      "needs_background": "light"
     },
     "output_type": "display_data"
    }
   ],
   "source": [
    "plot_hist(xe, n)\n",
    "plot_hist(xe, np.diff(model2(xe, m2.values)))"
   ]
  },
  {
   "cell_type": "code",
   "execution_count": 8,
   "metadata": {},
   "outputs": [
    {
     "data": {
      "text/html": [
       "<table>\n",
       "    <tr>\n",
       "        <td colspan=\"2\" style=\"text-align:left\" title=\"Minimum value of function\"> FCN = 52.27 </td>\n",
       "        <td colspan=\"3\" style=\"text-align:center\" title=\"No. of function evaluations in last call and total number\"> Nfcn = 336 </td>\n",
       "    </tr>\n",
       "    <tr>\n",
       "        <td colspan=\"2\" style=\"text-align:left\" title=\"Estimated distance to minimum and goal\"> EDM = 7.46e-05 (Goal: 0.0002) </td>\n",
       "        <td colspan=\"3\" style=\"text-align:center\" title=\"No. of gradient evaluations in last call and total number\">  </td>\n",
       "    </tr>\n",
       "    <tr>\n",
       "        <td style=\"text-align:center;background-color:#92CCA6;color:black\"> Valid Minimum </td>\n",
       "        <td style=\"text-align:center;background-color:#92CCA6;color:black\"> Valid Parameters </td>\n",
       "        <td colspan=\"3\" style=\"text-align:center;background-color:#92CCA6;color:black\"> No Parameters at limit </td>\n",
       "    </tr>\n",
       "    <tr>\n",
       "        <td colspan=\"2\" style=\"text-align:center;background-color:#92CCA6;color:black\"> Below EDM threshold (goal x 10) </td>\n",
       "        <td colspan=\"3\" style=\"text-align:center;background-color:#92CCA6;color:black\"> Below call limit </td>\n",
       "    </tr>\n",
       "    <tr>\n",
       "        <td style=\"text-align:center;background-color:#92CCA6;color:black\"> Covariance </td>\n",
       "        <td style=\"text-align:center;background-color:#92CCA6;color:black\"> Hesse ok </td>\n",
       "        <td style=\"text-align:center;background-color:#92CCA6;color:black\" title=\"Is covariance matrix accurate?\"> Accurate </td>\n",
       "        <td style=\"text-align:center;background-color:#92CCA6;color:black\" title=\"Is covariance matrix positive definite?\"> Pos. def. </td>\n",
       "        <td style=\"text-align:center;background-color:#92CCA6;color:black\" title=\"Was positive definiteness enforced by Minuit?\"> Not forced </td>\n",
       "    </tr>\n",
       "</table><table>\n",
       "    <tr>\n",
       "        <td></td>\n",
       "        <th title=\"Variable name\"> Name </th>\n",
       "        <th title=\"Value of parameter\"> Value </th>\n",
       "        <th title=\"Hesse error\"> Hesse Error </th>\n",
       "        <th title=\"Minos lower error\"> Minos Error- </th>\n",
       "        <th title=\"Minos upper error\"> Minos Error+ </th>\n",
       "        <th title=\"Lower limit of the parameter\"> Limit- </th>\n",
       "        <th title=\"Upper limit of the parameter\"> Limit+ </th>\n",
       "        <th title=\"Is the parameter fixed in the fit\"> Fixed </th>\n",
       "    </tr>\n",
       "    <tr>\n",
       "        <th> 0 </th>\n",
       "        <td> x0 </td>\n",
       "        <td> 5.03e3 </td>\n",
       "        <td> 0.09e3 </td>\n",
       "        <td>  </td>\n",
       "        <td>  </td>\n",
       "        <td> 0 </td>\n",
       "        <td>  </td>\n",
       "        <td>  </td>\n",
       "    </tr>\n",
       "    <tr>\n",
       "        <th> 1 </th>\n",
       "        <td> x1 </td>\n",
       "        <td> 24.5e3 </td>\n",
       "        <td> 0.6e3 </td>\n",
       "        <td>  </td>\n",
       "        <td>  </td>\n",
       "        <td> 0 </td>\n",
       "        <td>  </td>\n",
       "        <td>  </td>\n",
       "    </tr>\n",
       "    <tr>\n",
       "        <th> 2 </th>\n",
       "        <td> x2 </td>\n",
       "        <td> 5.8e3 </td>\n",
       "        <td> 0.9e3 </td>\n",
       "        <td>  </td>\n",
       "        <td>  </td>\n",
       "        <td> 0 </td>\n",
       "        <td>  </td>\n",
       "        <td>  </td>\n",
       "    </tr>\n",
       "    <tr>\n",
       "        <th> 3 </th>\n",
       "        <td> x3 </td>\n",
       "        <td> 4.3e3 </td>\n",
       "        <td> 0.6e3 </td>\n",
       "        <td>  </td>\n",
       "        <td>  </td>\n",
       "        <td> 0 </td>\n",
       "        <td>  </td>\n",
       "        <td>  </td>\n",
       "    </tr>\n",
       "    <tr>\n",
       "        <th> 4 </th>\n",
       "        <td> x4 </td>\n",
       "        <td> 2.07e3 </td>\n",
       "        <td> 0.21e3 </td>\n",
       "        <td>  </td>\n",
       "        <td>  </td>\n",
       "        <td> 0 </td>\n",
       "        <td>  </td>\n",
       "        <td>  </td>\n",
       "    </tr>\n",
       "</table><table>\n",
       "    <tr>\n",
       "        <td></td>\n",
       "        <th> x0 </th>\n",
       "        <th> x1 </th>\n",
       "        <th> x2 </th>\n",
       "        <th> x3 </th>\n",
       "        <th> x4 </th>\n",
       "    </tr>\n",
       "    <tr>\n",
       "        <th> x0 </th>\n",
       "        <td> 8.3e+03 </td>\n",
       "        <td style=\"background-color:rgb(250,219,219);color:black\"> 1.06e+04 <strong>(0.207)</strong> </td>\n",
       "        <td style=\"background-color:rgb(209,209,250);color:black\"> -2.7e+04 <strong>(-0.316)</strong> </td>\n",
       "        <td style=\"background-color:rgb(250,242,242);color:black\"> 2.81e+03 <strong>(0.051)</strong> </td>\n",
       "        <td style=\"background-color:rgb(250,246,246);color:black\"> 558 <strong>(0.029)</strong> </td>\n",
       "    </tr>\n",
       "    <tr>\n",
       "        <th> x1 </th>\n",
       "        <td style=\"background-color:rgb(250,219,219);color:black\"> 1.06e+04 <strong>(0.207)</strong> </td>\n",
       "        <td> 3.16e+05 </td>\n",
       "        <td style=\"background-color:rgb(152,152,250);color:black\"> -3.97e+05 <strong>(-0.752)</strong> </td>\n",
       "        <td style=\"background-color:rgb(250,178,178);color:black\"> 1.63e+05 <strong>(0.480)</strong> </td>\n",
       "        <td style=\"background-color:rgb(221,221,250);color:black\"> -2.66e+04 <strong>(-0.223)</strong> </td>\n",
       "    </tr>\n",
       "    <tr>\n",
       "        <th> x2 </th>\n",
       "        <td style=\"background-color:rgb(209,209,250);color:black\"> -2.7e+04 <strong>(-0.316)</strong> </td>\n",
       "        <td style=\"background-color:rgb(152,152,250);color:black\"> -3.97e+05 <strong>(-0.752)</strong> </td>\n",
       "        <td> 8.82e+05 </td>\n",
       "        <td style=\"background-color:rgb(151,151,250);color:black\"> -4.33e+05 <strong>(-0.761)</strong> </td>\n",
       "        <td style=\"background-color:rgb(250,190,190);color:black\"> 7.95e+04 <strong>(0.400)</strong> </td>\n",
       "    </tr>\n",
       "    <tr>\n",
       "        <th> x3 </th>\n",
       "        <td style=\"background-color:rgb(250,242,242);color:black\"> 2.81e+03 <strong>(0.051)</strong> </td>\n",
       "        <td style=\"background-color:rgb(250,178,178);color:black\"> 1.63e+05 <strong>(0.480)</strong> </td>\n",
       "        <td style=\"background-color:rgb(151,151,250);color:black\"> -4.33e+05 <strong>(-0.761)</strong> </td>\n",
       "        <td> 3.68e+05 </td>\n",
       "        <td style=\"background-color:rgb(157,157,250);color:black\"> -9.17e+04 <strong>(-0.714)</strong> </td>\n",
       "    </tr>\n",
       "    <tr>\n",
       "        <th> x4 </th>\n",
       "        <td style=\"background-color:rgb(250,246,246);color:black\"> 558 <strong>(0.029)</strong> </td>\n",
       "        <td style=\"background-color:rgb(221,221,250);color:black\"> -2.66e+04 <strong>(-0.223)</strong> </td>\n",
       "        <td style=\"background-color:rgb(250,190,190);color:black\"> 7.95e+04 <strong>(0.400)</strong> </td>\n",
       "        <td style=\"background-color:rgb(157,157,250);color:black\"> -9.17e+04 <strong>(-0.714)</strong> </td>\n",
       "        <td> 4.48e+04 </td>\n",
       "    </tr>\n",
       "</table>"
      ],
      "text/plain": [
       "┌──────────────────────────────────┬──────────────────────────────────────┐\n",
       "│ FCN = 52.27                      │              Nfcn = 336              │\n",
       "│ EDM = 7.46e-05 (Goal: 0.0002)    │                                      │\n",
       "├───────────────┬──────────────────┼──────────────────────────────────────┤\n",
       "│ Valid Minimum │ Valid Parameters │        No Parameters at limit        │\n",
       "├───────────────┴──────────────────┼──────────────────────────────────────┤\n",
       "│ Below EDM threshold (goal x 10)  │           Below call limit           │\n",
       "├───────────────┬──────────────────┼───────────┬─────────────┬────────────┤\n",
       "│  Covariance   │     Hesse ok     │ Accurate  │  Pos. def.  │ Not forced │\n",
       "└───────────────┴──────────────────┴───────────┴─────────────┴────────────┘\n",
       "┌───┬──────┬───────────┬───────────┬────────────┬────────────┬─────────┬─────────┬───────┐\n",
       "│   │ Name │   Value   │ Hesse Err │ Minos Err- │ Minos Err+ │ Limit-  │ Limit+  │ Fixed │\n",
       "├───┼──────┼───────────┼───────────┼────────────┼────────────┼─────────┼─────────┼───────┤\n",
       "│ 0 │ x0   │  5.03e3   │  0.09e3   │            │            │    0    │         │       │\n",
       "│ 1 │ x1   │  24.5e3   │   0.6e3   │            │            │    0    │         │       │\n",
       "│ 2 │ x2   │   5.8e3   │   0.9e3   │            │            │    0    │         │       │\n",
       "│ 3 │ x3   │   4.3e3   │   0.6e3   │            │            │    0    │         │       │\n",
       "│ 4 │ x4   │  2.07e3   │  0.21e3   │            │            │    0    │         │       │\n",
       "└───┴──────┴───────────┴───────────┴────────────┴────────────┴─────────┴─────────┴───────┘\n",
       "┌────┬───────────────────────────────────────────────────┐\n",
       "│    │        x0        x1        x2        x3        x4 │\n",
       "├────┼───────────────────────────────────────────────────┤\n",
       "│ x0 │   8.3e+03  1.06e+04  -2.7e+04  2.81e+03       558 │\n",
       "│ x1 │  1.06e+04  3.16e+05 -3.97e+05  1.63e+05 -2.66e+04 │\n",
       "│ x2 │  -2.7e+04 -3.97e+05  8.82e+05 -4.33e+05  7.95e+04 │\n",
       "│ x3 │  2.81e+03  1.63e+05 -4.33e+05  3.68e+05 -9.17e+04 │\n",
       "│ x4 │       558 -2.66e+04  7.95e+04 -9.17e+04  4.48e+04 │\n",
       "└────┴───────────────────────────────────────────────────┘"
      ]
     },
     "execution_count": 8,
     "metadata": {},
     "output_type": "execute_result"
    }
   ],
   "source": [
    "m3 = Minuit(ExtendedBinnedNLL(n, xe, model2), (500, 1000, 1000, 1000, 1000))\n",
    "m3.limits = (0, None)\n",
    "m3.migrad()"
   ]
  },
  {
   "cell_type": "code",
   "execution_count": 9,
   "metadata": {},
   "outputs": [
    {
     "data": {
      "text/plain": [
       "[<matplotlib.lines.Line2D at 0x1321b15e0>]"
      ]
     },
     "execution_count": 9,
     "metadata": {},
     "output_type": "execute_result"
    },
    {
     "data": {
      "image/png": "[encoded data removed]",
      "text/plain": [
       "<Figure size 432x288 with 1 Axes>"
      ]
     },
     "metadata": {
      "needs_background": "light"
     },
     "output_type": "display_data"
    }
   ],
   "source": [
    "plot_hist(xe, n)\n",
    "plot_hist(xe, np.diff(model2(xe, m3.values)))"
   ]
  },
  {
   "cell_type": "code",
   "execution_count": 62,
   "metadata": {},
   "outputs": [
    {
     "data": {
      "text/html": [
       "<table>\n",
       "    <tr>\n",
       "        <td colspan=\"2\" style=\"text-align:left\" title=\"Minimum value of function\"> FCN = 49.14 </td>\n",
       "        <td colspan=\"3\" style=\"text-align:center\" title=\"No. of function evaluations in last call and total number\"> Nfcn = 456 </td>\n",
       "    </tr>\n",
       "    <tr>\n",
       "        <td colspan=\"2\" style=\"text-align:left\" title=\"Estimated distance to minimum and goal\"> EDM = 7.25e-05 (Goal: 0.0002) </td>\n",
       "        <td colspan=\"3\" style=\"text-align:center\" title=\"No. of gradient evaluations in last call and total number\">  </td>\n",
       "    </tr>\n",
       "    <tr>\n",
       "        <td style=\"text-align:center;background-color:#92CCA6;color:black\"> Valid Minimum </td>\n",
       "        <td style=\"text-align:center;background-color:#92CCA6;color:black\"> Valid Parameters </td>\n",
       "        <td colspan=\"3\" style=\"text-align:center;background-color:#92CCA6;color:black\"> No Parameters at limit </td>\n",
       "    </tr>\n",
       "    <tr>\n",
       "        <td colspan=\"2\" style=\"text-align:center;background-color:#92CCA6;color:black\"> Below EDM threshold (goal x 10) </td>\n",
       "        <td colspan=\"3\" style=\"text-align:center;background-color:#92CCA6;color:black\"> Below call limit </td>\n",
       "    </tr>\n",
       "    <tr>\n",
       "        <td style=\"text-align:center;background-color:#92CCA6;color:black\"> Covariance </td>\n",
       "        <td style=\"text-align:center;background-color:#92CCA6;color:black\"> Hesse ok </td>\n",
       "        <td style=\"text-align:center;background-color:#92CCA6;color:black\" title=\"Is covariance matrix accurate?\"> Accurate </td>\n",
       "        <td style=\"text-align:center;background-color:#92CCA6;color:black\" title=\"Is covariance matrix positive definite?\"> Pos. def. </td>\n",
       "        <td style=\"text-align:center;background-color:#92CCA6;color:black\" title=\"Was positive definiteness enforced by Minuit?\"> Not forced </td>\n",
       "    </tr>\n",
       "</table><table>\n",
       "    <tr>\n",
       "        <td></td>\n",
       "        <th title=\"Variable name\"> Name </th>\n",
       "        <th title=\"Value of parameter\"> Value </th>\n",
       "        <th title=\"Hesse error\"> Hesse Error </th>\n",
       "        <th title=\"Minos lower error\"> Minos Error- </th>\n",
       "        <th title=\"Minos upper error\"> Minos Error+ </th>\n",
       "        <th title=\"Lower limit of the parameter\"> Limit- </th>\n",
       "        <th title=\"Upper limit of the parameter\"> Limit+ </th>\n",
       "        <th title=\"Is the parameter fixed in the fit\"> Fixed </th>\n",
       "    </tr>\n",
       "    <tr>\n",
       "        <th> 0 </th>\n",
       "        <td> x0 </td>\n",
       "        <td> 4.97e3 </td>\n",
       "        <td> 0.10e3 </td>\n",
       "        <td>  </td>\n",
       "        <td>  </td>\n",
       "        <td> 0 </td>\n",
       "        <td>  </td>\n",
       "        <td>  </td>\n",
       "    </tr>\n",
       "    <tr>\n",
       "        <th> 1 </th>\n",
       "        <td> x1 </td>\n",
       "        <td> 25.2e3 </td>\n",
       "        <td> 0.7e3 </td>\n",
       "        <td>  </td>\n",
       "        <td>  </td>\n",
       "        <td> 0 </td>\n",
       "        <td>  </td>\n",
       "        <td>  </td>\n",
       "    </tr>\n",
       "    <tr>\n",
       "        <th> 2 </th>\n",
       "        <td> x2 </td>\n",
       "        <td> 8.0e3 </td>\n",
       "        <td> 1.5e3 </td>\n",
       "        <td>  </td>\n",
       "        <td>  </td>\n",
       "        <td> 0 </td>\n",
       "        <td>  </td>\n",
       "        <td>  </td>\n",
       "    </tr>\n",
       "    <tr>\n",
       "        <th> 3 </th>\n",
       "        <td> x3 </td>\n",
       "        <td> 8.6e3 </td>\n",
       "        <td> 2.0e3 </td>\n",
       "        <td>  </td>\n",
       "        <td>  </td>\n",
       "        <td> 0 </td>\n",
       "        <td>  </td>\n",
       "        <td>  </td>\n",
       "    </tr>\n",
       "    <tr>\n",
       "        <th> 4 </th>\n",
       "        <td> x4 </td>\n",
       "        <td> 2.1e3 </td>\n",
       "        <td> 1.0e3 </td>\n",
       "        <td>  </td>\n",
       "        <td>  </td>\n",
       "        <td> 0 </td>\n",
       "        <td>  </td>\n",
       "        <td>  </td>\n",
       "    </tr>\n",
       "    <tr>\n",
       "        <th> 5 </th>\n",
       "        <td> x5 </td>\n",
       "        <td> 2.38e3 </td>\n",
       "        <td> 0.29e3 </td>\n",
       "        <td>  </td>\n",
       "        <td>  </td>\n",
       "        <td> 0 </td>\n",
       "        <td>  </td>\n",
       "        <td>  </td>\n",
       "    </tr>\n",
       "</table><table>\n",
       "    <tr>\n",
       "        <td></td>\n",
       "        <th> x0 </th>\n",
       "        <th> x1 </th>\n",
       "        <th> x2 </th>\n",
       "        <th> x3 </th>\n",
       "        <th> x4 </th>\n",
       "        <th> x5 </th>\n",
       "    </tr>\n",
       "    <tr>\n",
       "        <th> x0 </th>\n",
       "        <td> 9.6e+03 </td>\n",
       "        <td style=\"background-color:rgb(242,242,250);color:black\"> -4.21e+03 <strong>(-0.061)</strong> </td>\n",
       "        <td style=\"background-color:rgb(250,216,216);color:black\"> 3.4e+04 <strong>(0.224)</strong> </td>\n",
       "        <td style=\"background-color:rgb(194,194,250);color:black\"> -8.4e+04 <strong>(-0.428)</strong> </td>\n",
       "        <td style=\"background-color:rgb(250,196,196);color:black\"> 3.7e+04 <strong>(0.359)</strong> </td>\n",
       "        <td style=\"background-color:rgb(222,222,250);color:black\"> -5.97e+03 <strong>(-0.213)</strong> </td>\n",
       "    </tr>\n",
       "    <tr>\n",
       "        <th> x1 </th>\n",
       "        <td style=\"background-color:rgb(242,242,250);color:black\"> -4.21e+03 <strong>(-0.061)</strong> </td>\n",
       "        <td> 4.94e+05 </td>\n",
       "        <td style=\"background-color:rgb(153,153,250);color:black\"> -8.14e+05 <strong>(-0.748)</strong> </td>\n",
       "        <td style=\"background-color:rgb(250,175,175);color:black\"> 7e+05 <strong>(0.497)</strong> </td>\n",
       "        <td style=\"background-color:rgb(201,201,250);color:black\"> -2.8e+05 <strong>(-0.378)</strong> </td>\n",
       "        <td style=\"background-color:rgb(250,215,215);color:black\"> 4.65e+04 <strong>(0.231)</strong> </td>\n",
       "    </tr>\n",
       "    <tr>\n",
       "        <th> x2 </th>\n",
       "        <td style=\"background-color:rgb(250,216,216);color:black\"> 3.4e+04 <strong>(0.224)</strong> </td>\n",
       "        <td style=\"background-color:rgb(153,153,250);color:black\"> -8.14e+05 <strong>(-0.748)</strong> </td>\n",
       "        <td> 2.39e+06 </td>\n",
       "        <td style=\"background-color:rgb(138,138,250);color:black\"> -2.67e+06 <strong>(-0.863)</strong> </td>\n",
       "        <td style=\"background-color:rgb(250,143,143);color:black\"> 1.17e+06 <strong>(0.717)</strong> </td>\n",
       "        <td style=\"background-color:rgb(191,191,250);color:black\"> -2.02e+05 <strong>(-0.457)</strong> </td>\n",
       "    </tr>\n",
       "    <tr>\n",
       "        <th> x3 </th>\n",
       "        <td style=\"background-color:rgb(194,194,250);color:black\"> -8.4e+04 <strong>(-0.428)</strong> </td>\n",
       "        <td style=\"background-color:rgb(250,175,175);color:black\"> 7e+05 <strong>(0.497)</strong> </td>\n",
       "        <td style=\"background-color:rgb(138,138,250);color:black\"> -2.67e+06 <strong>(-0.863)</strong> </td>\n",
       "        <td> 4.01e+06 </td>\n",
       "        <td style=\"background-color:rgb(131,131,250);color:black\"> -1.93e+06 <strong>(-0.916)</strong> </td>\n",
       "        <td style=\"background-color:rgb(250,157,157);color:black\"> 3.54e+05 <strong>(0.618)</strong> </td>\n",
       "    </tr>\n",
       "    <tr>\n",
       "        <th> x4 </th>\n",
       "        <td style=\"background-color:rgb(250,196,196);color:black\"> 3.7e+04 <strong>(0.359)</strong> </td>\n",
       "        <td style=\"background-color:rgb(201,201,250);color:black\"> -2.8e+05 <strong>(-0.378)</strong> </td>\n",
       "        <td style=\"background-color:rgb(250,143,143);color:black\"> 1.17e+06 <strong>(0.717)</strong> </td>\n",
       "        <td style=\"background-color:rgb(131,131,250);color:black\"> -1.93e+06 <strong>(-0.916)</strong> </td>\n",
       "        <td> 1.11e+06 </td>\n",
       "        <td style=\"background-color:rgb(147,147,250);color:black\"> -2.39e+05 <strong>(-0.793)</strong> </td>\n",
       "    </tr>\n",
       "    <tr>\n",
       "        <th> x5 </th>\n",
       "        <td style=\"background-color:rgb(222,222,250);color:black\"> -5.97e+03 <strong>(-0.213)</strong> </td>\n",
       "        <td style=\"background-color:rgb(250,215,215);color:black\"> 4.65e+04 <strong>(0.231)</strong> </td>\n",
       "        <td style=\"background-color:rgb(191,191,250);color:black\"> -2.02e+05 <strong>(-0.457)</strong> </td>\n",
       "        <td style=\"background-color:rgb(250,157,157);color:black\"> 3.54e+05 <strong>(0.618)</strong> </td>\n",
       "        <td style=\"background-color:rgb(147,147,250);color:black\"> -2.39e+05 <strong>(-0.793)</strong> </td>\n",
       "        <td> 8.19e+04 </td>\n",
       "    </tr>\n",
       "</table>"
      ],
      "text/plain": [
       "┌──────────────────────────────────┬──────────────────────────────────────┐\n",
       "│ FCN = 49.14                      │              Nfcn = 456              │\n",
       "│ EDM = 7.25e-05 (Goal: 0.0002)    │                                      │\n",
       "├───────────────┬──────────────────┼──────────────────────────────────────┤\n",
       "│ Valid Minimum │ Valid Parameters │        No Parameters at limit        │\n",
       "├───────────────┴──────────────────┼──────────────────────────────────────┤\n",
       "│ Below EDM threshold (goal x 10)  │           Below call limit           │\n",
       "├───────────────┬──────────────────┼───────────┬─────────────┬────────────┤\n",
       "│  Covariance   │     Hesse ok     │ Accurate  │  Pos. def.  │ Not forced │\n",
       "└───────────────┴──────────────────┴───────────┴─────────────┴────────────┘\n",
       "┌───┬──────┬───────────┬───────────┬────────────┬────────────┬─────────┬─────────┬───────┐\n",
       "│   │ Name │   Value   │ Hesse Err │ Minos Err- │ Minos Err+ │ Limit-  │ Limit+  │ Fixed │\n",
       "├───┼──────┼───────────┼───────────┼────────────┼────────────┼─────────┼─────────┼───────┤\n",
       "│ 0 │ x0   │  4.97e3   │  0.10e3   │            │            │    0    │         │       │\n",
       "│ 1 │ x1   │  25.2e3   │   0.7e3   │            │            │    0    │         │       │\n",
       "│ 2 │ x2   │   8.0e3   │   1.5e3   │            │            │    0    │         │       │\n",
       "│ 3 │ x3   │   8.6e3   │   2.0e3   │            │            │    0    │         │       │\n",
       "│ 4 │ x4   │   2.1e3   │   1.0e3   │            │            │    0    │         │       │\n",
       "│ 5 │ x5   │  2.38e3   │  0.29e3   │            │            │    0    │         │       │\n",
       "└───┴──────┴───────────┴───────────┴────────────┴────────────┴─────────┴─────────┴───────┘\n",
       "┌────┬─────────────────────────────────────────────────────────────┐\n",
       "│    │        x0        x1        x2        x3        x4        x5 │\n",
       "├────┼─────────────────────────────────────────────────────────────┤\n",
       "│ x0 │   9.6e+03 -4.21e+03   3.4e+04  -8.4e+04   3.7e+04 -5.97e+03 │\n",
       "│ x1 │ -4.21e+03  4.94e+05 -8.14e+05     7e+05  -2.8e+05  4.65e+04 │\n",
       "│ x2 │   3.4e+04 -8.14e+05  2.39e+06 -2.67e+06  1.17e+06 -2.02e+05 │\n",
       "│ x3 │  -8.4e+04     7e+05 -2.67e+06  4.01e+06 -1.93e+06  3.54e+05 │\n",
       "│ x4 │   3.7e+04  -2.8e+05  1.17e+06 -1.93e+06  1.11e+06 -2.39e+05 │\n",
       "│ x5 │ -5.97e+03  4.65e+04 -2.02e+05  3.54e+05 -2.39e+05  8.19e+04 │\n",
       "└────┴─────────────────────────────────────────────────────────────┘"
      ]
     },
     "execution_count": 62,
     "metadata": {},
     "output_type": "execute_result"
    }
   ],
   "source": [
    "m4 = Minuit(ExtendedBinnedNLL(n, xe, model2), (500, 1000, 1000, 1000, 1000, 1000))\n",
    "m4.limits = (0, None)\n",
    "m4.migrad()"
   ]
  },
  {
   "cell_type": "code",
   "execution_count": 69,
   "metadata": {},
   "outputs": [
    {
     "data": {
      "text/plain": [
       "[<matplotlib.lines.Line2D at 0x132b2c490>]"
      ]
     },
     "execution_count": 69,
     "metadata": {},
     "output_type": "execute_result"
    },
    {
     "data": {
      "image/png": "[encoded data removed]",
      "text/plain": [
       "<Figure size 432x288 with 1 Axes>"
      ]
     },
     "metadata": {
      "needs_background": "light"
     },
     "output_type": "display_data"
    }
   ],
   "source": [
    "plot_hist(xe, n)\n",
    "plot_hist(xe, np.diff(model2(xe, m4.values)))"
   ]
  },
  {
   "cell_type": "code",
   "execution_count": 70,
   "metadata": {},
   "outputs": [
    {
     "data": {
      "text/plain": [
       "<matplotlib.legend.Legend at 0x132c0bf70>"
      ]
     },
     "execution_count": 70,
     "metadata": {},
     "output_type": "execute_result"
    },
    {
     "data": {
      "image/png": "[encoded data removed]",
      "text/plain": [
       "<Figure size 432x288 with 1 Axes>"
      ]
     },
     "metadata": {
      "needs_background": "light"
     },
     "output_type": "display_data"
    }
   ],
   "source": [
    "sig1, fcn1, _ = m1.mnprofile(\"a\")\n",
    "sig2, fcn2, _ = m2.mnprofile(\"x0\")\n",
    "sig3, fcn3, _ = m3.mnprofile(\"x0\")\n",
    "sig4, fcn4, _ = m4.mnprofile(\"x0\")\n",
    "plt.plot(sig1, fcn1, label=\"model1\")\n",
    "plt.plot(sig2, fcn2, label=\"model2(2)\")\n",
    "plt.plot(sig3, fcn3, label=\"model2(3)\")\n",
    "plt.plot(sig4, fcn4, label=\"model2(4)\")\n",
    "plt.legend()"
   ]
  },
  {
   "cell_type": "code",
   "execution_count": 77,
   "metadata": {},
   "outputs": [],
   "source": [
    "sig, fcn1, ok = m1.mnprofile(\"a\", size=50, bound=(4500, 5500))\n",
    "assert np.all(ok)\n",
    "_, fcn2, ok = m2.mnprofile(\"x0\", size=50, bound=(4500, 5500))\n",
    "assert np.all(ok)\n",
    "_, fcn3, ok = m3.mnprofile(\"x0\", size=50, bound=(4500, 5500))\n",
    "assert np.all(ok)\n",
    "_, fcn4, ok = m4.mnprofile(\"x0\", size=50, bound=(4500, 5500))\n",
    "assert np.all(ok)"
   ]
  },
  {
   "cell_type": "code",
   "execution_count": 89,
   "metadata": {},
   "outputs": [],
   "source": [
    "def akaike(npar, n):\n",
    "    return 2 * npar / (1 - (npar + 1) / n)\n",
    "\n",
    "def simple(npar, n):\n",
    "    return npar"
   ]
  },
  {
   "cell_type": "code",
   "execution_count": 82,
   "metadata": {},
   "outputs": [],
   "source": [
    "fcn_min = np.inf\n",
    "for fcn, npar in ((fcn1, m1.nfit), (fcn2, m2.nfit), (fcn3, m3.nfit), (fcn4, m4.nfit)):\n",
    "    fcn_min = np.minimum(fcn_min, fcn + akaike(npar, len(n)))"
   ]
  },
  {
   "cell_type": "code",
   "execution_count": 85,
   "metadata": {},
   "outputs": [
    {
     "data": {
      "text/plain": [
       "<matplotlib.legend.Legend at 0x1331c2a00>"
      ]
     },
     "execution_count": 85,
     "metadata": {},
     "output_type": "execute_result"
    },
    {
     "data": {
      "image/png": "[encoded data removed]",
      "text/plain": [
       "<Figure size 432x288 with 1 Axes>"
      ]
     },
     "metadata": {
      "needs_background": "light"
     },
     "output_type": "display_data"
    }
   ],
   "source": [
    "plt.plot(sig, fcn1-offset, label=\"model1\")\n",
    "plt.plot(sig, fcn2-offset, label=\"model2(2)\")\n",
    "plt.plot(sig, fcn3-offset, label=\"model2(3)\")\n",
    "plt.plot(sig, fcn4-offset, label=\"model2(4)\")\n",
    "plt.legend()"
   ]
  },
  {
   "cell_type": "code",
   "execution_count": 90,
   "metadata": {},
   "outputs": [
    {
     "data": {
      "text/plain": [
       "(0.0, 20.0)"
      ]
     },
     "execution_count": 90,
     "metadata": {},
     "output_type": "execute_result"
    },
    {
     "data": {
      "image/png": "[encoded data removed]",
      "text/plain": [
       "<Figure size 432x288 with 1 Axes>"
      ]
     },
     "metadata": {
      "needs_background": "light"
     },
     "output_type": "display_data"
    }
   ],
   "source": [
    "offset = np.min(fcn_min)\n",
    "\n",
    "plt.plot(sig, fcn1-offset+simple(m1.nfit, len(n)), label=\"model1\")\n",
    "plt.plot(sig, fcn2-offset+simple(m2.nfit, len(n)), label=\"model2(2)\")\n",
    "plt.plot(sig, fcn3-offset+simple(m3.nfit, len(n)), label=\"model2(3)\")\n",
    "plt.plot(sig, fcn4-offset+simple(m4.nfit, len(n)), label=\"model2(4)\")\n",
    "plt.plot(sig, fcn_min-offset, color=\"k\", label=\"min\")\n",
    "plt.legend()\n",
    "plt.ylim(0, 20)"
   ]
  },
  {
   "cell_type": "code",
   "execution_count": null,
   "metadata": {},
   "outputs": [],
   "source": []
  }
 ],
 "metadata": {
  "kernelspec": {
   "display_name": "Python 3",
   "language": "python",
   "name": "python3"
  },
  "language_info": {
   "codemirror_mode": {
    "name": "ipython",
    "version": 3
   },
   "file_extension": ".py",
   "mimetype": "text/x-python",
   "name": "python",
   "nbconvert_exporter": "python",
   "pygments_lexer": "ipython3",
   "version": "3.8.12"
  }
 },
 "nbformat": 4,
 "nbformat_minor": 4
}
