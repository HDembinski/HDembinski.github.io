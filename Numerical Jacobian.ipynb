{
 "cells": [
  {
   "cell_type": "code",
   "execution_count": 1,
   "id": "typical-chick",
   "metadata": {},
   "outputs": [],
   "source": [
    "import numpy as np\n",
    "import matplotlib.pyplot as plt\n",
    "from typing import Callable, Optional, Tuple\n",
    "import numdifftools as nd\n",
    "import sympy as sp"
   ]
  },
  {
   "cell_type": "code",
   "execution_count": 2,
   "id": "interpreted-hypothetical",
   "metadata": {},
   "outputs": [],
   "source": [
    "def vjacobi(\n",
    "    fn: Callable,\n",
    "    x: np.ndarray,\n",
    "    p: np.ndarray,\n",
    "    dp: Optional[np.ndarray] = None,\n",
    "    *,\n",
    "    rtol: float = 0.0,\n",
    "    debug: int = 0,\n",
    ") -> Tuple[np.ndarray, np.ndarray]:\n",
    "    \"\"\"\n",
    "    Compute the Jacobi matrix of a vector-valued function.\n",
    "    \"\"\"\n",
    "\n",
    "    assert p.ndim == 1\n",
    "    y = fn(x, p)\n",
    "\n",
    "    if dp is None:\n",
    "        # dp = sqrt(eps) * p optimal for forward/backward difference\n",
    "        # https://en.wikipedia.org/wiki/Numerical_differentiation#Step_size\n",
    "        sqrt_eps = np.sqrt(np.finfo(y.dtype).resolution)\n",
    "        dp = np.where(p == 0, sqrt_eps, np.abs(p) * sqrt_eps)\n",
    "    else:\n",
    "        assert dp.ndim == 1\n",
    "        assert np.all(dp >= 0)\n",
    "    assert rtol >= 0\n",
    "\n",
    "    y_shape = np.shape(y)\n",
    "    jac = np.empty((*y_shape, len(p)))\n",
    "    h = np.zeros(len(p))\n",
    "\n",
    "    for i, dpi in enumerate(dp):\n",
    "        if i > 0:\n",
    "            h[i - 1] = 0\n",
    "\n",
    "        # skip this variable if dp[i] is zero\n",
    "        if dpi == 0:\n",
    "            jac[:, i] = 0\n",
    "            continue\n",
    "\n",
    "        converged = np.zeros(y_shape, dtype=bool)\n",
    "        prev_esq = np.full(y_shape, np.inf)\n",
    "\n",
    "        # try to converge by making step size smaller\n",
    "        h[i] = dpi\n",
    "        for it in range(20):\n",
    "            assert h[i] > 0\n",
    "\n",
    "            todo = ~converged\n",
    "\n",
    "            # compute central derivative,\n",
    "            # computing dx like this improves precision, see\n",
    "            # https://en.wikipedia.org/wiki/Numerical_differentiation#Step_size\n",
    "            pp = p + h\n",
    "            pm = p - h\n",
    "            x_todo = x[todo]\n",
    "            y_todo = y[todo]\n",
    "            yp = fn(x_todo, pp)\n",
    "            ym = fn(x_todo, pm)\n",
    "            dp = (yp - y_todo) / (pp[i] - p[i])\n",
    "            dm = (ym - y_todo) / (pm[i] - p[i])\n",
    "            d = 0.5 * (dp + dm)\n",
    "            derr = np.abs(dp - dm) * 10\n",
    "\n",
    "            if rtol > 0:\n",
    "                below_tolerance = (derr <= rtol * np.abs(d))\n",
    "                newly_converged = ~converged\n",
    "                newly_converged[todo] = below_tolerance\n",
    "                if np.any(newly_converged):\n",
    "                    jac[newly_converged, i] = d[below_tolerance]\n",
    "                    converged |= newly_converged\n",
    "                    prev_esq[newly_converged] = 0 # to skip check for convergence below\n",
    "                    m = ~below_tolerance\n",
    "                    derr = derr[m]\n",
    "                    d = d[m]\n",
    "                    todo = ~converged\n",
    "\n",
    "                # early stop when everything is below tolerance\n",
    "                if np.all(converged):\n",
    "                    break\n",
    "\n",
    "            # check for convergence of stepping algorithm\n",
    "            esq = derr * derr\n",
    "            todo_converging = esq < prev_esq[todo]\n",
    "\n",
    "            # points have converged, which were previously converging\n",
    "            # and are now diverging\n",
    "            converged[todo] |= ~todo_converging\n",
    "\n",
    "            if it == 0:\n",
    "                # points are divergent which \"converged\" while prev_esq is infinite\n",
    "                bad = converged & ~np.isfinite(prev_esq)\n",
    "                if np.any(bad):\n",
    "                    if debug:\n",
    "                        print(\n",
    "                            f\"jacobi: ipar={i} divergence detected \"\n",
    "                            f\"in {np.sum(bad)} points\"\n",
    "                        )\n",
    "                    jac[bad, i] = np.nan\n",
    "\n",
    "            converging = ~converged\n",
    "            if np.any(converging):\n",
    "                jac[converging, i] = d[todo_converging]\n",
    "\n",
    "            if debug > 0:\n",
    "                print(\n",
    "                    f\"jacobi: ipar={i} iter={it} h={h[i]:.3e} \"\n",
    "                    f\"{np.sum(converged)} of {np.prod(converged.shape)} converged\")\n",
    "                if debug > 1:\n",
    "                    print(\n",
    "                        f\"d={d}\\n\"\n",
    "                        f\"derr={derr}\\n\"\n",
    "                        f\"rtol * abs(d)={rtol * np.abs(d)}\"\n",
    "                    )\n",
    "\n",
    "            if np.all(converged):\n",
    "                break\n",
    "\n",
    "            prev_esq[todo] = esq\n",
    "            h[i] *= 0.1\n",
    "    \n",
    "    return y, jac"
   ]
  },
  {
   "cell_type": "code",
   "execution_count": 21,
   "id": "alpine-melissa",
   "metadata": {},
   "outputs": [
    {
     "name": "stdout",
     "output_type": "stream",
     "text": [
      "calls processed 3\n",
      "points processed 603\n"
     ]
    },
    {
     "data": {
      "image/png": "[encoded data removed]",
      "text/plain": [
       "<Figure size 432x288 with 1 Axes>"
      ]
     },
     "metadata": {
      "needs_background": "light"
     },
     "output_type": "display_data"
    }
   ],
   "source": [
    "x = np.linspace(-10, 10, 201)\n",
    "\n",
    "class F:\n",
    "    nf = 0\n",
    "    nx = 0\n",
    "\n",
    "    def __init__(self, *args):\n",
    "        if len(args) == 1:\n",
    "            self.x, = args\n",
    "\n",
    "    def __call__(self, *args):\n",
    "        if len(args) == 2:\n",
    "            x, p = args\n",
    "        else:\n",
    "            p, = args\n",
    "            x = self.x\n",
    "        self.nf += 1\n",
    "        self.nx += len(x)\n",
    "        y = (x + p)\n",
    "        return np.sin(y)/(y**2 + 1)\n",
    "    \n",
    "f = F()\n",
    "p = np.array([0.0])\n",
    "# fx, fpx = vjacobi(f, x, p, dp=np.array([1e-9]), rtol=0, debug=1)\n",
    "fx, fpx = vjacobi(f, x, p, rtol=1e-3, debug=1)\n",
    "print(\"calls processed\", f.nf)\n",
    "print(\"points processed\", f.nx)\n",
    "\n",
    "plt.plot(x, fx, label=\"f(x)\")\n",
    "plt.plot(x, fpx, label=\"f'(x)\")\n",
    "plt.legend();"
   ]
  },
  {
   "cell_type": "code",
   "execution_count": 22,
   "id": "worst-bailey",
   "metadata": {},
   "outputs": [
    {
     "name": "stdout",
     "output_type": "stream",
     "text": [
      "28.2 ms ± 1.37 ms per loop (mean ± std. dev. of 7 runs, 10 loops each)\n"
     ]
    }
   ],
   "source": [
    "%%timeit f = F(x)\n",
    "nd.Derivative(f)(0);"
   ]
  },
  {
   "cell_type": "code",
   "execution_count": 23,
   "id": "changed-commercial",
   "metadata": {},
   "outputs": [
    {
     "name": "stdout",
     "output_type": "stream",
     "text": [
      "280 µs ± 12 µs per loop (mean ± std. dev. of 7 runs, 1000 loops each)\n"
     ]
    }
   ],
   "source": [
    "%%timeit f = F()\n",
    "vjacobi(f, x, p, rtol=0)"
   ]
  },
  {
   "cell_type": "code",
   "execution_count": 24,
   "id": "limited-italic",
   "metadata": {},
   "outputs": [
    {
     "name": "stdout",
     "output_type": "stream",
     "text": [
      "90.2 µs ± 6.28 µs per loop (mean ± std. dev. of 7 runs, 10000 loops each)\n"
     ]
    }
   ],
   "source": [
    "%%timeit f = F()\n",
    "vjacobi(f, x, p, rtol=1e-3)"
   ]
  },
  {
   "cell_type": "code",
   "execution_count": 25,
   "id": "progressive-summer",
   "metadata": {},
   "outputs": [
    {
     "name": "stdout",
     "output_type": "stream",
     "text": [
      "30 6030\n"
     ]
    }
   ],
   "source": [
    "f = F(x)\n",
    "fp1 = nd.Derivative(f)(0)\n",
    "print(f.nf, f.nx)"
   ]
  },
  {
   "cell_type": "code",
   "execution_count": 26,
   "id": "rotary-remainder",
   "metadata": {},
   "outputs": [
    {
     "name": "stdout",
     "output_type": "stream",
     "text": [
      "9 1265\n"
     ]
    }
   ],
   "source": [
    "f = F()\n",
    "fp2 = vjacobi(f, x, p, rtol=0)[1][:, 0]\n",
    "print(f.nf, f.nx)"
   ]
  },
  {
   "cell_type": "code",
   "execution_count": 27,
   "id": "sunset-intention",
   "metadata": {},
   "outputs": [
    {
     "name": "stdout",
     "output_type": "stream",
     "text": [
      "3 603\n"
     ]
    }
   ],
   "source": [
    "f = F()\n",
    "fp3 = vjacobi(f, x, p, rtol=1e-3)[1][:, 0]\n",
    "print(f.nf, f.nx)"
   ]
  },
  {
   "cell_type": "code",
   "execution_count": 28,
   "id": "fifteen-benchmark",
   "metadata": {},
   "outputs": [],
   "source": [
    "# compute exact derivative of sin(x)/x\n",
    "fp = sp.lambdify(\"x\", sp.diff(\"sin(x)/(x**2 + 1)\").simplify(), \"numpy\")(x)"
   ]
  },
  {
   "cell_type": "code",
   "execution_count": 29,
   "id": "subtle-custom",
   "metadata": {},
   "outputs": [
    {
     "data": {
      "image/png": "[encoded data removed]",
      "text/plain": [
       "<Figure size 432x288 with 1 Axes>"
      ]
     },
     "metadata": {
      "needs_background": "light"
     },
     "output_type": "display_data"
    }
   ],
   "source": [
    "plt.plot(x, fp1, label=\"numdifftools\")\n",
    "plt.plot(x, fp2, label=\"vjacobi rtol=0\")\n",
    "plt.plot(x, fp3, label=\"vjacobi rtol=1e-3\")\n",
    "plt.plot(x, fp, label=\"sympy\")\n",
    "plt.legend();"
   ]
  },
  {
   "cell_type": "code",
   "execution_count": 30,
   "id": "informed-picnic",
   "metadata": {},
   "outputs": [
    {
     "data": {
      "image/png": "[encoded data removed]",
      "text/plain": [
       "<Figure size 432x288 with 1 Axes>"
      ]
     },
     "metadata": {
      "needs_background": "light"
     },
     "output_type": "display_data"
    }
   ],
   "source": [
    "plt.plot(x, fp1-fp, label=f\"numdifftools stdev={np.nanstd(fp1-fp):.0e}\")\n",
    "plt.plot(x, fp2-fp, label=f\"vjacobi rtol=0 stdev={np.nanstd(fp2-fp):.0e}\")\n",
    "plt.plot(x, fp3-fp, label=f\"vjacobi rtol=1e-3 stdev={np.nanstd(fp3-fp):.0e}\")\n",
    "plt.legend();"
   ]
  }
 ],
 "metadata": {
  "kernelspec": {
   "display_name": "Python 3",
   "language": "python",
   "name": "python3"
  },
  "language_info": {
   "codemirror_mode": {
    "name": "ipython",
    "version": 3
   },
   "file_extension": ".py",
   "mimetype": "text/x-python",
   "name": "python",
   "nbconvert_exporter": "python",
   "pygments_lexer": "ipython3",
   "version": "3.8.12"
  }
 },
 "nbformat": 4,
 "nbformat_minor": 5
}
