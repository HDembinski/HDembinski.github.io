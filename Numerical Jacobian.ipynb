{
 "cells": [
  {
   "cell_type": "code",
   "execution_count": 1,
   "id": "typical-chick",
   "metadata": {},
   "outputs": [],
   "source": [
    "import numpy as np\n",
    "import matplotlib.pyplot as plt\n",
    "from typing import Callable, Optional, Tuple"
   ]
  },
  {
   "cell_type": "code",
   "execution_count": 108,
   "id": "interpreted-hypothetical",
   "metadata": {},
   "outputs": [],
   "source": [
    "def vjacobi(\n",
    "    fn: Callable,\n",
    "    x: np.ndarray,\n",
    "    p: np.ndarray,\n",
    "    dp: Optional[np.ndarray] = None,\n",
    "    *,\n",
    "    rtol: float = 0.0,\n",
    "    debug: int = 0,\n",
    ") -> Tuple[np.ndarray, np.ndarray]:\n",
    "    \"\"\"\n",
    "    Compute the Jacobi matrix of a vector-valued function.\n",
    "    \"\"\"\n",
    "\n",
    "    assert p.ndim == 1\n",
    "    y = fn(x, p)\n",
    "    npts = len(x)\n",
    "\n",
    "    if dp is None:\n",
    "        # dp = sqrt(eps) * p optimal for forward/backward difference\n",
    "        # https://en.wikipedia.org/wiki/Numerical_differentiation#Step_size\n",
    "        sqrt_eps = np.sqrt(np.finfo(y.dtype).resolution)\n",
    "        dp = np.where(p == 0, sqrt_eps, np.abs(p) * sqrt_eps)\n",
    "    else:\n",
    "        assert dp.ndim == 1\n",
    "        assert np.all(dp >= 0)\n",
    "    assert rtol >= 0\n",
    "\n",
    "    y_shape = np.shape(y)\n",
    "    jac = np.empty((*y_shape, len(p)))\n",
    "    h = np.zeros(len(p))\n",
    "\n",
    "    for i, dpi in enumerate(dp):\n",
    "        if i > 0:\n",
    "            h[i - 1] = 0\n",
    "\n",
    "        # skip this variable if dp[i] is zero\n",
    "        if dpi == 0:\n",
    "            jac[:, i] = 0\n",
    "            continue\n",
    "\n",
    "        converged = np.zeros(y_shape, dtype=bool)\n",
    "        prev_esq = np.full(y_shape, np.inf)\n",
    "\n",
    "        # try to converge by making step size smaller\n",
    "        h[i] = dpi\n",
    "        for iter in range(20):\n",
    "            assert h[i] > 0\n",
    "\n",
    "            todo = ~converged\n",
    "\n",
    "            # compute central derivative,\n",
    "            # computing dx like this improves precision, see\n",
    "            # https://en.wikipedia.org/wiki/Numerical_differentiation#Step_size\n",
    "            pp = p + h\n",
    "            pm = p - h\n",
    "            x_todo = x[todo]\n",
    "            y_todo = y[todo]\n",
    "            yp = fn(x_todo, pp)\n",
    "            ym = fn(x_todo, pm)\n",
    "            npts += 2 * np.sum(todo)\n",
    "            dp = (yp - y_todo) / (pp[i] - p[i])\n",
    "            dm = (ym - y_todo) / (pm[i] - p[i])\n",
    "            d = 0.5 * (dp + dm)\n",
    "            derr = np.abs(dp - dm)\n",
    "            if iter > 0:\n",
    "                derr = np.maximum(np.abs(d - jac[todo, i]), derr)\n",
    "\n",
    "            if rtol > 0:\n",
    "                newly_converged = ~converged\n",
    "                below_tolerance = (derr <= rtol * np.abs(d))\n",
    "                newly_converged[todo] = below_tolerance\n",
    "                if np.any(newly_converged):\n",
    "                    jac[newly_converged, i] = d[below_tolerance]\n",
    "                    converged |= newly_converged\n",
    "\n",
    "                # early stop when everything is below tolerance\n",
    "                if np.all(converged):\n",
    "                    break\n",
    "\n",
    "            # check for convergence of stepping algorithm\n",
    "            esq = derr * derr\n",
    "            todo_converging = esq < prev_esq[todo]\n",
    "\n",
    "            # points have converged, which were previously converging\n",
    "            # and are now diverging\n",
    "            converged[todo] |= ~todo_converging\n",
    "\n",
    "            if iter == 0:\n",
    "                # points are divergent which \"converged\" on first iteration\n",
    "                bad = converged\n",
    "                if np.any(bad):\n",
    "                    if debug:\n",
    "                        print(\n",
    "                            f\"jacobi: ipar={i} divergence detected \"\n",
    "                            f\"in {np.sum(bad)} points\"\n",
    "                        )\n",
    "                    jac[bad, i] = np.nan\n",
    "\n",
    "            converging = ~converged\n",
    "            if np.any(converging):\n",
    "                jac[converging, i] = d[todo_converging]\n",
    "\n",
    "            if debug > 0:\n",
    "                print(\n",
    "                    f\"jacobi: ipar={i} iter={iter} h={h[i]:.3e} \"\n",
    "                    f\"{np.sum(converged)} of {np.prod(converged.shape)} converged\")\n",
    "                if debug > 1:\n",
    "                    print(\n",
    "                        f\"d={d}\\n\"\n",
    "                        f\"derr={derr}\\n\"\n",
    "                        f\"rtol * abs(d)={rtol * np.abs(d)}\"\n",
    "                    )\n",
    "\n",
    "            if np.all(converged):\n",
    "                break\n",
    "\n",
    "            prev_esq[todo] = esq\n",
    "            h[i] *= 0.1\n",
    "    \n",
    "    if debug > 0:\n",
    "        print(f\"jacobi: {npts} points processed\")\n",
    "    return y, jac\n"
   ]
  },
  {
   "cell_type": "code",
   "execution_count": 111,
   "id": "alpine-melissa",
   "metadata": {},
   "outputs": [
    {
     "name": "stdout",
     "output_type": "stream",
     "text": [
      "jacobi: ipar=0 divergence detected in 1 points\n",
      "jacobi: ipar=0 iter=0 h=3.162e-08 1 of 201 converged\n",
      "jacobi: ipar=0 iter=1 h=3.162e-09 169 of 201 converged\n",
      "jacobi: ipar=0 iter=2 h=3.162e-10 201 of 201 converged\n",
      "jacobi: 1067 points processed\n"
     ]
    },
    {
     "name": "stderr",
     "output_type": "stream",
     "text": [
      "<ipython-input-111-21b39595cc16>:5: RuntimeWarning: invalid value encountered in true_divide\n",
      "  return np.sin(y)/y\n"
     ]
    },
    {
     "data": {
      "image/png": "[encoded data removed]",
      "text/plain": [
       "<Figure size 432x288 with 1 Axes>"
      ]
     },
     "metadata": {
      "needs_background": "light"
     },
     "output_type": "display_data"
    }
   ],
   "source": [
    "x = np.linspace(-10, 10, 201)\n",
    "\n",
    "def f(x, p):\n",
    "  y = np.abs(x + p)\n",
    "  return np.sin(y)/y\n",
    "\n",
    "p = np.array([0.0])\n",
    "# fx, fpx = vjacobi(f, x, p, dp=np.array([1e-9]), rtol=0, debug=1)\n",
    "fx, fpx = vjacobi(f, x, p, rtol=0, debug=1)\n",
    "\n",
    "plt.plot(x, fx, label=\"f(x)\")\n",
    "plt.plot(x, fpx, label=\"f'(x)\")\n",
    "# plt.ylim(-10, 10)\n",
    "plt.legend();"
   ]
  },
  {
   "cell_type": "code",
   "execution_count": null,
   "id": "worst-bailey",
   "metadata": {},
   "outputs": [],
   "source": []
  },
  {
   "cell_type": "code",
   "execution_count": null,
   "id": "changed-commercial",
   "metadata": {},
   "outputs": [],
   "source": []
  }
 ],
 "metadata": {
  "kernelspec": {
   "display_name": "Python 3",
   "language": "python",
   "name": "python3"
  },
  "language_info": {
   "codemirror_mode": {
    "name": "ipython",
    "version": 3
   },
   "file_extension": ".py",
   "mimetype": "text/x-python",
   "name": "python",
   "nbconvert_exporter": "python",
   "pygments_lexer": "ipython3",
   "version": "3.8.12"
  }
 },
 "nbformat": 4,
 "nbformat_minor": 5
}
