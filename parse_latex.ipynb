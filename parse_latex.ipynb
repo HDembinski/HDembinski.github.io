{
 "cells": [
  {
   "cell_type": "code",
   "execution_count": 71,
   "metadata": {},
   "outputs": [],
   "source": [
    "# Wikipedia: https://en.wikipedia.org/wiki/Unicode_subscripts_and_superscripts\n",
    "import string\n",
    "\n",
    "COMMANDS = {}\n",
    "\n",
    "superscript_numbers = \"⁰¹²³⁴⁵⁶⁷⁸⁹\"\n",
    "for i, ch in enumerate(superscript_numbers):\n",
    "    COMMANDS[f\"^{{{i}}}\"] = ch\n",
    "\n",
    "subscript_numbers = \"₀₁₂₃₄₅₆₇₈₉\"\n",
    "for i, ch in enumerate(subscript_numbers):\n",
    "    COMMANDS[f\"_{{{i}}}\"] = ch\n",
    "\n",
    "superscript_lowercase = \"ᵃᵇᶜᵈᵉᶠᵍʰⁱʲᵏˡᵐⁿᵒᵖ𐞥ʳˢᵗᵘᵛʷˣʸᶻ\"\n",
    "superscript_uppercase = \"ᴬᴮꟲᴰᴱꟳᴳᴴᴵᴶᴷᴸᴹᴺᴼᴾꟴᴿ ᵀᵁⱽᵂ   \"\n",
    "for latex, ch in zip(\n",
    "    string.ascii_letters, superscript_lowercase + superscript_uppercase\n",
    "):\n",
    "    if ch != \" \":\n",
    "        COMMANDS[f\"^{{{latex}}}\"] = ch\n",
    "\n",
    "subscript_lowercase = \"ₐ   ₑ  ₕᵢⱼₖₗₘₙₒₚ ᵣₛₜᵤᵥ ₓ  \"\n",
    "for latex, ch in zip(string.ascii_letters, subscript_lowercase * 2):\n",
    "    if ch != \" \":\n",
    "        COMMANDS[f\"_{{{latex}}}\"] = ch\n",
    "\n",
    "greek_lowercase = (\n",
    "    r\"\\alpha\",\n",
    "    r\"\\beta\",\n",
    "    r\"\\gamma\",\n",
    "    r\"\\delta\",\n",
    "    r\"\\epsilon\",\n",
    "    r\"\\zeta\",\n",
    "    r\"\\eta\",\n",
    "    r\"\\theta\",\n",
    "    r\"\\iota\",\n",
    "    r\"\\kappa\",\n",
    "    r\"\\lambda\",\n",
    "    r\"\\mu\",\n",
    "    r\"\\nu\",\n",
    "    r\"\\xi\",\n",
    "    \"o\",\n",
    "    r\"\\pi\",\n",
    "    r\"\\rho\",\n",
    "    r\"\\sigma\",\n",
    "    r\"\\tau\",\n",
    "    r\"\\upsilon\",\n",
    "    r\"\\phi\",\n",
    "    r\"\\chi\",\n",
    "    r\"\\psi\",\n",
    "    r\"\\omega\",\n",
    ")\n",
    "\n",
    "superscript_lowercase_greek = \" ᵝᵞᵟᵋ  ᶿᶥ          ᶹᵠᵡ  \"\n",
    "subscript_lowercase_greek = \" ᵦᵧ             ᵨ   ᵩᵪ  \"\n",
    "for latex, sup, sub in zip(\n",
    "    greek_lowercase, superscript_lowercase_greek, subscript_lowercase_greek\n",
    "):\n",
    "    if sup != \" \":\n",
    "        COMMANDS[f\"^{{{latex}}}\"] = sup\n",
    "    if sub != \" \":\n",
    "        COMMANDS[f\"_{{{latex}}}\"] = sub\n"
   ]
  },
  {
   "cell_type": "code",
   "execution_count": 72,
   "metadata": {},
   "outputs": [],
   "source": [
    "# Symbols extracted from http://milde.users.sourceforge.net/LUCR/Math/data/unimathsymbols.txt, which is under Copyright 2011 by Günter Milde and licensed under the LaTeX Project Public License (LPPL)\n",
    "\n",
    "from pathlib import Path\n",
    "\n",
    "\n",
    "def match(comments):\n",
    "    matches = [\n",
    "        (\"PLUS\", \"+\"),\n",
    "        (\"MINUS\", \"-\"),\n",
    "        (\"EQUALS\", \"=\"),\n",
    "        (\"LEFT PARENTHESIS\", \"(\"),\n",
    "        (\"RIGHT PARENTHESIS\", \")\"),\n",
    "    ]\n",
    "    for match, latex in matches:\n",
    "        if match in comments:\n",
    "            return latex\n",
    "    assert False, f\"unmatched: {comments}\"  # never arrive here\n",
    "\n",
    "\n",
    "with open(Path.home() / \"unimathsymbols.txt\") as f:\n",
    "    for line in f:\n",
    "        if line.startswith(\"#\"):\n",
    "            continue\n",
    "        items = line.split(\"^\")\n",
    "        _, ch, latex, latex2, clas, category, requirements, comments = items\n",
    "        comments = comments[:-1]\n",
    "        if latex:\n",
    "            if len(ch) > 1:\n",
    "                COMMANDS[latex] = ch[1]\n",
    "            else:\n",
    "                COMMANDS[latex] = ch\n",
    "        elif latex2:\n",
    "            COMMANDS[latex2] = ch\n",
    "        elif comments.startswith(\"SUPERSCRIPT\"):\n",
    "            latex = f\"^{{{match(comments)}}}\"\n",
    "            COMMANDS[latex] = ch\n",
    "        elif comments.startswith(\"SUBSCRIPT\"):\n",
    "            latex = f\"_{{{match(comments)}}}\"\n",
    "            COMMANDS[latex] = ch\n",
    "        else:\n",
    "            pass"
   ]
  },
  {
   "cell_type": "code",
   "execution_count": 73,
   "metadata": {},
   "outputs": [],
   "source": [
    "# enhancements\n",
    "COMMANDS[r\"\\to\"] = COMMANDS[r\"\\rightarrow\"]\n",
    "COMMANDS[r\"^{\\ast}\"] = \"*\"\n",
    "COMMANDS[r\"\\hbar\"] = COMMANDS[r\"\\hslash\"]\n",
    "COMMANDS[\"h\"] = \"ℎ\""
   ]
  },
  {
   "cell_type": "code",
   "execution_count": 74,
   "metadata": {},
   "outputs": [],
   "source": [
    "from lark import Lark\n",
    "from lark import Tree\n",
    "from lark.visitors import Transformer, Visitor, Discard, v_args, Interpreter\n",
    "\n",
    "parser = Lark(r\"\"\"\n",
    "start: (item | math)*\n",
    "\n",
    "?atom: CHARACTER\n",
    "    | COMMAND\n",
    "\n",
    "?item: atom\n",
    "    | WS+\n",
    "    | group\n",
    "\n",
    "CHARACTER: /[a-zA-Z0-9,\\.\\?!\\-+\\(\\)\\*\\/]/ | ESCAPED\n",
    "ESCAPED: \"\\\\\\\\\" | \"\\\\#\" | \"\\\\%\" | \"\\\\&\"  | \"\\\\{\" | \"\\\\}\" | \"\\\\_\"\n",
    "group: \"{\" item* \"}\"\n",
    "math: \"$\" item* \"$\"\n",
    "SUBSCRIPT: \"_\"\n",
    "SUPERSCRIPT: \"^\"\n",
    "COMMAND: ((\"\\\\\" WORD WS*) | SUBSCRIPT | SUPERSCRIPT)\n",
    "\n",
    "%import common.WS\n",
    "%import common.WORD\n",
    "\"\"\", parser=\"lalr\")"
   ]
  },
  {
   "cell_type": "code",
   "execution_count": 75,
   "metadata": {},
   "outputs": [
    {
     "name": "stdout",
     "output_type": "stream",
     "text": [
      "foo?!-1+2. \\}  \\\\ $\\left(\\mathbf{\\alpha + 1}^2_x y\\right)$ bar $\\beta^{12}$ $\\bar p {}^foo$\n"
     ]
    },
    {
     "data": {
      "text/plain": [
       "'foo?!-1+2. } \\\\ (𝛂+𝟏²ₓ𝑦) bar 𝛽¹² 𝑝̄ᶠ𝑜𝑜'"
      ]
     },
     "execution_count": 75,
     "metadata": {},
     "output_type": "execute_result"
    }
   ],
   "source": [
    "HAS_ARG = {\n",
    "    r\"_\",\n",
    "    r\"^\",\n",
    "    r\"\\grave\",\n",
    "    r\"\\acute\",\n",
    "    r\"\\hat\",\n",
    "    r\"\\tilde\",\n",
    "    r\"\\bar\",\n",
    "    r\"\\overline\",\n",
    "    r\"\\breve\",\n",
    "    r\"\\dot\",\n",
    "    r\"\\ddot\",\n",
    "    r\"\\mathring\",\n",
    "    r\"\\check\",\n",
    "    r\"\\utilde\",\n",
    "    r\"\\underbar\",\n",
    "    r\"\\underline\",\n",
    "    r\"\\not\",\n",
    "    r\"\\lvec\",\n",
    "    r\"\\vec\",\n",
    "    r\"\\LVec\",\n",
    "    r\"\\vec\",\n",
    "    r\"\\dddot\",\n",
    "    r\"\\ddddot\",\n",
    "    r\"\\overleftrightarrow\",\n",
    "    r\"\\underleftarrow\",\n",
    "    r\"\\underrightarrow\",\n",
    "    r\"\\mathbf\",\n",
    "    r\"\\text\",\n",
    "    r\"\\mathrm\",\n",
    "    r\"\\left\",\n",
    "    r\"\\right\",\n",
    "    r\"\\big\",\n",
    "    r\"\\Big\",\n",
    "    r\"\\Bigg\",\n",
    "    r\"\\sqrt\",\n",
    "}\n",
    "\n",
    "IGNORE_AS_FALLBACK = {\n",
    "    r\"\\text\",\n",
    "    r\"\\mathbf\",\n",
    "    r\"\\mathrm\",\n",
    "    r\"\\left\",\n",
    "    r\"\\right\",\n",
    "    r\"\\big\",\n",
    "    r\"\\Big\",\n",
    "    r\"\\Bigg\",\n",
    "}\n",
    "\n",
    "ESCAPED = {\n",
    "    r\"\\}\": \"}\",\n",
    "    r\"\\{\": \"{\",\n",
    "    \"\\\\\\\\\": \"\\\\\",\n",
    "}\n",
    "\n",
    "\n",
    "def handle_cmd(state, x):\n",
    "    cmd_stack = state[\"command\"]\n",
    "    if cmd_stack:\n",
    "        while cmd_stack:\n",
    "            cmd = cmd_stack.pop()\n",
    "            if state[\"math\"]:\n",
    "                if cmd:\n",
    "                    if cmd in (r\"\\text\", \"\\mathrm\"):\n",
    "                        pass\n",
    "                    elif cmd in COMMANDS:\n",
    "                        # some unicode modifier, e.g. \\dot, \\vec\n",
    "                        x = COMMANDS.get(x, x)\n",
    "                        x += COMMANDS[cmd]\n",
    "                    else:\n",
    "                        latex = f\"{cmd}{{{x}}}\"\n",
    "                        if latex in COMMANDS:\n",
    "                            x = COMMANDS.get(latex)\n",
    "                        elif cmd not in IGNORE_AS_FALLBACK:\n",
    "                            x = latex\n",
    "                else:\n",
    "                    x = COMMANDS.get(x, x)\n",
    "            elif cmd:\n",
    "                x = f\"{cmd}{{{x}}}\"\n",
    "    else:\n",
    "        if state[\"math\"]:\n",
    "            x = COMMANDS.get(x, x)\n",
    "    return x\n",
    "\n",
    "\n",
    "def transform(ch, state=None):\n",
    "    if state is None:\n",
    "        state = {\n",
    "            \"math\": False,\n",
    "            \"command\": [],\n",
    "        }\n",
    "    if isinstance(ch, Tree):\n",
    "        r = []\n",
    "        undo_math = False\n",
    "        saved = None\n",
    "        if ch.data == \"math\":\n",
    "            state[\"math\"] = True\n",
    "        elif ch.data == \"group\":\n",
    "            saved = state[\"command\"].copy()\n",
    "        for x in ch.children:\n",
    "            r.append(transform(x, state))\n",
    "            if saved:\n",
    "                state[\"command\"] = saved.copy()\n",
    "        if ch.data == \"math\":\n",
    "            state[\"math\"] = False\n",
    "        elif ch.data == \"group\" and state[\"command\"]:\n",
    "            state[\"command\"] = []\n",
    "        return \"\".join(r)\n",
    "    if ch.type == \"CHARACTER\":\n",
    "        x = ESCAPED.get(ch.value, ch.value)\n",
    "        return handle_cmd(state, x)\n",
    "    if ch.type == \"WS\":\n",
    "        return \"\" if state[\"math\"] else \" \"\n",
    "    if ch.type == \"COMMAND\":\n",
    "        x = ch.value.strip()\n",
    "        if x in HAS_ARG:\n",
    "            if x == r\"\\sqrt\":\n",
    "                state[\"command\"].append(r\"\\overline\")\n",
    "                return COMMANDS[r\"\\sqrt\"]\n",
    "            state[\"command\"].append(x)\n",
    "            return \"\"\n",
    "        return handle_cmd(state, x)\n",
    "    # never arrive here\n",
    "    assert False, f\"unknown token {ch}\" \n",
    "\n",
    "\n",
    "def parse(s):\n",
    "    tree = parser.parse(s)\n",
    "    return transform(tree)\n",
    "\n",
    "sinput = r\"foo?!-1+2. \\}  \\\\ $\\left(\\mathbf{\\alpha + 1}^2_x y\\right)$ bar $\\beta^{12}$ $\\bar p {}^foo$\"\n",
    "print(sinput)\n",
    "parse(sinput)"
   ]
  },
  {
   "cell_type": "code",
   "execution_count": 76,
   "metadata": {},
   "outputs": [
    {
     "data": {
      "text/plain": [
       "'𝐷**→ℎℎ𝑒𝑒'"
      ]
     },
     "execution_count": 76,
     "metadata": {},
     "output_type": "execute_result"
    }
   ],
   "source": [
    "parse(r\"$D^{\\ast\\ast} \\to hhee$\")"
   ]
  },
  {
   "cell_type": "code",
   "execution_count": 77,
   "metadata": {},
   "outputs": [
    {
     "data": {
      "text/plain": [
       "'𝐱𝐲𝐳+𝟏'"
      ]
     },
     "execution_count": 77,
     "metadata": {},
     "output_type": "execute_result"
    }
   ],
   "source": [
    "parse(r\"$\\mathbf{xyz + 1}$\")"
   ]
  },
  {
   "cell_type": "code",
   "execution_count": 78,
   "metadata": {},
   "outputs": [
    {
     "data": {
      "text/plain": [
       "'√1̅𝐴̅𝑎̅𝑠̅𝛼̅'"
      ]
     },
     "execution_count": 78,
     "metadata": {},
     "output_type": "execute_result"
    }
   ],
   "source": [
    "parse(r\"$\\sqrt {1Aas\\alpha}$\")"
   ]
  },
  {
   "cell_type": "code",
   "execution_count": 85,
   "metadata": {},
   "outputs": [
    {
     "data": {
      "text/plain": [
       "'𝑥⃗𝑏²𝛼⃗𝛼̅𝐾⁰ₛ𝑝ₜT'"
      ]
     },
     "execution_count": 85,
     "metadata": {},
     "output_type": "execute_result"
    }
   ],
   "source": [
    "parse(r\"$\\vec{x} b^2 \\vec\\alpha\\overline\\alpha K^0_S p_\\text{T} \\text T$\")"
   ]
  },
  {
   "cell_type": "code",
   "execution_count": 80,
   "metadata": {},
   "outputs": [
    {
     "data": {
      "text/plain": [
       "'√𝑎̅𝑏̅𝑐̅𝑑̅'"
      ]
     },
     "execution_count": 80,
     "metadata": {},
     "output_type": "execute_result"
    }
   ],
   "source": [
    "parse(r\"$\\sqrt{abcd}$\")"
   ]
  },
  {
   "cell_type": "code",
   "execution_count": 82,
   "metadata": {},
   "outputs": [
    {
     "data": {
      "text/plain": [
       "'𝑝ₜ/GeV𝑐⁻¹'"
      ]
     },
     "execution_count": 82,
     "metadata": {},
     "output_type": "execute_result"
    }
   ],
   "source": [
    "parse(r\"$p_T / \\text{GeV}c^{-1}$\")"
   ]
  },
  {
   "cell_type": "code",
   "execution_count": null,
   "metadata": {},
   "outputs": [],
   "source": []
  }
 ],
 "metadata": {
  "kernelspec": {
   "display_name": "Python 3",
   "language": "python",
   "name": "python3"
  },
  "language_info": {
   "codemirror_mode": {
    "name": "ipython",
    "version": 3
   },
   "file_extension": ".py",
   "mimetype": "text/x-python",
   "name": "python",
   "nbconvert_exporter": "python",
   "pygments_lexer": "ipython3",
   "version": "3.10.9"
  },
  "orig_nbformat": 4
 },
 "nbformat": 4,
 "nbformat_minor": 2
}
