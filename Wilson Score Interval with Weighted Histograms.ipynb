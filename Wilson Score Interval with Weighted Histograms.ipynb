{
 "cells": [
  {
   "cell_type": "code",
   "execution_count": 1,
   "id": "inappropriate-aging",
   "metadata": {},
   "outputs": [],
   "source": [
    "import numpy as np\n",
    "import boost_histogram as bh\n",
    "from matplotlib import pyplot as plt"
   ]
  },
  {
   "cell_type": "markdown",
   "id": "careful-copyright",
   "metadata": {},
   "source": [
    "https://en.wikipedia.org/wiki/Binomial_proportion_confidence_interval\n",
    "\n",
    "Wilson score interval:\n",
    "$$\n",
    "p_\\text{min} = \\frac{n_S + \\frac 12 z^2}{n_S + n_F + z^2} - \\frac{z}{n_S + n_F + z^2} \\sqrt{\\frac{n_S n_F}{n_S + n_F} + \\frac{z^2}{4}}\n",
    "$$\n",
    "$$\n",
    "p_\\text{max} = \\frac{n_S + \\frac 12 z^2}{n_S + n_F + z^2} + \\frac{z}{n_S + n_F + z^2} \\sqrt{\\frac{n_S n_F}{n_S + n_F} + \\frac{z^2}{4}}\n",
    "$$\n",
    "with $n_S$ counts of selected events, $n_F$ counts of rejected events, $z$ number of sigmas ($z = 1$ for standard intervals).\n",
    "\n",
    "In case of weighted events, the $n_i$ are the effective counts, computed as\n",
    "$$\n",
    "n_\\text{effective} = \\frac{\\big(\\sum_i w_i\\big)^2}{\\sum_i w^2_i}.\n",
    "$$\n",
    "In boost-histogram, this is computed as `n_eff = h.values() ** 2 / h.variances()` for a histogram `h` with `WeightedSum` storage."
   ]
  },
  {
   "cell_type": "code",
   "execution_count": 2,
   "id": "competent-hollywood",
   "metadata": {},
   "outputs": [],
   "source": [
    "def wilson_score_interval(n_s, n_f, z=1):\n",
    "    n = n_s + n_f\n",
    "    z2 = z * z\n",
    "    center = (n_s + 0.5 * z2) / (n + z2)\n",
    "    delta = z / (n + z2) * np.sqrt(n_s * n_f / n + 0.25 * z2)\n",
    "    return center - delta, center + delta"
   ]
  },
  {
   "cell_type": "code",
   "execution_count": 3,
   "id": "editorial-reunion",
   "metadata": {
    "scrolled": true
   },
   "outputs": [
    {
     "data": {
      "text/plain": [
       "WeightedSum(value=944.245, variance=24939.8)"
      ]
     },
     "execution_count": 3,
     "metadata": {},
     "output_type": "execute_result"
    }
   ],
   "source": [
    "p_truth = 0.2\n",
    "\n",
    "rng = np.random.default_rng(1)\n",
    "\n",
    "w_s = bh.accumulators.WeightedSum()\n",
    "w_f = bh.accumulators.WeightedSum()\n",
    "\n",
    "w = rng.exponential(10, size=100)\n",
    "m = rng.uniform(size=len(w)) < p_truth\n",
    "\n",
    "w_s.fill(w[m])\n",
    "w_f.fill(w[~m])"
   ]
  },
  {
   "cell_type": "code",
   "execution_count": 4,
   "id": "thermal-mongolia",
   "metadata": {},
   "outputs": [
    {
     "name": "stdout",
     "output_type": "stream",
     "text": [
      "efficiency = 0.16 - 0.05 + 0.06\n"
     ]
    },
    {
     "data": {
      "image/png": "[encoded data removed]",
      "text/plain": [
       "<Figure size 432x288 with 1 Axes>"
      ]
     },
     "metadata": {
      "needs_background": "light"
     },
     "output_type": "display_data"
    }
   ],
   "source": [
    "n_s = w_s.value ** 2 / w_s.variance\n",
    "n_f = w_f.value ** 2 / w_f.variance\n",
    "\n",
    "p = n_s / (n_s + n_f)\n",
    "p_min, p_max = wilson_score_interval(n_s, n_f)\n",
    "plt.errorbar([1], [p], [[p-p_min], [p_max-p]], fmt=\"ok\")\n",
    "print(f\"efficiency = {p:.2f} - {p-p_min:.2f} + {p_max-p:.2f}\")"
   ]
  },
  {
   "cell_type": "markdown",
   "id": "marked-gibraltar",
   "metadata": {},
   "source": [
    "Note that the error bar is asymmetric in general. This is especially noticable when p is close to 0 or 1.\n",
    "\n",
    "Let's check with a toy simulation whether this uncertainty is correct."
   ]
  },
  {
   "cell_type": "code",
   "execution_count": 5,
   "id": "circular-insight",
   "metadata": {},
   "outputs": [
    {
     "name": "stdout",
     "output_type": "stream",
     "text": [
      "efficiency(toys) = 0.20 +- 0.06\n"
     ]
    },
    {
     "data": {
      "image/png": "[encoded data removed]",
      "text/plain": [
       "<Figure size 432x288 with 1 Axes>"
      ]
     },
     "metadata": {
      "needs_background": "light"
     },
     "output_type": "display_data"
    }
   ],
   "source": [
    "rng = np.random.default_rng(1)\n",
    "p_toy = []\n",
    "for itoy in range(1000):\n",
    "    w = rng.exponential(10, size=len(w))\n",
    "    m = rng.uniform(size=len(w)) < p_truth\n",
    "    t_s = bh.accumulators.WeightedSum()\n",
    "    t_f = bh.accumulators.WeightedSum()\n",
    "    t_s.fill(w[m])\n",
    "    t_f.fill(w[~m])\n",
    "    p_toy.append(t_s.value / (t_s.value + t_f.value))\n",
    "    \n",
    "center = np.mean(p_toy)\n",
    "delta = np.std(p_toy)\n",
    "\n",
    "plt.errorbar([1], [p], [[p-p_min], [p_max-p]], fmt=\"ok\")\n",
    "plt.errorbar([2], [center], [[delta], [delta]], fmt=\"sr\")\n",
    "plt.axhline(p_truth, ls=\"--\", color=\"0.5\")\n",
    "print(f\"efficiency(toys) = {center:.2f} +- {delta:.2f}\")"
   ]
  },
  {
   "cell_type": "markdown",
   "id": "higher-agent",
   "metadata": {},
   "source": [
    "Ok, Check passed."
   ]
  }
 ],
 "metadata": {
  "kernelspec": {
   "display_name": "py38",
   "language": "python",
   "name": "py38"
  },
  "language_info": {
   "codemirror_mode": {
    "name": "ipython",
    "version": 3
   },
   "file_extension": ".py",
   "mimetype": "text/x-python",
   "name": "python",
   "nbconvert_exporter": "python",
   "pygments_lexer": "ipython3",
   "version": "3.8.10"
  }
 },
 "nbformat": 4,
 "nbformat_minor": 5
}
