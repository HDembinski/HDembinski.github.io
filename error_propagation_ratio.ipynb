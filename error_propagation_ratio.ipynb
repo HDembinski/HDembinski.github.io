{
 "cells": [
  {
   "cell_type": "markdown",
   "metadata": {},
   "source": [
    "**Setting**\n",
    "\n",
    "We want to error propagate to variable $c$ with\n",
    "$$\n",
    "c = \\frac a b,\n",
    "$$\n",
    "where $a$ is constant and $b$ has uncertainty $\\sigma[b]$. All variables shall be positive."
   ]
  },
  {
   "cell_type": "markdown",
   "metadata": {},
   "source": [
    "**Error propagation**\n",
    "\n",
    "$$\n",
    "\\sigma^2[c] = \\big(\\frac{\\partial c}{\\partial b}\\big)^2 \\, \\sigma^2[b] = \\frac {a^2} {b^4} \\, \\sigma^2[b] = \\frac{c^2}{b^2} \\, \\sigma^2[b]\n",
    "$$\n",
    "\n",
    "Or equivalent\n",
    "\n",
    "$$\n",
    "\\frac{\\sigma[c]}{c} = \\frac{\\sigma[b]}{b}\n",
    "$$\n"
   ]
  },
  {
   "cell_type": "markdown",
   "metadata": {},
   "source": [
    "The $\\sigma$ here means (as it always does) square-root of variance. Error propagation is correct **for any distribution** where the variance is defined.\n",
    "\n",
    "Numerical check:"
   ]
  },
  {
   "cell_type": "code",
   "execution_count": 15,
   "metadata": {},
   "outputs": [
    {
     "name": "stdout",
     "output_type": "stream",
     "text": [
      "normal distribution 0.20\n",
      "uniform distribution 0.19\n"
     ]
    }
   ],
   "source": [
    "import numpy as np\n",
    "from scipy import stats\n",
    "\n",
    "a = 1.0 # result is independent of the numerical value of a\n",
    "\n",
    "rng = np.random.default_rng(1)\n",
    "\n",
    "# normally distributed numbers with 18 % std.dev.\n",
    "b_norm = 1 + 0.18 * rng.normal(size=10000)\n",
    "c_norm = a / b_norm\n",
    "\n",
    "print(f\"normal distribution {np.std(c_norm) / np.mean(c_norm):.2f}\")\n",
    "\n",
    "# uniformly distributed numbers with 18 % std.dev.\n",
    "z = rng.uniform(size=10000) - 0.5\n",
    "b_flat = 1 + 0.18 / np.std(z) * z  # scale z so that its std.dev. is 0.18\n",
    "c_flat = a / b_flat\n",
    "\n",
    "print(f\"uniform distribution {np.std(c_flat) / np.mean(c_flat):.2f}\")\n"
   ]
  },
  {
   "cell_type": "markdown",
   "metadata": {},
   "source": [
    "The numerical results of $\\pm 20\\,\\%$ and $\\pm 19\\,\\%$ differ a little from the analytical result $\\pm 18\\,\\%$ because error propagation is approximate for non-linear functions. For small deviations, all functions are linear, but $\\pm 18\\,\\%$ is not that small. In general, errors are usually only known up to 10 %, so this is not a shocking deviation."
   ]
  },
  {
   "cell_type": "markdown",
   "metadata": {},
   "source": [
    "**Summary**\n",
    "\n",
    "We don't know the probability density of systematic offsets. Therefore we use a distribution-independent framework for the calculation to propagate errors, where systematic uncertainties are the square roots of variances of unknown distributions."
   ]
  }
 ],
 "metadata": {
  "kernelspec": {
   "display_name": "Python 3",
   "language": "python",
   "name": "python3"
  },
  "language_info": {
   "codemirror_mode": {
    "name": "ipython",
    "version": 3
   },
   "file_extension": ".py",
   "mimetype": "text/x-python",
   "name": "python",
   "nbconvert_exporter": "python",
   "pygments_lexer": "ipython3",
   "version": "3.8.6"
  }
 },
 "nbformat": 4,
 "nbformat_minor": 4
}
