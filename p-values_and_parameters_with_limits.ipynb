{
 "cells": [
  {
   "cell_type": "code",
   "execution_count": 17,
   "metadata": {},
   "outputs": [],
   "source": [
    "from iminuit import Minuit\n",
    "from iminuit.cost import ExtendedBinnedNLL\n",
    "import numpy as np\n",
    "import numba as nb\n",
    "from matplotlib import pyplot as plt\n",
    "from progressbar import progressbar\n",
    "from pyik.mplext import plot_hist\n",
    "from IPython.display import display\n",
    "from scipy.stats import norm\n",
    "from math import erf"
   ]
  },
  {
   "cell_type": "code",
   "execution_count": 2,
   "metadata": {},
   "outputs": [
    {
     "data": {
      "text/html": [
       "<table>\n",
       "    <tr>\n",
       "        <td colspan=\"2\" style=\"text-align:left\" title=\"Minimum value of function\"> FCN = 3.861e-06 </td>\n",
       "        <td colspan=\"3\" style=\"text-align:center\" title=\"No. of function evaluations in last call and total number\"> Nfcn = 91 </td>\n",
       "    </tr>\n",
       "    <tr>\n",
       "        <td colspan=\"2\" style=\"text-align:left\" title=\"Estimated distance to minimum and goal\"> EDM = 3.86e-06 (Goal: 0.0002) </td>\n",
       "        <td colspan=\"3\" style=\"text-align:center\" title=\"No. of gradient evaluations in last call and total number\">  </td>\n",
       "    </tr>\n",
       "    <tr>\n",
       "        <td style=\"text-align:center;background-color:#92CCA6;color:black\"> Valid Minimum </td>\n",
       "        <td style=\"text-align:center;background-color:#92CCA6;color:black\"> Valid Parameters </td>\n",
       "        <td colspan=\"3\" style=\"text-align:center;background-color:#92CCA6;color:black\"> No Parameters at limit </td>\n",
       "    </tr>\n",
       "    <tr>\n",
       "        <td colspan=\"2\" style=\"text-align:center;background-color:#92CCA6;color:black\"> Below EDM threshold (goal x 10) </td>\n",
       "        <td colspan=\"3\" style=\"text-align:center;background-color:#92CCA6;color:black\"> Below call limit </td>\n",
       "    </tr>\n",
       "    <tr>\n",
       "        <td style=\"text-align:center;background-color:#92CCA6;color:black\"> Covariance </td>\n",
       "        <td style=\"text-align:center;background-color:#92CCA6;color:black\"> Hesse ok </td>\n",
       "        <td style=\"text-align:center;background-color:#92CCA6;color:black\" title=\"Is covariance matrix accurate?\"> Accurate </td>\n",
       "        <td style=\"text-align:center;background-color:#92CCA6;color:black\" title=\"Is covariance matrix positive definite?\"> Pos. def. </td>\n",
       "        <td style=\"text-align:center;background-color:#92CCA6;color:black\" title=\"Was positive definiteness enforced by Minuit?\"> Not forced </td>\n",
       "    </tr>\n",
       "</table><table>\n",
       "    <tr>\n",
       "        <td></td>\n",
       "        <th title=\"Variable name\"> Name </th>\n",
       "        <th title=\"Value of parameter\"> Value </th>\n",
       "        <th title=\"Hesse error\"> Hesse Error </th>\n",
       "        <th title=\"Minos lower error\"> Minos Error- </th>\n",
       "        <th title=\"Minos upper error\"> Minos Error+ </th>\n",
       "        <th title=\"Lower limit of the parameter\"> Limit- </th>\n",
       "        <th title=\"Upper limit of the parameter\"> Limit+ </th>\n",
       "        <th title=\"Is the parameter fixed in the fit\"> Fixed </th>\n",
       "    </tr>\n",
       "    <tr>\n",
       "        <th> 0 </th>\n",
       "        <td> sig </td>\n",
       "        <td> 20 </td>\n",
       "        <td> 12 </td>\n",
       "        <td>  </td>\n",
       "        <td>  </td>\n",
       "        <td> 0 </td>\n",
       "        <td>  </td>\n",
       "        <td>  </td>\n",
       "    </tr>\n",
       "    <tr>\n",
       "        <th> 1 </th>\n",
       "        <td> bkg </td>\n",
       "        <td> 200 </td>\n",
       "        <td> 18 </td>\n",
       "        <td>  </td>\n",
       "        <td>  </td>\n",
       "        <td> 0 </td>\n",
       "        <td>  </td>\n",
       "        <td>  </td>\n",
       "    </tr>\n",
       "</table><table>\n",
       "    <tr>\n",
       "        <td></td>\n",
       "        <th> sig </th>\n",
       "        <th> bkg </th>\n",
       "    </tr>\n",
       "    <tr>\n",
       "        <th> sig </th>\n",
       "        <td> 138 </td>\n",
       "        <td style=\"background-color:rgb(177,177,250);color:black\"> -118 <strong>(-0.564)</strong> </td>\n",
       "    </tr>\n",
       "    <tr>\n",
       "        <th> bkg </th>\n",
       "        <td style=\"background-color:rgb(177,177,250);color:black\"> -118 <strong>(-0.564)</strong> </td>\n",
       "        <td> 318 </td>\n",
       "    </tr>\n",
       "</table>"
      ],
      "text/plain": [
       "┌──────────────────────────────────┬──────────────────────────────────────┐\n",
       "│ FCN = 3.861e-06                  │              Nfcn = 91               │\n",
       "│ EDM = 3.86e-06 (Goal: 0.0002)    │                                      │\n",
       "├───────────────┬──────────────────┼──────────────────────────────────────┤\n",
       "│ Valid Minimum │ Valid Parameters │        No Parameters at limit        │\n",
       "├───────────────┴──────────────────┼──────────────────────────────────────┤\n",
       "│ Below EDM threshold (goal x 10)  │           Below call limit           │\n",
       "├───────────────┬──────────────────┼───────────┬─────────────┬────────────┤\n",
       "│  Covariance   │     Hesse ok     │ Accurate  │  Pos. def.  │ Not forced │\n",
       "└───────────────┴──────────────────┴───────────┴─────────────┴────────────┘\n",
       "┌───┬──────┬───────────┬───────────┬────────────┬────────────┬─────────┬─────────┬───────┐\n",
       "│   │ Name │   Value   │ Hesse Err │ Minos Err- │ Minos Err+ │ Limit-  │ Limit+  │ Fixed │\n",
       "├───┼──────┼───────────┼───────────┼────────────┼────────────┼─────────┼─────────┼───────┤\n",
       "│ 0 │ sig  │    20     │    12     │            │            │    0    │         │       │\n",
       "│ 1 │ bkg  │    200    │    18     │            │            │    0    │         │       │\n",
       "└───┴──────┴───────────┴───────────┴────────────┴────────────┴─────────┴─────────┴───────┘\n",
       "┌─────┬───────────┐\n",
       "│     │  sig  bkg │\n",
       "├─────┼───────────┤\n",
       "│ sig │  138 -118 │\n",
       "│ bkg │ -118  318 │\n",
       "└─────┴───────────┘"
      ]
     },
     "metadata": {},
     "output_type": "display_data"
    },
    {
     "data": {
      "text/html": [
       "<table>\n",
       "    <tr>\n",
       "        <td colspan=\"2\" style=\"text-align:left\" title=\"Minimum value of function\"> FCN = 2.091e-06 </td>\n",
       "        <td colspan=\"3\" style=\"text-align:center\" title=\"No. of function evaluations in last call and total number\"> Nfcn = 99 </td>\n",
       "    </tr>\n",
       "    <tr>\n",
       "        <td colspan=\"2\" style=\"text-align:left\" title=\"Estimated distance to minimum and goal\"> EDM = 2.09e-06 (Goal: 0.0002) </td>\n",
       "        <td colspan=\"3\" style=\"text-align:center\" title=\"No. of gradient evaluations in last call and total number\">  </td>\n",
       "    </tr>\n",
       "    <tr>\n",
       "        <td style=\"text-align:center;background-color:#92CCA6;color:black\"> Valid Minimum </td>\n",
       "        <td style=\"text-align:center;background-color:#92CCA6;color:black\"> Valid Parameters </td>\n",
       "        <td colspan=\"3\" style=\"text-align:center;background-color:#92CCA6;color:black\"> No Parameters at limit </td>\n",
       "    </tr>\n",
       "    <tr>\n",
       "        <td colspan=\"2\" style=\"text-align:center;background-color:#92CCA6;color:black\"> Below EDM threshold (goal x 10) </td>\n",
       "        <td colspan=\"3\" style=\"text-align:center;background-color:#92CCA6;color:black\"> Below call limit </td>\n",
       "    </tr>\n",
       "    <tr>\n",
       "        <td style=\"text-align:center;background-color:#92CCA6;color:black\"> Covariance </td>\n",
       "        <td style=\"text-align:center;background-color:#92CCA6;color:black\"> Hesse ok </td>\n",
       "        <td style=\"text-align:center;background-color:#92CCA6;color:black\" title=\"Is covariance matrix accurate?\"> Accurate </td>\n",
       "        <td style=\"text-align:center;background-color:#92CCA6;color:black\" title=\"Is covariance matrix positive definite?\"> Pos. def. </td>\n",
       "        <td style=\"text-align:center;background-color:#92CCA6;color:black\" title=\"Was positive definiteness enforced by Minuit?\"> Not forced </td>\n",
       "    </tr>\n",
       "</table><table>\n",
       "    <tr>\n",
       "        <td></td>\n",
       "        <th title=\"Variable name\"> Name </th>\n",
       "        <th title=\"Value of parameter\"> Value </th>\n",
       "        <th title=\"Hesse error\"> Hesse Error </th>\n",
       "        <th title=\"Minos lower error\"> Minos Error- </th>\n",
       "        <th title=\"Minos upper error\"> Minos Error+ </th>\n",
       "        <th title=\"Lower limit of the parameter\"> Limit- </th>\n",
       "        <th title=\"Upper limit of the parameter\"> Limit+ </th>\n",
       "        <th title=\"Is the parameter fixed in the fit\"> Fixed </th>\n",
       "    </tr>\n",
       "    <tr>\n",
       "        <th> 0 </th>\n",
       "        <td> sig </td>\n",
       "        <td> 20 </td>\n",
       "        <td> 12 </td>\n",
       "        <td>  </td>\n",
       "        <td>  </td>\n",
       "        <td>  </td>\n",
       "        <td>  </td>\n",
       "        <td>  </td>\n",
       "    </tr>\n",
       "    <tr>\n",
       "        <th> 1 </th>\n",
       "        <td> bkg </td>\n",
       "        <td> 200 </td>\n",
       "        <td> 18 </td>\n",
       "        <td>  </td>\n",
       "        <td>  </td>\n",
       "        <td> 0 </td>\n",
       "        <td>  </td>\n",
       "        <td>  </td>\n",
       "    </tr>\n",
       "</table><table>\n",
       "    <tr>\n",
       "        <td></td>\n",
       "        <th> sig </th>\n",
       "        <th> bkg </th>\n",
       "    </tr>\n",
       "    <tr>\n",
       "        <th> sig </th>\n",
       "        <td> 138 </td>\n",
       "        <td style=\"background-color:rgb(177,177,250);color:black\"> -118 <strong>(-0.564)</strong> </td>\n",
       "    </tr>\n",
       "    <tr>\n",
       "        <th> bkg </th>\n",
       "        <td style=\"background-color:rgb(177,177,250);color:black\"> -118 <strong>(-0.564)</strong> </td>\n",
       "        <td> 318 </td>\n",
       "    </tr>\n",
       "</table>"
      ],
      "text/plain": [
       "┌──────────────────────────────────┬──────────────────────────────────────┐\n",
       "│ FCN = 2.091e-06                  │              Nfcn = 99               │\n",
       "│ EDM = 2.09e-06 (Goal: 0.0002)    │                                      │\n",
       "├───────────────┬──────────────────┼──────────────────────────────────────┤\n",
       "│ Valid Minimum │ Valid Parameters │        No Parameters at limit        │\n",
       "├───────────────┴──────────────────┼──────────────────────────────────────┤\n",
       "│ Below EDM threshold (goal x 10)  │           Below call limit           │\n",
       "├───────────────┬──────────────────┼───────────┬─────────────┬────────────┤\n",
       "│  Covariance   │     Hesse ok     │ Accurate  │  Pos. def.  │ Not forced │\n",
       "└───────────────┴──────────────────┴───────────┴─────────────┴────────────┘\n",
       "┌───┬──────┬───────────┬───────────┬────────────┬────────────┬─────────┬─────────┬───────┐\n",
       "│   │ Name │   Value   │ Hesse Err │ Minos Err- │ Minos Err+ │ Limit-  │ Limit+  │ Fixed │\n",
       "├───┼──────┼───────────┼───────────┼────────────┼────────────┼─────────┼─────────┼───────┤\n",
       "│ 0 │ sig  │    20     │    12     │            │            │         │         │       │\n",
       "│ 1 │ bkg  │    200    │    18     │            │            │    0    │         │       │\n",
       "└───┴──────┴───────────┴───────────┴────────────┴────────────┴─────────┴─────────┴───────┘\n",
       "┌─────┬───────────┐\n",
       "│     │  sig  bkg │\n",
       "├─────┼───────────┤\n",
       "│ sig │  138 -118 │\n",
       "│ bkg │ -118  318 │\n",
       "└─────┴───────────┘"
      ]
     },
     "metadata": {},
     "output_type": "display_data"
    },
    {
     "data": {
      "text/html": [
       "<table>\n",
       "    <tr>\n",
       "        <td colspan=\"2\" style=\"text-align:left\" title=\"Minimum value of function\"> FCN = 3.132 </td>\n",
       "        <td colspan=\"3\" style=\"text-align:center\" title=\"No. of function evaluations in last call and total number\"> Nfcn = 42 </td>\n",
       "    </tr>\n",
       "    <tr>\n",
       "        <td colspan=\"2\" style=\"text-align:left\" title=\"Estimated distance to minimum and goal\"> EDM = 2.31e-05 (Goal: 0.0002) </td>\n",
       "        <td colspan=\"3\" style=\"text-align:center\" title=\"No. of gradient evaluations in last call and total number\">  </td>\n",
       "    </tr>\n",
       "    <tr>\n",
       "        <td style=\"text-align:center;background-color:#92CCA6;color:black\"> Valid Minimum </td>\n",
       "        <td style=\"text-align:center;background-color:#92CCA6;color:black\"> Valid Parameters </td>\n",
       "        <td colspan=\"3\" style=\"text-align:center;background-color:#92CCA6;color:black\"> No Parameters at limit </td>\n",
       "    </tr>\n",
       "    <tr>\n",
       "        <td colspan=\"2\" style=\"text-align:center;background-color:#92CCA6;color:black\"> Below EDM threshold (goal x 10) </td>\n",
       "        <td colspan=\"3\" style=\"text-align:center;background-color:#92CCA6;color:black\"> Below call limit </td>\n",
       "    </tr>\n",
       "    <tr>\n",
       "        <td style=\"text-align:center;background-color:#92CCA6;color:black\"> Covariance </td>\n",
       "        <td style=\"text-align:center;background-color:#92CCA6;color:black\"> Hesse ok </td>\n",
       "        <td style=\"text-align:center;background-color:#92CCA6;color:black\" title=\"Is covariance matrix accurate?\"> Accurate </td>\n",
       "        <td style=\"text-align:center;background-color:#92CCA6;color:black\" title=\"Is covariance matrix positive definite?\"> Pos. def. </td>\n",
       "        <td style=\"text-align:center;background-color:#92CCA6;color:black\" title=\"Was positive definiteness enforced by Minuit?\"> Not forced </td>\n",
       "    </tr>\n",
       "</table><table>\n",
       "    <tr>\n",
       "        <td></td>\n",
       "        <th title=\"Variable name\"> Name </th>\n",
       "        <th title=\"Value of parameter\"> Value </th>\n",
       "        <th title=\"Hesse error\"> Hesse Error </th>\n",
       "        <th title=\"Minos lower error\"> Minos Error- </th>\n",
       "        <th title=\"Minos upper error\"> Minos Error+ </th>\n",
       "        <th title=\"Lower limit of the parameter\"> Limit- </th>\n",
       "        <th title=\"Upper limit of the parameter\"> Limit+ </th>\n",
       "        <th title=\"Is the parameter fixed in the fit\"> Fixed </th>\n",
       "    </tr>\n",
       "    <tr>\n",
       "        <th> 0 </th>\n",
       "        <td> sig </td>\n",
       "        <td> 0.0 </td>\n",
       "        <td> 0.1 </td>\n",
       "        <td>  </td>\n",
       "        <td>  </td>\n",
       "        <td> 0 </td>\n",
       "        <td>  </td>\n",
       "        <td> yes </td>\n",
       "    </tr>\n",
       "    <tr>\n",
       "        <th> 1 </th>\n",
       "        <td> bkg </td>\n",
       "        <td> 220 </td>\n",
       "        <td> 15 </td>\n",
       "        <td>  </td>\n",
       "        <td>  </td>\n",
       "        <td> 0 </td>\n",
       "        <td>  </td>\n",
       "        <td>  </td>\n",
       "    </tr>\n",
       "</table><table>\n",
       "    <tr>\n",
       "        <td></td>\n",
       "        <th> sig </th>\n",
       "        <th> bkg </th>\n",
       "    </tr>\n",
       "    <tr>\n",
       "        <th> sig </th>\n",
       "        <td> 0 </td>\n",
       "        <td style=\"background-color:rgb(250,250,250);color:black\"> 0 </td>\n",
       "    </tr>\n",
       "    <tr>\n",
       "        <th> bkg </th>\n",
       "        <td style=\"background-color:rgb(250,250,250);color:black\"> 0 </td>\n",
       "        <td> 220 </td>\n",
       "    </tr>\n",
       "</table>"
      ],
      "text/plain": [
       "┌──────────────────────────────────┬──────────────────────────────────────┐\n",
       "│ FCN = 3.132                      │              Nfcn = 42               │\n",
       "│ EDM = 2.31e-05 (Goal: 0.0002)    │                                      │\n",
       "├───────────────┬──────────────────┼──────────────────────────────────────┤\n",
       "│ Valid Minimum │ Valid Parameters │        No Parameters at limit        │\n",
       "├───────────────┴──────────────────┼──────────────────────────────────────┤\n",
       "│ Below EDM threshold (goal x 10)  │           Below call limit           │\n",
       "├───────────────┬──────────────────┼───────────┬─────────────┬────────────┤\n",
       "│  Covariance   │     Hesse ok     │ Accurate  │  Pos. def.  │ Not forced │\n",
       "└───────────────┴──────────────────┴───────────┴─────────────┴────────────┘\n",
       "┌───┬──────┬───────────┬───────────┬────────────┬────────────┬─────────┬─────────┬───────┐\n",
       "│   │ Name │   Value   │ Hesse Err │ Minos Err- │ Minos Err+ │ Limit-  │ Limit+  │ Fixed │\n",
       "├───┼──────┼───────────┼───────────┼────────────┼────────────┼─────────┼─────────┼───────┤\n",
       "│ 0 │ sig  │    0.0    │    0.1    │            │            │    0    │         │  yes  │\n",
       "│ 1 │ bkg  │    220    │    15     │            │            │    0    │         │       │\n",
       "└───┴──────┴───────────┴───────────┴────────────┴────────────┴─────────┴─────────┴───────┘\n",
       "┌─────┬─────────┐\n",
       "│     │ sig bkg │\n",
       "├─────┼─────────┤\n",
       "│ sig │   0   0 │\n",
       "│ bkg │   0 220 │\n",
       "└─────┴─────────┘"
      ]
     },
     "metadata": {},
     "output_type": "display_data"
    }
   ],
   "source": [
    "@nb.njit\n",
    "def norm_cdf(x, mu, sigma):\n",
    "    z = (x - mu) / (sigma * np.sqrt(2))\n",
    "    r = np.empty_like(x)\n",
    "    for i in range(len(x)):\n",
    "        r[i] = 0.5 * (1.0 + erf(z[i]))\n",
    "    return r\n",
    "\n",
    "\n",
    "def model(x, sig, bkg):\n",
    "    return sig * norm_cdf(x, 0.5, 0.1) + bkg * x\n",
    "\n",
    "\n",
    "bkg = 200\n",
    "xe = np.linspace(0, 1, 21)\n",
    "n = np.diff(model(xe, 20, bkg))\n",
    "\n",
    "nll = ExtendedBinnedNLL(n, xe, model)\n",
    "\n",
    "m1 = Minuit(nll, 1, 1)\n",
    "m1.limits = (0, None)\n",
    "display(m1.migrad())\n",
    "m2 = Minuit(nll, 1, 1)\n",
    "m2.limits[1] = (0, None)\n",
    "display(m2.migrad())\n",
    "m3 = Minuit(nll, 0, 1)\n",
    "m3.fixed[0] = True\n",
    "m3.limits = (0, None)\n",
    "display(m3.migrad())\n",
    "exp1 = m3.fval - m1.fval, m1.values[0], m1.errors[0]\n",
    "exp2 = m3.fval - m2.fval, m2.values[0], m2.errors[0]"
   ]
  },
  {
   "cell_type": "code",
   "execution_count": 3,
   "metadata": {},
   "outputs": [
    {
     "data": {
      "text/plain": [
       "[<matplotlib.lines.Line2D at 0x12fecaa60>]"
      ]
     },
     "execution_count": 3,
     "metadata": {},
     "output_type": "execute_result"
    },
    {
     "data": {
      "image/png": "[encoded data removed]",
      "text/plain": [
       "<Figure size 432x288 with 1 Axes>"
      ]
     },
     "metadata": {
      "needs_background": "light"
     },
     "output_type": "display_data"
    }
   ],
   "source": [
    "plot_hist(xe, n)"
   ]
  },
  {
   "cell_type": "code",
   "execution_count": 4,
   "metadata": {},
   "outputs": [
    {
     "name": "stdout",
     "output_type": "stream",
     "text": [
      "with limit   : dQ = 3.13     significance of signal amplitude = 1.7σ\n",
      "without limit: dQ = 3.13     significance of signal amplitude = 1.7σ\n"
     ]
    }
   ],
   "source": [
    "print(f\"with limit   : dQ = {exp1[0]:.3g}     \"\n",
    "      f\"significance of signal amplitude = {exp1[1] / exp1[2]:.1f}σ\")\n",
    "print(f\"without limit: dQ = {exp2[0]:.3g}     \"\n",
    "      f\"significance of signal amplitude = {exp2[1] / exp2[2]:.1f}σ\")"
   ]
  },
  {
   "cell_type": "code",
   "execution_count": 9,
   "metadata": {},
   "outputs": [
    {
     "name": "stderr",
     "output_type": "stream",
     "text": [
      "100% (50000 of 50000) |##################| Elapsed Time: 0:01:39 Time:  0:01:39\n"
     ]
    }
   ],
   "source": [
    "rng = np.random.default_rng(1)\n",
    "vbkg = np.diff(model(xe, 0, bkg))\n",
    "r1 = []\n",
    "r2 = []\n",
    "for itoy in progressbar(range(50000)):\n",
    "    nll.n = rng.poisson(vbkg)\n",
    "    m1 = Minuit(nll, 0, bkg)\n",
    "    m1.limits = (0, None)\n",
    "    m1.migrad()\n",
    "    m2 = Minuit(nll, 0, bkg)\n",
    "    m2.limits[1] = (0, None)\n",
    "    m2.migrad()\n",
    "    m3 = Minuit(nll, 0, bkg)\n",
    "    m3.fixed[0] = True\n",
    "    m3.limits = (0, None)\n",
    "    m3.migrad()\n",
    "    if m3.valid:\n",
    "        if m2.valid:\n",
    "            r1.append((m3.fval - m1.fval, m1.values[0]))\n",
    "        if m2.valid:\n",
    "            r2.append((m3.fval - m2.fval, m2.values[0]))\n",
    "r1 = np.array(r1)\n",
    "r2 = np.array(r2)"
   ]
  },
  {
   "cell_type": "code",
   "execution_count": 14,
   "metadata": {},
   "outputs": [
    {
     "data": {
      "image/png": "[encoded data removed]",
      "text/plain": [
       "<Figure size 432x288 with 1 Axes>"
      ]
     },
     "metadata": {
      "needs_background": "light"
     },
     "output_type": "display_data"
    },
    {
     "data": {
      "image/png": "[encoded data removed]",
      "text/plain": [
       "<Figure size 432x288 with 1 Axes>"
      ]
     },
     "metadata": {
      "needs_background": "light"
     },
     "output_type": "display_data"
    }
   ],
   "source": [
    "plt.figure()\n",
    "plt.title(\"dQ distribution\")\n",
    "plt.hist(r1[:,0], bins=50, alpha=0.5, density=True, label=\"with limits\")\n",
    "plt.hist(r2[:,0], bins=50, alpha=0.5, density=True, label=\"without limits\")\n",
    "plt.legend()\n",
    "plt.axvline(exp1[0], color=\"C0\")\n",
    "plt.axvline(exp2[0], color=\"C1\")\n",
    "plt.semilogy()\n",
    "\n",
    "plt.figure()\n",
    "plt.title(\"signal amplitude\")\n",
    "plt.hist(r1[:,1], bins=50, alpha=0.5, density=True, label=\"with limits\")\n",
    "plt.hist(r2[:,1], bins=50, alpha=0.5, density=True, label=\"without limits\")\n",
    "plt.legend()\n",
    "plt.axvline(exp1[1], color=\"C0\")\n",
    "plt.axvline(exp2[1], color=\"C1\")\n",
    "plt.semilogy();"
   ]
  },
  {
   "cell_type": "code",
   "execution_count": 18,
   "metadata": {},
   "outputs": [],
   "source": [
    "def pvalue2sigma(p):\n",
    "    return norm.ppf(1 - p)"
   ]
  },
  {
   "cell_type": "code",
   "execution_count": 21,
   "metadata": {},
   "outputs": [
    {
     "name": "stdout",
     "output_type": "stream",
     "text": [
      "p-value based on amplitude with limit    0.031    significance = 1.9σ\n",
      "p-value based on amplitude without limit 0.031    significance = 1.9σ\n"
     ]
    }
   ],
   "source": [
    "p1 = np.sum(r1[:,1] > exp1[1])/len(r1)\n",
    "p2 = np.sum(r2[:,1] > exp2[1])/len(r2)\n",
    "print(f\"p-value based on amplitude with limit    {p1:.3f}    significance = {pvalue2sigma(p1):.1f}σ\")\n",
    "print(f\"p-value based on amplitude without limit {p2:.3f}    significance = {pvalue2sigma(p2):.1f}σ\")"
   ]
  },
  {
   "cell_type": "code",
   "execution_count": 22,
   "metadata": {},
   "outputs": [
    {
     "name": "stdout",
     "output_type": "stream",
     "text": [
      "p-value based on dQ with limit    0.037    significance = 1.8σ\n",
      "p-value based on dQ without limit 0.077    significance = 1.4σ\n"
     ]
    }
   ],
   "source": [
    "p1 = np.sum(r1[:,0] > exp1[0])/len(r1)\n",
    "p2 = np.sum(r2[:,0] > exp1[0])/len(r2)\n",
    "print(f\"p-value based on dQ with limit    {p1:.3f}    significance = {pvalue2sigma(p1):.1f}σ\")\n",
    "print(f\"p-value based on dQ without limit {p2:.3f}    significance = {pvalue2sigma(p2):.1f}σ\")"
   ]
  },
  {
   "cell_type": "markdown",
   "metadata": {},
   "source": [
    "The p-value computed from the fitted amplitude should agree with the p-value computed from dQ. This is only the case if the fit imposes a limit on the signal amplitude."
   ]
  }
 ],
 "metadata": {
  "kernelspec": {
   "display_name": "py38",
   "language": "python",
   "name": "py38"
  },
  "language_info": {
   "codemirror_mode": {
    "name": "ipython",
    "version": 3
   },
   "file_extension": ".py",
   "mimetype": "text/x-python",
   "name": "python",
   "nbconvert_exporter": "python",
   "pygments_lexer": "ipython3",
   "version": "3.8.6"
  }
 },
 "nbformat": 4,
 "nbformat_minor": 4
}
