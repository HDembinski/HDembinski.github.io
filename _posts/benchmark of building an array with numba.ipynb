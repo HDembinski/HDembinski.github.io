{
 "cells": [
  {
   "cell_type": "markdown",
   "id": "18bf39bb",
   "metadata": {},
   "source": [
    "# Benchmark of building an array with numba\n",
    "\n",
    "Here I try out different ways of making arrays of tuples with Numba where the number of tuples that need to be produced is not known in advance. The fastest way is to make a list of tuples, and then convert this into a Numpy array before returning. The *baseline* shown in the last plot is the fastest possible way of pre-allocating a Numpy array with the right size upfront, but this cannot be used if the number of tuples is not known in advance."
   ]
  },
  {
   "cell_type": "code",
   "execution_count": 1,
   "id": "published-tribune",
   "metadata": {},
   "outputs": [
    {
     "name": "stdout",
     "output_type": "stream",
     "text": [
      "nb.__version__='0.53.1'\n",
      "ak.__version__='1.1.2'\n"
     ]
    }
   ],
   "source": [
    "import numba as nb\n",
    "import numpy as np\n",
    "import awkward as ak\n",
    "print(f\"{nb.__version__=}\")\n",
    "print(f\"{ak.__version__=}\")"
   ]
  },
  {
   "cell_type": "code",
   "execution_count": 2,
   "id": "undefined-toilet",
   "metadata": {},
   "outputs": [
    {
     "data": {
      "text/plain": [
       "array([[0.25473852, 0.47593451, 0.04606011, 0.55805331],\n",
       "       [0.77287874, 0.52879803, 0.91944361, 0.98775869],\n",
       "       [0.01221509, 0.30608935, 0.90908168, 0.07629862]])"
      ]
     },
     "execution_count": 2,
     "metadata": {},
     "output_type": "execute_result"
    }
   ],
   "source": [
    "@nb.njit\n",
    "def make0(n):\n",
    "    r = np.empty((n, 4))\n",
    "    for i in range(n):\n",
    "        # simulate some work\n",
    "        x = np.random.rand()\n",
    "        y = np.random.rand()\n",
    "        z = np.random.rand()\n",
    "        t = np.random.rand()\n",
    "        r[i,0] = x\n",
    "        r[i,1] = y\n",
    "        r[i,2] = z\n",
    "        r[i,3] = t\n",
    "    return r\n",
    "\n",
    "make0(3)"
   ]
  },
  {
   "cell_type": "code",
   "execution_count": 3,
   "id": "restricted-depth",
   "metadata": {},
   "outputs": [
    {
     "name": "stdout",
     "output_type": "stream",
     "text": [
      "26.1 µs ± 1.51 µs per loop (mean ± std. dev. of 7 runs, 10000 loops each)\n"
     ]
    }
   ],
   "source": [
    "%timeit make0(1000)"
   ]
  },
  {
   "cell_type": "code",
   "execution_count": 4,
   "id": "cheap-reconstruction",
   "metadata": {},
   "outputs": [
    {
     "data": {
      "text/plain": [
       "array([[0.40883519, 0.14577046, 0.20275019, 0.24327066],\n",
       "       [0.7325605 , 0.76214408, 0.47819782, 0.93920595],\n",
       "       [0.24872141, 0.92187207, 0.6691103 , 0.5643187 ]])"
      ]
     },
     "execution_count": 4,
     "metadata": {},
     "output_type": "execute_result"
    }
   ],
   "source": [
    "@nb.njit\n",
    "def make1(n):\n",
    "    r = []\n",
    "    for i in range(n):\n",
    "        # simulate some work\n",
    "        x = np.random.rand()\n",
    "        y = np.random.rand()\n",
    "        z = np.random.rand()\n",
    "        t = np.random.rand()\n",
    "        r.append((x, y, z, t))\n",
    "    return np.asarray(r)\n",
    "\n",
    "make1(3)"
   ]
  },
  {
   "cell_type": "code",
   "execution_count": 5,
   "id": "regulated-mattress",
   "metadata": {
    "scrolled": true
   },
   "outputs": [
    {
     "name": "stdout",
     "output_type": "stream",
     "text": [
      "36.9 µs ± 1.55 µs per loop (mean ± std. dev. of 7 runs, 10000 loops each)\n"
     ]
    }
   ],
   "source": [
    "%timeit make1(1000)"
   ]
  },
  {
   "cell_type": "code",
   "execution_count": 6,
   "id": "upset-terrace",
   "metadata": {},
   "outputs": [
    {
     "data": {
      "text/plain": [
       "array([[0.13088925, 0.25692562, 0.48062596, 0.39696723],\n",
       "       [0.3552985 , 0.99054454, 0.38778594, 0.94289909],\n",
       "       [0.76625383, 0.01588522, 0.43885749, 0.73488083]])"
      ]
     },
     "execution_count": 6,
     "metadata": {},
     "output_type": "execute_result"
    }
   ],
   "source": [
    "@nb.njit\n",
    "def make2(n):\n",
    "    r = []\n",
    "    for i in range(n):\n",
    "        ri = []\n",
    "        # simulate some work\n",
    "        x = np.random.rand()\n",
    "        y = np.random.rand()\n",
    "        z = np.random.rand()\n",
    "        t = np.random.rand()\n",
    "        ri.append(x)\n",
    "        ri.append(y)\n",
    "        ri.append(z)\n",
    "        ri.append(t)        \n",
    "        r.append(ri)\n",
    "    return np.asarray(r)\n",
    "\n",
    "make2(3)"
   ]
  },
  {
   "cell_type": "code",
   "execution_count": 7,
   "id": "sunrise-mirror",
   "metadata": {},
   "outputs": [
    {
     "name": "stdout",
     "output_type": "stream",
     "text": [
      "419 µs ± 18.6 µs per loop (mean ± std. dev. of 7 runs, 1000 loops each)\n"
     ]
    }
   ],
   "source": [
    "%timeit make2(1000)"
   ]
  },
  {
   "cell_type": "code",
   "execution_count": 8,
   "id": "natural-documentary",
   "metadata": {},
   "outputs": [
    {
     "data": {
      "text/plain": [
       "array([[0.60766162, 0.66840636, 0.2019663 , 0.92669818],\n",
       "       [0.69739471, 0.33933288, 0.9356699 , 0.61572307],\n",
       "       [0.43173953, 0.40320305, 0.80278753, 0.46843452]])"
      ]
     },
     "execution_count": 8,
     "metadata": {},
     "output_type": "execute_result"
    }
   ],
   "source": [
    "@nb.njit\n",
    "def make3(n):\n",
    "    r = []\n",
    "    for i in range(n):\n",
    "        # simulate some work\n",
    "        x = np.random.rand()\n",
    "        y = np.random.rand()\n",
    "        z = np.random.rand()\n",
    "        t = np.random.rand()\n",
    "        r.append(x)\n",
    "        r.append(y)\n",
    "        r.append(z)\n",
    "        r.append(t)\n",
    "    return np.array(r).reshape((n, 4))\n",
    "\n",
    "make3(3)"
   ]
  },
  {
   "cell_type": "code",
   "execution_count": 9,
   "id": "smart-region",
   "metadata": {},
   "outputs": [
    {
     "name": "stdout",
     "output_type": "stream",
     "text": [
      "49.8 µs ± 2.36 µs per loop (mean ± std. dev. of 7 runs, 10000 loops each)\n"
     ]
    }
   ],
   "source": [
    "%timeit make3(1000)"
   ]
  },
  {
   "cell_type": "code",
   "execution_count": 10,
   "id": "mobile-participation",
   "metadata": {},
   "outputs": [
    {
     "data": {
      "text/plain": [
       "<Array [(0.376, 0.269, 0.149, ... 0.409, 0.38)] type='3 * (float64, float64, flo...'>"
      ]
     },
     "execution_count": 10,
     "metadata": {},
     "output_type": "execute_result"
    }
   ],
   "source": [
    "@nb.njit\n",
    "def _make4(b, n):\n",
    "    for i in range(n):\n",
    "        x = np.random.rand()\n",
    "        y = np.random.rand()\n",
    "        z = np.random.rand()\n",
    "        t = np.random.rand()\n",
    "        b.begin_tuple(4)\n",
    "        b.index(0).append(x)\n",
    "        b.index(1).append(y)\n",
    "        b.index(2).append(z)\n",
    "        b.index(3).append(t)\n",
    "        b.end_tuple()\n",
    "    return b\n",
    "\n",
    "def make4(n):\n",
    "    return _make4(ak.ArrayBuilder(), n).snapshot()\n",
    "\n",
    "make4(3)"
   ]
  },
  {
   "cell_type": "code",
   "execution_count": 11,
   "id": "colored-insertion",
   "metadata": {},
   "outputs": [
    {
     "name": "stdout",
     "output_type": "stream",
     "text": [
      "356 µs ± 11.1 µs per loop (mean ± std. dev. of 7 runs, 1000 loops each)\n"
     ]
    }
   ],
   "source": [
    "%timeit make4(1000)"
   ]
  },
  {
   "cell_type": "code",
   "execution_count": 12,
   "id": "theoretical-emission",
   "metadata": {},
   "outputs": [
    {
     "data": {
      "text/plain": [
       "<Array [[0.216, 0.481, ... 0.247, 0.0629]] type='3 * var * float64'>"
      ]
     },
     "execution_count": 12,
     "metadata": {},
     "output_type": "execute_result"
    }
   ],
   "source": [
    "@nb.njit\n",
    "def _make5(b, n):\n",
    "    for i in range(n):\n",
    "        x = np.random.rand()\n",
    "        y = np.random.rand()\n",
    "        z = np.random.rand()\n",
    "        t = np.random.rand()\n",
    "        b.begin_list()\n",
    "        b.append(x)\n",
    "        b.append(y)\n",
    "        b.append(z)\n",
    "        b.append(t)\n",
    "        b.end_list()\n",
    "    return b\n",
    "\n",
    "def make5(n):\n",
    "    return _make5(ak.ArrayBuilder(), n).snapshot()\n",
    "\n",
    "make5(3)"
   ]
  },
  {
   "cell_type": "code",
   "execution_count": 13,
   "id": "verbal-primary",
   "metadata": {},
   "outputs": [
    {
     "name": "stdout",
     "output_type": "stream",
     "text": [
      "263 µs ± 10.9 µs per loop (mean ± std. dev. of 7 runs, 1000 loops each)\n"
     ]
    }
   ],
   "source": [
    "%timeit make5(1000)"
   ]
  },
  {
   "cell_type": "code",
   "execution_count": 14,
   "id": "chief-stack",
   "metadata": {},
   "outputs": [],
   "source": [
    "import timeit\n",
    "import matplotlib.pyplot as plt\n",
    "\n",
    "n = np.geomspace(1, 1000000, 20).astype(int)\n",
    "\n",
    "ys = []\n",
    "for fn in (make0, make1, make2, make3, make4, make5):\n",
    "    y = []\n",
    "    for ni in n:\n",
    "        m, t = timeit.Timer(lambda : fn(ni)).autorange()\n",
    "        y.append(t/m)\n",
    "    ys.append(y)"
   ]
  },
  {
   "cell_type": "code",
   "execution_count": 15,
   "id": "northern-coordinate",
   "metadata": {},
   "outputs": [
    {
     "data": {
      "image/png": "[encoded data removed]",
      "text/plain": [
       "<Figure size 432x288 with 1 Axes>"
      ]
     },
     "metadata": {
      "needs_background": "light"
     },
     "output_type": "display_data"
    }
   ],
   "source": [
    "for y, label in zip(ys, (\"baseline\",\n",
    "                         \"list+tuple+asarray\",\n",
    "                         \"list+list+asarray\",\n",
    "                         \"list+array+reshape\",\n",
    "                         \"ArrayBuilder+tuple\",\n",
    "                         \"ArrayBuilder+list\")):\n",
    "    plt.plot(n, np.divide(y, 1e-6), label=label)\n",
    "plt.legend()\n",
    "plt.xlabel(\"array length\")\n",
    "plt.ylabel(\"time / μs\")\n",
    "plt.loglog();"
   ]
  }
 ],
 "metadata": {
  "kernelspec": {
   "display_name": "py38",
   "language": "python",
   "name": "py38"
  },
  "language_info": {
   "codemirror_mode": {
    "name": "ipython",
    "version": 3
   },
   "file_extension": ".py",
   "mimetype": "text/x-python",
   "name": "python",
   "nbconvert_exporter": "python",
   "pygments_lexer": "ipython3",
   "version": "3.8.6"
  }
 },
 "nbformat": 4,
 "nbformat_minor": 5
}
