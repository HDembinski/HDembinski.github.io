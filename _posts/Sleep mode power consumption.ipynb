{
 "cells": [
  {
   "cell_type": "markdown",
   "metadata": {},
   "source": [
    "# Power consumption in sleep mode\n",
    "\n",
    "Some people make a big fuss about machines consuming power in standby. While it is very important to conserve energy, it makes no sense to turn off all devices but then run the air conditioner during the full night or run the car for a few minutes before you leave to heat it up. It is important to save energy where it really matters.\n",
    "\n",
    "Here I compute that the CO2 emissions produced by a MacBook in sleep mode over a year are equal to burning 900 g of wood. So if you are worried about this, put one log less into the fireplace on Christmas, and it is compensated."
   ]
  },
  {
   "cell_type": "code",
   "execution_count": 28,
   "metadata": {},
   "outputs": [],
   "source": [
    "kg_of_co2_for_burning_kg_of_wood = 1.9\n",
    "kg_of_co2_per_wh = 0.94e-3 \n",
    "macbook_power_consumption_off_in_watt = 0.07\n",
    "macbook_power_consumption_sleep_mode_in_watt = 0.34"
   ]
  },
  {
   "cell_type": "code",
   "execution_count": 22,
   "metadata": {},
   "outputs": [],
   "source": [
    "sleep_hours_per_year = 52 * (5 * 10 + 2 * 24)"
   ]
  },
  {
   "cell_type": "code",
   "execution_count": 26,
   "metadata": {},
   "outputs": [],
   "source": [
    "macbook_power_consumption_sleep_mode_in_wh_per_year = sleep_hours_per_year * macbook_power_consumption_sleep_mode_in_watt"
   ]
  },
  {
   "cell_type": "code",
   "execution_count": 29,
   "metadata": {},
   "outputs": [
    {
     "data": {
      "text/plain": [
       "0.8572008421052631"
      ]
     },
     "execution_count": 29,
     "metadata": {},
     "output_type": "execute_result"
    }
   ],
   "source": [
    "macbook_power_consumption_sleep_mode_in_wh_per_year * kg_of_co2_per_wh / kg_of_co2_for_burning_kg_of_wood"
   ]
  }
 ],
 "metadata": {
  "kernelspec": {
   "display_name": "Python 3",
   "language": "python",
   "name": "python3"
  },
  "language_info": {
   "codemirror_mode": {
    "name": "ipython",
    "version": 3
   },
   "file_extension": ".py",
   "mimetype": "text/x-python",
   "name": "python",
   "nbconvert_exporter": "python",
   "pygments_lexer": "ipython3",
   "version": "3.7.6"
  }
 },
 "nbformat": 4,
 "nbformat_minor": 4
}
