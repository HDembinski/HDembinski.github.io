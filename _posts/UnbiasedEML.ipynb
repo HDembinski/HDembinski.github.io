{
 "cells": [
  {
   "cell_type": "markdown",
   "metadata": {},
   "source": [
    "# Unbiasedness of EML fit for a mixture model with fixed component pdfs\n",
    "\n",
    "The log-likelihood for one observed Poisson-distributed count is (without constants)\n",
    "$$\n",
    "\\ell_i(\\lambda) := \\ln \\mathcal{L}_i(\\lambda) = -\\lambda + k_i \\ln \\lambda.\n",
    "$$\n",
    "\n",
    "The ML estimate is obtained by solving the score function $\\sum_i \\partial \\ell_i / \\partial \\lambda \\overset!= 0$. The solution $\\hat\\lambda = \\frac1N \\sum_i k_i$ is unbiased,\n",
    "$$\n",
    "E[\\hat \\lambda] = \\frac1N \\sum_i E[k_i] = \\lambda.\n",
    "$$\n",
    "\n",
    "This can be generalised: if the estimator is a linear function of the observations, the estimator is unbiased.\n",
    "\n",
    "We now consider a two component model, where the number density is $\\rho(x) = S f_s(x) + B f_b(x)$.\n",
    "\n",
    "For one bin $i$, the expectation is $\\lambda_i = S s_i + B b_i$ with constants $s_i = \\int_{a_i}^{b_i} f_s(x) dx$ and $b_i = \\int_{a_i}^{b_i} f_b(x) dx$.\n",
    "\n",
    "The score functions are\n",
    "$$\n",
    "\\ell_i(S, B) = -(S s_i + B b_i)/N + k_i \\ln(S s_i + B b_i)\n",
    "$$\n",
    "$$\n",
    "\\frac{\\partial \\sum_i \\ell_i}{\\partial S} = -1 + \\sum_i k_i \\frac{s_i}{S s_i + B b_i} \\overset!= 0 \\quad\\text{and}\\quad\n",
    "\\frac{\\partial \\sum_i \\ell_i}{\\partial B} = -1 + \\sum_i k_i \\frac{b_i}{S s_i + B b_i} \\overset!= 0.\n",
    "$$\n",
    "\n",
    "We calculate the solution explicitly for two bins. The calculation is fairly involved, although the solution is simple.\n"
   ]
  },
  {
   "cell_type": "code",
   "execution_count": 29,
   "metadata": {},
   "outputs": [],
   "source": [
    "from sympy import *\n",
    "\n",
    "S, B, s1, s2, b1, b2, k1, k2 = symbols(\"S B s_1 s_2 b_1 b_2 k_1 k_2\", real=True, nonnegative=True)"
   ]
  },
  {
   "cell_type": "code",
   "execution_count": 30,
   "metadata": {},
   "outputs": [
    {
     "data": {
      "text/latex": [
       "$\\displaystyle \\frac{k_{1} s_{1}}{B b_{1} + S s_{1}} + \\frac{k_{2} s_{2}}{B b_{2} + S s_{2}} = 1$"
      ],
      "text/plain": [
       "Eq(k_1*s_1/(B*b_1 + S*s_1) + k_2*s_2/(B*b_2 + S*s_2), 1)"
      ]
     },
     "execution_count": 30,
     "metadata": {},
     "output_type": "execute_result"
    }
   ],
   "source": [
    "eq1 = Eq(k1 * s1 / (S * s1 + B * b1) + k2 * s2 / (S * s2 + B * b2), 1)\n",
    "eq1"
   ]
  },
  {
   "cell_type": "code",
   "execution_count": 31,
   "metadata": {},
   "outputs": [
    {
     "data": {
      "text/latex": [
       "$\\displaystyle \\frac{b_{1} k_{1}}{B b_{1} + S s_{1}} + \\frac{b_{2} k_{2}}{B b_{2} + S s_{2}} = 1$"
      ],
      "text/plain": [
       "Eq(b_1*k_1/(B*b_1 + S*s_1) + b_2*k_2/(B*b_2 + S*s_2), 1)"
      ]
     },
     "execution_count": 31,
     "metadata": {},
     "output_type": "execute_result"
    }
   ],
   "source": [
    "eq2 = Eq(k1 * b1 / (S * s1 + B * b1) + k2 * b2 / (S * s2 + B * b2), 1)\n",
    "eq2"
   ]
  },
  {
   "cell_type": "code",
   "execution_count": 32,
   "metadata": {},
   "outputs": [
    {
     "data": {
      "text/plain": [
       "[((b_1*b_2*k_1 + b_1*b_2*k_2 - b_1*k_2*s_2 - b_2*k_1*s_1)/((b_1 - s_1)*(b_2 - s_2)),\n",
       "  (-b_1*k_1*s_2 - b_2*k_2*s_1 + k_1*s_1*s_2 + k_2*s_1*s_2)/((b_1 - s_1)*(b_2 - s_2)))]"
      ]
     },
     "execution_count": 32,
     "metadata": {},
     "output_type": "execute_result"
    }
   ],
   "source": [
    "sols = solve((eq1, eq2), (S, B))\n",
    "sols"
   ]
  },
  {
   "cell_type": "code",
   "execution_count": 33,
   "metadata": {},
   "outputs": [
    {
     "name": "stdout",
     "output_type": "stream",
     "text": [
      "Estimate for S:\n"
     ]
    },
    {
     "data": {
      "text/latex": [
       "$\\displaystyle \\frac{b_{1} b_{2} k_{1} + b_{1} b_{2} k_{2} - b_{1} k_{2} s_{2} - b_{2} k_{1} s_{1}}{\\left(b_{1} - s_{1}\\right) \\left(b_{2} - s_{2}\\right)}$"
      ],
      "text/plain": [
       "(b_1*b_2*k_1 + b_1*b_2*k_2 - b_1*k_2*s_2 - b_2*k_1*s_1)/((b_1 - s_1)*(b_2 - s_2))"
      ]
     },
     "metadata": {},
     "output_type": "display_data"
    },
    {
     "name": "stdout",
     "output_type": "stream",
     "text": [
      "Estimate for B:\n"
     ]
    },
    {
     "data": {
      "text/latex": [
       "$\\displaystyle \\frac{- b_{1} k_{1} s_{2} - b_{2} k_{2} s_{1} + k_{1} s_{1} s_{2} + k_{2} s_{1} s_{2}}{\\left(b_{1} - s_{1}\\right) \\left(b_{2} - s_{2}\\right)}$"
      ],
      "text/plain": [
       "(-b_1*k_1*s_2 - b_2*k_2*s_1 + k_1*s_1*s_2 + k_2*s_1*s_2)/((b_1 - s_1)*(b_2 - s_2))"
      ]
     },
     "metadata": {},
     "output_type": "display_data"
    }
   ],
   "source": [
    "for sol in sols:\n",
    "    for k, s in zip((S, B), sol):\n",
    "        print(f\"Estimate for {k}:\")\n",
    "        display(s)"
   ]
  },
  {
   "cell_type": "markdown",
   "metadata": {},
   "source": [
    "These estimates are linear functions of the counts $k_1$ and $k_2$ and therefore unbiased.\n",
    "\n",
    "What is left to show: that we also get a linear (and thus unbiased) solution for more than two bins.\n",
    "\n",
    "Unbiasedness for an unbinned EML fit follows, since the unbinned EML fit is a limiting case of the binned EML fit as the bin width goes to zero."
   ]
  }
 ],
 "metadata": {
  "interpreter": {
   "hash": "7e85ec9bf098c5427e45e2f632dcd4eeff803b007e1abd287d600879388709c1"
  },
  "kernelspec": {
   "display_name": "Python 3.8.12 64-bit",
   "language": "python",
   "name": "python3"
  },
  "language_info": {
   "codemirror_mode": {
    "name": "ipython",
    "version": 3
   },
   "file_extension": ".py",
   "mimetype": "text/x-python",
   "name": "python",
   "nbconvert_exporter": "python",
   "pygments_lexer": "ipython3",
   "version": "3.8.12"
  },
  "orig_nbformat": 4
 },
 "nbformat": 4,
 "nbformat_minor": 2
}
