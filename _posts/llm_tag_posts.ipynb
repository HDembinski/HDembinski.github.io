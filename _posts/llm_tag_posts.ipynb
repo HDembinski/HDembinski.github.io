{
 "cells": [
  {
   "cell_type": "markdown",
   "id": "c9d9cf53",
   "metadata": {},
   "source": [
    "# Tagging posts with a LLM\n",
    "\n",
    "![](../_img/robot_stamping.png)\n",
    "\n",
    "In [recent](https://hdembinski.github.io/posts/parsing_webpages_with_llm.html) [posts](https://hdembinski.github.io/posts/parsing_webpages_with_llm_revisited.html), I explored how LLMs can be used to generate structured output from unstructured input. I decided to use this ability to generate tags for posts on this blog automatically with a LLM. I let the LLM read every post and return a list of predefined tags. With `PydanticAI`, we can easily contrain this list to only contain the tags we have defined. If we don't do that, models tend to invent all sorts of specific tags, but we only want broad categories.\n",
    "\n",
    "We use a local model once again, `Mistral-Small-3.2-24B-Instruct-2506-IQ4_XS`. This model is rather large compared to what we used previously, so I cannot use a lot of context on my 16 GB GPU VRAM, but I managed to squeeze 24000 token by quantizing the KV cache with the options `--cache-type-k q8_0` and `--cache-type-v q8_0` for the `llama-server` of `llama.cpp`. `Mistral-Small-3.2-24B-Instruct-2506-IQ4_XS` works better here than `Qwen-2.5-coder-7b-instruct-Q8_0` that we had used previously to [great success](https://hdembinski.github.io/posts/parsing_webpages_with_llm_revisited.html).\n",
    "\n",
    "The smaller Qwen model can also handle this task, but it tends to miss tags that are applicable, while Mistral finds more tags that match the post.\n",
    "\n",
    "We save the tags as JSON in a file that Quarto (the software that generates this blog) can include to generate the categories for the posts shown on the website. If you want to know how that works, look into the git repository of this blog and search for the file `generate_metadata.py`.\n",
    "\n",
    "Since generating the tags takes a few seconds per post, we only process new posts. In order to re-tag an old post, it has to be deleted from the file."
   ]
  },
  {
   "cell_type": "code",
   "execution_count": 13,
   "id": "0d509298",
   "metadata": {},
   "outputs": [
    {
     "data": {
      "text/html": [
       "<pre style=\"white-space:pre;overflow-x:auto;line-height:normal;font-family:Menlo,'DejaVu Sans Mono',consolas,'Courier New',monospace\">all_KK_decays.ipynb\n",
       "<span style=\"font-weight: bold\">[</span><span style=\"color: #008000; text-decoration-color: #008000\">'physics'</span>, <span style=\"color: #008000; text-decoration-color: #008000\">'programming'</span>, <span style=\"color: #008000; text-decoration-color: #008000\">'visualization'</span><span style=\"font-weight: bold\">]</span>\n",
       "</pre>\n"
      ],
      "text/plain": [
       "all_KK_decays.ipynb\n",
       "\u001b[1m[\u001b[0m\u001b[32m'physics'\u001b[0m, \u001b[32m'programming'\u001b[0m, \u001b[32m'visualization'\u001b[0m\u001b[1m]\u001b[0m\n"
      ]
     },
     "metadata": {},
     "output_type": "display_data"
    },
    {
     "data": {
      "text/html": [
       "<pre style=\"white-space:pre;overflow-x:auto;line-height:normal;font-family:Menlo,'DejaVu Sans Mono',consolas,'Courier New',monospace\">asymmetric errors.ipynb\n",
       "<span style=\"font-weight: bold\">[</span><span style=\"color: #008000; text-decoration-color: #008000\">'physics'</span>, <span style=\"color: #008000; text-decoration-color: #008000\">'programming'</span>, <span style=\"color: #008000; text-decoration-color: #008000\">'statistics'</span>, <span style=\"color: #008000; text-decoration-color: #008000\">'uncertainty analysis'</span><span style=\"font-weight: bold\">]</span>\n",
       "</pre>\n"
      ],
      "text/plain": [
       "asymmetric errors.ipynb\n",
       "\u001b[1m[\u001b[0m\u001b[32m'physics'\u001b[0m, \u001b[32m'programming'\u001b[0m, \u001b[32m'statistics'\u001b[0m, \u001b[32m'uncertainty analysis'\u001b[0m\u001b[1m]\u001b[0m\n"
      ]
     },
     "metadata": {},
     "output_type": "display_data"
    },
    {
     "data": {
      "text/html": [
       "<pre style=\"white-space:pre;overflow-x:auto;line-height:normal;font-family:Menlo,'DejaVu Sans Mono',consolas,'Courier New',monospace\">benchmark of building an array with numba.ipynb\n",
       "<span style=\"font-weight: bold\">[</span><span style=\"color: #008000; text-decoration-color: #008000\">'high performance computing'</span>, <span style=\"color: #008000; text-decoration-color: #008000\">'programming'</span><span style=\"font-weight: bold\">]</span>\n",
       "</pre>\n"
      ],
      "text/plain": [
       "benchmark of building an array with numba.ipynb\n",
       "\u001b[1m[\u001b[0m\u001b[32m'high performance computing'\u001b[0m, \u001b[32m'programming'\u001b[0m\u001b[1m]\u001b[0m\n"
      ]
     },
     "metadata": {},
     "output_type": "display_data"
    },
    {
     "data": {
      "text/html": [
       "<pre style=\"white-space:pre;overflow-x:auto;line-height:normal;font-family:Menlo,'DejaVu Sans Mono',consolas,'Courier New',monospace\">chance_of_deviations_in_random_splits.ipynb\n",
       "<span style=\"font-weight: bold\">[</span><span style=\"color: #008000; text-decoration-color: #008000\">'data analysis'</span>, <span style=\"color: #008000; text-decoration-color: #008000\">'programming'</span>, <span style=\"color: #008000; text-decoration-color: #008000\">'simulation'</span>, <span style=\"color: #008000; text-decoration-color: #008000\">'statistics'</span><span style=\"font-weight: bold\">]</span>\n",
       "</pre>\n"
      ],
      "text/plain": [
       "chance_of_deviations_in_random_splits.ipynb\n",
       "\u001b[1m[\u001b[0m\u001b[32m'data analysis'\u001b[0m, \u001b[32m'programming'\u001b[0m, \u001b[32m'simulation'\u001b[0m, \u001b[32m'statistics'\u001b[0m\u001b[1m]\u001b[0m\n"
      ]
     },
     "metadata": {},
     "output_type": "display_data"
    },
    {
     "data": {
      "text/html": [
       "<pre style=\"white-space:pre;overflow-x:auto;line-height:normal;font-family:Menlo,'DejaVu Sans Mono',consolas,'Courier New',monospace\">comparison_chisquare_test_statistics.ipynb\n",
       "<span style=\"font-weight: bold\">[</span><span style=\"color: #008000; text-decoration-color: #008000\">'simulation'</span>, <span style=\"color: #008000; text-decoration-color: #008000\">'statistics'</span>, <span style=\"color: #008000; text-decoration-color: #008000\">'symbolic computation'</span>, <span style=\"color: #008000; text-decoration-color: #008000\">'visualization'</span><span style=\"font-weight: bold\">]</span>\n",
       "</pre>\n"
      ],
      "text/plain": [
       "comparison_chisquare_test_statistics.ipynb\n",
       "\u001b[1m[\u001b[0m\u001b[32m'simulation'\u001b[0m, \u001b[32m'statistics'\u001b[0m, \u001b[32m'symbolic computation'\u001b[0m, \u001b[32m'visualization'\u001b[0m\u001b[1m]\u001b[0m\n"
      ]
     },
     "metadata": {},
     "output_type": "display_data"
    },
    {
     "data": {
      "text/html": [
       "<pre style=\"white-space:pre;overflow-x:auto;line-height:normal;font-family:Menlo,'DejaVu Sans Mono',consolas,'Courier New',monospace\">Correlation.ipynb\n",
       "<span style=\"font-weight: bold\">[</span><span style=\"color: #008000; text-decoration-color: #008000\">'data analysis'</span>, <span style=\"color: #008000; text-decoration-color: #008000\">'high performance computing'</span>, <span style=\"color: #008000; text-decoration-color: #008000\">'physics'</span>, <span style=\"color: #008000; text-decoration-color: #008000\">'programming'</span>, <span style=\"color: #008000; text-decoration-color: #008000\">'simulation'</span>, <span style=\"color: #008000; text-decoration-color: #008000\">'visualization'</span><span style=\"font-weight: bold\">]</span>\n",
       "</pre>\n"
      ],
      "text/plain": [
       "Correlation.ipynb\n",
       "\u001b[1m[\u001b[0m\u001b[32m'data analysis'\u001b[0m, \u001b[32m'high performance computing'\u001b[0m, \u001b[32m'physics'\u001b[0m, \u001b[32m'programming'\u001b[0m, \u001b[32m'simulation'\u001b[0m, \u001b[32m'visualization'\u001b[0m\u001b[1m]\u001b[0m\n"
      ]
     },
     "metadata": {},
     "output_type": "display_data"
    },
    {
     "data": {
      "text/html": [
       "<pre style=\"white-space:pre;overflow-x:auto;line-height:normal;font-family:Menlo,'DejaVu Sans Mono',consolas,'Courier New',monospace\">cows.ipynb\n",
       "<span style=\"font-weight: bold\">[</span><span style=\"color: #008000; text-decoration-color: #008000\">'programming'</span>, <span style=\"color: #008000; text-decoration-color: #008000\">'sWeights'</span>, <span style=\"color: #008000; text-decoration-color: #008000\">'statistics'</span>, <span style=\"color: #008000; text-decoration-color: #008000\">'visualization'</span><span style=\"font-weight: bold\">]</span>\n",
       "</pre>\n"
      ],
      "text/plain": [
       "cows.ipynb\n",
       "\u001b[1m[\u001b[0m\u001b[32m'programming'\u001b[0m, \u001b[32m'sWeights'\u001b[0m, \u001b[32m'statistics'\u001b[0m, \u001b[32m'visualization'\u001b[0m\u001b[1m]\u001b[0m\n"
      ]
     },
     "metadata": {},
     "output_type": "display_data"
    },
    {
     "data": {
      "text/html": [
       "<pre style=\"white-space:pre;overflow-x:auto;line-height:normal;font-family:Menlo,'DejaVu Sans Mono',consolas,'Courier New',monospace\">cross_section_extrapolation_error.ipynb\n",
       "<span style=\"font-weight: bold\">[</span><span style=\"color: #008000; text-decoration-color: #008000\">'data analysis'</span>, <span style=\"color: #008000; text-decoration-color: #008000\">'physics'</span>, <span style=\"color: #008000; text-decoration-color: #008000\">'statistics'</span>, <span style=\"color: #008000; text-decoration-color: #008000\">'uncertainty analysis'</span>, <span style=\"color: #008000; text-decoration-color: #008000\">'visualization'</span><span style=\"font-weight: bold\">]</span>\n",
       "</pre>\n"
      ],
      "text/plain": [
       "cross_section_extrapolation_error.ipynb\n",
       "\u001b[1m[\u001b[0m\u001b[32m'data analysis'\u001b[0m, \u001b[32m'physics'\u001b[0m, \u001b[32m'statistics'\u001b[0m, \u001b[32m'uncertainty analysis'\u001b[0m, \u001b[32m'visualization'\u001b[0m\u001b[1m]\u001b[0m\n"
      ]
     },
     "metadata": {},
     "output_type": "display_data"
    },
    {
     "data": {
      "text/html": [
       "<pre style=\"white-space:pre;overflow-x:auto;line-height:normal;font-family:Menlo,'DejaVu Sans Mono',consolas,'Courier New',monospace\">cross_section_pip_vs_pp.ipynb\n",
       "<span style=\"font-weight: bold\">[</span><span style=\"color: #008000; text-decoration-color: #008000\">'data analysis'</span>, <span style=\"color: #008000; text-decoration-color: #008000\">'physics'</span>, <span style=\"color: #008000; text-decoration-color: #008000\">'visualization'</span><span style=\"font-weight: bold\">]</span>\n",
       "</pre>\n"
      ],
      "text/plain": [
       "cross_section_pip_vs_pp.ipynb\n",
       "\u001b[1m[\u001b[0m\u001b[32m'data analysis'\u001b[0m, \u001b[32m'physics'\u001b[0m, \u001b[32m'visualization'\u001b[0m\u001b[1m]\u001b[0m\n"
      ]
     },
     "metadata": {},
     "output_type": "display_data"
    },
    {
     "data": {
      "text/html": [
       "<pre style=\"white-space:pre;overflow-x:auto;line-height:normal;font-family:Menlo,'DejaVu Sans Mono',consolas,'Courier New',monospace\">duffing.ipynb\n",
       "<span style=\"font-weight: bold\">[</span><span style=\"color: #008000; text-decoration-color: #008000\">'physics'</span>, <span style=\"color: #008000; text-decoration-color: #008000\">'programming'</span>, <span style=\"color: #008000; text-decoration-color: #008000\">'simulation'</span>, <span style=\"color: #008000; text-decoration-color: #008000\">'visualization'</span><span style=\"font-weight: bold\">]</span>\n",
       "</pre>\n"
      ],
      "text/plain": [
       "duffing.ipynb\n",
       "\u001b[1m[\u001b[0m\u001b[32m'physics'\u001b[0m, \u001b[32m'programming'\u001b[0m, \u001b[32m'simulation'\u001b[0m, \u001b[32m'visualization'\u001b[0m\u001b[1m]\u001b[0m\n"
      ]
     },
     "metadata": {},
     "output_type": "display_data"
    },
    {
     "data": {
      "text/html": [
       "<pre style=\"white-space:pre;overflow-x:auto;line-height:normal;font-family:Menlo,'DejaVu Sans Mono',consolas,'Courier New',monospace\">error_propagation_ratio.ipynb\n",
       "<span style=\"font-weight: bold\">[</span><span style=\"color: #008000; text-decoration-color: #008000\">'simulation'</span>, <span style=\"color: #008000; text-decoration-color: #008000\">'statistics'</span>, <span style=\"color: #008000; text-decoration-color: #008000\">'uncertainty analysis'</span><span style=\"font-weight: bold\">]</span>\n",
       "</pre>\n"
      ],
      "text/plain": [
       "error_propagation_ratio.ipynb\n",
       "\u001b[1m[\u001b[0m\u001b[32m'simulation'\u001b[0m, \u001b[32m'statistics'\u001b[0m, \u001b[32m'uncertainty analysis'\u001b[0m\u001b[1m]\u001b[0m\n"
      ]
     },
     "metadata": {},
     "output_type": "display_data"
    },
    {
     "data": {
      "text/html": [
       "<pre style=\"white-space:pre;overflow-x:auto;line-height:normal;font-family:Menlo,'DejaVu Sans Mono',consolas,'Courier New',monospace\">error_propagation_with_sympy.ipynb\n",
       "<span style=\"font-weight: bold\">[</span><span style=\"color: #008000; text-decoration-color: #008000\">'programming'</span>, <span style=\"color: #008000; text-decoration-color: #008000\">'statistics'</span>, <span style=\"color: #008000; text-decoration-color: #008000\">'symbolic computation'</span>, <span style=\"color: #008000; text-decoration-color: #008000\">'uncertainty analysis'</span><span style=\"font-weight: bold\">]</span>\n",
       "</pre>\n"
      ],
      "text/plain": [
       "error_propagation_with_sympy.ipynb\n",
       "\u001b[1m[\u001b[0m\u001b[32m'programming'\u001b[0m, \u001b[32m'statistics'\u001b[0m, \u001b[32m'symbolic computation'\u001b[0m, \u001b[32m'uncertainty analysis'\u001b[0m\u001b[1m]\u001b[0m\n"
      ]
     },
     "metadata": {},
     "output_type": "display_data"
    },
    {
     "data": {
      "text/html": [
       "<pre style=\"white-space:pre;overflow-x:auto;line-height:normal;font-family:Menlo,'DejaVu Sans Mono',consolas,'Courier New',monospace\">exceptions.md\n",
       "<span style=\"font-weight: bold\">[</span><span style=\"color: #008000; text-decoration-color: #008000\">'high performance computing'</span>, <span style=\"color: #008000; text-decoration-color: #008000\">'programming'</span><span style=\"font-weight: bold\">]</span>\n",
       "</pre>\n"
      ],
      "text/plain": [
       "exceptions.md\n",
       "\u001b[1m[\u001b[0m\u001b[32m'high performance computing'\u001b[0m, \u001b[32m'programming'\u001b[0m\u001b[1m]\u001b[0m\n"
      ]
     },
     "metadata": {},
     "output_type": "display_data"
    },
    {
     "data": {
      "text/html": [
       "<pre style=\"white-space:pre;overflow-x:auto;line-height:normal;font-family:Menlo,'DejaVu Sans Mono',consolas,'Courier New',monospace\">factorization_test.ipynb\n",
       "<span style=\"font-weight: bold\">[</span><span style=\"color: #008000; text-decoration-color: #008000\">'data analysis'</span>, <span style=\"color: #008000; text-decoration-color: #008000\">'programming'</span>, <span style=\"color: #008000; text-decoration-color: #008000\">'sWeights'</span>, <span style=\"color: #008000; text-decoration-color: #008000\">'statistics'</span>, <span style=\"color: #008000; text-decoration-color: #008000\">'visualization'</span><span style=\"font-weight: bold\">]</span>\n",
       "</pre>\n"
      ],
      "text/plain": [
       "factorization_test.ipynb\n",
       "\u001b[1m[\u001b[0m\u001b[32m'data analysis'\u001b[0m, \u001b[32m'programming'\u001b[0m, \u001b[32m'sWeights'\u001b[0m, \u001b[32m'statistics'\u001b[0m, \u001b[32m'visualization'\u001b[0m\u001b[1m]\u001b[0m\n"
      ]
     },
     "metadata": {},
     "output_type": "display_data"
    },
    {
     "data": {
      "text/html": [
       "<pre style=\"white-space:pre;overflow-x:auto;line-height:normal;font-family:Menlo,'DejaVu Sans Mono',consolas,'Courier New',monospace\">fast_deep_set.ipynb\n",
       "<span style=\"font-weight: bold\">[</span><span style=\"color: #008000; text-decoration-color: #008000\">'high performance computing'</span>, <span style=\"color: #008000; text-decoration-color: #008000\">'machine learning'</span>, <span style=\"color: #008000; text-decoration-color: #008000\">'neural networks'</span>, <span style=\"color: #008000; text-decoration-color: #008000\">'physics'</span>, <span style=\"color: #008000; text-decoration-color: #008000\">'programming'</span><span style=\"font-weight: bold\">]</span>\n",
       "</pre>\n"
      ],
      "text/plain": [
       "fast_deep_set.ipynb\n",
       "\u001b[1m[\u001b[0m\u001b[32m'high performance computing'\u001b[0m, \u001b[32m'machine learning'\u001b[0m, \u001b[32m'neural networks'\u001b[0m, \u001b[32m'physics'\u001b[0m, \u001b[32m'programming'\u001b[0m\u001b[1m]\u001b[0m\n"
      ]
     },
     "metadata": {},
     "output_type": "display_data"
    },
    {
     "data": {
      "text/html": [
       "<pre style=\"white-space:pre;overflow-x:auto;line-height:normal;font-family:Menlo,'DejaVu Sans Mono',consolas,'Courier New',monospace\">Fit weighted histograms with SPD method.ipynb\n",
       "<span style=\"font-weight: bold\">[</span><span style=\"color: #008000; text-decoration-color: #008000\">'data analysis'</span>, <span style=\"color: #008000; text-decoration-color: #008000\">'physics'</span>, <span style=\"color: #008000; text-decoration-color: #008000\">'programming'</span>, <span style=\"color: #008000; text-decoration-color: #008000\">'science'</span>, <span style=\"color: #008000; text-decoration-color: #008000\">'statistics'</span>, <span style=\"color: #008000; text-decoration-color: #008000\">'visualization'</span><span style=\"font-weight: bold\">]</span>\n",
       "</pre>\n"
      ],
      "text/plain": [
       "Fit weighted histograms with SPD method.ipynb\n",
       "\u001b[1m[\u001b[0m\u001b[32m'data analysis'\u001b[0m, \u001b[32m'physics'\u001b[0m, \u001b[32m'programming'\u001b[0m, \u001b[32m'science'\u001b[0m, \u001b[32m'statistics'\u001b[0m, \u001b[32m'visualization'\u001b[0m\u001b[1m]\u001b[0m\n"
      ]
     },
     "metadata": {},
     "output_type": "display_data"
    },
    {
     "data": {
      "text/html": [
       "<pre style=\"white-space:pre;overflow-x:auto;line-height:normal;font-family:Menlo,'DejaVu Sans Mono',consolas,'Courier New',monospace\">From fixed target to sqrt_s_nn and back.ipynb\n",
       "<span style=\"font-weight: bold\">[</span><span style=\"color: #008000; text-decoration-color: #008000\">'physics'</span>, <span style=\"color: #008000; text-decoration-color: #008000\">'symbolic computation'</span><span style=\"font-weight: bold\">]</span>\n",
       "</pre>\n"
      ],
      "text/plain": [
       "From fixed target to sqrt_s_nn and back.ipynb\n",
       "\u001b[1m[\u001b[0m\u001b[32m'physics'\u001b[0m, \u001b[32m'symbolic computation'\u001b[0m\u001b[1m]\u001b[0m\n"
      ]
     },
     "metadata": {},
     "output_type": "display_data"
    },
    {
     "data": {
      "text/html": [
       "<pre style=\"white-space:pre;overflow-x:auto;line-height:normal;font-family:Menlo,'DejaVu Sans Mono',consolas,'Courier New',monospace\">gof_test_statistic.ipynb\n",
       "<span style=\"font-weight: bold\">[</span><span style=\"color: #008000; text-decoration-color: #008000\">'data analysis'</span>, <span style=\"color: #008000; text-decoration-color: #008000\">'science'</span>, <span style=\"color: #008000; text-decoration-color: #008000\">'simulation'</span>, <span style=\"color: #008000; text-decoration-color: #008000\">'statistics'</span><span style=\"font-weight: bold\">]</span>\n",
       "</pre>\n"
      ],
      "text/plain": [
       "gof_test_statistic.ipynb\n",
       "\u001b[1m[\u001b[0m\u001b[32m'data analysis'\u001b[0m, \u001b[32m'science'\u001b[0m, \u001b[32m'simulation'\u001b[0m, \u001b[32m'statistics'\u001b[0m\u001b[1m]\u001b[0m\n"
      ]
     },
     "metadata": {},
     "output_type": "display_data"
    },
    {
     "data": {
      "text/html": [
       "<pre style=\"white-space:pre;overflow-x:auto;line-height:normal;font-family:Menlo,'DejaVu Sans Mono',consolas,'Courier New',monospace\">HESSE_vs_MINOS_TwoGauss.ipynb\n",
       "<span style=\"font-weight: bold\">[</span><span style=\"color: #008000; text-decoration-color: #008000\">'data analysis'</span>, <span style=\"color: #008000; text-decoration-color: #008000\">'simulation'</span>, <span style=\"color: #008000; text-decoration-color: #008000\">'statistics'</span>, <span style=\"color: #008000; text-decoration-color: #008000\">'uncertainty analysis'</span>, <span style=\"color: #008000; text-decoration-color: #008000\">'visualization'</span><span style=\"font-weight: bold\">]</span>\n",
       "</pre>\n"
      ],
      "text/plain": [
       "HESSE_vs_MINOS_TwoGauss.ipynb\n",
       "\u001b[1m[\u001b[0m\u001b[32m'data analysis'\u001b[0m, \u001b[32m'simulation'\u001b[0m, \u001b[32m'statistics'\u001b[0m, \u001b[32m'uncertainty analysis'\u001b[0m, \u001b[32m'visualization'\u001b[0m\u001b[1m]\u001b[0m\n"
      ]
     },
     "metadata": {},
     "output_type": "display_data"
    },
    {
     "data": {
      "text/html": [
       "<pre style=\"white-space:pre;overflow-x:auto;line-height:normal;font-family:Menlo,'DejaVu Sans Mono',consolas,'Courier New',monospace\">hyperon_feed_down.ipynb\n",
       "<span style=\"font-weight: bold\">[</span><span style=\"color: #008000; text-decoration-color: #008000\">'data analysis'</span>, <span style=\"color: #008000; text-decoration-color: #008000\">'physics'</span>, <span style=\"color: #008000; text-decoration-color: #008000\">'programming'</span>, <span style=\"color: #008000; text-decoration-color: #008000\">'visualization'</span><span style=\"font-weight: bold\">]</span>\n",
       "</pre>\n"
      ],
      "text/plain": [
       "hyperon_feed_down.ipynb\n",
       "\u001b[1m[\u001b[0m\u001b[32m'data analysis'\u001b[0m, \u001b[32m'physics'\u001b[0m, \u001b[32m'programming'\u001b[0m, \u001b[32m'visualization'\u001b[0m\u001b[1m]\u001b[0m\n"
      ]
     },
     "metadata": {},
     "output_type": "display_data"
    },
    {
     "data": {
      "text/html": [
       "<pre style=\"white-space:pre;overflow-x:auto;line-height:normal;font-family:Menlo,'DejaVu Sans Mono',consolas,'Courier New',monospace\">Interactive plotting in Jupyter with matplotlib.ipynb\n",
       "<span style=\"font-weight: bold\">[</span><span style=\"color: #008000; text-decoration-color: #008000\">'programming'</span>, <span style=\"color: #008000; text-decoration-color: #008000\">'visualization'</span><span style=\"font-weight: bold\">]</span>\n",
       "</pre>\n"
      ],
      "text/plain": [
       "Interactive plotting in Jupyter with matplotlib.ipynb\n",
       "\u001b[1m[\u001b[0m\u001b[32m'programming'\u001b[0m, \u001b[32m'visualization'\u001b[0m\u001b[1m]\u001b[0m\n"
      ]
     },
     "metadata": {},
     "output_type": "display_data"
    },
    {
     "data": {
      "text/html": [
       "<pre style=\"white-space:pre;overflow-x:auto;line-height:normal;font-family:Menlo,'DejaVu Sans Mono',consolas,'Courier New',monospace\">invariant mass combinatorial background.ipynb\n",
       "<span style=\"font-weight: bold\">[</span><span style=\"color: #008000; text-decoration-color: #008000\">'physics'</span>, <span style=\"color: #008000; text-decoration-color: #008000\">'simulation'</span>, <span style=\"color: #008000; text-decoration-color: #008000\">'statistics'</span>, <span style=\"color: #008000; text-decoration-color: #008000\">'symbolic computation'</span><span style=\"font-weight: bold\">]</span>\n",
       "</pre>\n"
      ],
      "text/plain": [
       "invariant mass combinatorial background.ipynb\n",
       "\u001b[1m[\u001b[0m\u001b[32m'physics'\u001b[0m, \u001b[32m'simulation'\u001b[0m, \u001b[32m'statistics'\u001b[0m, \u001b[32m'symbolic computation'\u001b[0m\u001b[1m]\u001b[0m\n"
      ]
     },
     "metadata": {},
     "output_type": "display_data"
    },
    {
     "data": {
      "text/html": [
       "<pre style=\"white-space:pre;overflow-x:auto;line-height:normal;font-family:Menlo,'DejaVu Sans Mono',consolas,'Courier New',monospace\">Leave-one-out cross-validation.ipynb\n",
       "<span style=\"font-weight: bold\">[</span><span style=\"color: #008000; text-decoration-color: #008000\">'data analysis'</span>, <span style=\"color: #008000; text-decoration-color: #008000\">'statistics'</span><span style=\"font-weight: bold\">]</span>\n",
       "</pre>\n"
      ],
      "text/plain": [
       "Leave-one-out cross-validation.ipynb\n",
       "\u001b[1m[\u001b[0m\u001b[32m'data analysis'\u001b[0m, \u001b[32m'statistics'\u001b[0m\u001b[1m]\u001b[0m\n"
      ]
     },
     "metadata": {},
     "output_type": "display_data"
    },
    {
     "data": {
      "text/html": [
       "<pre style=\"white-space:pre;overflow-x:auto;line-height:normal;font-family:Menlo,'DejaVu Sans Mono',consolas,'Courier New',monospace\">llama_index_rag.ipynb\n",
       "<span style=\"font-weight: bold\">[</span><span style=\"color: #008000; text-decoration-color: #008000\">'llm'</span>, <span style=\"color: #008000; text-decoration-color: #008000\">'programming'</span>, <span style=\"color: #008000; text-decoration-color: #008000\">'web scraping'</span><span style=\"font-weight: bold\">]</span>\n",
       "</pre>\n"
      ],
      "text/plain": [
       "llama_index_rag.ipynb\n",
       "\u001b[1m[\u001b[0m\u001b[32m'llm'\u001b[0m, \u001b[32m'programming'\u001b[0m, \u001b[32m'web scraping'\u001b[0m\u001b[1m]\u001b[0m\n"
      ]
     },
     "metadata": {},
     "output_type": "display_data"
    },
    {
     "data": {
      "text/html": [
       "<pre style=\"white-space:pre;overflow-x:auto;line-height:normal;font-family:Menlo,'DejaVu Sans Mono',consolas,'Courier New',monospace\">llm_tag_posts.ipynb\n",
       "<span style=\"font-weight: bold\">[</span><span style=\"color: #008000; text-decoration-color: #008000\">'high performance computing'</span>, <span style=\"color: #008000; text-decoration-color: #008000\">'llm'</span>, <span style=\"color: #008000; text-decoration-color: #008000\">'programming'</span><span style=\"font-weight: bold\">]</span>\n",
       "</pre>\n"
      ],
      "text/plain": [
       "llm_tag_posts.ipynb\n",
       "\u001b[1m[\u001b[0m\u001b[32m'high performance computing'\u001b[0m, \u001b[32m'llm'\u001b[0m, \u001b[32m'programming'\u001b[0m\u001b[1m]\u001b[0m\n"
      ]
     },
     "metadata": {},
     "output_type": "display_data"
    },
    {
     "data": {
      "text/html": [
       "<pre style=\"white-space:pre;overflow-x:auto;line-height:normal;font-family:Menlo,'DejaVu Sans Mono',consolas,'Courier New',monospace\">logaddexp.ipynb\n",
       "<span style=\"font-weight: bold\">[</span><span style=\"color: #008000; text-decoration-color: #008000\">'high performance computing'</span>, <span style=\"color: #008000; text-decoration-color: #008000\">'programming'</span>, <span style=\"color: #008000; text-decoration-color: #008000\">'statistics'</span><span style=\"font-weight: bold\">]</span>\n",
       "</pre>\n"
      ],
      "text/plain": [
       "logaddexp.ipynb\n",
       "\u001b[1m[\u001b[0m\u001b[32m'high performance computing'\u001b[0m, \u001b[32m'programming'\u001b[0m, \u001b[32m'statistics'\u001b[0m\u001b[1m]\u001b[0m\n"
      ]
     },
     "metadata": {},
     "output_type": "display_data"
    },
    {
     "data": {
      "text/html": [
       "<pre style=\"white-space:pre;overflow-x:auto;line-height:normal;font-family:Menlo,'DejaVu Sans Mono',consolas,'Courier New',monospace\">look_elsewhere_effect.ipynb\n",
       "<span style=\"font-weight: bold\">[</span>\n",
       "    <span style=\"color: #008000; text-decoration-color: #008000\">'bootstrap'</span>,\n",
       "    <span style=\"color: #008000; text-decoration-color: #008000\">'data analysis'</span>,\n",
       "    <span style=\"color: #008000; text-decoration-color: #008000\">'physics'</span>,\n",
       "    <span style=\"color: #008000; text-decoration-color: #008000\">'programming'</span>,\n",
       "    <span style=\"color: #008000; text-decoration-color: #008000\">'simulation'</span>,\n",
       "    <span style=\"color: #008000; text-decoration-color: #008000\">'statistics'</span>,\n",
       "    <span style=\"color: #008000; text-decoration-color: #008000\">'uncertainty analysis'</span>,\n",
       "    <span style=\"color: #008000; text-decoration-color: #008000\">'visualization'</span>\n",
       "<span style=\"font-weight: bold\">]</span>\n",
       "</pre>\n"
      ],
      "text/plain": [
       "look_elsewhere_effect.ipynb\n",
       "\u001b[1m[\u001b[0m\n",
       "    \u001b[32m'bootstrap'\u001b[0m,\n",
       "    \u001b[32m'data analysis'\u001b[0m,\n",
       "    \u001b[32m'physics'\u001b[0m,\n",
       "    \u001b[32m'programming'\u001b[0m,\n",
       "    \u001b[32m'simulation'\u001b[0m,\n",
       "    \u001b[32m'statistics'\u001b[0m,\n",
       "    \u001b[32m'uncertainty analysis'\u001b[0m,\n",
       "    \u001b[32m'visualization'\u001b[0m\n",
       "\u001b[1m]\u001b[0m\n"
      ]
     },
     "metadata": {},
     "output_type": "display_data"
    },
    {
     "data": {
      "text/html": [
       "<pre style=\"white-space:pre;overflow-x:auto;line-height:normal;font-family:Menlo,'DejaVu Sans Mono',consolas,'Courier New',monospace\">MCMC.ipynb\n",
       "<span style=\"font-weight: bold\">[</span><span style=\"color: #008000; text-decoration-color: #008000\">'programming'</span>, <span style=\"color: #008000; text-decoration-color: #008000\">'simulation'</span>, <span style=\"color: #008000; text-decoration-color: #008000\">'statistics'</span>, <span style=\"color: #008000; text-decoration-color: #008000\">'visualization'</span><span style=\"font-weight: bold\">]</span>\n",
       "</pre>\n"
      ],
      "text/plain": [
       "MCMC.ipynb\n",
       "\u001b[1m[\u001b[0m\u001b[32m'programming'\u001b[0m, \u001b[32m'simulation'\u001b[0m, \u001b[32m'statistics'\u001b[0m, \u001b[32m'visualization'\u001b[0m\u001b[1m]\u001b[0m\n"
      ]
     },
     "metadata": {},
     "output_type": "display_data"
    },
    {
     "data": {
      "text/html": [
       "<pre style=\"white-space:pre;overflow-x:auto;line-height:normal;font-family:Menlo,'DejaVu Sans Mono',consolas,'Courier New',monospace\">naive_calibration_bias.ipynb\n",
       "<span style=\"font-weight: bold\">[</span><span style=\"color: #008000; text-decoration-color: #008000\">'data analysis'</span>, <span style=\"color: #008000; text-decoration-color: #008000\">'physics'</span>, <span style=\"color: #008000; text-decoration-color: #008000\">'programming'</span>, <span style=\"color: #008000; text-decoration-color: #008000\">'simulation'</span>, <span style=\"color: #008000; text-decoration-color: #008000\">'statistics'</span><span style=\"font-weight: bold\">]</span>\n",
       "</pre>\n"
      ],
      "text/plain": [
       "naive_calibration_bias.ipynb\n",
       "\u001b[1m[\u001b[0m\u001b[32m'data analysis'\u001b[0m, \u001b[32m'physics'\u001b[0m, \u001b[32m'programming'\u001b[0m, \u001b[32m'simulation'\u001b[0m, \u001b[32m'statistics'\u001b[0m\u001b[1m]\u001b[0m\n"
      ]
     },
     "metadata": {},
     "output_type": "display_data"
    },
    {
     "data": {
      "text/html": [
       "<pre style=\"white-space:pre;overflow-x:auto;line-height:normal;font-family:Menlo,'DejaVu Sans Mono',consolas,'Courier New',monospace\">New iminuit displays.ipynb\n",
       "<span style=\"font-weight: bold\">[</span><span style=\"color: #008000; text-decoration-color: #008000\">'programming'</span><span style=\"font-weight: bold\">]</span>\n",
       "</pre>\n"
      ],
      "text/plain": [
       "New iminuit displays.ipynb\n",
       "\u001b[1m[\u001b[0m\u001b[32m'programming'\u001b[0m\u001b[1m]\u001b[0m\n"
      ]
     },
     "metadata": {},
     "output_type": "display_data"
    },
    {
     "data": {
      "text/html": [
       "<pre style=\"white-space:pre;overflow-x:auto;line-height:normal;font-family:Menlo,'DejaVu Sans Mono',consolas,'Courier New',monospace\">Numerically stable calculation of invariant mass.ipynb\n",
       "<span style=\"font-weight: bold\">[</span><span style=\"color: #008000; text-decoration-color: #008000\">'high performance computing'</span>, <span style=\"color: #008000; text-decoration-color: #008000\">'physics'</span>, <span style=\"color: #008000; text-decoration-color: #008000\">'programming'</span><span style=\"font-weight: bold\">]</span>\n",
       "</pre>\n"
      ],
      "text/plain": [
       "Numerically stable calculation of invariant mass.ipynb\n",
       "\u001b[1m[\u001b[0m\u001b[32m'high performance computing'\u001b[0m, \u001b[32m'physics'\u001b[0m, \u001b[32m'programming'\u001b[0m\u001b[1m]\u001b[0m\n"
      ]
     },
     "metadata": {},
     "output_type": "display_data"
    },
    {
     "data": {
      "text/html": [
       "<pre style=\"white-space:pre;overflow-x:auto;line-height:normal;font-family:Menlo,'DejaVu Sans Mono',consolas,'Courier New',monospace\">p-value conversion.ipynb\n",
       "<span style=\"font-weight: bold\">[</span><span style=\"color: #008000; text-decoration-color: #008000\">'data analysis'</span>, <span style=\"color: #008000; text-decoration-color: #008000\">'science'</span>, <span style=\"color: #008000; text-decoration-color: #008000\">'statistics'</span>, <span style=\"color: #008000; text-decoration-color: #008000\">'visualization'</span><span style=\"font-weight: bold\">]</span>\n",
       "</pre>\n"
      ],
      "text/plain": [
       "p-value conversion.ipynb\n",
       "\u001b[1m[\u001b[0m\u001b[32m'data analysis'\u001b[0m, \u001b[32m'science'\u001b[0m, \u001b[32m'statistics'\u001b[0m, \u001b[32m'visualization'\u001b[0m\u001b[1m]\u001b[0m\n"
      ]
     },
     "metadata": {},
     "output_type": "display_data"
    },
    {
     "data": {
      "text/html": [
       "<pre style=\"white-space:pre;overflow-x:auto;line-height:normal;font-family:Menlo,'DejaVu Sans Mono',consolas,'Courier New',monospace\">parse_latex.ipynb\n",
       "<span style=\"font-weight: bold\">[</span><span style=\"color: #008000; text-decoration-color: #008000\">'parsing'</span>, <span style=\"color: #008000; text-decoration-color: #008000\">'programming'</span><span style=\"font-weight: bold\">]</span>\n",
       "</pre>\n"
      ],
      "text/plain": [
       "parse_latex.ipynb\n",
       "\u001b[1m[\u001b[0m\u001b[32m'parsing'\u001b[0m, \u001b[32m'programming'\u001b[0m\u001b[1m]\u001b[0m\n"
      ]
     },
     "metadata": {},
     "output_type": "display_data"
    },
    {
     "data": {
      "text/html": [
       "<pre style=\"white-space:pre;overflow-x:auto;line-height:normal;font-family:Menlo,'DejaVu Sans Mono',consolas,'Courier New',monospace\">parsing_webpages_with_llm.ipynb\n",
       "<span style=\"font-weight: bold\">[</span><span style=\"color: #008000; text-decoration-color: #008000\">'llm'</span>, <span style=\"color: #008000; text-decoration-color: #008000\">'parsing'</span>, <span style=\"color: #008000; text-decoration-color: #008000\">'prompt engineering'</span>, <span style=\"color: #008000; text-decoration-color: #008000\">'web scraping'</span><span style=\"font-weight: bold\">]</span>\n",
       "</pre>\n"
      ],
      "text/plain": [
       "parsing_webpages_with_llm.ipynb\n",
       "\u001b[1m[\u001b[0m\u001b[32m'llm'\u001b[0m, \u001b[32m'parsing'\u001b[0m, \u001b[32m'prompt engineering'\u001b[0m, \u001b[32m'web scraping'\u001b[0m\u001b[1m]\u001b[0m\n"
      ]
     },
     "metadata": {},
     "output_type": "display_data"
    },
    {
     "data": {
      "text/html": [
       "<pre style=\"white-space:pre;overflow-x:auto;line-height:normal;font-family:Menlo,'DejaVu Sans Mono',consolas,'Courier New',monospace\">parsing_webpages_with_llm_revisited.ipynb\n",
       "<span style=\"font-weight: bold\">[</span><span style=\"color: #008000; text-decoration-color: #008000\">'llm'</span>, <span style=\"color: #008000; text-decoration-color: #008000\">'parsing'</span>, <span style=\"color: #008000; text-decoration-color: #008000\">'programming'</span>, <span style=\"color: #008000; text-decoration-color: #008000\">'prompt engineering'</span>, <span style=\"color: #008000; text-decoration-color: #008000\">'web scraping'</span><span style=\"font-weight: bold\">]</span>\n",
       "</pre>\n"
      ],
      "text/plain": [
       "parsing_webpages_with_llm_revisited.ipynb\n",
       "\u001b[1m[\u001b[0m\u001b[32m'llm'\u001b[0m, \u001b[32m'parsing'\u001b[0m, \u001b[32m'programming'\u001b[0m, \u001b[32m'prompt engineering'\u001b[0m, \u001b[32m'web scraping'\u001b[0m\u001b[1m]\u001b[0m\n"
      ]
     },
     "metadata": {},
     "output_type": "display_data"
    },
    {
     "data": {
      "text/html": [
       "<pre style=\"white-space:pre;overflow-x:auto;line-height:normal;font-family:Menlo,'DejaVu Sans Mono',consolas,'Courier New',monospace\">plots_with_hyperlinks.ipynb\n",
       "<span style=\"font-weight: bold\">[</span><span style=\"color: #008000; text-decoration-color: #008000\">'programming'</span>, <span style=\"color: #008000; text-decoration-color: #008000\">'visualization'</span><span style=\"font-weight: bold\">]</span>\n",
       "</pre>\n"
      ],
      "text/plain": [
       "plots_with_hyperlinks.ipynb\n",
       "\u001b[1m[\u001b[0m\u001b[32m'programming'\u001b[0m, \u001b[32m'visualization'\u001b[0m\u001b[1m]\u001b[0m\n"
      ]
     },
     "metadata": {},
     "output_type": "display_data"
    },
    {
     "data": {
      "text/html": [
       "<pre style=\"white-space:pre;overflow-x:auto;line-height:normal;font-family:Menlo,'DejaVu Sans Mono',consolas,'Courier New',monospace\">ratio bias.ipynb\n",
       "<span style=\"font-weight: bold\">[</span><span style=\"color: #008000; text-decoration-color: #008000\">'data analysis'</span>, <span style=\"color: #008000; text-decoration-color: #008000\">'statistics'</span>, <span style=\"color: #008000; text-decoration-color: #008000\">'visualization'</span><span style=\"font-weight: bold\">]</span>\n",
       "</pre>\n"
      ],
      "text/plain": [
       "ratio bias.ipynb\n",
       "\u001b[1m[\u001b[0m\u001b[32m'data analysis'\u001b[0m, \u001b[32m'statistics'\u001b[0m, \u001b[32m'visualization'\u001b[0m\u001b[1m]\u001b[0m\n"
      ]
     },
     "metadata": {},
     "output_type": "display_data"
    },
    {
     "data": {
      "text/html": [
       "<pre style=\"white-space:pre;overflow-x:auto;line-height:normal;font-family:Menlo,'DejaVu Sans Mono',consolas,'Courier New',monospace\">regression.ipynb\n",
       "<span style=\"font-weight: bold\">[</span><span style=\"color: #008000; text-decoration-color: #008000\">'machine learning'</span>, <span style=\"color: #008000; text-decoration-color: #008000\">'neural networks'</span>, <span style=\"color: #008000; text-decoration-color: #008000\">'programming'</span><span style=\"font-weight: bold\">]</span>\n",
       "</pre>\n"
      ],
      "text/plain": [
       "regression.ipynb\n",
       "\u001b[1m[\u001b[0m\u001b[32m'machine learning'\u001b[0m, \u001b[32m'neural networks'\u001b[0m, \u001b[32m'programming'\u001b[0m\u001b[1m]\u001b[0m\n"
      ]
     },
     "metadata": {},
     "output_type": "display_data"
    },
    {
     "data": {
      "text/html": [
       "<pre style=\"white-space:pre;overflow-x:auto;line-height:normal;font-family:Menlo,'DejaVu Sans Mono',consolas,'Courier New',monospace\">render_latex_to_svg.ipynb\n",
       "<span style=\"font-weight: bold\">[</span><span style=\"color: #008000; text-decoration-color: #008000\">'programming'</span>, <span style=\"color: #008000; text-decoration-color: #008000\">'visualization'</span><span style=\"font-weight: bold\">]</span>\n",
       "</pre>\n"
      ],
      "text/plain": [
       "render_latex_to_svg.ipynb\n",
       "\u001b[1m[\u001b[0m\u001b[32m'programming'\u001b[0m, \u001b[32m'visualization'\u001b[0m\u001b[1m]\u001b[0m\n"
      ]
     },
     "metadata": {},
     "output_type": "display_data"
    },
    {
     "data": {
      "text/html": [
       "<pre style=\"white-space:pre;overflow-x:auto;line-height:normal;font-family:Menlo,'DejaVu Sans Mono',consolas,'Courier New',monospace\">resample and numba.ipynb\n",
       "<span style=\"font-weight: bold\">[</span><span style=\"color: #008000; text-decoration-color: #008000\">'high performance computing'</span>, <span style=\"color: #008000; text-decoration-color: #008000\">'programming'</span>, <span style=\"color: #008000; text-decoration-color: #008000\">'statistics'</span>, <span style=\"color: #008000; text-decoration-color: #008000\">'visualization'</span><span style=\"font-weight: bold\">]</span>\n",
       "</pre>\n"
      ],
      "text/plain": [
       "resample and numba.ipynb\n",
       "\u001b[1m[\u001b[0m\u001b[32m'high performance computing'\u001b[0m, \u001b[32m'programming'\u001b[0m, \u001b[32m'statistics'\u001b[0m, \u001b[32m'visualization'\u001b[0m\u001b[1m]\u001b[0m\n"
      ]
     },
     "metadata": {},
     "output_type": "display_data"
    },
    {
     "data": {
      "text/html": [
       "<pre style=\"white-space:pre;overflow-x:auto;line-height:normal;font-family:Menlo,'DejaVu Sans Mono',consolas,'Courier New',monospace\">RooFit.ipynb\n",
       "<span style=\"font-weight: bold\">[</span><span style=\"color: #008000; text-decoration-color: #008000\">'physics'</span>, <span style=\"color: #008000; text-decoration-color: #008000\">'programming'</span>, <span style=\"color: #008000; text-decoration-color: #008000\">'simulation'</span>, <span style=\"color: #008000; text-decoration-color: #008000\">'statistics'</span><span style=\"font-weight: bold\">]</span>\n",
       "</pre>\n"
      ],
      "text/plain": [
       "RooFit.ipynb\n",
       "\u001b[1m[\u001b[0m\u001b[32m'physics'\u001b[0m, \u001b[32m'programming'\u001b[0m, \u001b[32m'simulation'\u001b[0m, \u001b[32m'statistics'\u001b[0m\u001b[1m]\u001b[0m\n"
      ]
     },
     "metadata": {},
     "output_type": "display_data"
    },
    {
     "data": {
      "text/html": [
       "<pre style=\"white-space:pre;overflow-x:auto;line-height:normal;font-family:Menlo,'DejaVu Sans Mono',consolas,'Courier New',monospace\">Simple parallelization in Jupyter Notebooks.ipynb\n",
       "<span style=\"font-weight: bold\">[</span><span style=\"color: #008000; text-decoration-color: #008000\">'high performance computing'</span>, <span style=\"color: #008000; text-decoration-color: #008000\">'programming'</span><span style=\"font-weight: bold\">]</span>\n",
       "</pre>\n"
      ],
      "text/plain": [
       "Simple parallelization in Jupyter Notebooks.ipynb\n",
       "\u001b[1m[\u001b[0m\u001b[32m'high performance computing'\u001b[0m, \u001b[32m'programming'\u001b[0m\u001b[1m]\u001b[0m\n"
      ]
     },
     "metadata": {},
     "output_type": "display_data"
    },
    {
     "data": {
      "text/html": [
       "<pre style=\"white-space:pre;overflow-x:auto;line-height:normal;font-family:Menlo,'DejaVu Sans Mono',consolas,'Courier New',monospace\">Sleep mode power consumption.ipynb\n",
       "<span style=\"font-weight: bold\">[</span><span style=\"color: #008000; text-decoration-color: #008000\">'data analysis'</span>, <span style=\"color: #008000; text-decoration-color: #008000\">'environment'</span><span style=\"font-weight: bold\">]</span>\n",
       "</pre>\n"
      ],
      "text/plain": [
       "Sleep mode power consumption.ipynb\n",
       "\u001b[1m[\u001b[0m\u001b[32m'data analysis'\u001b[0m, \u001b[32m'environment'\u001b[0m\u001b[1m]\u001b[0m\n"
      ]
     },
     "metadata": {},
     "output_type": "display_data"
    },
    {
     "data": {
      "text/html": [
       "<pre style=\"white-space:pre;overflow-x:auto;line-height:normal;font-family:Menlo,'DejaVu Sans Mono',consolas,'Courier New',monospace\">SPD with negative weights.ipynb\n",
       "<span style=\"font-weight: bold\">[</span><span style=\"color: #008000; text-decoration-color: #008000\">'bootstrap'</span>, <span style=\"color: #008000; text-decoration-color: #008000\">'programming'</span>, <span style=\"color: #008000; text-decoration-color: #008000\">'simulation'</span>, <span style=\"color: #008000; text-decoration-color: #008000\">'statistics'</span>, <span style=\"color: #008000; text-decoration-color: #008000\">'uncertainty analysis'</span><span style=\"font-weight: bold\">]</span>\n",
       "</pre>\n"
      ],
      "text/plain": [
       "SPD with negative weights.ipynb\n",
       "\u001b[1m[\u001b[0m\u001b[32m'bootstrap'\u001b[0m, \u001b[32m'programming'\u001b[0m, \u001b[32m'simulation'\u001b[0m, \u001b[32m'statistics'\u001b[0m, \u001b[32m'uncertainty analysis'\u001b[0m\u001b[1m]\u001b[0m\n"
      ]
     },
     "metadata": {},
     "output_type": "display_data"
    },
    {
     "data": {
      "text/html": [
       "<pre style=\"white-space:pre;overflow-x:auto;line-height:normal;font-family:Menlo,'DejaVu Sans Mono',consolas,'Courier New',monospace\">struct_of_arrays_vs_arrays_of_structs.ipynb\n",
       "<span style=\"font-weight: bold\">[</span><span style=\"color: #008000; text-decoration-color: #008000\">'high performance computing'</span>, <span style=\"color: #008000; text-decoration-color: #008000\">'programming'</span><span style=\"font-weight: bold\">]</span>\n",
       "</pre>\n"
      ],
      "text/plain": [
       "struct_of_arrays_vs_arrays_of_structs.ipynb\n",
       "\u001b[1m[\u001b[0m\u001b[32m'high performance computing'\u001b[0m, \u001b[32m'programming'\u001b[0m\u001b[1m]\u001b[0m\n"
      ]
     },
     "metadata": {},
     "output_type": "display_data"
    },
    {
     "data": {
      "text/html": [
       "<pre style=\"white-space:pre;overflow-x:auto;line-height:normal;font-family:Menlo,'DejaVu Sans Mono',consolas,'Courier New',monospace\">template_with_distortion.ipynb\n",
       "<span style=\"font-weight: bold\">[</span><span style=\"color: #008000; text-decoration-color: #008000\">'bootstrap'</span>, <span style=\"color: #008000; text-decoration-color: #008000\">'programming'</span>, <span style=\"color: #008000; text-decoration-color: #008000\">'simulation'</span>, <span style=\"color: #008000; text-decoration-color: #008000\">'statistics'</span>, <span style=\"color: #008000; text-decoration-color: #008000\">'uncertainty analysis'</span>, <span style=\"color: #008000; text-decoration-color: #008000\">'visualization'</span><span style=\"font-weight: bold\">]</span>\n",
       "</pre>\n"
      ],
      "text/plain": [
       "template_with_distortion.ipynb\n",
       "\u001b[1m[\u001b[0m\u001b[32m'bootstrap'\u001b[0m, \u001b[32m'programming'\u001b[0m, \u001b[32m'simulation'\u001b[0m, \u001b[32m'statistics'\u001b[0m, \u001b[32m'uncertainty analysis'\u001b[0m, \u001b[32m'visualization'\u001b[0m\u001b[1m]\u001b[0m\n"
      ]
     },
     "metadata": {},
     "output_type": "display_data"
    },
    {
     "data": {
      "text/html": [
       "<pre style=\"white-space:pre;overflow-x:auto;line-height:normal;font-family:Menlo,'DejaVu Sans Mono',consolas,'Courier New',monospace\">tracking_efficiency.ipynb\n",
       "<span style=\"font-weight: bold\">[</span><span style=\"color: #008000; text-decoration-color: #008000\">'physics'</span>, <span style=\"color: #008000; text-decoration-color: #008000\">'programming'</span>, <span style=\"color: #008000; text-decoration-color: #008000\">'statistics'</span>, <span style=\"color: #008000; text-decoration-color: #008000\">'uncertainty analysis'</span><span style=\"font-weight: bold\">]</span>\n",
       "</pre>\n"
      ],
      "text/plain": [
       "tracking_efficiency.ipynb\n",
       "\u001b[1m[\u001b[0m\u001b[32m'physics'\u001b[0m, \u001b[32m'programming'\u001b[0m, \u001b[32m'statistics'\u001b[0m, \u001b[32m'uncertainty analysis'\u001b[0m\u001b[1m]\u001b[0m\n"
      ]
     },
     "metadata": {},
     "output_type": "display_data"
    },
    {
     "data": {
      "text/html": [
       "<pre style=\"white-space:pre;overflow-x:auto;line-height:normal;font-family:Menlo,'DejaVu Sans Mono',consolas,'Courier New',monospace\">UnbiasedEML.ipynb\n",
       "<span style=\"font-weight: bold\">[</span><span style=\"color: #008000; text-decoration-color: #008000\">'science'</span>, <span style=\"color: #008000; text-decoration-color: #008000\">'simulation'</span>, <span style=\"color: #008000; text-decoration-color: #008000\">'statistics'</span>, <span style=\"color: #008000; text-decoration-color: #008000\">'symbolic computation'</span><span style=\"font-weight: bold\">]</span>\n",
       "</pre>\n"
      ],
      "text/plain": [
       "UnbiasedEML.ipynb\n",
       "\u001b[1m[\u001b[0m\u001b[32m'science'\u001b[0m, \u001b[32m'simulation'\u001b[0m, \u001b[32m'statistics'\u001b[0m, \u001b[32m'symbolic computation'\u001b[0m\u001b[1m]\u001b[0m\n"
      ]
     },
     "metadata": {},
     "output_type": "display_data"
    },
    {
     "data": {
      "text/html": [
       "<pre style=\"white-space:pre;overflow-x:auto;line-height:normal;font-family:Menlo,'DejaVu Sans Mono',consolas,'Courier New',monospace\">Uncertainty of efficiency computed from fitted yields.ipynb\n",
       "<span style=\"font-weight: bold\">[</span><span style=\"color: #008000; text-decoration-color: #008000\">'data analysis'</span>, <span style=\"color: #008000; text-decoration-color: #008000\">'simulation'</span>, <span style=\"color: #008000; text-decoration-color: #008000\">'statistics'</span>, <span style=\"color: #008000; text-decoration-color: #008000\">'symbolic computation'</span>, <span style=\"color: #008000; text-decoration-color: #008000\">'uncertainty analysis'</span>, <span style=\"color: #008000; text-decoration-color: #008000\">'visualization'</span><span style=\"font-weight: bold\">]</span>\n",
       "</pre>\n"
      ],
      "text/plain": [
       "Uncertainty of efficiency computed from fitted yields.ipynb\n",
       "\u001b[1m[\u001b[0m\u001b[32m'data analysis'\u001b[0m, \u001b[32m'simulation'\u001b[0m, \u001b[32m'statistics'\u001b[0m, \u001b[32m'symbolic computation'\u001b[0m, \u001b[32m'uncertainty analysis'\u001b[0m, \u001b[32m'visualization'\u001b[0m\u001b[1m]\u001b[0m\n"
      ]
     },
     "metadata": {},
     "output_type": "display_data"
    },
    {
     "data": {
      "text/html": [
       "<pre style=\"white-space:pre;overflow-x:auto;line-height:normal;font-family:Menlo,'DejaVu Sans Mono',consolas,'Courier New',monospace\">visual_cross_section.ipynb\n",
       "<span style=\"font-weight: bold\">[</span><span style=\"color: #008000; text-decoration-color: #008000\">'physics'</span>, <span style=\"color: #008000; text-decoration-color: #008000\">'programming'</span>, <span style=\"color: #008000; text-decoration-color: #008000\">'simulation'</span><span style=\"font-weight: bold\">]</span>\n",
       "</pre>\n"
      ],
      "text/plain": [
       "visual_cross_section.ipynb\n",
       "\u001b[1m[\u001b[0m\u001b[32m'physics'\u001b[0m, \u001b[32m'programming'\u001b[0m, \u001b[32m'simulation'\u001b[0m\u001b[1m]\u001b[0m\n"
      ]
     },
     "metadata": {},
     "output_type": "display_data"
    },
    {
     "data": {
      "text/html": [
       "<pre style=\"white-space:pre;overflow-x:auto;line-height:normal;font-family:Menlo,'DejaVu Sans Mono',consolas,'Courier New',monospace\">Wilson Score Interval with Weighted Histograms.ipynb\n",
       "<span style=\"font-weight: bold\">[</span><span style=\"color: #008000; text-decoration-color: #008000\">'bootstrap'</span>, <span style=\"color: #008000; text-decoration-color: #008000\">'data analysis'</span>, <span style=\"color: #008000; text-decoration-color: #008000\">'simulation'</span>, <span style=\"color: #008000; text-decoration-color: #008000\">'statistics'</span><span style=\"font-weight: bold\">]</span>\n",
       "</pre>\n"
      ],
      "text/plain": [
       "Wilson Score Interval with Weighted Histograms.ipynb\n",
       "\u001b[1m[\u001b[0m\u001b[32m'bootstrap'\u001b[0m, \u001b[32m'data analysis'\u001b[0m, \u001b[32m'simulation'\u001b[0m, \u001b[32m'statistics'\u001b[0m\u001b[1m]\u001b[0m\n"
      ]
     },
     "metadata": {},
     "output_type": "display_data"
    }
   ],
   "source": [
    "from pathlib import Path\n",
    "from pydantic_ai import Agent, ModelSettings, capture_run_messages\n",
    "from pydantic_ai.providers.openai import OpenAIProvider\n",
    "from pydantic_ai.models.openai import OpenAIChatModel\n",
    "from rich import print\n",
    "import json\n",
    "import nbformat\n",
    "from typing import Literal\n",
    "\n",
    "\n",
    "model = OpenAIChatModel(\n",
    "    \"\",\n",
    "    provider=OpenAIProvider(\n",
    "        base_url=\"http://localhost:8080/v1\",\n",
    "    ),\n",
    "    settings=ModelSettings(temperature=0.5, max_tokens=1000),\n",
    ")\n",
    "\n",
    "valid_tags_raw = \"\"\"\n",
    "physics: Post is related to physics, especially particle physics.\n",
    "science: Post is about science other than physics.\n",
    "programming: The post is primarily about programming, discussing language features or libraries.\n",
    "high performance computing: Post is about running software efficiently and fast, typically dealing with benchmarks.\n",
    "statistics: Post is related to statistics.\n",
    "llm: Post is related to LLMs (Large Language Models) or uses LLMs, for example through agents.\n",
    "philosophy: Post touches philosophy. \n",
    "engineering: Post is about engineering.\n",
    "opinion: Post expresses opinions.\n",
    "data analysis: Post is about data analysis.\n",
    "visualization: Post is primarily about data visualization.\n",
    "graphical design: Post is about graphical design.\n",
    "parsing: Post deals with parsing input.\n",
    "bootstrap: Post is about the bootstrap method in statistics.\n",
    "uncertainty analysis: Post is about the statistical problems of error estimation, confidence interval estimation, or error propagation.\n",
    "sWeights: Posts about sWeights or COWs (custom orthogonal weight functions).\n",
    "symbolic computation: Post is about symbolic computation, e.g. with sympy.\n",
    "simulation: Post is about simulation of statistical or other processes.\n",
    "neural networks: Post is about (deep) neural networks.\n",
    "machine learning: Post is about machine learning other than with neural networks.\n",
    "prompt engineering: Post is about prompt engineering.\n",
    "web scraping: Post is about web scraping.\n",
    "environment: Post is about energy consumption and other topics that affect Earth's environment.\n",
    "\"\"\"\n",
    "\n",
    "valid_tags = {\n",
    "    v[0]: v[1] for v in (v.split(\":\") for v in valid_tags_raw.strip().split(\"\\n\"))\n",
    "}\n",
    "\n",
    "\n",
    "AllowedTags = Literal[*valid_tags]\n",
    "\n",
    "\n",
    "tag_agent = Agent(\n",
    "    model,\n",
    "    output_type=list[AllowedTags],\n",
    "    system_prompt=\"Extract broad tags that match the provided post.\",\n",
    "    instructions=f\"\"\"\n",
    "Respond with a list of all tags that match the post.\n",
    "\n",
    "All valid tags:\n",
    "\n",
    "{\"- \".join(f\"{k}: {v}\" for (k, v) in valid_tags.items())}\n",
    "\n",
    "You must use one of these tags, you cannot invent new ones.\n",
    "\"\"\",\n",
    ")\n",
    "\n",
    "\n",
    "fn_tag_db = Path(\"../tag_db.json\")\n",
    "\n",
    "if fn_tag_db.exists():\n",
    "    with fn_tag_db.open(encoding=\"utf-8\") as f:\n",
    "        tag_db = json.load(f)\n",
    "else:\n",
    "    tag_db = {}\n",
    "\n",
    "input_files = [Path(fn) for fn in Path().rglob(\"*.*\")]\n",
    "\n",
    "for fn in input_files:\n",
    "    if fn.suffix not in (\".ipynb\", \".md\"):\n",
    "        continue\n",
    "\n",
    "    # skip files that have been processed already\n",
    "    if fn.name in tag_db:\n",
    "        continue\n",
    "\n",
    "    with open(fn, encoding=\"utf-8\") as f:\n",
    "        if fn.suffix == \".ipynb\":\n",
    "            # We clean the notebook before passing it to the LLM\n",
    "            nb = nbformat.read(f, as_version=4)\n",
    "            nb.metadata = {}\n",
    "            for cell in nb.cells:\n",
    "                if cell.cell_type == \"code\":\n",
    "                    cell.outputs = []\n",
    "                    cell.execution_count = None\n",
    "                    cell.metadata = {}\n",
    "            doc = nbformat.writes(nb)\n",
    "        elif fn.suffix == \".md\":\n",
    "            doc = f.read()\n",
    "\n",
    "    tag_input = f\"{fn!s}:\\n\\n{doc}\"\n",
    "\n",
    "    tags = set()\n",
    "    for _ in range(3):\n",
    "        # To get a more complete set of tags, we iterate the call.\n",
    "        with capture_run_messages() as messages:\n",
    "            try:\n",
    "                result = await tag_agent.run(tag_input)\n",
    "                tags |= set(result.output)\n",
    "            except Exception as e:\n",
    "                print(e)\n",
    "                # If there is an error (typically a schema validation error),\n",
    "                # print the messages for debugging.\n",
    "                print(messages)\n",
    "                break\n",
    "    print(fn.name, tags)\n",
    "    # A sorted list is easier to diff if we update tags.\n",
    "    tag_db[fn.name] = list(sorted(tags))\n",
    "\n",
    "    # save after every change, in case something breaks\n",
    "    with fn_tag_db.open(\"w\", encoding=\"utf-8\") as f:\n",
    "        json.dump(tag_db, f, indent=2)"
   ]
  },
  {
   "cell_type": "code",
   "execution_count": null,
   "id": "4394ce23",
   "metadata": {},
   "outputs": [],
   "source": []
  }
 ],
 "metadata": {
  "kernelspec": {
   "display_name": "blog",
   "language": "python",
   "name": "python3"
  },
  "language_info": {
   "codemirror_mode": {
    "name": "ipython",
    "version": 3
   },
   "file_extension": ".py",
   "mimetype": "text/x-python",
   "name": "python",
   "nbconvert_exporter": "python",
   "pygments_lexer": "ipython3",
   "version": "3.12.8"
  }
 },
 "nbformat": 4,
 "nbformat_minor": 5
}
