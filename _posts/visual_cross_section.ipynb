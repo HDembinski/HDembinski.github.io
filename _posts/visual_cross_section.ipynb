{
 "cells": [
  {
   "attachments": {},
   "cell_type": "markdown",
   "metadata": {},
   "source": [
    "# Visual cross-section for particle production\n",
    "\n",
    "When you look for a somewhat rare decay, you want to know how much luminosity is required to see N decays in your detector. For this one needs to compute the visual cross-section, this is the part of the production cross-section for the particle for which the decay products all fall into the acceptance of the detector.\n",
    "\n",
    "We compute the visual cross-section here for the decay of Omega and Xi with chromo. We then go on and compute the expected rate of interactions for running LHCb in fixed-target mode."
   ]
  },
  {
   "attachments": {},
   "cell_type": "markdown",
   "metadata": {},
   "source": [
    "## Visual cross-section"
   ]
  },
  {
   "attachments": {},
   "cell_type": "markdown",
   "metadata": {},
   "source": [
    "We compute the inelastic cross-section for p-He collisions in fixed-target configuration where the proton has 13 TeV with chromo."
   ]
  },
  {
   "cell_type": "code",
   "execution_count": 15,
   "metadata": {},
   "outputs": [],
   "source": [
    "from chromo.models import Pythia8, EposLHC\n",
    "from chromo.kinematics import FixedTarget, TeV, GeV\n",
    "import numpy as np\n",
    "from particle import literals as lp\n",
    "from chromo.util import pdg2name\n",
    "from rich.progress import track"
   ]
  },
  {
   "cell_type": "code",
   "execution_count": 6,
   "metadata": {},
   "outputs": [
    {
     "name": "stdout",
     "output_type": "stream",
     "text": [
      "\n",
      " *------------------------------------------------------------------------------------* \n",
      " |                                                                                    | \n",
      " |  *------------------------------------------------------------------------------*  | \n",
      " |  |                                                                              |  | \n",
      " |  |                                                                              |  | \n",
      " |  |   PPP   Y   Y  TTTTT  H   H  III    A      Welcome to the Lund Monte Carlo!  |  | \n",
      " |  |   P  P   Y Y     T    H   H   I    A A     This is PYTHIA version 8.308      |  | \n",
      " |  |   PPP     Y      T    HHHHH   I   AAAAA    Last date of change: 16 Nov 2022  |  | \n",
      " |  |   P       Y      T    H   H   I   A   A                                      |  | \n",
      " |  |   P       Y      T    H   H  III  A   A    Now is 31 Mar 2023 at 15:19:42    |  | \n",
      " |  |                                                                              |  | \n",
      " |  |   Program documentation and an archive of historic versions is found on:     |  | \n",
      " |  |                                                                              |  | \n",
      " |  |                               https://pythia.org/                            |  | \n",
      " |  |                                                                              |  | \n",
      " |  |   PYTHIA is authored by a collaboration consisting of:                       |  | \n",
      " |  |                                                                              |  | \n",
      " |  |   Christian Bierlich, Nishita Desai, Leif Gellersen, Ilkka Helenius, Philip  |  | \n",
      " |  |   Ilten, Leif Lonnblad, Stephen Mrenna, Stefan Prestel, Christian Preuss,    |  | \n",
      " |  |   Torbjorn Sjostrand, Peter Skands, Marius Utheim and Rob Verheyen.          |  | \n",
      " |  |                                                                              |  | \n",
      " |  |   The complete list of authors, including contact information and            |  | \n",
      " |  |   affiliations, can be found on https://pythia.org/.                         |  | \n",
      " |  |   Problems or bugs should be reported on email at authors@pythia.org.        |  | \n",
      " |  |                                                                              |  | \n",
      " |  |   The main program reference is C. Bierlich et al,                           |  | \n",
      " |  |   'A comprehensive guide to the physics and usage of Pythia 8.3',            |  | \n",
      " |  |   SciPost Phys. Codebases 8-r8.3 (2022) [arXiv:2203.11601 [hep-ph]]          |  | \n",
      " |  |                                                                              |  | \n",
      " |  |   PYTHIA is released under the GNU General Public Licence version 2 or later.|  | \n",
      " |  |   Please respect the MCnet Guidelines for Event Generator Authors and Users. |  | \n",
      " |  |                                                                              |  | \n",
      " |  |   Disclaimer: this program comes without any guarantees.                     |  | \n",
      " |  |   Beware of errors and use common sense when interpreting results.           |  | \n",
      " |  |                                                                              |  | \n",
      " |  |   Copyright (C) 2022 Torbjorn Sjostrand                                      |  | \n",
      " |  |                                                                              |  | \n",
      " |  |                                                                              |  | \n",
      " |  *------------------------------------------------------------------------------*  | \n",
      " |                                                                                    | \n",
      " *------------------------------------------------------------------------------------* \n",
      "\n"
     ]
    }
   ],
   "source": [
    "kin = FixedTarget(13*TeV, \"p\", \"p\")\n",
    "\n",
    "# epos = EposLHC(kin)\n",
    "gen = Pythia8(kin, seed=1)\n",
    "cs = gen.cross_section()"
   ]
  },
  {
   "cell_type": "code",
   "execution_count": 7,
   "metadata": {},
   "outputs": [
    {
     "data": {
      "text/plain": [
       "40.543016683445494"
      ]
     },
     "execution_count": 7,
     "metadata": {},
     "output_type": "execute_result"
    }
   ],
   "source": [
    "cs.inelastic"
   ]
  },
  {
   "attachments": {},
   "cell_type": "markdown",
   "metadata": {},
   "source": [
    "Now we compute which fraction of inelastic events produce the following decays so that all charged final state decay products are in the LHCb acceptance, given by $p > 2$ GeV/c and $2 < \\eta < 5$.\n",
    "$$\n",
    "\\Xi^- \\to \\Lambda \\pi^- \\; (99.887\\,\\%)\n",
    "$$\n",
    "$$\n",
    "\\Omega^- \\to \\Lambda K^- \\; (67.8\\,\\%)\n",
    "$$\n",
    "We don't need to take special care of the branching fractions. We get these reduction factors automatically if we select the specific decay we are interested in from the generator output."
   ]
  },
  {
   "cell_type": "code",
   "execution_count": 8,
   "metadata": {},
   "outputs": [],
   "source": [
    "apid_xi = abs(lp.Xi_minus.pdgid)\n",
    "apid_omega = abs(lp.Omega_minus.pdgid)\n",
    "apid_lambda = abs(lp.Lambda.pdgid)\n",
    "apid_pi = abs(lp.pi_plus.pdgid)\n",
    "apid_proton = abs(lp.proton.pdgid)\n",
    "apid_K = abs(lp.K_plus.pdgid)\n",
    "\n",
    "gen.set_stable(apid_xi, False)\n",
    "gen.set_stable(-apid_xi, False)\n",
    "gen.set_stable(apid_omega, False)\n",
    "gen.set_stable(-apid_omega, False)\n",
    "gen.set_stable(apid_lambda, False)\n",
    "gen.set_stable(-apid_lambda, False)"
   ]
  },
  {
   "cell_type": "code",
   "execution_count": 18,
   "metadata": {},
   "outputs": [
    {
     "data": {
      "application/vnd.jupyter.widget-view+json": {
       "model_id": "2ee152708f7841fdb45c4ae7440bda16",
       "version_major": 2,
       "version_minor": 0
      },
      "text/plain": [
       "Output()"
      ]
     },
     "metadata": {},
     "output_type": "display_data"
    },
    {
     "data": {
      "text/html": [
       "<pre style=\"white-space:pre;overflow-x:auto;line-height:normal;font-family:Menlo,'DejaVu Sans Mono',consolas,'Courier New',monospace\"></pre>\n"
      ],
      "text/plain": []
     },
     "metadata": {},
     "output_type": "display_data"
    },
    {
     "data": {
      "text/html": [
       "<pre style=\"white-space:pre;overflow-x:auto;line-height:normal;font-family:Menlo,'DejaVu Sans Mono',consolas,'Courier New',monospace\">\n",
       "</pre>\n"
      ],
      "text/plain": [
       "\n"
      ]
     },
     "metadata": {},
     "output_type": "display_data"
    },
    {
     "name": "stdout",
     "output_type": "stream",
     "text": [
      "{'Xi': 122, 'Omega': 3} out of 100000\n"
     ]
    }
   ],
   "source": [
    "def is_visible_decay(ptot, eta, apid, children, par, apid1, apid2):\n",
    "    ch = children[par]\n",
    "    if len(ch) != 2:\n",
    "        return False\n",
    "    for i in ch:\n",
    "        if apid[i] != apid1 and apid[i] != apid2:\n",
    "            return False\n",
    "        if apid[i] == apid_lambda:\n",
    "            if not is_visible_decay(ptot, eta, apid, children, i, apid_proton, apid_pi):\n",
    "                return False\n",
    "        if ptot[i] < 2*GeV or eta[i] < 2 or eta[i] > 5:\n",
    "            return False\n",
    "    return True\n",
    "\n",
    "n_inel = 100000\n",
    "n_decays = {\"Xi\": 0, \"Omega\": 0}\n",
    "for event in track(gen(n_inel), total=n_inel):\n",
    "    apid = np.abs(event.pid)\n",
    "    mask_xi = apid == apid_xi\n",
    "    mask_omega = apid == apid_omega\n",
    "\n",
    "    if np.any(mask_xi | mask_omega):\n",
    "        # collect children of each parent\n",
    "        children = {}\n",
    "        for i, par in enumerate(event.parents):\n",
    "            if par[0] == 0:\n",
    "                continue\n",
    "            children.setdefault(par[0] - 1, []).append(i)\n",
    "\n",
    "        ptot = event.p_tot\n",
    "        eta = event.eta\n",
    "\n",
    "        # investigate Xi decays\n",
    "        for par in np.arange(len(mask_xi))[mask_xi]:\n",
    "            if is_visible_decay(ptot, eta, apid, children, par, apid_lambda, apid_pi):\n",
    "                n_decays[\"Xi\"] += 1\n",
    "\n",
    "        # investigate Omega decays\n",
    "        for par in np.arange(len(mask_omega))[mask_omega]:\n",
    "            if is_visible_decay(ptot, eta, apid, children, par, apid_lambda, apid_K):\n",
    "                n_decays[\"Omega\"] += 1\n",
    "\n",
    "print(n_decays, \"out of\", n_inel)"
   ]
  },
  {
   "cell_type": "code",
   "execution_count": 19,
   "metadata": {},
   "outputs": [
    {
     "name": "stdout",
     "output_type": "stream",
     "text": [
      "visible cross-section\n",
      "Xi         0.0495 mb\n",
      "Omega      0.0012 mb\n"
     ]
    }
   ],
   "source": [
    "sigma_vis = {k: v / n_inel * cs.inelastic for k, v in n_decays.items()}\n",
    "\n",
    "print(\"visible cross-section\")\n",
    "for k, s in sigma_vis.items():\n",
    "    print(f\"{k:10} {s:.4f} mb\")"
   ]
  },
  {
   "attachments": {},
   "cell_type": "markdown",
   "metadata": {},
   "source": [
    "## LHCb in fixed-target mode\n",
    "\n",
    "LHCb in fixed-target mode uses a gas target. We compute the event rate for the SMOG 1 configuration where the gas is injected directly into the LHCb Vertex Locator (VELO).\n",
    "\n",
    "The average number of interactions per bunch crossing is\n",
    "$$\n",
    "\\mu = \\sigma L N p \\frac{N_A}{22400}\n",
    "$$\n",
    "where $L = 60$ cm is the length of the detection region in the VELO, $N=10^{11}$ is the proton bunch population in Run 2, $p$ is gas pressure in bar, and $N_A$ is Avogadro's constant."
   ]
  },
  {
   "cell_type": "code",
   "execution_count": 41,
   "metadata": {},
   "outputs": [],
   "source": [
    "m = 1\n",
    "b = 1e-28 * m ** 2\n",
    "mb = 1e-3 * b\n",
    "cm = 1e-2 * m\n",
    "Pa = 1\n",
    "bar = 1e5 * Pa\n",
    "K = 1\n",
    "kb = 1.380649e-23  # Boltzmann constant in J/K"
   ]
  },
  {
   "cell_type": "code",
   "execution_count": 60,
   "metadata": {},
   "outputs": [
    {
     "data": {
      "text/plain": [
       "0.0031837233037538114"
      ]
     },
     "execution_count": 60,
     "metadata": {},
     "output_type": "execute_result"
    }
   ],
   "source": [
    "# cylinder volume in which a single proton would interact on average\n",
    "cross_section = 200 * mb\n",
    "detection_region_length = 60 * cm\n",
    "volume = cross_section * detection_region_length\n",
    "\n",
    "# number of collisions given by number of gas molecules per volume: \n",
    "# pV = N k T -> N = p V / k T\n",
    "p = 1e-10 * bar\n",
    "T = 273 * K\n",
    "n_collisions_per_proton = volume * p / (kb * T)\n",
    "\n",
    "n_protons_per_bunch = 1e11\n",
    "n_collisions = n_protons_per_bunch * n_collisions_per_proton\n",
    "n_collisions"
   ]
  },
  {
   "cell_type": "code",
   "execution_count": 40,
   "metadata": {},
   "outputs": [],
   "source": [
    "#  Helium injection, 24/11/2022, target pressure on the VELO 1.2E-8mbar\n",
    "p = 1.2e-8 * 1e-3"
   ]
  },
  {
   "cell_type": "code",
   "execution_count": null,
   "metadata": {},
   "outputs": [],
   "source": []
  }
 ],
 "metadata": {
  "kernelspec": {
   "display_name": "Python 3",
   "language": "python",
   "name": "python3"
  },
  "language_info": {
   "codemirror_mode": {
    "name": "ipython",
    "version": 3
   },
   "file_extension": ".py",
   "mimetype": "text/x-python",
   "name": "python",
   "nbconvert_exporter": "python",
   "pygments_lexer": "ipython3",
   "version": "3.10.9"
  },
  "orig_nbformat": 4
 },
 "nbformat": 4,
 "nbformat_minor": 2
}
