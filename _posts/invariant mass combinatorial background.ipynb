{
 "cells": [
  {
   "cell_type": "markdown",
   "metadata": {},
   "source": [
    "# Approximate PDF for the invariant mass distribution of combinatorial background\n",
    "\n",
    "We derive an approximate pdf for the invariant mass distribution from combinatorial background. Combinatorial background refers to random pairs of unrelated particles that are combined to compute the invariant mass of the hypothetical ancestor particle.\n",
    "\n",
    "It is known empirically that an exponential distribution often provides a good description of this background. We show here why that is. We work in coordinates where $c=1$.\n",
    "\n",
    "We express the 3-momentum of a particle in $p_T, \\eta, \\phi$ since the probability distributions approximately factorize:\n",
    "\n",
    "$$\n",
    "g(p_T) \\, h_1(\\phi) \\, h_2(\\eta)\n",
    "$$\n",
    "\n",
    "where $h_1(\\phi)$ is a uniform distribution from $-\\pi, \\pi$ and $h_2(\\eta)$ is a somewhat bell-shaped pdf around 0 with a broadened center and with a dip at zero. We will see that the result does not depend on $h_2(\\eta)$ within the limits of the approximation.\n",
    "\n",
    "The distribution $g(p_T)$ is approximately exponential for $p_T \\gg 1\\,\\text{GeV}c^{-1}$. We will assume it is exponential, which is the first approximation.\n",
    "\n",
    "We now express the invariant mass $m$ of the hypothetical ancestor particle in these coordinates."
   ]
  },
  {
   "cell_type": "code",
   "execution_count": 1,
   "metadata": {},
   "outputs": [],
   "source": [
    "from sympy import *"
   ]
  },
  {
   "cell_type": "code",
   "execution_count": 2,
   "metadata": {},
   "outputs": [],
   "source": [
    "def ancestor_mass(pt1, eta1, phi1, pt2, eta2, phi2, m1, m2):\n",
    "    # see e.g. Wikipedia https://en.wikipedia.org/wiki/Pseudorapidity\n",
    "    \n",
    "    px1 = cos(phi1) * pt1\n",
    "    py1 = sin(phi1) * pt1\n",
    "    pz1 = sinh(eta1) * pt1\n",
    "\n",
    "    px2 = cos(phi2) * pt2\n",
    "    py2 = sin(phi2) * pt2\n",
    "    pz2 = sinh(eta2) * pt2\n",
    "\n",
    "    # momentum squared of ancestor\n",
    "    p_sq = (px1 + px2) ** 2 + (py1 + py2) ** 2 + (pz1 + pz2) ** 2\n",
    "    \n",
    "    # momentum squared of particles 1 and 2\n",
    "    p1_sq = px1 ** 2 + py1 ** 2 + pz1 ** 2\n",
    "    p2_sq = px2 ** 2 + py2 ** 2 + pz2 ** 2\n",
    "    \n",
    "    # energies of particles 1 and 2\n",
    "    e1 = sqrt(p1_sq + m1 ** 2)\n",
    "    e2 = sqrt(p2_sq + m2 ** 2)\n",
    "\n",
    "    return sqrt((e1 + e2) ** 2 - p_sq)"
   ]
  },
  {
   "cell_type": "markdown",
   "metadata": {},
   "source": [
    "We use SymPy to transform and simplify the formula for the ancestor mass. First we declare the variables."
   ]
  },
  {
   "cell_type": "code",
   "execution_count": 3,
   "metadata": {},
   "outputs": [],
   "source": [
    "pt1, pt2, m1, m2, lambd, m = symbols(\"p_T_1 p_T_2 m_1 m_2 lambda m\", positive=True, real=True)\n",
    "\n",
    "eta1, eta2, phi1, phi2 = symbols(\"eta_1 eta_2 phi_1 phi_2\", real=True)"
   ]
  },
  {
   "cell_type": "code",
   "execution_count": 4,
   "metadata": {
    "scrolled": true
   },
   "outputs": [
    {
     "data": {
      "text/latex": [
       "$\\displaystyle \\sqrt{- \\left(p_{T 1} \\sin{\\left(\\phi_{1} \\right)} + p_{T 2} \\sin{\\left(\\phi_{2} \\right)}\\right)^{2} - \\left(p_{T 1} \\cos{\\left(\\phi_{1} \\right)} + p_{T 2} \\cos{\\left(\\phi_{2} \\right)}\\right)^{2} - \\left(p_{T 1} \\sinh{\\left(\\eta_{1} \\right)} + p_{T 2} \\sinh{\\left(\\eta_{2} \\right)}\\right)^{2} + \\left(\\sqrt{m_{1}^{2} + p_{T 1}^{2} \\sin^{2}{\\left(\\phi_{1} \\right)} + p_{T 1}^{2} \\cos^{2}{\\left(\\phi_{1} \\right)} + p_{T 1}^{2} \\sinh^{2}{\\left(\\eta_{1} \\right)}} + \\sqrt{m_{2}^{2} + p_{T 2}^{2} \\sin^{2}{\\left(\\phi_{2} \\right)} + p_{T 2}^{2} \\cos^{2}{\\left(\\phi_{2} \\right)} + p_{T 2}^{2} \\sinh^{2}{\\left(\\eta_{2} \\right)}}\\right)^{2}}$"
      ],
      "text/plain": [
       "sqrt(-(p_T_1*sin(phi_1) + p_T_2*sin(phi_2))**2 - (p_T_1*cos(phi_1) + p_T_2*cos(phi_2))**2 - (p_T_1*sinh(eta_1) + p_T_2*sinh(eta_2))**2 + (sqrt(m_1**2 + p_T_1**2*sin(phi_1)**2 + p_T_1**2*cos(phi_1)**2 + p_T_1**2*sinh(eta_1)**2) + sqrt(m_2**2 + p_T_2**2*sin(phi_2)**2 + p_T_2**2*cos(phi_2)**2 + p_T_2**2*sinh(eta_2)**2))**2)"
      ]
     },
     "execution_count": 4,
     "metadata": {},
     "output_type": "execute_result"
    }
   ],
   "source": [
    "ancestor_mass(pt1, eta1, phi1, pt2, eta2, phi2, m1, m2)"
   ]
  },
  {
   "cell_type": "markdown",
   "metadata": {},
   "source": [
    "The raw expression for the ancestor mass is rather complex. We ask SymPy to simplify it."
   ]
  },
  {
   "cell_type": "code",
   "execution_count": 5,
   "metadata": {},
   "outputs": [
    {
     "data": {
      "text/latex": [
       "$\\displaystyle \\sqrt{m_{1}^{2} + m_{2}^{2} - 2 p_{T 1} p_{T 2} \\cos{\\left(\\phi_{1} - \\phi_{2} \\right)} - 2 p_{T 1} p_{T 2} \\sinh{\\left(\\eta_{1} \\right)} \\sinh{\\left(\\eta_{2} \\right)} + 2 \\sqrt{m_{1}^{2} + p_{T 1}^{2} \\cosh^{2}{\\left(\\eta_{1} \\right)}} \\sqrt{m_{2}^{2} + p_{T 2}^{2} \\cosh^{2}{\\left(\\eta_{2} \\right)}}}$"
      ],
      "text/plain": [
       "sqrt(m_1**2 + m_2**2 - 2*p_T_1*p_T_2*cos(phi_1 - phi_2) - 2*p_T_1*p_T_2*sinh(eta_1)*sinh(eta_2) + 2*sqrt(m_1**2 + p_T_1**2*cosh(eta_1)**2)*sqrt(m_2**2 + p_T_2**2*cosh(eta_2)**2))"
      ]
     },
     "execution_count": 5,
     "metadata": {},
     "output_type": "execute_result"
    }
   ],
   "source": [
    "m_expr = ancestor_mass(pt1, eta1, phi1, pt2, eta2, phi2, m1, m2).simplify(); m_expr"
   ]
  },
  {
   "cell_type": "markdown",
   "metadata": {},
   "source": [
    "This looks much better.\n",
    "\n",
    "We now introduce the second approximation. We assume that $m_i \\ll p_{T,i}$, which plays along nicely with the first approximation $p_{T,i} \\gg 1\\,\\text{GeV}c^{-1}$ if the outgoing particles are light. In other words, this approximation can be expected to work well for decays into particles with masses $m_i \\ll 1\\,\\text{GeV}c^{-2}$.\n",
    "\n",
    "We expand the expression to first order in $m_{i}$ in a Taylor series. The first order happens to be zero, so we simply get:"
   ]
  },
  {
   "cell_type": "code",
   "execution_count": 6,
   "metadata": {},
   "outputs": [
    {
     "data": {
      "text/latex": [
       "$\\displaystyle m = \\sqrt{2} \\sqrt{p_{T 1}} \\sqrt{p_{T 2}} \\sqrt{- \\cos{\\left(\\phi_{1} - \\phi_{2} \\right)} + \\cosh{\\left(\\eta_{1} - \\eta_{2} \\right)}}$"
      ],
      "text/plain": [
       "Eq(m, sqrt(2)*sqrt(p_T_1)*sqrt(p_T_2)*sqrt(-cos(phi_1 - phi_2) + cosh(eta_1 - eta_2)))"
      ]
     },
     "execution_count": 6,
     "metadata": {},
     "output_type": "execute_result"
    }
   ],
   "source": [
    "m_approx_expr = m_expr.subs(m1, 0).subs(m2, 0).simplify(); Eq(m, m_approx_expr)"
   ]
  },
  {
   "cell_type": "markdown",
   "metadata": {},
   "source": [
    "To compute the pdf of the ancestor mass $m$, we need to perform a change of variable and then integrate over the remaining coordinates.\n",
    "\n",
    "We first make the change of variables. \n",
    "\n",
    "The old variables are $p_{T,1}, p_{T,2}, \\eta_1, \\eta_2, \\phi_1, \\phi_2$.\n",
    "\n",
    "The new variables are $m, p_{T,2}, \\eta_1, \\eta_2, \\phi_1, \\phi_2$.\n",
    "\n",
    "The pdf in the new variables is\n",
    "\n",
    "$$\n",
    "f'(m, p_{T,2}, \\eta_1, \\eta_2, \\phi_1, \\phi_2) = g(p_{T,1}) \\, g(p_{T,2}) \\, h_1(\\phi_1) \\, h_1(\\phi_2) \\, h_2(\\eta_1) \\, h_2(\\eta_2) \\,\n",
    "\\left|\\frac{\\partial(m, p_{T,2}, \\eta_1, \\eta_2, \\phi_1, \\phi_2)}{\\partial(p_{T,1}, p_{T,2}, \\eta_1, \\eta_2, \\phi_1, \\phi_2)} \\right|^{-1} \\\\\n",
    "f'(m, p_{T,2}, \\eta_1, \\eta_2, \\phi_1, \\phi_2) = g(p_{T,1}(m, p_{T,2}, \\dots)) \\, g(p_{T,2}) \\, h_1(\\phi_1) \\, h_1(\\phi_2) \\, h_2(\\eta_1) \\, h_2(\\eta_2) \\, \\left| \\frac{\\partial m}{\\partial p_{T, 1}} \\right|^{-1}\n",
    "$$"
   ]
  },
  {
   "cell_type": "markdown",
   "metadata": {},
   "source": [
    "We manually express $\\sqrt{p_{T, 1}}$ as a function of $m$, to replace it later. The SymPy solver has trouble doing this, as it tends to break down the $\\cosh$ into exponentials, but we want to keep it intact."
   ]
  },
  {
   "cell_type": "code",
   "execution_count": 7,
   "metadata": {},
   "outputs": [
    {
     "data": {
      "text/latex": [
       "$\\displaystyle \\sqrt{p_{T 1}} = \\frac{\\sqrt{2} m}{2 \\sqrt{p_{T 2}} \\sqrt{- \\cos{\\left(\\phi_{1} - \\phi_{2} \\right)} + \\cosh{\\left(\\eta_{1} - \\eta_{2} \\right)}}}$"
      ],
      "text/plain": [
       "Eq(sqrt(p_T_1), sqrt(2)*m/(2*sqrt(p_T_2)*sqrt(-cos(phi_1 - phi_2) + cosh(eta_1 - eta_2))))"
      ]
     },
     "execution_count": 7,
     "metadata": {},
     "output_type": "execute_result"
    }
   ],
   "source": [
    "sqrt_pt1 = m / m_approx_expr * sqrt(pt1); Eq(sqrt(pt1), sqrt_pt1)"
   ]
  },
  {
   "cell_type": "code",
   "execution_count": 8,
   "metadata": {},
   "outputs": [
    {
     "data": {
      "text/latex": [
       "$\\displaystyle p_{T 1} = \\frac{m^{2}}{2 p_{T 2} \\left(- \\cos{\\left(\\phi_{1} - \\phi_{2} \\right)} + \\cosh{\\left(\\eta_{1} - \\eta_{2} \\right)}\\right)}$"
      ],
      "text/plain": [
       "Eq(p_T_1, m**2/(2*p_T_2*(-cos(phi_1 - phi_2) + cosh(eta_1 - eta_2))))"
      ]
     },
     "execution_count": 8,
     "metadata": {},
     "output_type": "execute_result"
    }
   ],
   "source": [
    "pt1_m = sqrt_pt1 ** 2; Eq(pt1, pt1_m)"
   ]
  },
  {
   "cell_type": "markdown",
   "metadata": {},
   "source": [
    "We compute $\\left| \\frac{\\partial m}{\\partial p_{T, 1}} \\right|^{-1}$ and express it as a function of $m$."
   ]
  },
  {
   "cell_type": "code",
   "execution_count": 9,
   "metadata": {},
   "outputs": [
    {
     "data": {
      "text/latex": [
       "$\\displaystyle \\frac{\\sqrt{2} \\sqrt{p_{T 1}}}{\\sqrt{p_{T 2}} \\sqrt{- \\cos{\\left(\\phi_{1} - \\phi_{2} \\right)} + \\cosh{\\left(\\eta_{1} - \\eta_{2} \\right)}}}$"
      ],
      "text/plain": [
       "sqrt(2)*sqrt(p_T_1)/(sqrt(p_T_2)*sqrt(-cos(phi_1 - phi_2) + cosh(eta_1 - eta_2)))"
      ]
     },
     "execution_count": 9,
     "metadata": {},
     "output_type": "execute_result"
    }
   ],
   "source": [
    "dpt1_dm = 1/diff(m_approx_expr, pt1); dpt1_dm"
   ]
  },
  {
   "cell_type": "code",
   "execution_count": 10,
   "metadata": {},
   "outputs": [
    {
     "data": {
      "text/latex": [
       "$\\displaystyle \\frac{m}{p_{T 2} \\left(- \\cos{\\left(\\phi_{1} - \\phi_{2} \\right)} + \\cosh{\\left(\\eta_{1} - \\eta_{2} \\right)}\\right)}$"
      ],
      "text/plain": [
       "m/(p_T_2*(-cos(phi_1 - phi_2) + cosh(eta_1 - eta_2)))"
      ]
     },
     "execution_count": 10,
     "metadata": {},
     "output_type": "execute_result"
    }
   ],
   "source": [
    "dpt1_dm = dpt1_dm.subs(sqrt(pt1), sqrt_pt1); dpt1_dm"
   ]
  },
  {
   "cell_type": "code",
   "execution_count": 11,
   "metadata": {},
   "outputs": [],
   "source": [
    "# exponential pdf\n",
    "def g(pt):\n",
    "    return lambd * exp(-lambd * pt)"
   ]
  },
  {
   "cell_type": "code",
   "execution_count": 12,
   "metadata": {},
   "outputs": [],
   "source": [
    "# uniform pdf from -pi, pi\n",
    "def h1(phi):\n",
    "    return 1/(2 * pi)"
   ]
  },
  {
   "cell_type": "code",
   "execution_count": 13,
   "metadata": {},
   "outputs": [],
   "source": [
    "# unspecified pdf for eta\n",
    "h2 = Function(\"h2\")"
   ]
  },
  {
   "cell_type": "code",
   "execution_count": 14,
   "metadata": {},
   "outputs": [
    {
     "data": {
      "text/latex": [
       "$\\displaystyle - \\frac{\\lambda^{2} m \\operatorname{h_{2}}{\\left(\\eta_{1} \\right)} \\operatorname{h_{2}}{\\left(\\eta_{2} \\right)} e^{\\lambda \\left(\\frac{m^{2}}{2 p_{T 2} \\left(\\cos{\\left(\\phi_{1} - \\phi_{2} \\right)} - \\cosh{\\left(\\eta_{1} - \\eta_{2} \\right)}\\right)} - p_{T 2}\\right)}}{4 \\pi^{2} p_{T 2} \\left(\\cos{\\left(\\phi_{1} - \\phi_{2} \\right)} - \\cosh{\\left(\\eta_{1} - \\eta_{2} \\right)}\\right)}$"
      ],
      "text/plain": [
       "-lambda**2*m*h2(eta_1)*h2(eta_2)*exp(lambda*(m**2/(2*p_T_2*(cos(phi_1 - phi_2) - cosh(eta_1 - eta_2))) - p_T_2))/(4*pi**2*p_T_2*(cos(phi_1 - phi_2) - cosh(eta_1 - eta_2)))"
      ]
     },
     "execution_count": 14,
     "metadata": {},
     "output_type": "execute_result"
    }
   ],
   "source": [
    "f_prime = simplify(dpt1_dm * g(pt1_m) * g(pt2) * h1(phi1) * h1(phi2) * h2(eta1) * h2(eta2)); f_prime"
   ]
  },
  {
   "cell_type": "markdown",
   "metadata": {},
   "source": [
    "To obtain $f(m)$, we need to integrate $f'$ over $p_{T,2}, \\phi_1, \\phi_2, \\eta_1, \\eta_2$."
   ]
  },
  {
   "cell_type": "code",
   "execution_count": 15,
   "metadata": {},
   "outputs": [
    {
     "data": {
      "text/latex": [
       "$\\displaystyle \\int\\limits_{- \\pi}^{\\pi}\\int\\limits_{- \\pi}^{\\pi}\\int\\limits_{\\eta_{a}}^{\\eta_{b}}\\int\\limits_{\\eta_{a}}^{\\eta_{b}}\\int\\limits_{0}^{\\infty} \\left(- \\frac{\\lambda^{2} m \\operatorname{h_{2}}{\\left(\\eta_{1} \\right)} \\operatorname{h_{2}}{\\left(\\eta_{2} \\right)} e^{\\lambda \\left(\\frac{m^{2}}{2 p_{T 2} \\left(\\cos{\\left(\\phi_{1} - \\phi_{2} \\right)} - \\cosh{\\left(\\eta_{1} - \\eta_{2} \\right)}\\right)} - p_{T 2}\\right)}}{4 \\pi^{2} p_{T 2} \\left(\\cos{\\left(\\phi_{1} - \\phi_{2} \\right)} - \\cosh{\\left(\\eta_{1} - \\eta_{2} \\right)}\\right)}\\right)\\, dp_{T 2}\\, d\\eta_{1}\\, d\\eta_{2}\\, d\\phi_{1}\\, d\\phi_{2}$"
      ],
      "text/plain": [
       "Integral(-lambda**2*m*h2(eta_1)*h2(eta_2)*exp(lambda*(m**2/(2*p_T_2*(cos(phi_1 - phi_2) - cosh(eta_1 - eta_2))) - p_T_2))/(4*pi**2*p_T_2*(cos(phi_1 - phi_2) - cosh(eta_1 - eta_2))), (p_T_2, 0, oo), (eta_1, eta_a, eta_b), (eta_2, eta_a, eta_b), (phi_1, -pi, pi), (phi_2, -pi, pi))"
      ]
     },
     "execution_count": 15,
     "metadata": {},
     "output_type": "execute_result"
    }
   ],
   "source": [
    "Integral(f_prime, \n",
    "         (pt2, 0, oo),\n",
    "         (eta1, \"eta_a\", \"eta_b\"), (eta2, \"eta_a\", \"eta_b\"),\n",
    "         (phi1, -pi, pi), (phi2, -pi, pi))"
   ]
  },
  {
   "cell_type": "markdown",
   "metadata": {},
   "source": [
    "This integral does not look analytically tractable. Since it contains an exponential function, Laplace's method comes to mind as an approximation. To apply it, the function $g(\\vec x)$ in the exponential $e^{M g(\\vec x)}$ must have a global maximum inside the integration bounds. We investigate $g(\\vec x)$ numerically to see whether that is the case."
   ]
  },
  {
   "cell_type": "code",
   "execution_count": 16,
   "metadata": {},
   "outputs": [],
   "source": [
    "def g(x, y, z):\n",
    "    return 1/(x * (np.cos(z) - np.cosh(y) + 1e-100)) - x"
   ]
  },
  {
   "cell_type": "code",
   "execution_count": 17,
   "metadata": {},
   "outputs": [
    {
     "data": {
      "image/png": "[encoded data removed]",
      "text/plain": [
       "<Figure size 1008x288 with 5 Axes>"
      ]
     },
     "metadata": {
      "needs_background": "light"
     },
     "output_type": "display_data"
    }
   ],
   "source": [
    "import numpy as np\n",
    "import matplotlib.pyplot as plt\n",
    "\n",
    "xn = np.linspace(0.05, 3, 100)\n",
    "yn = np.linspace(2, 5)\n",
    "zn = np.linspace(-2*np.pi, 2* np.pi)\n",
    "\n",
    "fig, ax = plt.subplots(1, 3, figsize=(14, 4))\n",
    "plt.sca(ax[0])\n",
    "Y, Z = np.meshgrid(yn, zn)\n",
    "plt.pcolormesh(Y, Z, g(0.5, Y, Z), shading=\"nearest\")\n",
    "plt.colorbar()\n",
    "plt.sca(ax[1])\n",
    "X, Y = np.meshgrid(xn, yn)\n",
    "plt.pcolormesh(X, Y, g(X, Y, 0), shading=\"nearest\")\n",
    "plt.colorbar()\n",
    "plt.sca(ax[2])\n",
    "for yi in yn[::10]:\n",
    "    plt.plot(xn, g(xn, yi, 0))"
   ]
  },
  {
   "cell_type": "markdown",
   "metadata": {},
   "source": [
    "There is indeed a global maximum as a function of $p_{T,2}$ between 0 and infinity, but not with respect to $\\Delta\\eta$. The maximum for $\\Delta\\eta$ is located at the upper bound of the $\\eta$ interval, which means that Laplace's method cannot be applied to the integral as a whole.\n",
    "\n",
    "We cannot solve the integral completely, so we do the next-best thing. We partially solve it by approximately carrying out the integration over $p_{T,2}$ for each value of $C(\\Delta\\eta, \\Delta\\phi) = \\cosh\\Delta\\eta - \\cos\\Delta\\phi$ with Laplace's method:\n",
    "\n",
    "$$\n",
    "\\int h(x) e^{M g(x)} \\text{d}x \\approx \\sqrt{\\frac{2\\pi}{M |g''(x_0)|}} h(x_0) e^{M g(x_0)} \n",
    "$$\n",
    "\n",
    "with $M > 0, M \\rightarrow \\infty, h(x) > 0$ and $x_0$ being the maximum of $g(x)$.\n",
    "\n",
    "To obtain simpler formulas, we make a bunch of substitutions:\n",
    "\n",
    "* $x := p_{T,2}$\n",
    "* $\\Delta \\eta := \\eta_1 - \\eta_2$\n",
    "* $\\Delta \\phi := \\phi_1 - \\phi_2$\n",
    "* $C(\\Delta\\eta, \\Delta\\phi) := \\cosh \\Delta\\eta - \\cos\\Delta\\phi$"
   ]
  },
  {
   "cell_type": "code",
   "execution_count": 18,
   "metadata": {},
   "outputs": [
    {
     "data": {
      "text/latex": [
       "$\\displaystyle \\frac{\\lambda^{2} m \\operatorname{h_{2}}{\\left(\\eta_{2} \\right)} \\operatorname{h_{2}}{\\left(\\Delta\\eta + \\eta_{2} \\right)} e^{- \\lambda \\left(\\frac{m^{2}}{2 x C{\\left(\\Delta\\eta,\\Delta\\phi \\right)}} + x\\right)}}{4 \\pi^{2} x C{\\left(\\Delta\\eta,\\Delta\\phi \\right)}}$"
      ],
      "text/plain": [
       "lambda**2*m*h2(eta_2)*h2(\\Delta\\eta + eta_2)*exp(-lambda*(m**2/(2*x*C(\\Delta\\eta, \\Delta\\phi)) + x))/(4*pi**2*x*C(\\Delta\\eta, \\Delta\\phi))"
      ]
     },
     "execution_count": 18,
     "metadata": {},
     "output_type": "execute_result"
    }
   ],
   "source": [
    "deta, dphi = symbols(r\"\\Delta\\eta \\Delta\\phi\")\n",
    "\n",
    "x = symbols(\"x\", real=True, positive=True)\n",
    "C = Function(\"C\", real=True, positive=True)(deta, dphi)\n",
    "\n",
    "f_prime = f_prime.subs((cosh(eta1 - eta2)-cos(phi1 - phi2)), C).subs(eta1, eta2 + deta).subs(phi1, phi2 + dphi).subs(pt2, x).simplify(); f_prime"
   ]
  },
  {
   "cell_type": "code",
   "execution_count": 19,
   "metadata": {},
   "outputs": [],
   "source": [
    "M = lambd"
   ]
  },
  {
   "cell_type": "code",
   "execution_count": 20,
   "metadata": {
    "scrolled": true
   },
   "outputs": [
    {
     "data": {
      "text/latex": [
       "$\\displaystyle - \\frac{m^{2}}{2 x C{\\left(\\Delta\\eta,\\Delta\\phi \\right)}} - x$"
      ],
      "text/plain": [
       "-m**2/(2*x*C(\\Delta\\eta, \\Delta\\phi)) - x"
      ]
     },
     "execution_count": 20,
     "metadata": {},
     "output_type": "execute_result"
    }
   ],
   "source": [
    "g = -m ** 2 / (2 * x * C) - x; g"
   ]
  },
  {
   "cell_type": "code",
   "execution_count": 21,
   "metadata": {},
   "outputs": [
    {
     "data": {
      "text/latex": [
       "$\\displaystyle \\frac{\\lambda^{2} m \\operatorname{h_{2}}{\\left(\\eta_{2} \\right)} \\operatorname{h_{2}}{\\left(\\Delta\\eta + \\eta_{2} \\right)}}{4 \\pi^{2} x C{\\left(\\Delta\\eta,\\Delta\\phi \\right)}}$"
      ],
      "text/plain": [
       "lambda**2*m*h2(eta_2)*h2(\\Delta\\eta + eta_2)/(4*pi**2*x*C(\\Delta\\eta, \\Delta\\phi))"
      ]
     },
     "execution_count": 21,
     "metadata": {},
     "output_type": "execute_result"
    }
   ],
   "source": [
    "h = f_prime / exp(M * g).simplify(); h"
   ]
  },
  {
   "cell_type": "code",
   "execution_count": 22,
   "metadata": {},
   "outputs": [],
   "source": [
    "assert simplify(h * exp(M * g)) == f_prime"
   ]
  },
  {
   "cell_type": "code",
   "execution_count": 23,
   "metadata": {},
   "outputs": [
    {
     "data": {
      "text/latex": [
       "$\\displaystyle \\frac{m^{2}}{2 x^{2} C{\\left(\\Delta\\eta,\\Delta\\phi \\right)}} - 1$"
      ],
      "text/plain": [
       "m**2/(2*x**2*C(\\Delta\\eta, \\Delta\\phi)) - 1"
      ]
     },
     "execution_count": 23,
     "metadata": {},
     "output_type": "execute_result"
    }
   ],
   "source": [
    "gx = diff(g, x); gx"
   ]
  },
  {
   "cell_type": "code",
   "execution_count": 24,
   "metadata": {},
   "outputs": [
    {
     "data": {
      "text/latex": [
       "$\\displaystyle - \\frac{m^{2}}{x^{3} C{\\left(\\Delta\\eta,\\Delta\\phi \\right)}}$"
      ],
      "text/plain": [
       "-m**2/(x**3*C(\\Delta\\eta, \\Delta\\phi))"
      ]
     },
     "execution_count": 24,
     "metadata": {},
     "output_type": "execute_result"
    }
   ],
   "source": [
    "gxx = diff(g, x, 2); gxx"
   ]
  },
  {
   "cell_type": "code",
   "execution_count": 25,
   "metadata": {},
   "outputs": [
    {
     "data": {
      "text/latex": [
       "$\\displaystyle \\frac{\\sqrt{2} m}{2 \\sqrt{C{\\left(\\Delta\\eta,\\Delta\\phi \\right)}}}$"
      ],
      "text/plain": [
       "sqrt(2)*m/(2*sqrt(C(\\Delta\\eta, \\Delta\\phi)))"
      ]
     },
     "execution_count": 25,
     "metadata": {},
     "output_type": "execute_result"
    }
   ],
   "source": [
    "x0 = solve(Eq(gx, 0), x)[0]; x0 # there is only one solution, since x > 0"
   ]
  },
  {
   "cell_type": "code",
   "execution_count": 26,
   "metadata": {},
   "outputs": [
    {
     "data": {
      "text/latex": [
       "$\\displaystyle - \\frac{2 \\sqrt{2} \\sqrt{C{\\left(\\Delta\\eta,\\Delta\\phi \\right)}}}{m}$"
      ],
      "text/plain": [
       "-2*sqrt(2)*sqrt(C(\\Delta\\eta, \\Delta\\phi))/m"
      ]
     },
     "execution_count": 26,
     "metadata": {},
     "output_type": "execute_result"
    }
   ],
   "source": [
    "gxx0 = gxx.subs(x, x0); gxx0"
   ]
  },
  {
   "cell_type": "code",
   "execution_count": 27,
   "metadata": {},
   "outputs": [
    {
     "data": {
      "text/latex": [
       "$\\displaystyle \\frac{\\sqrt{2} \\lambda^{2} \\operatorname{h_{2}}{\\left(\\eta_{2} \\right)} \\operatorname{h_{2}}{\\left(\\Delta\\eta + \\eta_{2} \\right)}}{4 \\pi^{2} \\sqrt{C{\\left(\\Delta\\eta,\\Delta\\phi \\right)}}}$"
      ],
      "text/plain": [
       "sqrt(2)*lambda**2*h2(eta_2)*h2(\\Delta\\eta + eta_2)/(4*pi**2*sqrt(C(\\Delta\\eta, \\Delta\\phi)))"
      ]
     },
     "execution_count": 27,
     "metadata": {},
     "output_type": "execute_result"
    }
   ],
   "source": [
    "h0 = h.subs(x, x0); h0"
   ]
  },
  {
   "cell_type": "code",
   "execution_count": 28,
   "metadata": {},
   "outputs": [
    {
     "data": {
      "text/latex": [
       "$\\displaystyle - \\frac{\\sqrt{2} m}{\\sqrt{C{\\left(\\Delta\\eta,\\Delta\\phi \\right)}}}$"
      ],
      "text/plain": [
       "-sqrt(2)*m/sqrt(C(\\Delta\\eta, \\Delta\\phi))"
      ]
     },
     "execution_count": 28,
     "metadata": {},
     "output_type": "execute_result"
    }
   ],
   "source": [
    "g0 = g.subs(x, x0); g0"
   ]
  },
  {
   "cell_type": "markdown",
   "metadata": {},
   "source": [
    "Now we have everything to get Laplace's approximate solution."
   ]
  },
  {
   "cell_type": "code",
   "execution_count": 29,
   "metadata": {},
   "outputs": [
    {
     "data": {
      "text/latex": [
       "$\\displaystyle \\frac{\\sqrt[4]{2} \\lambda^{\\frac{3}{2}} \\sqrt{m} \\operatorname{h_{2}}{\\left(\\eta_{2} \\right)} \\operatorname{h_{2}}{\\left(\\Delta\\eta + \\eta_{2} \\right)} e^{- \\frac{\\sqrt{2} \\lambda m}{\\sqrt{C{\\left(\\Delta\\eta,\\Delta\\phi \\right)}}}}}{4 \\pi^{\\frac{3}{2}} C^{\\frac{3}{4}}{\\left(\\Delta\\eta,\\Delta\\phi \\right)}}$"
      ],
      "text/plain": [
       "2**(1/4)*lambda**(3/2)*sqrt(m)*h2(eta_2)*h2(\\Delta\\eta + eta_2)*exp(-sqrt(2)*lambda*m/sqrt(C(\\Delta\\eta, \\Delta\\phi)))/(4*pi**(3/2)*C(\\Delta\\eta, \\Delta\\phi)**(3/4))"
      ]
     },
     "execution_count": 29,
     "metadata": {},
     "output_type": "execute_result"
    }
   ],
   "source": [
    "sqrt(2 * pi / (M * -gxx0)) * h0 * exp(M * g0).simplify()"
   ]
  },
  {
   "cell_type": "markdown",
   "metadata": {},
   "source": [
    "In other words, the approximate solution for each value of $C(\\Delta\\eta, \\Delta\\phi)$ is \n",
    "\n",
    "$$\n",
    "f(m, C) \\propto m^{1/2} \\, e^{- m \\, \\lambda_C}\n",
    "$$\n",
    "\n",
    "where $\\lambda_C$ is proportional to $C^{-1/2}$. Since the function has a broad maximum, the actual function $f(m)$ will be a superposition of many $f(m, C)$ with similar slopes."
   ]
  },
  {
   "cell_type": "code",
   "execution_count": 30,
   "metadata": {},
   "outputs": [
    {
     "data": {
      "image/png": "[encoded data removed]",
      "text/plain": [
       "<Figure size 432x288 with 1 Axes>"
      ]
     },
     "metadata": {
      "needs_background": "light"
     },
     "output_type": "display_data"
    }
   ],
   "source": [
    "import numpy as np\n",
    "import matplotlib.pyplot as plt\n",
    "\n",
    "yn = np.linspace(2, 5)\n",
    "plt.plot(yn, 1/np.sqrt(np.cosh(yn) - 1), label=r\"$C^{-1/2}(\\eta, 0)$\")\n",
    "plt.legend()\n",
    "plt.xlabel(r\"$\\eta$\");"
   ]
  },
  {
   "cell_type": "markdown",
   "metadata": {},
   "source": [
    "## Simulation study\n",
    "\n",
    "We confirm the analytical results in a toy simulation. We first generate some toy data. The $p_T$ distribution is exponential. The distribution in $\\eta$ and $\\phi$ are uniform. We then form all unique pairs and compute the invariant mass for the case with candidate masses assumed to be zero."
   ]
  },
  {
   "cell_type": "code",
   "execution_count": 31,
   "metadata": {},
   "outputs": [],
   "source": [
    "import numpy as np\n",
    "\n",
    "rng = np.random.default_rng(1)\n",
    "\n",
    "pt = rng.exponential(size=1000)\n",
    "eta = rng.uniform(2, 5, size=1000)\n",
    "phi = rng.uniform(-np.pi, np.pi, size=1000)\n",
    "\n",
    "f = lambdify((pt1, eta1, phi1, pt2, eta2, phi2), m_approx_expr, \"math\")\n",
    "\n",
    "# this is slow in pure Python, but we don't care for a one-shot\n",
    "m = []\n",
    "for i in range(1000):\n",
    "    for j in range(i):\n",
    "        m.append(f(pt[i], eta[i], phi[i], pt[j], eta[j], phi[j]))\n",
    "m = np.array(m)"
   ]
  },
  {
   "cell_type": "markdown",
   "metadata": {},
   "source": [
    "We make a histogram of the resulting distribution."
   ]
  },
  {
   "cell_type": "code",
   "execution_count": 32,
   "metadata": {},
   "outputs": [
    {
     "data": {
      "image/png": "[encoded data removed]",
      "text/plain": [
       "<Figure size 432x288 with 1 Axes>"
      ]
     },
     "metadata": {
      "needs_background": "light"
     },
     "output_type": "display_data"
    }
   ],
   "source": [
    "n, xe = np.histogram(m, bins=50)\n",
    "\n",
    "from pyik.mplext import plot_hist\n",
    "\n",
    "plot_hist(xe, n)\n",
    "plt.xlabel(\"m\")\n",
    "plt.ylabel(\"counts\")\n",
    "plt.semilogy();"
   ]
  },
  {
   "cell_type": "markdown",
   "metadata": {},
   "source": [
    "It looks approximately like an exponential, but there are differences. The peak at zero is cut off and the slope varies, being steeper near zero and flatter in the tail. In a narrow interval, however, the exponential distribution is expected to give a good description.\n",
    "\n",
    "We fit a simple exponential model and a more complex model that takes our analytical solution in account. It is a superposition of three distributions of the form $A_i \\sqrt{m} e^{-B_i m}$ with approximate the integral that we cannot compute analytically."
   ]
  },
  {
   "cell_type": "code",
   "execution_count": 33,
   "metadata": {},
   "outputs": [],
   "source": [
    "from iminuit import Minuit\n",
    "from iminuit.cost import LeastSquares\n",
    "\n",
    "def model_A(x, a, b):\n",
    "    return a * np.exp(- x * b)\n",
    "\n",
    "def model_B(x, par):\n",
    "    npar = len(par) // 2\n",
    "    par = np.asarray(par)[:, None]\n",
    "    return x ** 0.5 * np.sum(par[:npar] * np.exp(-x * par[npar:]), axis=0)\n",
    "\n",
    "cx = (xe[1:] + xe[:-1]) / 2\n",
    "nerr = (n + 0.5) ** 0.5"
   ]
  },
  {
   "cell_type": "code",
   "execution_count": 34,
   "metadata": {},
   "outputs": [
    {
     "data": {
      "text/html": [
       "<table>\n",
       "    <tr>\n",
       "        <td colspan=\"2\" style=\"text-align:left\" title=\"Minimum value of function\"> FCN = 7712 </td>\n",
       "        <td colspan=\"3\" style=\"text-align:center\" title=\"No. of function evaluations in last call and total number\"> Nfcn = 177 </td>\n",
       "    </tr>\n",
       "    <tr>\n",
       "        <td colspan=\"2\" style=\"text-align:left\" title=\"Estimated distance to minimum and goal\"> EDM = 4.59e-07 (Goal: 0.0002) </td>\n",
       "        <td colspan=\"3\" style=\"text-align:center\" title=\"No. of gradient evaluations in last call and total number\">  </td>\n",
       "    </tr>\n",
       "    <tr>\n",
       "        <td style=\"text-align:center;background-color:#92CCA6;color:black\"> Valid Minimum </td>\n",
       "        <td style=\"text-align:center;background-color:#92CCA6;color:black\"> Valid Parameters </td>\n",
       "        <td colspan=\"3\" style=\"text-align:center;background-color:#92CCA6;color:black\"> No Parameters at limit </td>\n",
       "    </tr>\n",
       "    <tr>\n",
       "        <td colspan=\"2\" style=\"text-align:center;background-color:#92CCA6;color:black\"> Below EDM threshold (goal x 10) </td>\n",
       "        <td colspan=\"3\" style=\"text-align:center;background-color:#92CCA6;color:black\"> Below call limit </td>\n",
       "    </tr>\n",
       "    <tr>\n",
       "        <td style=\"text-align:center;background-color:#92CCA6;color:black\"> Covariance </td>\n",
       "        <td style=\"text-align:center;background-color:#92CCA6;color:black\"> Hesse ok </td>\n",
       "        <td style=\"text-align:center;background-color:#92CCA6;color:black\" title=\"Is covariance matrix accurate?\"> Accurate </td>\n",
       "        <td style=\"text-align:center;background-color:#92CCA6;color:black\" title=\"Is covariance matrix positive definite?\"> Pos. def. </td>\n",
       "        <td style=\"text-align:center;background-color:#92CCA6;color:black\" title=\"Was positive definiteness enforced by Minuit?\"> Not forced </td>\n",
       "    </tr>\n",
       "</table><table>\n",
       "    <tr>\n",
       "        <td></td>\n",
       "        <th title=\"Variable name\"> Name </th>\n",
       "        <th title=\"Value of parameter\"> Value </th>\n",
       "        <th title=\"Hesse error\"> Hesse Error </th>\n",
       "        <th title=\"Minos lower error\"> Minos Error- </th>\n",
       "        <th title=\"Minos upper error\"> Minos Error+ </th>\n",
       "        <th title=\"Lower limit of the parameter\"> Limit- </th>\n",
       "        <th title=\"Upper limit of the parameter\"> Limit+ </th>\n",
       "        <th title=\"Is the parameter fixed in the fit\"> Fixed </th>\n",
       "    </tr>\n",
       "    <tr>\n",
       "        <th> 0 </th>\n",
       "        <td> a </td>\n",
       "        <td> 153.21e3 </td>\n",
       "        <td> 0.30e3 </td>\n",
       "        <td>  </td>\n",
       "        <td>  </td>\n",
       "        <td> 0 </td>\n",
       "        <td>  </td>\n",
       "        <td>  </td>\n",
       "    </tr>\n",
       "    <tr>\n",
       "        <th> 1 </th>\n",
       "        <td> b </td>\n",
       "        <td> 691.0e-3 </td>\n",
       "        <td> 0.9e-3 </td>\n",
       "        <td>  </td>\n",
       "        <td>  </td>\n",
       "        <td> 0 </td>\n",
       "        <td>  </td>\n",
       "        <td>  </td>\n",
       "    </tr>\n",
       "</table><table>\n",
       "    <tr>\n",
       "        <td></td>\n",
       "        <th> a </th>\n",
       "        <th> b </th>\n",
       "    </tr>\n",
       "    <tr>\n",
       "        <th> a </th>\n",
       "        <td> 8.84e+04 </td>\n",
       "        <td style=\"background-color:rgb(250,148,148);color:black\"> 0.182 <strong>(0.678)</strong> </td>\n",
       "    </tr>\n",
       "    <tr>\n",
       "        <th> b </th>\n",
       "        <td style=\"background-color:rgb(250,148,148);color:black\"> 0.182 <strong>(0.678)</strong> </td>\n",
       "        <td> 8.14e-07 </td>\n",
       "    </tr>\n",
       "</table>"
      ],
      "text/plain": [
       "┌──────────────────────────────────┬──────────────────────────────────────┐\n",
       "│ FCN = 7712                       │              Nfcn = 177              │\n",
       "│ EDM = 4.59e-07 (Goal: 0.0002)    │                                      │\n",
       "├───────────────┬──────────────────┼──────────────────────────────────────┤\n",
       "│ Valid Minimum │ Valid Parameters │        No Parameters at limit        │\n",
       "├───────────────┴──────────────────┼──────────────────────────────────────┤\n",
       "│ Below EDM threshold (goal x 10)  │           Below call limit           │\n",
       "├───────────────┬──────────────────┼───────────┬─────────────┬────────────┤\n",
       "│  Covariance   │     Hesse ok     │ Accurate  │  Pos. def.  │ Not forced │\n",
       "└───────────────┴──────────────────┴───────────┴─────────────┴────────────┘\n",
       "┌───┬──────┬───────────┬───────────┬────────────┬────────────┬─────────┬─────────┬───────┐\n",
       "│   │ Name │   Value   │ Hesse Err │ Minos Err- │ Minos Err+ │ Limit-  │ Limit+  │ Fixed │\n",
       "├───┼──────┼───────────┼───────────┼────────────┼────────────┼─────────┼─────────┼───────┤\n",
       "│ 0 │ a    │ 153.21e3  │  0.30e3   │            │            │    0    │         │       │\n",
       "│ 1 │ b    │ 691.0e-3  │  0.9e-3   │            │            │    0    │         │       │\n",
       "└───┴──────┴───────────┴───────────┴────────────┴────────────┴─────────┴─────────┴───────┘\n",
       "┌───┬───────────────────┐\n",
       "│   │        a        b │\n",
       "├───┼───────────────────┤\n",
       "│ a │ 8.84e+04    0.182 │\n",
       "│ b │    0.182 8.14e-07 │\n",
       "└───┴───────────────────┘"
      ]
     },
     "execution_count": 34,
     "metadata": {},
     "output_type": "execute_result"
    }
   ],
   "source": [
    "min1 = Minuit(LeastSquares(cx, n, nerr, model_A), 1, 1)\n",
    "min1.limits = (0, None)\n",
    "min1.migrad()"
   ]
  },
  {
   "cell_type": "code",
   "execution_count": 35,
   "metadata": {},
   "outputs": [
    {
     "data": {
      "text/html": [
       "<table>\n",
       "    <tr>\n",
       "        <td colspan=\"2\" style=\"text-align:left\" title=\"Minimum value of function\"> FCN = 149 </td>\n",
       "        <td colspan=\"3\" style=\"text-align:center\" title=\"No. of function evaluations in last call and total number\"> Nfcn = 1583 </td>\n",
       "    </tr>\n",
       "    <tr>\n",
       "        <td colspan=\"2\" style=\"text-align:left\" title=\"Estimated distance to minimum and goal\"> EDM = 8.62e-06 (Goal: 0.0002) </td>\n",
       "        <td colspan=\"3\" style=\"text-align:center\" title=\"No. of gradient evaluations in last call and total number\">  </td>\n",
       "    </tr>\n",
       "    <tr>\n",
       "        <td style=\"text-align:center;background-color:#92CCA6;color:black\"> Valid Minimum </td>\n",
       "        <td style=\"text-align:center;background-color:#92CCA6;color:black\"> Valid Parameters </td>\n",
       "        <td colspan=\"3\" style=\"text-align:center;background-color:#92CCA6;color:black\"> No Parameters at limit </td>\n",
       "    </tr>\n",
       "    <tr>\n",
       "        <td colspan=\"2\" style=\"text-align:center;background-color:#92CCA6;color:black\"> Below EDM threshold (goal x 10) </td>\n",
       "        <td colspan=\"3\" style=\"text-align:center;background-color:#92CCA6;color:black\"> Below call limit </td>\n",
       "    </tr>\n",
       "    <tr>\n",
       "        <td style=\"text-align:center;background-color:#92CCA6;color:black\"> Covariance </td>\n",
       "        <td style=\"text-align:center;background-color:#92CCA6;color:black\"> Hesse ok </td>\n",
       "        <td style=\"text-align:center;background-color:#92CCA6;color:black\" title=\"Is covariance matrix accurate?\"> Accurate </td>\n",
       "        <td style=\"text-align:center;background-color:#92CCA6;color:black\" title=\"Is covariance matrix positive definite?\"> Pos. def. </td>\n",
       "        <td style=\"text-align:center;background-color:#92CCA6;color:black\" title=\"Was positive definiteness enforced by Minuit?\"> Not forced </td>\n",
       "    </tr>\n",
       "</table><table>\n",
       "    <tr>\n",
       "        <td></td>\n",
       "        <th title=\"Variable name\"> Name </th>\n",
       "        <th title=\"Value of parameter\"> Value </th>\n",
       "        <th title=\"Hesse error\"> Hesse Error </th>\n",
       "        <th title=\"Minos lower error\"> Minos Error- </th>\n",
       "        <th title=\"Minos upper error\"> Minos Error+ </th>\n",
       "        <th title=\"Lower limit of the parameter\"> Limit- </th>\n",
       "        <th title=\"Upper limit of the parameter\"> Limit+ </th>\n",
       "        <th title=\"Is the parameter fixed in the fit\"> Fixed </th>\n",
       "    </tr>\n",
       "    <tr>\n",
       "        <th> 0 </th>\n",
       "        <td> x0 </td>\n",
       "        <td> 3.2e3 </td>\n",
       "        <td> 1.5e3 </td>\n",
       "        <td>  </td>\n",
       "        <td>  </td>\n",
       "        <td> 0 </td>\n",
       "        <td>  </td>\n",
       "        <td>  </td>\n",
       "    </tr>\n",
       "    <tr>\n",
       "        <th> 1 </th>\n",
       "        <td> x1 </td>\n",
       "        <td> 197e3 </td>\n",
       "        <td> 6e3 </td>\n",
       "        <td>  </td>\n",
       "        <td>  </td>\n",
       "        <td> 0 </td>\n",
       "        <td>  </td>\n",
       "        <td>  </td>\n",
       "    </tr>\n",
       "    <tr>\n",
       "        <th> 2 </th>\n",
       "        <td> x2 </td>\n",
       "        <td> 123e3 </td>\n",
       "        <td> 5e3 </td>\n",
       "        <td>  </td>\n",
       "        <td>  </td>\n",
       "        <td> 0 </td>\n",
       "        <td>  </td>\n",
       "        <td>  </td>\n",
       "    </tr>\n",
       "    <tr>\n",
       "        <th> 3 </th>\n",
       "        <td> x3 </td>\n",
       "        <td> 0.500 </td>\n",
       "        <td> 0.033 </td>\n",
       "        <td>  </td>\n",
       "        <td>  </td>\n",
       "        <td> 0 </td>\n",
       "        <td>  </td>\n",
       "        <td>  </td>\n",
       "    </tr>\n",
       "    <tr>\n",
       "        <th> 4 </th>\n",
       "        <td> x4 </td>\n",
       "        <td> 1.744 </td>\n",
       "        <td> 0.033 </td>\n",
       "        <td>  </td>\n",
       "        <td>  </td>\n",
       "        <td> 0 </td>\n",
       "        <td>  </td>\n",
       "        <td>  </td>\n",
       "    </tr>\n",
       "    <tr>\n",
       "        <th> 5 </th>\n",
       "        <td> x5 </td>\n",
       "        <td> 0.864 </td>\n",
       "        <td> 0.017 </td>\n",
       "        <td>  </td>\n",
       "        <td>  </td>\n",
       "        <td> 0 </td>\n",
       "        <td>  </td>\n",
       "        <td>  </td>\n",
       "    </tr>\n",
       "</table><table>\n",
       "    <tr>\n",
       "        <td></td>\n",
       "        <th> x0 </th>\n",
       "        <th> x1 </th>\n",
       "        <th> x2 </th>\n",
       "        <th> x3 </th>\n",
       "        <th> x4 </th>\n",
       "        <th> x5 </th>\n",
       "    </tr>\n",
       "    <tr>\n",
       "        <th> x0 </th>\n",
       "        <td> 2.35e+06 </td>\n",
       "        <td style=\"background-color:rgb(150,150,250);color:black\"> -6.8e+06 <strong>(-0.769)</strong> </td>\n",
       "        <td style=\"background-color:rgb(250,159,159);color:black\"> 4.87e+06 <strong>(0.607)</strong> </td>\n",
       "        <td style=\"background-color:rgb(250,103,103);color:black\"> 49.3 <strong>(0.982)</strong> </td>\n",
       "        <td style=\"background-color:rgb(250,163,163);color:black\"> 29.4 <strong>(0.583)</strong> </td>\n",
       "        <td style=\"background-color:rgb(250,115,115);color:black\"> 23.5 <strong>(0.900)</strong> </td>\n",
       "    </tr>\n",
       "    <tr>\n",
       "        <th> x1 </th>\n",
       "        <td style=\"background-color:rgb(150,150,250);color:black\"> -6.8e+06 <strong>(-0.769)</strong> </td>\n",
       "        <td> 3.32e+07 </td>\n",
       "        <td style=\"background-color:rgb(127,127,250);color:black\"> -2.85e+07 <strong>(-0.946)</strong> </td>\n",
       "        <td style=\"background-color:rgb(162,162,250);color:black\"> -128 <strong>(-0.680)</strong> </td>\n",
       "        <td style=\"background-color:rgb(138,138,250);color:black\"> -163 <strong>(-0.859)</strong> </td>\n",
       "        <td style=\"background-color:rgb(126,126,250);color:black\"> -93.8 <strong>(-0.956)</strong> </td>\n",
       "    </tr>\n",
       "    <tr>\n",
       "        <th> x2 </th>\n",
       "        <td style=\"background-color:rgb(250,159,159);color:black\"> 4.87e+06 <strong>(0.607)</strong> </td>\n",
       "        <td style=\"background-color:rgb(127,127,250);color:black\"> -2.85e+07 <strong>(-0.946)</strong> </td>\n",
       "        <td> 2.74e+07 </td>\n",
       "        <td style=\"background-color:rgb(250,174,174);color:black\"> 86.3 <strong>(0.503)</strong> </td>\n",
       "        <td style=\"background-color:rgb(250,106,106);color:black\"> 165 <strong>(0.958)</strong> </td>\n",
       "        <td style=\"background-color:rgb(250,117,117);color:black\"> 78.7 <strong>(0.884)</strong> </td>\n",
       "    </tr>\n",
       "    <tr>\n",
       "        <th> x3 </th>\n",
       "        <td style=\"background-color:rgb(250,103,103);color:black\"> 49.3 <strong>(0.982)</strong> </td>\n",
       "        <td style=\"background-color:rgb(162,162,250);color:black\"> -128 <strong>(-0.680)</strong> </td>\n",
       "        <td style=\"background-color:rgb(250,174,174);color:black\"> 86.3 <strong>(0.503)</strong> </td>\n",
       "        <td> 0.00107 </td>\n",
       "        <td style=\"background-color:rgb(250,175,175);color:black\"> 0.000538 <strong>(0.499)</strong> </td>\n",
       "        <td style=\"background-color:rgb(250,126,126);color:black\"> 0.00046 <strong>(0.825)</strong> </td>\n",
       "    </tr>\n",
       "    <tr>\n",
       "        <th> x4 </th>\n",
       "        <td style=\"background-color:rgb(250,163,163);color:black\"> 29.4 <strong>(0.583)</strong> </td>\n",
       "        <td style=\"background-color:rgb(138,138,250);color:black\"> -163 <strong>(-0.859)</strong> </td>\n",
       "        <td style=\"background-color:rgb(250,106,106);color:black\"> 165 <strong>(0.958)</strong> </td>\n",
       "        <td style=\"background-color:rgb(250,175,175);color:black\"> 0.000538 <strong>(0.499)</strong> </td>\n",
       "        <td> 0.00108 </td>\n",
       "        <td style=\"background-color:rgb(250,126,126);color:black\"> 0.000464 <strong>(0.830)</strong> </td>\n",
       "    </tr>\n",
       "    <tr>\n",
       "        <th> x5 </th>\n",
       "        <td style=\"background-color:rgb(250,115,115);color:black\"> 23.5 <strong>(0.900)</strong> </td>\n",
       "        <td style=\"background-color:rgb(126,126,250);color:black\"> -93.8 <strong>(-0.956)</strong> </td>\n",
       "        <td style=\"background-color:rgb(250,117,117);color:black\"> 78.7 <strong>(0.884)</strong> </td>\n",
       "        <td style=\"background-color:rgb(250,126,126);color:black\"> 0.00046 <strong>(0.825)</strong> </td>\n",
       "        <td style=\"background-color:rgb(250,126,126);color:black\"> 0.000464 <strong>(0.830)</strong> </td>\n",
       "        <td> 0.00029 </td>\n",
       "    </tr>\n",
       "</table>"
      ],
      "text/plain": [
       "┌──────────────────────────────────┬──────────────────────────────────────┐\n",
       "│ FCN = 149                        │             Nfcn = 1583              │\n",
       "│ EDM = 8.62e-06 (Goal: 0.0002)    │                                      │\n",
       "├───────────────┬──────────────────┼──────────────────────────────────────┤\n",
       "│ Valid Minimum │ Valid Parameters │        No Parameters at limit        │\n",
       "├───────────────┴──────────────────┼──────────────────────────────────────┤\n",
       "│ Below EDM threshold (goal x 10)  │           Below call limit           │\n",
       "├───────────────┬──────────────────┼───────────┬─────────────┬────────────┤\n",
       "│  Covariance   │     Hesse ok     │ Accurate  │  Pos. def.  │ Not forced │\n",
       "└───────────────┴──────────────────┴───────────┴─────────────┴────────────┘\n",
       "┌───┬──────┬───────────┬───────────┬────────────┬────────────┬─────────┬─────────┬───────┐\n",
       "│   │ Name │   Value   │ Hesse Err │ Minos Err- │ Minos Err+ │ Limit-  │ Limit+  │ Fixed │\n",
       "├───┼──────┼───────────┼───────────┼────────────┼────────────┼─────────┼─────────┼───────┤\n",
       "│ 0 │ x0   │   3.2e3   │   1.5e3   │            │            │    0    │         │       │\n",
       "│ 1 │ x1   │   197e3   │    6e3    │            │            │    0    │         │       │\n",
       "│ 2 │ x2   │   123e3   │    5e3    │            │            │    0    │         │       │\n",
       "│ 3 │ x3   │   0.500   │   0.033   │            │            │    0    │         │       │\n",
       "│ 4 │ x4   │   1.744   │   0.033   │            │            │    0    │         │       │\n",
       "│ 5 │ x5   │   0.864   │   0.017   │            │            │    0    │         │       │\n",
       "└───┴──────┴───────────┴───────────┴────────────┴────────────┴─────────┴─────────┴───────┘\n",
       "┌────┬─────────────────────────────────────────────────────────────┐\n",
       "│    │        x0        x1        x2        x3        x4        x5 │\n",
       "├────┼─────────────────────────────────────────────────────────────┤\n",
       "│ x0 │  2.35e+06  -6.8e+06  4.87e+06      49.3      29.4      23.5 │\n",
       "│ x1 │  -6.8e+06  3.32e+07 -2.85e+07      -128      -163     -93.8 │\n",
       "│ x2 │  4.87e+06 -2.85e+07  2.74e+07      86.3       165      78.7 │\n",
       "│ x3 │      49.3      -128      86.3   0.00107  0.000538   0.00046 │\n",
       "│ x4 │      29.4      -163       165  0.000538   0.00108  0.000464 │\n",
       "│ x5 │      23.5     -93.8      78.7   0.00046  0.000464   0.00029 │\n",
       "└────┴─────────────────────────────────────────────────────────────┘"
      ]
     },
     "execution_count": 35,
     "metadata": {},
     "output_type": "execute_result"
    }
   ],
   "source": [
    "min2 = Minuit(LeastSquares(cx, n, nerr, model_B), np.ones(6))\n",
    "min2.limits = (0, None)\n",
    "min2.migrad(ncall=10000)"
   ]
  },
  {
   "cell_type": "code",
   "execution_count": 36,
   "metadata": {},
   "outputs": [
    {
     "data": {
      "text/plain": [
       "Text(0.5, 0, 'm')"
      ]
     },
     "execution_count": 36,
     "metadata": {},
     "output_type": "execute_result"
    },
    {
     "data": {
      "image/png": "[encoded data removed]",
      "text/plain": [
       "<Figure size 720x288 with 2 Axes>"
      ]
     },
     "metadata": {
      "needs_background": "light"
     },
     "output_type": "display_data"
    }
   ],
   "source": [
    "fig, ax = plt.subplots(1, 2, figsize=(10, 4), constrained_layout=True)\n",
    "plt.sca(ax[0])\n",
    "plot_hist(xe, n)\n",
    "xm = np.linspace(xe[0], xe[-1], 1000)\n",
    "plt.plot(xm, model_A(xm, *min1.values), label=f\"exponential: $\\\\chi^2/n_{{dof}} = {min1.fval:.1f}/{len(cx) - min1.nfit}$\")\n",
    "plt.plot(xm, model_B(xm, min2.values), label=f\"superposition: $\\\\chi^2/n_{{dof}} = {min2.fval:.1f}/{len(cx) - min2.nfit}$\")\n",
    "plt.semilogy()\n",
    "plt.legend()\n",
    "plt.xlabel(\"m\")\n",
    "plt.sca(ax[1])\n",
    "plot_hist(xe, n)\n",
    "plt.plot(xm, model_A(xm, *min1.values))\n",
    "plt.plot(xm, model_B(xm, min2.values))\n",
    "plt.xlabel(\"m\")"
   ]
  },
  {
   "cell_type": "markdown",
   "metadata": {},
   "source": [
    "The sophisticated superposition model globally describes the distribution much better than the plain exponential model. The cut-off near zero is modeled by the term $\\sqrt{m}$, which suppresses the rise of the pure exponentials near zero. The superposition of three exponentials with different slopes is able to match the changing slope.\n",
    "\n",
    "Even for the sophisticated model, $\\chi^2$ does not look so good, but that is because  we use the approximate least-squares method here to keep it simple, in which we do not integrate the model over each bin. The implied approximation is bad near $m = 0$, where the distribution has a sharp peak.\n",
    "\n",
    "For an approximation over a local interval not too close to $m = 0$, a simple exponential distribution will also perform well, since locally one of the exponentail distributions is dominant."
   ]
  }
 ],
 "metadata": {
  "kernelspec": {
   "display_name": "py38",
   "language": "python",
   "name": "py38"
  },
  "language_info": {
   "codemirror_mode": {
    "name": "ipython",
    "version": 3
   },
   "file_extension": ".py",
   "mimetype": "text/x-python",
   "name": "python",
   "nbconvert_exporter": "python",
   "pygments_lexer": "ipython3",
   "version": "3.8.6"
  }
 },
 "nbformat": 4,
 "nbformat_minor": 4
}
