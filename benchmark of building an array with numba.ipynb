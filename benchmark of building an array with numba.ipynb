{
 "cells": [
  {
   "cell_type": "code",
   "execution_count": 16,
   "id": "published-tribune",
   "metadata": {},
   "outputs": [
    {
     "name": "stdout",
     "output_type": "stream",
     "text": [
      "nb.__version__='0.53.1'\n",
      "ak.__version__='1.1.2'\n"
     ]
    }
   ],
   "source": [
    "import numba as nb\n",
    "import numpy as np\n",
    "import awkward as ak\n",
    "print(f\"{nb.__version__=}\")\n",
    "print(f\"{ak.__version__=}\")"
   ]
  },
  {
   "cell_type": "code",
   "execution_count": 7,
   "id": "cheap-reconstruction",
   "metadata": {},
   "outputs": [
    {
     "data": {
      "text/plain": [
       "array([[0.39252611, 0.05651275, 0.23650686, 0.09956927],\n",
       "       [0.9178847 , 0.90986099, 0.17544592, 0.53106168],\n",
       "       [0.44873192, 0.31110804, 0.11941734, 0.01507519],\n",
       "       [0.59870881, 0.85785305, 0.06746709, 0.3022105 ],\n",
       "       [0.97667136, 0.43067466, 0.31730613, 0.42436399],\n",
       "       [0.16104404, 0.6676255 , 0.12046342, 0.39054631],\n",
       "       [0.4929014 , 0.95516455, 0.71244708, 0.36235866],\n",
       "       [0.97760337, 0.87491227, 0.39344079, 0.83181161],\n",
       "       [0.82497665, 0.80883265, 0.22365667, 0.66929553],\n",
       "       [0.17060807, 0.80502955, 0.85891231, 0.43568308]])"
      ]
     },
     "execution_count": 7,
     "metadata": {},
     "output_type": "execute_result"
    }
   ],
   "source": [
    "@nb.njit\n",
    "def make1(n):\n",
    "    r = []\n",
    "    for i in range(n):\n",
    "        x = np.random.rand()\n",
    "        y = np.random.rand()\n",
    "        z = np.random.rand()\n",
    "        t = np.random.rand()\n",
    "        r.append((x, y, z, t))\n",
    "    return np.asarray(r)\n",
    "\n",
    "make1(10)"
   ]
  },
  {
   "cell_type": "code",
   "execution_count": 8,
   "id": "regulated-mattress",
   "metadata": {},
   "outputs": [
    {
     "name": "stdout",
     "output_type": "stream",
     "text": [
      "54.4 ms ± 965 µs per loop (mean ± std. dev. of 7 runs, 10 loops each)\n"
     ]
    }
   ],
   "source": [
    "%timeit make1(1000000)"
   ]
  },
  {
   "cell_type": "code",
   "execution_count": 10,
   "id": "mobile-participation",
   "metadata": {},
   "outputs": [
    {
     "data": {
      "text/plain": [
       "<Array [(0.474, 0.439, 0.0816, ... 0.0361)] type='10 * (float64, float64, float6...'>"
      ]
     },
     "execution_count": 10,
     "metadata": {},
     "output_type": "execute_result"
    }
   ],
   "source": [
    "@nb.njit\n",
    "def make2(b, n):\n",
    "    for i in range(n):\n",
    "        x = np.random.rand()\n",
    "        y = np.random.rand()\n",
    "        z = np.random.rand()\n",
    "        t = np.random.rand()\n",
    "        b.begin_tuple(4)\n",
    "        b.index(0).append(x)\n",
    "        b.index(1).append(y)\n",
    "        b.index(2).append(z)\n",
    "        b.index(3).append(t)\n",
    "        b.end_tuple()\n",
    "    return b\n",
    "\n",
    "make2(ak.ArrayBuilder(), 10).snapshot()"
   ]
  },
  {
   "cell_type": "code",
   "execution_count": 13,
   "id": "colored-insertion",
   "metadata": {},
   "outputs": [
    {
     "name": "stdout",
     "output_type": "stream",
     "text": [
      "297 ms ± 13.4 ms per loop (mean ± std. dev. of 7 runs, 1 loop each)\n"
     ]
    }
   ],
   "source": [
    "%timeit make2(ak.ArrayBuilder(), 1000000)"
   ]
  },
  {
   "cell_type": "code",
   "execution_count": null,
   "id": "theoretical-emission",
   "metadata": {},
   "outputs": [],
   "source": []
  }
 ],
 "metadata": {
  "kernelspec": {
   "display_name": "py38",
   "language": "python",
   "name": "py38"
  },
  "language_info": {
   "codemirror_mode": {
    "name": "ipython",
    "version": 3
   },
   "file_extension": ".py",
   "mimetype": "text/x-python",
   "name": "python",
   "nbconvert_exporter": "python",
   "pygments_lexer": "ipython3",
   "version": "3.8.6"
  }
 },
 "nbformat": 4,
 "nbformat_minor": 5
}
