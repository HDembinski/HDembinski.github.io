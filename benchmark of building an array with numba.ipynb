{
 "cells": [
  {
   "cell_type": "code",
   "execution_count": 1,
   "id": "published-tribune",
   "metadata": {},
   "outputs": [
    {
     "name": "stdout",
     "output_type": "stream",
     "text": [
      "nb.__version__='0.53.1'\n",
      "ak.__version__='1.1.2'\n"
     ]
    }
   ],
   "source": [
    "import numba as nb\n",
    "import numpy as np\n",
    "import awkward as ak\n",
    "print(f\"{nb.__version__=}\")\n",
    "print(f\"{ak.__version__=}\")"
   ]
  },
  {
   "cell_type": "code",
   "execution_count": 2,
   "id": "cheap-reconstruction",
   "metadata": {},
   "outputs": [
    {
     "data": {
      "text/plain": [
       "array([[0.05143897, 0.56236823, 0.49190618, 0.8463727 ],\n",
       "       [0.40086788, 0.11214028, 0.73381916, 0.01271347],\n",
       "       [0.39249995, 0.85734098, 0.73040477, 0.98108705],\n",
       "       [0.19868571, 0.9822063 , 0.19690991, 0.47102669],\n",
       "       [0.91878479, 0.64343115, 0.65672193, 0.91622806],\n",
       "       [0.9164418 , 0.22986888, 0.46767509, 0.0453714 ],\n",
       "       [0.92748057, 0.69954036, 0.59006723, 0.46919006],\n",
       "       [0.18812256, 0.49604258, 0.51890008, 0.10890755],\n",
       "       [0.07359581, 0.62881517, 0.02548408, 0.71056138],\n",
       "       [0.07436777, 0.13762487, 0.72200669, 0.10654549]])"
      ]
     },
     "execution_count": 2,
     "metadata": {},
     "output_type": "execute_result"
    }
   ],
   "source": [
    "@nb.njit\n",
    "def make1(n):\n",
    "    r = []\n",
    "    for i in range(n):\n",
    "        x = np.random.rand()\n",
    "        y = np.random.rand()\n",
    "        z = np.random.rand()\n",
    "        t = np.random.rand()\n",
    "        r.append((x, y, z, t))\n",
    "    return np.asarray(r)\n",
    "\n",
    "make1(10)"
   ]
  },
  {
   "cell_type": "code",
   "execution_count": 3,
   "id": "regulated-mattress",
   "metadata": {},
   "outputs": [
    {
     "name": "stdout",
     "output_type": "stream",
     "text": [
      "58.1 ms ± 1.04 ms per loop (mean ± std. dev. of 7 runs, 10 loops each)\n"
     ]
    }
   ],
   "source": [
    "%timeit make1(1000000)"
   ]
  },
  {
   "cell_type": "code",
   "execution_count": 4,
   "id": "mobile-participation",
   "metadata": {},
   "outputs": [
    {
     "data": {
      "text/plain": [
       "<Array [(0.767, 0.291, 0.758, ... 0.737)] type='10 * (float64, float64, float64,...'>"
      ]
     },
     "execution_count": 4,
     "metadata": {},
     "output_type": "execute_result"
    }
   ],
   "source": [
    "@nb.njit\n",
    "def make2(b, n):\n",
    "    for i in range(n):\n",
    "        x = np.random.rand()\n",
    "        y = np.random.rand()\n",
    "        z = np.random.rand()\n",
    "        t = np.random.rand()\n",
    "        b.begin_tuple(4)\n",
    "        b.index(0).append(x)\n",
    "        b.index(1).append(y)\n",
    "        b.index(2).append(z)\n",
    "        b.index(3).append(t)\n",
    "        b.end_tuple()\n",
    "    return b\n",
    "\n",
    "make2(ak.ArrayBuilder(), 10).snapshot()"
   ]
  },
  {
   "cell_type": "code",
   "execution_count": 5,
   "id": "colored-insertion",
   "metadata": {},
   "outputs": [
    {
     "name": "stdout",
     "output_type": "stream",
     "text": [
      "336 ms ± 8.52 ms per loop (mean ± std. dev. of 7 runs, 1 loop each)\n"
     ]
    }
   ],
   "source": [
    "%timeit make2(ak.ArrayBuilder(), 1000000)"
   ]
  },
  {
   "cell_type": "code",
   "execution_count": 6,
   "id": "theoretical-emission",
   "metadata": {},
   "outputs": [
    {
     "data": {
      "text/plain": [
       "<Array [(0.968, 0.454, 0.95, ... 0.545)] type='10 * (float64, float64, float64, ...'>"
      ]
     },
     "execution_count": 6,
     "metadata": {},
     "output_type": "execute_result"
    }
   ],
   "source": [
    "@nb.njit\n",
    "def make3(b, n):\n",
    "    for i in range(n):\n",
    "        x = np.random.rand()\n",
    "        y = np.random.rand()\n",
    "        z = np.random.rand()\n",
    "        t = np.random.rand()\n",
    "        b.begin_list()\n",
    "        b.append(x)\n",
    "        b.append(y)\n",
    "        b.append(z)\n",
    "        b.append(t)\n",
    "        b.end_list()\n",
    "    return b\n",
    "\n",
    "make2(ak.ArrayBuilder(), 10).snapshot()"
   ]
  },
  {
   "cell_type": "code",
   "execution_count": 7,
   "id": "verbal-primary",
   "metadata": {},
   "outputs": [
    {
     "name": "stdout",
     "output_type": "stream",
     "text": [
      "215 ms ± 9.66 ms per loop (mean ± std. dev. of 7 runs, 1 loop each)\n"
     ]
    }
   ],
   "source": [
    "%timeit make3(ak.ArrayBuilder(), 1000000)"
   ]
  }
 ],
 "metadata": {
  "kernelspec": {
   "display_name": "py38",
   "language": "python",
   "name": "py38"
  },
  "language_info": {
   "codemirror_mode": {
    "name": "ipython",
    "version": 3
   },
   "file_extension": ".py",
   "mimetype": "text/x-python",
   "name": "python",
   "nbconvert_exporter": "python",
   "pygments_lexer": "ipython3",
   "version": "3.8.6"
  }
 },
 "nbformat": 4,
 "nbformat_minor": 5
}
