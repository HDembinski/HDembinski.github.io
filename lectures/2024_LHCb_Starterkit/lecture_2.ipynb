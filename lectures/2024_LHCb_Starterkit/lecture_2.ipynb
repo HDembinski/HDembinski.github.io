{
 "cells": [
  {
   "cell_type": "raw",
   "id": "26820430",
   "metadata": {},
   "source": [
    "\n",
    "---\n",
    "date: 2024-02-09\n",
    "---\n"
   ]
  },
  {
   "cell_type": "markdown",
   "metadata": {
    "slideshow": {
     "slide_type": "slide"
    }
   },
   "source": [
    "# LHCb Starter Kit 2023: Statistics II\n",
    "\n",
    "**Hans Dembinski, TU Dortmund**\n",
    "\n",
    "* Uncertainties of estimators\n",
    "* Bootstrapping of uncertainties\n",
    "* Error propagation\n",
    "* Estimation of systematic uncertainties\n",
    "* Resources for further learning\n",
    "\n",
    "![image.png](https://imgs.xkcd.com/comics/error_bars.png)"
   ]
  },
  {
   "cell_type": "markdown",
   "metadata": {
    "slideshow": {
     "slide_type": "slide"
    }
   },
   "source": [
    "## What is an uncertainty, really?\n",
    "\n",
    "* Example: $a = 3 \\pm 0.5$, where 0.5 is the *standard error* (jargon: \"error\" = uncertainty)"
   ]
  },
  {
   "cell_type": "markdown",
   "metadata": {
    "slideshow": {
     "slide_type": "fragment"
    }
   },
   "source": [
    "* What we would like it to mean: \"The true value is between 2.5 and 3.5 with a probability of 68 %\"\n"
   ]
  },
  {
   "cell_type": "markdown",
   "metadata": {
    "slideshow": {
     "slide_type": "fragment"
    }
   },
   "source": [
    "* What it technically means (in most cases): \"The interval 2.5 to 3.5, **if always constructed with the same procedure**, contains the true value in 68 % of **identically repeated random experiments**.\""
   ]
  },
  {
   "cell_type": "markdown",
   "metadata": {
    "slideshow": {
     "slide_type": "fragment"
    }
   },
   "source": [
    "* Both statements coincide only in the asymptotic limit of infinitely large samples"
   ]
  },
  {
   "cell_type": "markdown",
   "metadata": {
    "slideshow": {
     "slide_type": "slide"
    }
   },
   "source": [
    "## Statistical and systematic uncertainties\n",
    "\n",
    "### Statistical uncertainty\n",
    "* Origin: We use finite sample instead of infinite distribution\n",
    "* Goes down as simple size increases\n",
    "* Example\n",
    "    * Arithmetic mean: $\\bar x = \\frac 1N\\sum_i x_i$\n",
    "    * Variance of $\\bar x$: $\\hat V_{\\bar x} = \\frac{1}{N - 1} \\frac 1 N\\sum_i (x_i - \\bar x)^2$\n",
    "* We have reliable standard recipes to calculate these"
   ]
  },
  {
   "cell_type": "markdown",
   "metadata": {
    "slideshow": {
     "slide_type": "slide"
    }
   },
   "source": [
    "#### Variance or standard deviation?\n",
    "* Standard deviation $\\sigma = \\sqrt{V}$\n",
    "* Variance is more fundamental\n",
    "    * Second central moment of distribution\n",
    "    * $V = V_1 + V_2$, but $\\sigma = \\sqrt{\\sigma_1^2 + \\sigma_2^2}$\n",
    "* Communicate standard deviations, compute with variances"
   ]
  },
  {
   "cell_type": "markdown",
   "metadata": {
    "slideshow": {
     "slide_type": "slide"
    }
   },
   "source": [
    "### Systematic uncertainty\n",
    "* Origin: Imperfect appartus or technique, deviations of reality from simplified models\n",
    "* Quantifies potential mistakes in analysis\n",
    "* Does not go down as sample size increases\n",
    "* Often correlated\n",
    "    * Real-life: Measured the length of ten shoes with ruler than has factory tolerance of 0.1 mm\n",
    "    * LHCb: Measured cross-sections with value of luminosity that has uncertainty of 1-2%\n",
    "* Not well covered in statistics books, but some theoretical results available"
   ]
  },
  {
   "cell_type": "markdown",
   "metadata": {
    "slideshow": {
     "slide_type": "slide"
    }
   },
   "source": [
    "## Estimators\n",
    "\n",
    "* **Estimator** maps dataset to value $\\{x_i \\} \\to \\hat p$\n",
    "    * Notation: $\\hat p$ is **estimate** of true value $p$\n",
    "    * Estimator can have functional form or be an algorithm\n",
    "    * Arithmetic mean $\\hat \\mu = \\frac 1N \\sum_i x_i$\n",
    "    * Sample median: Sort $\\{ x_i \\}$, pick value in the middle"
   ]
  },
  {
   "cell_type": "markdown",
   "metadata": {
    "slideshow": {
     "slide_type": "slide"
    }
   },
   "source": [
    "* Many kinds of estimators, some better than others\n",
    "\n",
    "* **Optimal** estimators\n",
    "    * As close to true value as possible\n",
    "    * Easy to compute and/or easy to apply to any problem\n",
    "    * Robustness against outliers\n",
    "\n",
    "* In HEP, we mainly use\n",
    "    * Plug-in estimator\n",
    "    * Maximum-likelihood estimator (MLE)"
   ]
  },
  {
   "cell_type": "markdown",
   "metadata": {
    "slideshow": {
     "slide_type": "slide"
    }
   },
   "source": [
    "## Bias and variance\n",
    "\n",
    "* In one experiment, we obtain sample $\\{ x_i \\}$ with size $N$ and compute estimate $\\hat a$\n",
    "* Sample $\\{ x_i \\}$ is random, estimate $\\hat a$ also random\n",
    "* If experiment is identically repeated $K$ times, we get sample $\\{ x_i \\}_k$ and estimate $\\hat a_k$ each time\n",
    "* Derive accuracy of estimator from estimates $\\{ \\hat a_1, \\hat a_2, \\dots, \\hat a_K \\}$\n",
    "    * Bias of $\\hat a$ = $\\frac1K \\sum_i (\\hat a_i - a)$\n",
    "    * Variance of $\\hat a$ = $\\frac 1 {K -1}\\sum_i (\\hat a_i - \\frac 1K \\sum_k \\hat a_k)^2$\n",
    "* Example for biased estimator: $\\hat V = \\frac1N\\sum_i (x_i - \\hat\\mu)^2$ is biased if $\\hat \\mu$ is estimated from same sample"
   ]
  },
  {
   "cell_type": "code",
   "execution_count": 1,
   "metadata": {
    "slideshow": {
     "slide_type": "slide"
    }
   },
   "outputs": [],
   "source": [
    "from matplotlib import pyplot as plt\n",
    "import numpy as np\n",
    "\n",
    "mu = 1\n",
    "sigma = 1\n",
    "\n",
    "N = 10\n",
    "K = 10000\n",
    "var_1, var_2 = [], []\n",
    "for k in range(K):\n",
    "    rng = np.random.default_rng(seed=k)\n",
    "    x_k = rng.normal(mu, sigma, size=N)\n",
    "    v1 = np.var(x_k)\n",
    "    v2 = np.mean((x_k - mu) ** 2)\n",
    "    var_1.append(v1)\n",
    "    var_2.append(v2)"
   ]
  },
  {
   "cell_type": "code",
   "execution_count": 2,
   "metadata": {
    "slideshow": {
     "slide_type": "slide"
    }
   },
   "outputs": [
    {
     "data": {
      "image/png": "[encoded data removed]",
      "text/plain": [
       "<Figure size 1000x400 with 2 Axes>"
      ]
     },
     "metadata": {},
     "output_type": "display_data"
    }
   ],
   "source": [
    "fig, ax = plt.subplots(1, 2, sharex=True, sharey=True, figsize=(10, 4))\n",
    "ax[0].hist(var_1, bins=50, label=\"$\\hat V_1$\");\n",
    "ax[1].hist(var_2, bins=50, label=\"$\\hat V_2$\");\n",
    "for axi in ax:\n",
    "    axi.axvline(sigma ** 2, color=\"C3\", label=\"true V\")\n",
    "ax[0].axvline(np.mean(var_1), color=\"C1\", ls=\"--\", label=\"mean of $\\hat V_1$\")\n",
    "ax[1].axvline(np.mean(var_2), color=\"C1\", ls=\"--\", label=\"mean of $\\hat V_2$\")\n",
    "for axi in ax:\n",
    "    axi.legend()"
   ]
  },
  {
   "cell_type": "markdown",
   "metadata": {
    "slideshow": {
     "slide_type": "slide"
    }
   },
   "source": [
    "* Well-known bias correction for this case:\n",
    "  $$\n",
    "  \\hat V_{1,\\text{corr}} = \\frac N{N-1}\\hat V_1\n",
    "  $$\n",
    "  For derivation see e.g. F. James book (references at end)"
   ]
  },
  {
   "cell_type": "markdown",
   "metadata": {},
   "source": [
    "**Exercise**\n",
    "* Compute $\\hat V_{1, \\text{corr}}$ and compare its mean with true $V$"
   ]
  },
  {
   "cell_type": "code",
   "execution_count": 3,
   "metadata": {},
   "outputs": [],
   "source": [
    "# do exercise here"
   ]
  },
  {
   "cell_type": "markdown",
   "metadata": {
    "slideshow": {
     "slide_type": "slide"
    }
   },
   "source": [
    "### Plug-in estimator\n",
    "\n",
    "* Plug-in principle: replace true values in some formula with estimates, e.g.\n",
    "\n",
    "$$\n",
    "c = g(a, b, \\dots) \\to \\hat c = g(\\hat a, \\hat b, \\dots)\n",
    "$$\n",
    "\n",
    "* Justification\n",
    "    * For $N\\to \\infty$, $\\Delta a = \\hat a - a \\to 0$ for any reasonable estimator\n",
    "    * $g(\\hat a) = g(a + \\Delta a) = g(a) + O(\\Delta a) \\to g(a)$ for smooth $g$"
   ]
  },
  {
   "cell_type": "markdown",
   "metadata": {
    "slideshow": {
     "slide_type": "slide"
    }
   },
   "source": [
    "* Example: $\\sqrt{N}$ uncertainty estimator for Poisson-distributed count $N$\n",
    "    * $P(N; \\lambda) = e^{-\\lambda} \\lambda^N / N!$\n",
    "    * Variance of counts: $V_N = \\lambda$\n",
    "    * Estimator $\\hat \\lambda = \\frac 1 K \\sum_k N_k$; for $K = 1$, $\\hat \\lambda = N$\n",
    "    * Plug-in principle: $\\hat V_N = \\hat \\lambda = N$\n",
    "    * Standard deviation: $\\hat \\sigma_N = \\sqrt{\\hat V_N} = \\sqrt{N}$"
   ]
  },
  {
   "cell_type": "markdown",
   "metadata": {
    "slideshow": {
     "slide_type": "fragment"
    }
   },
   "source": [
    "* Plug-in estimators can behave poorly in small samples\n",
    "* Poisson example: $\\lambda = 0.01$, sample $N = 0 \\to \\hat \\sigma_N = 0$\n"
   ]
  },
  {
   "cell_type": "markdown",
   "metadata": {
    "slideshow": {
     "slide_type": "slide"
    }
   },
   "source": [
    "## Bootstrapping bias and variance of estimators\n",
    "\n",
    "* Bootstrap method: generic way to compute bias and variance of any estimator"
   ]
  },
  {
   "cell_type": "markdown",
   "metadata": {
    "slideshow": {
     "slide_type": "slide"
    }
   },
   "source": [
    "### Parametric bootstrap\n",
    "\n",
    "* Available:\n",
    "    * Sample $\\{ x_i \\}$ distributed along $f(x; a)$, $a$ is unknown\n",
    "    * Estimator for $\\hat a$\n",
    "* Want to know bias and variance of estimator\n",
    "* Simulate experiment $K$ times\n",
    "    * Draw samples $\\{ x_i \\}_k$ of equal size from $\\hat f(x; \\hat a)$ (plugin-estimate)\n",
    "    * Compute $\\hat a_k$\n",
    "    * Bias $\\frac 1 K \\sum_k (\\hat a_k - \\hat a)$\n",
    "    * Variance $\\frac 1 {K-1} \\sum_k (\\hat a_k - \\frac 1K \\sum_k \\hat a_k)^2$"
   ]
  },
  {
   "cell_type": "code",
   "execution_count": 4,
   "metadata": {
    "slideshow": {
     "slide_type": "slide"
    }
   },
   "outputs": [],
   "source": [
    "from numba_stats import norm, truncexpon, poisson\n",
    "\n",
    "\n",
    "def make_data(s, mu, sigma, b, slope, seed):\n",
    "    sr = poisson.rvs(s, size=1, random_state=seed)[0]\n",
    "    br = poisson.rvs(b, size=1, random_state=seed)[0]\n",
    "    s = norm.rvs(mu, sigma, size=sr, random_state=seed)\n",
    "    b = truncexpon.rvs(0, 1, 0, slope, size=br, random_state=seed)\n",
    "    return np.append(s, b)\n",
    "\n",
    "truth = {\n",
    "    \"s\": 1000,\n",
    "    \"mu\": 0.5,\n",
    "    \"sigma\": 0.05,\n",
    "    \"b\": 500,\n",
    "    \"slope\": 1,\n",
    "}"
   ]
  },
  {
   "cell_type": "code",
   "execution_count": 5,
   "metadata": {
    "slideshow": {
     "slide_type": "slide"
    }
   },
   "outputs": [
    {
     "data": {
      "image/png": "[encoded data removed]",
      "text/plain": [
       "<Figure size 640x480 with 1 Axes>"
      ]
     },
     "metadata": {},
     "output_type": "display_data"
    }
   ],
   "source": [
    "x = make_data(**truth, seed=0)\n",
    "\n",
    "w, xe = plt.hist(x, bins=100)[:2];"
   ]
  },
  {
   "cell_type": "code",
   "execution_count": 6,
   "metadata": {
    "slideshow": {
     "slide_type": "slide"
    }
   },
   "outputs": [],
   "source": [
    "from iminuit import Minuit\n",
    "from iminuit.cost import ExtendedBinnedNLL\n",
    "from numba_stats import norm, truncexpon\n",
    "\n",
    "def model(x, s, mu, sigma, b, slope):\n",
    "    return s * norm.cdf(x, mu, sigma) + b * truncexpon.cdf(x, 0, 1, 0, slope)\n",
    "\n",
    "nll = ExtendedBinnedNLL(w, xe, model)\n",
    "m = Minuit(nll, **truth)\n",
    "m.limits[\"mu\"] = (0, 1)\n",
    "m.limits[\"s\", \"b\", \"sigma\", \"slope\"] = (0, None)"
   ]
  },
  {
   "cell_type": "code",
   "execution_count": 7,
   "metadata": {
    "slideshow": {
     "slide_type": "slide"
    }
   },
   "outputs": [
    {
     "data": {
      "text/html": [
       "<table>\n",
       "    <tr>\n",
       "        <th colspan=\"2\" style=\"text-align:center\" title=\"Minimizer\"> Migrad </th>\n",
       "    </tr>\n",
       "    <tr>\n",
       "        <td style=\"text-align:left\" title=\"Minimum value of function\"> FCN = 106.9 (χ²/ndof = 1.1) </td>\n",
       "        <td style=\"text-align:center\" title=\"Total number of function and (optional) gradient evaluations\"> Nfcn = 101 </td>\n",
       "    </tr>\n",
       "    <tr>\n",
       "        <td style=\"text-align:left\" title=\"Estimated distance to minimum and goal\"> EDM = 9.95e-07 (Goal: 0.0002) </td>\n",
       "        <td style=\"text-align:center\" title=\"Total run time of algorithms\">  </td>\n",
       "    </tr>\n",
       "    <tr>\n",
       "        <td style=\"text-align:center;background-color:#92CCA6;color:black\"> Valid Minimum </td>\n",
       "        <td style=\"text-align:center;background-color:#92CCA6;color:black\"> Below EDM threshold (goal x 10) </td>\n",
       "    </tr>\n",
       "    <tr>\n",
       "        <td style=\"text-align:center;background-color:#92CCA6;color:black\"> No parameters at limit </td>\n",
       "        <td style=\"text-align:center;background-color:#92CCA6;color:black\"> Below call limit </td>\n",
       "    </tr>\n",
       "    <tr>\n",
       "        <td style=\"text-align:center;background-color:#92CCA6;color:black\"> Hesse ok </td>\n",
       "        <td style=\"text-align:center;background-color:#92CCA6;color:black\"> Covariance accurate </td>\n",
       "    </tr>\n",
       "</table><table>\n",
       "    <tr>\n",
       "        <td></td>\n",
       "        <th title=\"Variable name\"> Name </th>\n",
       "        <th title=\"Value of parameter\"> Value </th>\n",
       "        <th title=\"Hesse error\"> Hesse Error </th>\n",
       "        <th title=\"Minos lower error\"> Minos Error- </th>\n",
       "        <th title=\"Minos upper error\"> Minos Error+ </th>\n",
       "        <th title=\"Lower limit of the parameter\"> Limit- </th>\n",
       "        <th title=\"Upper limit of the parameter\"> Limit+ </th>\n",
       "        <th title=\"Is the parameter fixed in the fit\"> Fixed </th>\n",
       "    </tr>\n",
       "    <tr>\n",
       "        <th> 0 </th>\n",
       "        <td> s </td>\n",
       "        <td> 1000 </td>\n",
       "        <td> 35 </td>\n",
       "        <td>  </td>\n",
       "        <td>  </td>\n",
       "        <td> 0 </td>\n",
       "        <td>  </td>\n",
       "        <td>  </td>\n",
       "    </tr>\n",
       "    <tr>\n",
       "        <th> 1 </th>\n",
       "        <td> mu </td>\n",
       "        <td> 0.4983 </td>\n",
       "        <td> 0.0018 </td>\n",
       "        <td>  </td>\n",
       "        <td>  </td>\n",
       "        <td> 0 </td>\n",
       "        <td> 1 </td>\n",
       "        <td>  </td>\n",
       "    </tr>\n",
       "    <tr>\n",
       "        <th> 2 </th>\n",
       "        <td> sigma </td>\n",
       "        <td> 0.0482 </td>\n",
       "        <td> 0.0014 </td>\n",
       "        <td>  </td>\n",
       "        <td>  </td>\n",
       "        <td> 0 </td>\n",
       "        <td>  </td>\n",
       "        <td>  </td>\n",
       "    </tr>\n",
       "    <tr>\n",
       "        <th> 3 </th>\n",
       "        <td> b </td>\n",
       "        <td> 510 </td>\n",
       "        <td> 27 </td>\n",
       "        <td>  </td>\n",
       "        <td>  </td>\n",
       "        <td> 0 </td>\n",
       "        <td>  </td>\n",
       "        <td>  </td>\n",
       "    </tr>\n",
       "    <tr>\n",
       "        <th> 4 </th>\n",
       "        <td> slope </td>\n",
       "        <td> 0.95 </td>\n",
       "        <td> 0.15 </td>\n",
       "        <td>  </td>\n",
       "        <td>  </td>\n",
       "        <td> 0 </td>\n",
       "        <td>  </td>\n",
       "        <td>  </td>\n",
       "    </tr>\n",
       "</table><table>\n",
       "    <tr>\n",
       "        <td></td>\n",
       "        <th> s </th>\n",
       "        <th> mu </th>\n",
       "        <th> sigma </th>\n",
       "        <th> b </th>\n",
       "        <th> slope </th>\n",
       "    </tr>\n",
       "    <tr>\n",
       "        <th> s </th>\n",
       "        <td> 1.2e+03 </td>\n",
       "        <td style=\"background-color:rgb(250,250,250);color:black\"> -48.4e-6 </td>\n",
       "        <td style=\"background-color:rgb(250,223,223);color:black\"> 8.9237e-3 <strong>(0.177)</strong> </td>\n",
       "        <td style=\"background-color:rgb(222,222,250);color:black\"> -0.2e3 <strong>(-0.213)</strong> </td>\n",
       "        <td style=\"background-color:rgb(241,241,250);color:black\"> -0.368 <strong>(-0.073)</strong> </td>\n",
       "    </tr>\n",
       "    <tr>\n",
       "        <th> mu </th>\n",
       "        <td style=\"background-color:rgb(250,250,250);color:black\"> -48.4e-6 </td>\n",
       "        <td> 3.09e-06 </td>\n",
       "        <td style=\"background-color:rgb(249,249,250);color:black\"> -0 <strong>(-0.005)</strong> </td>\n",
       "        <td style=\"background-color:rgb(250,250,250);color:black\"> 61.5e-6 <strong>(0.001)</strong> </td>\n",
       "        <td style=\"background-color:rgb(241,241,250);color:black\"> -17.0e-6 <strong>(-0.066)</strong> </td>\n",
       "    </tr>\n",
       "    <tr>\n",
       "        <th> sigma </th>\n",
       "        <td style=\"background-color:rgb(250,223,223);color:black\"> 8.9237e-3 <strong>(0.177)</strong> </td>\n",
       "        <td style=\"background-color:rgb(249,249,250);color:black\"> -0 <strong>(-0.005)</strong> </td>\n",
       "        <td> 2.12e-06 </td>\n",
       "        <td style=\"background-color:rgb(220,220,250);color:black\"> -8.9641e-3 <strong>(-0.231)</strong> </td>\n",
       "        <td style=\"background-color:rgb(240,240,250);color:black\"> -16.5e-6 <strong>(-0.078)</strong> </td>\n",
       "    </tr>\n",
       "    <tr>\n",
       "        <th> b </th>\n",
       "        <td style=\"background-color:rgb(222,222,250);color:black\"> -0.2e3 <strong>(-0.213)</strong> </td>\n",
       "        <td style=\"background-color:rgb(250,250,250);color:black\"> 61.5e-6 <strong>(0.001)</strong> </td>\n",
       "        <td style=\"background-color:rgb(220,220,250);color:black\"> -8.9641e-3 <strong>(-0.231)</strong> </td>\n",
       "        <td> 711 </td>\n",
       "        <td style=\"background-color:rgb(250,236,236);color:black\"> 0.354 <strong>(0.091)</strong> </td>\n",
       "    </tr>\n",
       "    <tr>\n",
       "        <th> slope </th>\n",
       "        <td style=\"background-color:rgb(241,241,250);color:black\"> -0.368 <strong>(-0.073)</strong> </td>\n",
       "        <td style=\"background-color:rgb(241,241,250);color:black\"> -17.0e-6 <strong>(-0.066)</strong> </td>\n",
       "        <td style=\"background-color:rgb(240,240,250);color:black\"> -16.5e-6 <strong>(-0.078)</strong> </td>\n",
       "        <td style=\"background-color:rgb(250,236,236);color:black\"> 0.354 <strong>(0.091)</strong> </td>\n",
       "        <td> 0.0213 </td>\n",
       "    </tr>\n",
       "</table><?xml version=\"1.0\" encoding=\"utf-8\" standalone=\"no\"?>\n",
       "<!DOCTYPE svg PUBLIC \"-//W3C//DTD SVG 1.1//EN\"\n",
       "  \"http://www.w3.org/Graphics/SVG/1.1/DTD/svg11.dtd\">\n",
       "<svg xmlns:xlink=\"http://www.w3.org/1999/xlink\" width=\"360pt\" height=\"288pt\" viewBox=\"0 0 360 288\" xmlns=\"http://www.w3.org/2000/svg\" version=\"1.1\">\n",
       " <metadata>\n",
       "  <rdf:RDF xmlns:dc=\"http://purl.org/dc/elements/1.1/\" xmlns:cc=\"http://creativecommons.org/ns#\" xmlns:rdf=\"http://www.w3.org/1999/02/22-rdf-syntax-ns#\">\n",
       "   <cc:Work>\n",
       "    <dc:type rdf:resource=\"http://purl.org/dc/dcmitype/StillImage\"/>\n",
       "    <dc:date>2024-02-13T09:47:06.936461</dc:date>\n",
       "    <dc:format>image/svg+xml</dc:format>\n",
       "    <dc:creator>\n",
       "     <cc:Agent>\n",
       "      <dc:title>Matplotlib v3.8.2, https://matplotlib.org/</dc:title>\n",
       "     </cc:Agent>\n",
       "    </dc:creator>\n",
       "   </cc:Work>\n",
       "  </rdf:RDF>\n",
       " </metadata>\n",
       " <defs>\n",
       "  <style type=\"text/css\">*{stroke-linejoin: round; stroke-linecap: butt}</style>\n",
       " </defs>\n",
       " <g id=\"figure_1\">\n",
       "  <g id=\"patch_1\">\n",
       "   <path d=\"M 0 288 \n",
       "L 360 288 \n",
       "L 360 0 \n",
       "L 0 0 \n",
       "z\n",
       "\" style=\"fill: #ffffff\"/>\n",
       "  </g>\n",
       "  <g id=\"axes_1\">\n",
       "   <g id=\"patch_2\">\n",
       "    <path d=\"M 29.08774 268.321635 \n",
       "L 356.99976 268.321635 \n",
       "L 356.99976 3.00024 \n",
       "L 29.08774 3.00024 \n",
       "z\n",
       "\" style=\"fill: #ffffff\"/>\n",
       "   </g>\n",
       "   <g id=\"patch_3\">\n",
       "    <path d=\"M 43.992832 268.321635 \n",
       "L 43.992832 248.456027 \n",
       "L 46.97385 248.456027 \n",
       "L 46.97385 248.663862 \n",
       "L 49.954869 248.663862 \n",
       "L 49.954869 248.869522 \n",
       "L 52.935887 248.869522 \n",
       "L 52.935887 249.07303 \n",
       "L 55.916905 249.07303 \n",
       "L 55.916905 249.27441 \n",
       "L 58.897924 249.27441 \n",
       "L 58.897924 249.473682 \n",
       "L 61.878942 249.473682 \n",
       "L 61.878942 249.67087 \n",
       "L 64.85996 249.67087 \n",
       "L 64.85996 249.865995 \n",
       "L 67.840979 249.865995 \n",
       "L 67.840979 250.059078 \n",
       "L 70.821997 250.059078 \n",
       "L 70.821997 250.250141 \n",
       "L 73.803015 250.250141 \n",
       "L 73.803015 250.439206 \n",
       "L 76.784034 250.439206 \n",
       "L 76.784034 250.626292 \n",
       "L 79.765052 250.626292 \n",
       "L 79.765052 250.811421 \n",
       "L 82.746071 250.811421 \n",
       "L 82.746071 250.994614 \n",
       "L 85.727089 250.994614 \n",
       "L 85.727089 251.175889 \n",
       "L 88.708107 251.175889 \n",
       "L 88.708107 251.355269 \n",
       "L 91.689126 251.355269 \n",
       "L 91.689126 251.532771 \n",
       "L 94.670144 251.532771 \n",
       "L 94.670144 251.708417 \n",
       "L 97.651162 251.708417 \n",
       "L 97.651162 251.882224 \n",
       "L 100.632181 251.882224 \n",
       "L 100.632181 252.054213 \n",
       "L 103.613199 252.054213 \n",
       "L 103.613199 252.224402 \n",
       "L 106.594217 252.224402 \n",
       "L 106.594217 252.392805 \n",
       "L 109.575236 252.392805 \n",
       "L 109.575236 252.559434 \n",
       "L 112.556254 252.559434 \n",
       "L 112.556254 252.724281 \n",
       "L 115.537273 252.724281 \n",
       "L 115.537273 252.88729 \n",
       "L 118.518291 252.88729 \n",
       "L 118.518291 253.048286 \n",
       "L 121.499309 253.048286 \n",
       "L 121.499309 253.206793 \n",
       "L 124.480328 253.206793 \n",
       "L 124.480328 253.36163 \n",
       "L 127.461346 253.36163 \n",
       "L 127.461346 253.510048 \n",
       "L 130.442364 253.510048 \n",
       "L 130.442364 253.645989 \n",
       "L 133.423383 253.645989 \n",
       "L 133.423383 253.756786 \n",
       "L 136.404401 253.756786 \n",
       "L 136.404401 253.817327 \n",
       "L 139.385419 253.817327 \n",
       "L 139.385419 253.780436 \n",
       "L 142.366438 253.780436 \n",
       "L 142.366438 253.562312 \n",
       "L 145.347456 253.562312 \n",
       "L 145.347456 253.02251 \n",
       "L 148.328475 253.02251 \n",
       "L 148.328475 251.939748 \n",
       "L 151.309493 251.939748 \n",
       "L 151.309493 249.98783 \n",
       "L 154.290511 249.98783 \n",
       "L 154.290511 246.720086 \n",
       "L 157.27153 246.720086 \n",
       "L 157.27153 241.574799 \n",
       "L 160.252548 241.574799 \n",
       "L 160.252548 233.91608 \n",
       "L 163.233566 233.91608 \n",
       "L 163.233566 223.121906 \n",
       "L 166.214585 223.121906 \n",
       "L 166.214585 208.721471 \n",
       "L 169.195603 208.721471 \n",
       "L 169.195603 190.567536 \n",
       "L 172.176621 190.567536 \n",
       "L 172.176621 169.009552 \n",
       "L 175.15764 169.009552 \n",
       "L 175.15764 145.016981 \n",
       "L 178.138658 145.016981 \n",
       "L 178.138658 120.198361 \n",
       "L 181.119677 120.198361 \n",
       "L 181.119677 96.676756 \n",
       "L 184.100695 96.676756 \n",
       "L 184.100695 76.816874 \n",
       "L 187.081713 76.816874 \n",
       "L 187.081713 62.844745 \n",
       "L 190.062732 62.844745 \n",
       "L 190.062732 56.441953 \n",
       "L 193.04375 56.441953 \n",
       "L 193.04375 58.416073 \n",
       "L 196.024768 58.416073 \n",
       "L 196.024768 68.536473 \n",
       "L 199.005787 68.536473 \n",
       "L 199.005787 85.581571 \n",
       "L 201.986805 85.581571 \n",
       "L 201.986805 107.584193 \n",
       "L 204.967823 107.584193 \n",
       "L 204.967823 132.206973 \n",
       "L 207.948842 132.206973 \n",
       "L 207.948842 157.149 \n",
       "L 210.92986 157.149 \n",
       "L 210.92986 180.48712 \n",
       "L 213.910879 180.48712 \n",
       "L 213.910879 200.886161 \n",
       "L 216.891897 200.886161 \n",
       "L 216.891897 217.657636 \n",
       "L 219.872915 217.657636 \n",
       "L 219.872915 230.688843 \n",
       "L 222.853934 230.688843 \n",
       "L 222.853934 240.290895 \n",
       "L 225.834952 240.290895 \n",
       "L 225.834952 247.020495 \n",
       "L 228.81597 247.020495 \n",
       "L 228.81597 251.519871 \n",
       "L 231.796989 251.519871 \n",
       "L 231.796989 254.400346 \n",
       "L 234.778007 254.400346 \n",
       "L 234.778007 256.175935 \n",
       "L 237.759025 256.175935 \n",
       "L 237.759025 257.239731 \n",
       "L 240.740044 257.239731 \n",
       "L 240.740044 257.869391 \n",
       "L 243.721062 257.869391 \n",
       "L 243.721062 258.247741 \n",
       "L 246.702081 258.247741 \n",
       "L 246.702081 258.487683 \n",
       "L 249.683099 258.487683 \n",
       "L 249.683099 258.654875 \n",
       "L 252.664117 258.654875 \n",
       "L 252.664117 258.785391 \n",
       "L 255.645136 258.785391 \n",
       "L 255.645136 258.897995 \n",
       "L 258.626154 258.897995 \n",
       "L 258.626154 259.001947 \n",
       "L 261.607172 259.001947 \n",
       "L 261.607172 259.101593 \n",
       "L 264.588191 259.101593 \n",
       "L 264.588191 259.198873 \n",
       "L 267.569209 259.198873 \n",
       "L 267.569209 259.294615 \n",
       "L 270.550227 259.294615 \n",
       "L 270.550227 259.389161 \n",
       "L 273.531246 259.389161 \n",
       "L 273.531246 259.482648 \n",
       "L 276.512264 259.482648 \n",
       "L 276.512264 259.575133 \n",
       "L 279.493283 259.575133 \n",
       "L 279.493283 259.666642 \n",
       "L 282.474301 259.666642 \n",
       "L 282.474301 259.757192 \n",
       "L 285.455319 259.757192 \n",
       "L 285.455319 259.846794 \n",
       "L 288.436338 259.846794 \n",
       "L 288.436338 259.935458 \n",
       "L 291.417356 259.935458 \n",
       "L 291.417356 260.023194 \n",
       "L 294.398374 260.023194 \n",
       "L 294.398374 260.110013 \n",
       "L 297.379393 260.110013 \n",
       "L 297.379393 260.195923 \n",
       "L 300.360411 260.195923 \n",
       "L 300.360411 260.280934 \n",
       "L 303.341429 260.280934 \n",
       "L 303.341429 260.365056 \n",
       "L 306.322448 260.365056 \n",
       "L 306.322448 260.448298 \n",
       "L 309.303466 260.448298 \n",
       "L 309.303466 260.530669 \n",
       "L 312.284485 260.530669 \n",
       "L 312.284485 260.612179 \n",
       "L 315.265503 260.612179 \n",
       "L 315.265503 260.692835 \n",
       "L 318.246521 260.692835 \n",
       "L 318.246521 260.772648 \n",
       "L 321.22754 260.772648 \n",
       "L 321.22754 260.851626 \n",
       "L 324.208558 260.851626 \n",
       "L 324.208558 260.929777 \n",
       "L 327.189576 260.929777 \n",
       "L 327.189576 261.007111 \n",
       "L 330.170595 261.007111 \n",
       "L 330.170595 261.083636 \n",
       "L 333.151613 261.083636 \n",
       "L 333.151613 261.15936 \n",
       "L 336.132631 261.15936 \n",
       "L 336.132631 261.234292 \n",
       "L 339.11365 261.234292 \n",
       "L 339.11365 261.30844 \n",
       "L 342.094668 261.30844 \n",
       "L 342.094668 268.321635 \n",
       "\" clip-path=\"url(#p77ac18d8ac)\" style=\"fill: #1f77b4\"/>\n",
       "   </g>\n",
       "   <g id=\"matplotlib.axis_1\">\n",
       "    <g id=\"xtick_1\">\n",
       "     <g id=\"line2d_1\">\n",
       "      <defs>\n",
       "       <path id=\"m26895d53cb\" d=\"M 0 0 \n",
       "L 0 3.5 \n",
       "\" style=\"stroke: #000000; stroke-width: 0.8\"/>\n",
       "      </defs>\n",
       "      <g>\n",
       "       <use xlink:href=\"#m26895d53cb\" x=\"43.102308\" y=\"268.321635\" style=\"stroke: #000000; stroke-width: 0.8\"/>\n",
       "      </g>\n",
       "     </g>\n",
       "     <g id=\"text_1\">\n",
       "      <!-- 0.0 -->\n",
       "      <g transform=\"translate(35.150746 282.920073) scale(0.1 -0.1)\">\n",
       "       <defs>\n",
       "        <path id=\"DejaVuSans-30\" d=\"M 2034 4250 \n",
       "Q 1547 4250 1301 3770 \n",
       "Q 1056 3291 1056 2328 \n",
       "Q 1056 1369 1301 889 \n",
       "Q 1547 409 2034 409 \n",
       "Q 2525 409 2770 889 \n",
       "Q 3016 1369 3016 2328 \n",
       "Q 3016 3291 2770 3770 \n",
       "Q 2525 4250 2034 4250 \n",
       "z\n",
       "M 2034 4750 \n",
       "Q 2819 4750 3233 4129 \n",
       "Q 3647 3509 3647 2328 \n",
       "Q 3647 1150 3233 529 \n",
       "Q 2819 -91 2034 -91 \n",
       "Q 1250 -91 836 529 \n",
       "Q 422 1150 422 2328 \n",
       "Q 422 3509 836 4129 \n",
       "Q 1250 4750 2034 4750 \n",
       "z\n",
       "\" transform=\"scale(0.015625)\"/>\n",
       "        <path id=\"DejaVuSans-2e\" d=\"M 684 794 \n",
       "L 1344 794 \n",
       "L 1344 0 \n",
       "L 684 0 \n",
       "L 684 794 \n",
       "z\n",
       "\" transform=\"scale(0.015625)\"/>\n",
       "       </defs>\n",
       "       <use xlink:href=\"#DejaVuSans-30\"/>\n",
       "       <use xlink:href=\"#DejaVuSans-2e\" x=\"63.623047\"/>\n",
       "       <use xlink:href=\"#DejaVuSans-30\" x=\"95.410156\"/>\n",
       "      </g>\n",
       "     </g>\n",
       "    </g>\n",
       "    <g id=\"xtick_2\">\n",
       "     <g id=\"line2d_2\">\n",
       "      <g>\n",
       "       <use xlink:href=\"#m26895d53cb\" x=\"103.019369\" y=\"268.321635\" style=\"stroke: #000000; stroke-width: 0.8\"/>\n",
       "      </g>\n",
       "     </g>\n",
       "     <g id=\"text_2\">\n",
       "      <!-- 0.2 -->\n",
       "      <g transform=\"translate(95.067806 282.920073) scale(0.1 -0.1)\">\n",
       "       <defs>\n",
       "        <path id=\"DejaVuSans-32\" d=\"M 1228 531 \n",
       "L 3431 531 \n",
       "L 3431 0 \n",
       "L 469 0 \n",
       "L 469 531 \n",
       "Q 828 903 1448 1529 \n",
       "Q 2069 2156 2228 2338 \n",
       "Q 2531 2678 2651 2914 \n",
       "Q 2772 3150 2772 3378 \n",
       "Q 2772 3750 2511 3984 \n",
       "Q 2250 4219 1831 4219 \n",
       "Q 1534 4219 1204 4116 \n",
       "Q 875 4013 500 3803 \n",
       "L 500 4441 \n",
       "Q 881 4594 1212 4672 \n",
       "Q 1544 4750 1819 4750 \n",
       "Q 2544 4750 2975 4387 \n",
       "Q 3406 4025 3406 3419 \n",
       "Q 3406 3131 3298 2873 \n",
       "Q 3191 2616 2906 2266 \n",
       "Q 2828 2175 2409 1742 \n",
       "Q 1991 1309 1228 531 \n",
       "z\n",
       "\" transform=\"scale(0.015625)\"/>\n",
       "       </defs>\n",
       "       <use xlink:href=\"#DejaVuSans-30\"/>\n",
       "       <use xlink:href=\"#DejaVuSans-2e\" x=\"63.623047\"/>\n",
       "       <use xlink:href=\"#DejaVuSans-32\" x=\"95.410156\"/>\n",
       "      </g>\n",
       "     </g>\n",
       "    </g>\n",
       "    <g id=\"xtick_3\">\n",
       "     <g id=\"line2d_3\">\n",
       "      <g>\n",
       "       <use xlink:href=\"#m26895d53cb\" x=\"162.936429\" y=\"268.321635\" style=\"stroke: #000000; stroke-width: 0.8\"/>\n",
       "      </g>\n",
       "     </g>\n",
       "     <g id=\"text_3\">\n",
       "      <!-- 0.4 -->\n",
       "      <g transform=\"translate(154.984866 282.920073) scale(0.1 -0.1)\">\n",
       "       <defs>\n",
       "        <path id=\"DejaVuSans-34\" d=\"M 2419 4116 \n",
       "L 825 1625 \n",
       "L 2419 1625 \n",
       "L 2419 4116 \n",
       "z\n",
       "M 2253 4666 \n",
       "L 3047 4666 \n",
       "L 3047 1625 \n",
       "L 3713 1625 \n",
       "L 3713 1100 \n",
       "L 3047 1100 \n",
       "L 3047 0 \n",
       "L 2419 0 \n",
       "L 2419 1100 \n",
       "L 313 1100 \n",
       "L 313 1709 \n",
       "L 2253 4666 \n",
       "z\n",
       "\" transform=\"scale(0.015625)\"/>\n",
       "       </defs>\n",
       "       <use xlink:href=\"#DejaVuSans-30\"/>\n",
       "       <use xlink:href=\"#DejaVuSans-2e\" x=\"63.623047\"/>\n",
       "       <use xlink:href=\"#DejaVuSans-34\" x=\"95.410156\"/>\n",
       "      </g>\n",
       "     </g>\n",
       "    </g>\n",
       "    <g id=\"xtick_4\">\n",
       "     <g id=\"line2d_4\">\n",
       "      <g>\n",
       "       <use xlink:href=\"#m26895d53cb\" x=\"222.853489\" y=\"268.321635\" style=\"stroke: #000000; stroke-width: 0.8\"/>\n",
       "      </g>\n",
       "     </g>\n",
       "     <g id=\"text_4\">\n",
       "      <!-- 0.6 -->\n",
       "      <g transform=\"translate(214.901927 282.920073) scale(0.1 -0.1)\">\n",
       "       <defs>\n",
       "        <path id=\"DejaVuSans-36\" d=\"M 2113 2584 \n",
       "Q 1688 2584 1439 2293 \n",
       "Q 1191 2003 1191 1497 \n",
       "Q 1191 994 1439 701 \n",
       "Q 1688 409 2113 409 \n",
       "Q 2538 409 2786 701 \n",
       "Q 3034 994 3034 1497 \n",
       "Q 3034 2003 2786 2293 \n",
       "Q 2538 2584 2113 2584 \n",
       "z\n",
       "M 3366 4563 \n",
       "L 3366 3988 \n",
       "Q 3128 4100 2886 4159 \n",
       "Q 2644 4219 2406 4219 \n",
       "Q 1781 4219 1451 3797 \n",
       "Q 1122 3375 1075 2522 \n",
       "Q 1259 2794 1537 2939 \n",
       "Q 1816 3084 2150 3084 \n",
       "Q 2853 3084 3261 2657 \n",
       "Q 3669 2231 3669 1497 \n",
       "Q 3669 778 3244 343 \n",
       "Q 2819 -91 2113 -91 \n",
       "Q 1303 -91 875 529 \n",
       "Q 447 1150 447 2328 \n",
       "Q 447 3434 972 4092 \n",
       "Q 1497 4750 2381 4750 \n",
       "Q 2619 4750 2861 4703 \n",
       "Q 3103 4656 3366 4563 \n",
       "z\n",
       "\" transform=\"scale(0.015625)\"/>\n",
       "       </defs>\n",
       "       <use xlink:href=\"#DejaVuSans-30\"/>\n",
       "       <use xlink:href=\"#DejaVuSans-2e\" x=\"63.623047\"/>\n",
       "       <use xlink:href=\"#DejaVuSans-36\" x=\"95.410156\"/>\n",
       "      </g>\n",
       "     </g>\n",
       "    </g>\n",
       "    <g id=\"xtick_5\">\n",
       "     <g id=\"line2d_5\">\n",
       "      <g>\n",
       "       <use xlink:href=\"#m26895d53cb\" x=\"282.770549\" y=\"268.321635\" style=\"stroke: #000000; stroke-width: 0.8\"/>\n",
       "      </g>\n",
       "     </g>\n",
       "     <g id=\"text_5\">\n",
       "      <!-- 0.8 -->\n",
       "      <g transform=\"translate(274.818987 282.920073) scale(0.1 -0.1)\">\n",
       "       <defs>\n",
       "        <path id=\"DejaVuSans-38\" d=\"M 2034 2216 \n",
       "Q 1584 2216 1326 1975 \n",
       "Q 1069 1734 1069 1313 \n",
       "Q 1069 891 1326 650 \n",
       "Q 1584 409 2034 409 \n",
       "Q 2484 409 2743 651 \n",
       "Q 3003 894 3003 1313 \n",
       "Q 3003 1734 2745 1975 \n",
       "Q 2488 2216 2034 2216 \n",
       "z\n",
       "M 1403 2484 \n",
       "Q 997 2584 770 2862 \n",
       "Q 544 3141 544 3541 \n",
       "Q 544 4100 942 4425 \n",
       "Q 1341 4750 2034 4750 \n",
       "Q 2731 4750 3128 4425 \n",
       "Q 3525 4100 3525 3541 \n",
       "Q 3525 3141 3298 2862 \n",
       "Q 3072 2584 2669 2484 \n",
       "Q 3125 2378 3379 2068 \n",
       "Q 3634 1759 3634 1313 \n",
       "Q 3634 634 3220 271 \n",
       "Q 2806 -91 2034 -91 \n",
       "Q 1263 -91 848 271 \n",
       "Q 434 634 434 1313 \n",
       "Q 434 1759 690 2068 \n",
       "Q 947 2378 1403 2484 \n",
       "z\n",
       "M 1172 3481 \n",
       "Q 1172 3119 1398 2916 \n",
       "Q 1625 2713 2034 2713 \n",
       "Q 2441 2713 2670 2916 \n",
       "Q 2900 3119 2900 3481 \n",
       "Q 2900 3844 2670 4047 \n",
       "Q 2441 4250 2034 4250 \n",
       "Q 1625 4250 1398 4047 \n",
       "Q 1172 3844 1172 3481 \n",
       "z\n",
       "\" transform=\"scale(0.015625)\"/>\n",
       "       </defs>\n",
       "       <use xlink:href=\"#DejaVuSans-30\"/>\n",
       "       <use xlink:href=\"#DejaVuSans-2e\" x=\"63.623047\"/>\n",
       "       <use xlink:href=\"#DejaVuSans-38\" x=\"95.410156\"/>\n",
       "      </g>\n",
       "     </g>\n",
       "    </g>\n",
       "    <g id=\"xtick_6\">\n",
       "     <g id=\"line2d_6\">\n",
       "      <g>\n",
       "       <use xlink:href=\"#m26895d53cb\" x=\"342.68761\" y=\"268.321635\" style=\"stroke: #000000; stroke-width: 0.8\"/>\n",
       "      </g>\n",
       "     </g>\n",
       "     <g id=\"text_6\">\n",
       "      <!-- 1.0 -->\n",
       "      <g transform=\"translate(334.736047 282.920073) scale(0.1 -0.1)\">\n",
       "       <defs>\n",
       "        <path id=\"DejaVuSans-31\" d=\"M 794 531 \n",
       "L 1825 531 \n",
       "L 1825 4091 \n",
       "L 703 3866 \n",
       "L 703 4441 \n",
       "L 1819 4666 \n",
       "L 2450 4666 \n",
       "L 2450 531 \n",
       "L 3481 531 \n",
       "L 3481 0 \n",
       "L 794 0 \n",
       "L 794 531 \n",
       "z\n",
       "\" transform=\"scale(0.015625)\"/>\n",
       "       </defs>\n",
       "       <use xlink:href=\"#DejaVuSans-31\"/>\n",
       "       <use xlink:href=\"#DejaVuSans-2e\" x=\"63.623047\"/>\n",
       "       <use xlink:href=\"#DejaVuSans-30\" x=\"95.410156\"/>\n",
       "      </g>\n",
       "     </g>\n",
       "    </g>\n",
       "   </g>\n",
       "   <g id=\"matplotlib.axis_2\">\n",
       "    <g id=\"ytick_1\">\n",
       "     <g id=\"line2d_7\">\n",
       "      <defs>\n",
       "       <path id=\"m85a9d9513d\" d=\"M 0 0 \n",
       "L -3.5 0 \n",
       "\" style=\"stroke: #000000; stroke-width: 0.8\"/>\n",
       "      </defs>\n",
       "      <g>\n",
       "       <use xlink:href=\"#m85a9d9513d\" x=\"29.08774\" y=\"268.321635\" style=\"stroke: #000000; stroke-width: 0.8\"/>\n",
       "      </g>\n",
       "     </g>\n",
       "     <g id=\"text_7\">\n",
       "      <!-- 0 -->\n",
       "      <g transform=\"translate(15.72524 272.120854) scale(0.1 -0.1)\">\n",
       "       <use xlink:href=\"#DejaVuSans-30\"/>\n",
       "      </g>\n",
       "     </g>\n",
       "    </g>\n",
       "    <g id=\"ytick_2\">\n",
       "     <g id=\"line2d_8\">\n",
       "      <g>\n",
       "       <use xlink:href=\"#m85a9d9513d\" x=\"29.08774\" y=\"219.585213\" style=\"stroke: #000000; stroke-width: 0.8\"/>\n",
       "      </g>\n",
       "     </g>\n",
       "     <g id=\"text_8\">\n",
       "      <!-- 20 -->\n",
       "      <g transform=\"translate(9.36274 223.384431) scale(0.1 -0.1)\">\n",
       "       <use xlink:href=\"#DejaVuSans-32\"/>\n",
       "       <use xlink:href=\"#DejaVuSans-30\" x=\"63.623047\"/>\n",
       "      </g>\n",
       "     </g>\n",
       "    </g>\n",
       "    <g id=\"ytick_3\">\n",
       "     <g id=\"line2d_9\">\n",
       "      <g>\n",
       "       <use xlink:href=\"#m85a9d9513d\" x=\"29.08774\" y=\"170.84879\" style=\"stroke: #000000; stroke-width: 0.8\"/>\n",
       "      </g>\n",
       "     </g>\n",
       "     <g id=\"text_9\">\n",
       "      <!-- 40 -->\n",
       "      <g transform=\"translate(9.36274 174.648009) scale(0.1 -0.1)\">\n",
       "       <use xlink:href=\"#DejaVuSans-34\"/>\n",
       "       <use xlink:href=\"#DejaVuSans-30\" x=\"63.623047\"/>\n",
       "      </g>\n",
       "     </g>\n",
       "    </g>\n",
       "    <g id=\"ytick_4\">\n",
       "     <g id=\"line2d_10\">\n",
       "      <g>\n",
       "       <use xlink:href=\"#m85a9d9513d\" x=\"29.08774\" y=\"122.112368\" style=\"stroke: #000000; stroke-width: 0.8\"/>\n",
       "      </g>\n",
       "     </g>\n",
       "     <g id=\"text_10\">\n",
       "      <!-- 60 -->\n",
       "      <g transform=\"translate(9.36274 125.911586) scale(0.1 -0.1)\">\n",
       "       <use xlink:href=\"#DejaVuSans-36\"/>\n",
       "       <use xlink:href=\"#DejaVuSans-30\" x=\"63.623047\"/>\n",
       "      </g>\n",
       "     </g>\n",
       "    </g>\n",
       "    <g id=\"ytick_5\">\n",
       "     <g id=\"line2d_11\">\n",
       "      <g>\n",
       "       <use xlink:href=\"#m85a9d9513d\" x=\"29.08774\" y=\"73.375945\" style=\"stroke: #000000; stroke-width: 0.8\"/>\n",
       "      </g>\n",
       "     </g>\n",
       "     <g id=\"text_11\">\n",
       "      <!-- 80 -->\n",
       "      <g transform=\"translate(9.36274 77.175164) scale(0.1 -0.1)\">\n",
       "       <use xlink:href=\"#DejaVuSans-38\"/>\n",
       "       <use xlink:href=\"#DejaVuSans-30\" x=\"63.623047\"/>\n",
       "      </g>\n",
       "     </g>\n",
       "    </g>\n",
       "    <g id=\"ytick_6\">\n",
       "     <g id=\"line2d_12\">\n",
       "      <g>\n",
       "       <use xlink:href=\"#m85a9d9513d\" x=\"29.08774\" y=\"24.639523\" style=\"stroke: #000000; stroke-width: 0.8\"/>\n",
       "      </g>\n",
       "     </g>\n",
       "     <g id=\"text_12\">\n",
       "      <!-- 100 -->\n",
       "      <g transform=\"translate(3.00024 28.438742) scale(0.1 -0.1)\">\n",
       "       <use xlink:href=\"#DejaVuSans-31\"/>\n",
       "       <use xlink:href=\"#DejaVuSans-30\" x=\"63.623047\"/>\n",
       "       <use xlink:href=\"#DejaVuSans-30\" x=\"127.246094\"/>\n",
       "      </g>\n",
       "     </g>\n",
       "    </g>\n",
       "   </g>\n",
       "   <g id=\"LineCollection_1\">\n",
       "    <path d=\"M 45.483341 245.429044 \n",
       "L 45.483341 227.856877 \n",
       "\" clip-path=\"url(#p77ac18d8ac)\" style=\"fill: none; stroke: #000000; stroke-width: 1.5\"/>\n",
       "    <path d=\"M 48.464359 257.71111 \n",
       "L 48.464359 244.816664 \n",
       "\" clip-path=\"url(#p77ac18d8ac)\" style=\"fill: none; stroke: #000000; stroke-width: 1.5\"/>\n",
       "    <path d=\"M 51.445378 265.23187 \n",
       "L 51.445378 256.790474 \n",
       "\" clip-path=\"url(#p77ac18d8ac)\" style=\"fill: none; stroke: #000000; stroke-width: 1.5\"/>\n",
       "    <path d=\"M 54.426396 249.598624 \n",
       "L 54.426396 233.434581 \n",
       "\" clip-path=\"url(#p77ac18d8ac)\" style=\"fill: none; stroke: #000000; stroke-width: 1.5\"/>\n",
       "    <path d=\"M 57.407414 255.719437 \n",
       "L 57.407414 241.934695 \n",
       "\" clip-path=\"url(#p77ac18d8ac)\" style=\"fill: none; stroke: #000000; stroke-width: 1.5\"/>\n",
       "    <path d=\"M 60.388433 261.586427 \n",
       "L 60.388433 250.688632 \n",
       "\" clip-path=\"url(#p77ac18d8ac)\" style=\"fill: none; stroke: #000000; stroke-width: 1.5\"/>\n",
       "    <path d=\"M 63.369451 255.719437 \n",
       "L 63.369451 241.934695 \n",
       "\" clip-path=\"url(#p77ac18d8ac)\" style=\"fill: none; stroke: #000000; stroke-width: 1.5\"/>\n",
       "    <path d=\"M 66.35047 259.669677 \n",
       "L 66.35047 247.73174 \n",
       "\" clip-path=\"url(#p77ac18d8ac)\" style=\"fill: none; stroke: #000000; stroke-width: 1.5\"/>\n",
       "    <path d=\"M 69.331488 249.598624 \n",
       "L 69.331488 233.434581 \n",
       "\" clip-path=\"url(#p77ac18d8ac)\" style=\"fill: none; stroke: #000000; stroke-width: 1.5\"/>\n",
       "    <path d=\"M 72.312506 259.669677 \n",
       "L 72.312506 247.73174 \n",
       "\" clip-path=\"url(#p77ac18d8ac)\" style=\"fill: none; stroke: #000000; stroke-width: 1.5\"/>\n",
       "    <path d=\"M 75.293525 257.71111 \n",
       "L 75.293525 244.816664 \n",
       "\" clip-path=\"url(#p77ac18d8ac)\" style=\"fill: none; stroke: #000000; stroke-width: 1.5\"/>\n",
       "    <path d=\"M 78.274543 263.447993 \n",
       "L 78.274543 253.700708 \n",
       "\" clip-path=\"url(#p77ac18d8ac)\" style=\"fill: none; stroke: #000000; stroke-width: 1.5\"/>\n",
       "    <path d=\"M 81.255561 257.71111 \n",
       "L 81.255561 244.816664 \n",
       "\" clip-path=\"url(#p77ac18d8ac)\" style=\"fill: none; stroke: #000000; stroke-width: 1.5\"/>\n",
       "    <path d=\"M 84.23658 261.586427 \n",
       "L 84.23658 250.688632 \n",
       "\" clip-path=\"url(#p77ac18d8ac)\" style=\"fill: none; stroke: #000000; stroke-width: 1.5\"/>\n",
       "    <path d=\"M 87.217598 257.71111 \n",
       "L 87.217598 244.816664 \n",
       "\" clip-path=\"url(#p77ac18d8ac)\" style=\"fill: none; stroke: #000000; stroke-width: 1.5\"/>\n",
       "    <path d=\"M 90.198616 255.719437 \n",
       "L 90.198616 241.934695 \n",
       "\" clip-path=\"url(#p77ac18d8ac)\" style=\"fill: none; stroke: #000000; stroke-width: 1.5\"/>\n",
       "    <path d=\"M 93.179635 247.521178 \n",
       "L 93.179635 230.638386 \n",
       "\" clip-path=\"url(#p77ac18d8ac)\" style=\"fill: none; stroke: #000000; stroke-width: 1.5\"/>\n",
       "    <path d=\"M 96.160653 253.700708 \n",
       "L 96.160653 239.079782 \n",
       "\" clip-path=\"url(#p77ac18d8ac)\" style=\"fill: none; stroke: #000000; stroke-width: 1.5\"/>\n",
       "    <path d=\"M 99.141672 253.700708 \n",
       "L 99.141672 239.079782 \n",
       "\" clip-path=\"url(#p77ac18d8ac)\" style=\"fill: none; stroke: #000000; stroke-width: 1.5\"/>\n",
       "    <path d=\"M 102.12269 257.71111 \n",
       "L 102.12269 244.816664 \n",
       "\" clip-path=\"url(#p77ac18d8ac)\" style=\"fill: none; stroke: #000000; stroke-width: 1.5\"/>\n",
       "    <path d=\"M 105.103708 249.598624 \n",
       "L 105.103708 233.434581 \n",
       "\" clip-path=\"url(#p77ac18d8ac)\" style=\"fill: none; stroke: #000000; stroke-width: 1.5\"/>\n",
       "    <path d=\"M 108.084727 261.586427 \n",
       "L 108.084727 250.688632 \n",
       "\" clip-path=\"url(#p77ac18d8ac)\" style=\"fill: none; stroke: #000000; stroke-width: 1.5\"/>\n",
       "    <path d=\"M 111.065745 261.586427 \n",
       "L 111.065745 250.688632 \n",
       "\" clip-path=\"url(#p77ac18d8ac)\" style=\"fill: none; stroke: #000000; stroke-width: 1.5\"/>\n",
       "    <path d=\"M 114.046763 265.23187 \n",
       "L 114.046763 256.790474 \n",
       "\" clip-path=\"url(#p77ac18d8ac)\" style=\"fill: none; stroke: #000000; stroke-width: 1.5\"/>\n",
       "    <path d=\"M 117.027782 265.23187 \n",
       "L 117.027782 256.790474 \n",
       "\" clip-path=\"url(#p77ac18d8ac)\" style=\"fill: none; stroke: #000000; stroke-width: 1.5\"/>\n",
       "    <path d=\"M 120.0088 257.71111 \n",
       "L 120.0088 244.816664 \n",
       "\" clip-path=\"url(#p77ac18d8ac)\" style=\"fill: none; stroke: #000000; stroke-width: 1.5\"/>\n",
       "    <path d=\"M 122.989818 255.719437 \n",
       "L 122.989818 241.934695 \n",
       "\" clip-path=\"url(#p77ac18d8ac)\" style=\"fill: none; stroke: #000000; stroke-width: 1.5\"/>\n",
       "    <path d=\"M 125.970837 259.669677 \n",
       "L 125.970837 247.73174 \n",
       "\" clip-path=\"url(#p77ac18d8ac)\" style=\"fill: none; stroke: #000000; stroke-width: 1.5\"/>\n",
       "    <path d=\"M 128.951855 259.669677 \n",
       "L 128.951855 247.73174 \n",
       "\" clip-path=\"url(#p77ac18d8ac)\" style=\"fill: none; stroke: #000000; stroke-width: 1.5\"/>\n",
       "    <path d=\"M 131.932874 259.669677 \n",
       "L 131.932874 247.73174 \n",
       "\" clip-path=\"url(#p77ac18d8ac)\" style=\"fill: none; stroke: #000000; stroke-width: 1.5\"/>\n",
       "    <path d=\"M 134.913892 261.586427 \n",
       "L 134.913892 250.688632 \n",
       "\" clip-path=\"url(#p77ac18d8ac)\" style=\"fill: none; stroke: #000000; stroke-width: 1.5\"/>\n",
       "    <path d=\"M 137.89491 251.659329 \n",
       "L 137.89491 236.247519 \n",
       "\" clip-path=\"url(#p77ac18d8ac)\" style=\"fill: none; stroke: #000000; stroke-width: 1.5\"/>\n",
       "    <path d=\"M 140.875929 263.447993 \n",
       "L 140.875929 253.700708 \n",
       "\" clip-path=\"url(#p77ac18d8ac)\" style=\"fill: none; stroke: #000000; stroke-width: 1.5\"/>\n",
       "    <path d=\"M 143.856947 249.598624 \n",
       "L 143.856947 233.434581 \n",
       "\" clip-path=\"url(#p77ac18d8ac)\" style=\"fill: none; stroke: #000000; stroke-width: 1.5\"/>\n",
       "    <path d=\"M 146.837965 257.71111 \n",
       "L 146.837965 244.816664 \n",
       "\" clip-path=\"url(#p77ac18d8ac)\" style=\"fill: none; stroke: #000000; stroke-width: 1.5\"/>\n",
       "    <path d=\"M 149.818984 265.23187 \n",
       "L 149.818984 256.790474 \n",
       "\" clip-path=\"url(#p77ac18d8ac)\" style=\"fill: none; stroke: #000000; stroke-width: 1.5\"/>\n",
       "    <path d=\"M 152.800002 253.700708 \n",
       "L 152.800002 239.079782 \n",
       "\" clip-path=\"url(#p77ac18d8ac)\" style=\"fill: none; stroke: #000000; stroke-width: 1.5\"/>\n",
       "    <path d=\"M 155.78102 265.23187 \n",
       "L 155.78102 256.790474 \n",
       "\" clip-path=\"url(#p77ac18d8ac)\" style=\"fill: none; stroke: #000000; stroke-width: 1.5\"/>\n",
       "    <path d=\"M 158.762039 243.323889 \n",
       "L 158.762039 225.08839 \n",
       "\" clip-path=\"url(#p77ac18d8ac)\" style=\"fill: none; stroke: #000000; stroke-width: 1.5\"/>\n",
       "    <path d=\"M 161.743057 245.429044 \n",
       "L 161.743057 227.856877 \n",
       "\" clip-path=\"url(#p77ac18d8ac)\" style=\"fill: none; stroke: #000000; stroke-width: 1.5\"/>\n",
       "    <path d=\"M 164.724076 243.323889 \n",
       "L 164.724076 225.08839 \n",
       "\" clip-path=\"url(#p77ac18d8ac)\" style=\"fill: none; stroke: #000000; stroke-width: 1.5\"/>\n",
       "    <path d=\"M 167.705094 215.189559 \n",
       "L 167.705094 189.865371 \n",
       "\" clip-path=\"url(#p77ac18d8ac)\" style=\"fill: none; stroke: #000000; stroke-width: 1.5\"/>\n",
       "    <path d=\"M 170.686112 206.347826 \n",
       "L 170.686112 179.212534 \n",
       "\" clip-path=\"url(#p77ac18d8ac)\" style=\"fill: none; stroke: #000000; stroke-width: 1.5\"/>\n",
       "    <path d=\"M 173.667131 195.217001 \n",
       "L 173.667131 165.975148 \n",
       "\" clip-path=\"url(#p77ac18d8ac)\" style=\"fill: none; stroke: #000000; stroke-width: 1.5\"/>\n",
       "    <path d=\"M 176.648149 156.910441 \n",
       "L 176.648149 121.42979 \n",
       "\" clip-path=\"url(#p77ac18d8ac)\" style=\"fill: none; stroke: #000000; stroke-width: 1.5\"/>\n",
       "    <path d=\"M 179.629167 115.840355 \n",
       "L 179.629167 74.774316 \n",
       "\" clip-path=\"url(#p77ac18d8ac)\" style=\"fill: none; stroke: #000000; stroke-width: 1.5\"/>\n",
       "    <path d=\"M 182.610186 106.663541 \n",
       "L 182.610186 64.456561 \n",
       "\" clip-path=\"url(#p77ac18d8ac)\" style=\"fill: none; stroke: #000000; stroke-width: 1.5\"/>\n",
       "    <path d=\"M 185.591204 104.366944 \n",
       "L 185.591204 61.879516 \n",
       "\" clip-path=\"url(#p77ac18d8ac)\" style=\"fill: none; stroke: #000000; stroke-width: 1.5\"/>\n",
       "    <path d=\"M 188.572222 83.65822 \n",
       "L 188.572222 38.725459 \n",
       "\" clip-path=\"url(#p77ac18d8ac)\" style=\"fill: none; stroke: #000000; stroke-width: 1.5\"/>\n",
       "    <path d=\"M 191.553241 74.43348 \n",
       "L 191.553241 28.455631 \n",
       "\" clip-path=\"url(#p77ac18d8ac)\" style=\"fill: none; stroke: #000000; stroke-width: 1.5\"/>\n",
       "    <path d=\"M 194.534259 92.870514 \n",
       "L 194.534259 49.007734 \n",
       "\" clip-path=\"url(#p77ac18d8ac)\" style=\"fill: none; stroke: #000000; stroke-width: 1.5\"/>\n",
       "    <path d=\"M 197.515278 62.886307 \n",
       "L 197.515278 15.634592 \n",
       "\" clip-path=\"url(#p77ac18d8ac)\" style=\"fill: none; stroke: #000000; stroke-width: 1.5\"/>\n",
       "    <path d=\"M 200.496296 138.707728 \n",
       "L 200.496296 100.643365 \n",
       "\" clip-path=\"url(#p77ac18d8ac)\" style=\"fill: none; stroke: #000000; stroke-width: 1.5\"/>\n",
       "    <path d=\"M 203.477314 143.266767 \n",
       "L 203.477314 105.831611 \n",
       "\" clip-path=\"url(#p77ac18d8ac)\" style=\"fill: none; stroke: #000000; stroke-width: 1.5\"/>\n",
       "    <path d=\"M 206.458333 138.707728 \n",
       "L 206.458333 100.643365 \n",
       "\" clip-path=\"url(#p77ac18d8ac)\" style=\"fill: none; stroke: #000000; stroke-width: 1.5\"/>\n",
       "    <path d=\"M 209.439351 184.015237 \n",
       "L 209.439351 152.808701 \n",
       "\" clip-path=\"url(#p77ac18d8ac)\" style=\"fill: none; stroke: #000000; stroke-width: 1.5\"/>\n",
       "    <path d=\"M 212.420369 201.90501 \n",
       "L 212.420369 173.908066 \n",
       "\" clip-path=\"url(#p77ac18d8ac)\" style=\"fill: none; stroke: #000000; stroke-width: 1.5\"/>\n",
       "    <path d=\"M 215.401388 212.985089 \n",
       "L 215.401388 187.196198 \n",
       "\" clip-path=\"url(#p77ac18d8ac)\" style=\"fill: none; stroke: #000000; stroke-width: 1.5\"/>\n",
       "    <path d=\"M 218.382406 219.585213 \n",
       "L 218.382406 195.217001 \n",
       "\" clip-path=\"url(#p77ac18d8ac)\" style=\"fill: none; stroke: #000000; stroke-width: 1.5\"/>\n",
       "    <path d=\"M 221.363424 241.207086 \n",
       "L 221.363424 222.331551 \n",
       "\" clip-path=\"url(#p77ac18d8ac)\" style=\"fill: none; stroke: #000000; stroke-width: 1.5\"/>\n",
       "    <path d=\"M 224.344443 245.429044 \n",
       "L 224.344443 227.856877 \n",
       "\" clip-path=\"url(#p77ac18d8ac)\" style=\"fill: none; stroke: #000000; stroke-width: 1.5\"/>\n",
       "    <path d=\"M 227.325461 234.797411 \n",
       "L 227.325461 214.120298 \n",
       "\" clip-path=\"url(#p77ac18d8ac)\" style=\"fill: none; stroke: #000000; stroke-width: 1.5\"/>\n",
       "    <path d=\"M 230.30648 261.586427 \n",
       "L 230.30648 250.688632 \n",
       "\" clip-path=\"url(#p77ac18d8ac)\" style=\"fill: none; stroke: #000000; stroke-width: 1.5\"/>\n",
       "    <path d=\"M 233.287498 265.23187 \n",
       "L 233.287498 256.790474 \n",
       "\" clip-path=\"url(#p77ac18d8ac)\" style=\"fill: none; stroke: #000000; stroke-width: 1.5\"/>\n",
       "    <path d=\"M 236.268516 265.23187 \n",
       "L 236.268516 256.790474 \n",
       "\" clip-path=\"url(#p77ac18d8ac)\" style=\"fill: none; stroke: #000000; stroke-width: 1.5\"/>\n",
       "    <path d=\"M 239.249535 266.894178 \n",
       "L 239.249535 260.001807 \n",
       "\" clip-path=\"url(#p77ac18d8ac)\" style=\"fill: none; stroke: #000000; stroke-width: 1.5\"/>\n",
       "    <path d=\"M 242.230553 266.894178 \n",
       "L 242.230553 260.001807 \n",
       "\" clip-path=\"url(#p77ac18d8ac)\" style=\"fill: none; stroke: #000000; stroke-width: 1.5\"/>\n",
       "    <path d=\"M 245.211571 261.586427 \n",
       "L 245.211571 250.688632 \n",
       "\" clip-path=\"url(#p77ac18d8ac)\" style=\"fill: none; stroke: #000000; stroke-width: 1.5\"/>\n",
       "    <path d=\"M 248.19259 265.23187 \n",
       "L 248.19259 256.790474 \n",
       "\" clip-path=\"url(#p77ac18d8ac)\" style=\"fill: none; stroke: #000000; stroke-width: 1.5\"/>\n",
       "    <path d=\"M 251.173608 265.23187 \n",
       "L 251.173608 256.790474 \n",
       "\" clip-path=\"url(#p77ac18d8ac)\" style=\"fill: none; stroke: #000000; stroke-width: 1.5\"/>\n",
       "    <path d=\"M 254.154626 261.586427 \n",
       "L 254.154626 250.688632 \n",
       "\" clip-path=\"url(#p77ac18d8ac)\" style=\"fill: none; stroke: #000000; stroke-width: 1.5\"/>\n",
       "    <path d=\"M 257.135645 266.894178 \n",
       "L 257.135645 260.001807 \n",
       "\" clip-path=\"url(#p77ac18d8ac)\" style=\"fill: none; stroke: #000000; stroke-width: 1.5\"/>\n",
       "    <path d=\"M 260.116663 265.23187 \n",
       "L 260.116663 256.790474 \n",
       "\" clip-path=\"url(#p77ac18d8ac)\" style=\"fill: none; stroke: #000000; stroke-width: 1.5\"/>\n",
       "    <path d=\"M 263.097682 265.23187 \n",
       "L 263.097682 256.790474 \n",
       "\" clip-path=\"url(#p77ac18d8ac)\" style=\"fill: none; stroke: #000000; stroke-width: 1.5\"/>\n",
       "    <path d=\"M 266.0787 263.447993 \n",
       "L 266.0787 253.700708 \n",
       "\" clip-path=\"url(#p77ac18d8ac)\" style=\"fill: none; stroke: #000000; stroke-width: 1.5\"/>\n",
       "    <path d=\"M 269.059718 266.894178 \n",
       "L 269.059718 260.001807 \n",
       "\" clip-path=\"url(#p77ac18d8ac)\" style=\"fill: none; stroke: #000000; stroke-width: 1.5\"/>\n",
       "    <path d=\"M 272.040737 266.894178 \n",
       "L 272.040737 260.001807 \n",
       "\" clip-path=\"url(#p77ac18d8ac)\" style=\"fill: none; stroke: #000000; stroke-width: 1.5\"/>\n",
       "    <path d=\"M 275.021755 265.23187 \n",
       "L 275.021755 256.790474 \n",
       "\" clip-path=\"url(#p77ac18d8ac)\" style=\"fill: none; stroke: #000000; stroke-width: 1.5\"/>\n",
       "    <path d=\"M 278.002773 265.23187 \n",
       "L 278.002773 256.790474 \n",
       "\" clip-path=\"url(#p77ac18d8ac)\" style=\"fill: none; stroke: #000000; stroke-width: 1.5\"/>\n",
       "    <path d=\"M 280.983792 259.669677 \n",
       "L 280.983792 247.73174 \n",
       "\" clip-path=\"url(#p77ac18d8ac)\" style=\"fill: none; stroke: #000000; stroke-width: 1.5\"/>\n",
       "    <path d=\"M 283.96481 265.23187 \n",
       "L 283.96481 256.790474 \n",
       "\" clip-path=\"url(#p77ac18d8ac)\" style=\"fill: none; stroke: #000000; stroke-width: 1.5\"/>\n",
       "    <path d=\"M 286.945828 263.447993 \n",
       "L 286.945828 253.700708 \n",
       "\" clip-path=\"url(#p77ac18d8ac)\" style=\"fill: none; stroke: #000000; stroke-width: 1.5\"/>\n",
       "    <path clip-path=\"url(#p77ac18d8ac)\" style=\"fill: none; stroke: #000000; stroke-width: 1.5\"/>\n",
       "    <path d=\"M 292.907865 259.669677 \n",
       "L 292.907865 247.73174 \n",
       "\" clip-path=\"url(#p77ac18d8ac)\" style=\"fill: none; stroke: #000000; stroke-width: 1.5\"/>\n",
       "    <path d=\"M 295.888884 263.447993 \n",
       "L 295.888884 253.700708 \n",
       "\" clip-path=\"url(#p77ac18d8ac)\" style=\"fill: none; stroke: #000000; stroke-width: 1.5\"/>\n",
       "    <path d=\"M 298.869902 266.894178 \n",
       "L 298.869902 260.001807 \n",
       "\" clip-path=\"url(#p77ac18d8ac)\" style=\"fill: none; stroke: #000000; stroke-width: 1.5\"/>\n",
       "    <path clip-path=\"url(#p77ac18d8ac)\" style=\"fill: none; stroke: #000000; stroke-width: 1.5\"/>\n",
       "    <path d=\"M 304.831939 268.321635 \n",
       "L 304.831939 263.447993 \n",
       "\" clip-path=\"url(#p77ac18d8ac)\" style=\"fill: none; stroke: #000000; stroke-width: 1.5\"/>\n",
       "    <path d=\"M 307.812957 259.669677 \n",
       "L 307.812957 247.73174 \n",
       "\" clip-path=\"url(#p77ac18d8ac)\" style=\"fill: none; stroke: #000000; stroke-width: 1.5\"/>\n",
       "    <path d=\"M 310.793975 268.321635 \n",
       "L 310.793975 263.447993 \n",
       "\" clip-path=\"url(#p77ac18d8ac)\" style=\"fill: none; stroke: #000000; stroke-width: 1.5\"/>\n",
       "    <path d=\"M 313.774994 261.586427 \n",
       "L 313.774994 250.688632 \n",
       "\" clip-path=\"url(#p77ac18d8ac)\" style=\"fill: none; stroke: #000000; stroke-width: 1.5\"/>\n",
       "    <path d=\"M 316.756012 261.586427 \n",
       "L 316.756012 250.688632 \n",
       "\" clip-path=\"url(#p77ac18d8ac)\" style=\"fill: none; stroke: #000000; stroke-width: 1.5\"/>\n",
       "    <path d=\"M 319.73703 259.669677 \n",
       "L 319.73703 247.73174 \n",
       "\" clip-path=\"url(#p77ac18d8ac)\" style=\"fill: none; stroke: #000000; stroke-width: 1.5\"/>\n",
       "    <path d=\"M 322.718049 257.71111 \n",
       "L 322.718049 244.816664 \n",
       "\" clip-path=\"url(#p77ac18d8ac)\" style=\"fill: none; stroke: #000000; stroke-width: 1.5\"/>\n",
       "    <path d=\"M 325.699067 263.447993 \n",
       "L 325.699067 253.700708 \n",
       "\" clip-path=\"url(#p77ac18d8ac)\" style=\"fill: none; stroke: #000000; stroke-width: 1.5\"/>\n",
       "    <path d=\"M 328.680086 266.894178 \n",
       "L 328.680086 260.001807 \n",
       "\" clip-path=\"url(#p77ac18d8ac)\" style=\"fill: none; stroke: #000000; stroke-width: 1.5\"/>\n",
       "    <path d=\"M 331.661104 261.586427 \n",
       "L 331.661104 250.688632 \n",
       "\" clip-path=\"url(#p77ac18d8ac)\" style=\"fill: none; stroke: #000000; stroke-width: 1.5\"/>\n",
       "    <path d=\"M 334.642122 266.894178 \n",
       "L 334.642122 260.001807 \n",
       "\" clip-path=\"url(#p77ac18d8ac)\" style=\"fill: none; stroke: #000000; stroke-width: 1.5\"/>\n",
       "    <path d=\"M 337.623141 261.586427 \n",
       "L 337.623141 250.688632 \n",
       "\" clip-path=\"url(#p77ac18d8ac)\" style=\"fill: none; stroke: #000000; stroke-width: 1.5\"/>\n",
       "    <path d=\"M 340.604159 266.894178 \n",
       "L 340.604159 260.001807 \n",
       "\" clip-path=\"url(#p77ac18d8ac)\" style=\"fill: none; stroke: #000000; stroke-width: 1.5\"/>\n",
       "   </g>\n",
       "   <g id=\"line2d_13\">\n",
       "    <defs>\n",
       "     <path id=\"m27ae13b059\" d=\"M 0 3 \n",
       "C 0.795609 3 1.55874 2.683901 2.12132 2.12132 \n",
       "C 2.683901 1.55874 3 0.795609 3 0 \n",
       "C 3 -0.795609 2.683901 -1.55874 2.12132 -2.12132 \n",
       "C 1.55874 -2.683901 0.795609 -3 0 -3 \n",
       "C -0.795609 -3 -1.55874 -2.683901 -2.12132 -2.12132 \n",
       "C -2.683901 -1.55874 -3 -0.795609 -3 0 \n",
       "C -3 0.795609 -2.683901 1.55874 -2.12132 2.12132 \n",
       "C -1.55874 2.683901 -0.795609 3 0 3 \n",
       "z\n",
       "\" style=\"stroke: #000000\"/>\n",
       "    </defs>\n",
       "    <g clip-path=\"url(#p77ac18d8ac)\">\n",
       "     <use xlink:href=\"#m27ae13b059\" x=\"45.483341\" y=\"236.64296\" style=\"stroke: #000000\"/>\n",
       "     <use xlink:href=\"#m27ae13b059\" x=\"48.464359\" y=\"251.263887\" style=\"stroke: #000000\"/>\n",
       "     <use xlink:href=\"#m27ae13b059\" x=\"51.445378\" y=\"261.011172\" style=\"stroke: #000000\"/>\n",
       "     <use xlink:href=\"#m27ae13b059\" x=\"54.426396\" y=\"241.516603\" style=\"stroke: #000000\"/>\n",
       "     <use xlink:href=\"#m27ae13b059\" x=\"57.407414\" y=\"248.827066\" style=\"stroke: #000000\"/>\n",
       "     <use xlink:href=\"#m27ae13b059\" x=\"60.388433\" y=\"256.137529\" style=\"stroke: #000000\"/>\n",
       "     <use xlink:href=\"#m27ae13b059\" x=\"63.369451\" y=\"248.827066\" style=\"stroke: #000000\"/>\n",
       "     <use xlink:href=\"#m27ae13b059\" x=\"66.35047\" y=\"253.700708\" style=\"stroke: #000000\"/>\n",
       "     <use xlink:href=\"#m27ae13b059\" x=\"69.331488\" y=\"241.516603\" style=\"stroke: #000000\"/>\n",
       "     <use xlink:href=\"#m27ae13b059\" x=\"72.312506\" y=\"253.700708\" style=\"stroke: #000000\"/>\n",
       "     <use xlink:href=\"#m27ae13b059\" x=\"75.293525\" y=\"251.263887\" style=\"stroke: #000000\"/>\n",
       "     <use xlink:href=\"#m27ae13b059\" x=\"78.274543\" y=\"258.574351\" style=\"stroke: #000000\"/>\n",
       "     <use xlink:href=\"#m27ae13b059\" x=\"81.255561\" y=\"251.263887\" style=\"stroke: #000000\"/>\n",
       "     <use xlink:href=\"#m27ae13b059\" x=\"84.23658\" y=\"256.137529\" style=\"stroke: #000000\"/>\n",
       "     <use xlink:href=\"#m27ae13b059\" x=\"87.217598\" y=\"251.263887\" style=\"stroke: #000000\"/>\n",
       "     <use xlink:href=\"#m27ae13b059\" x=\"90.198616\" y=\"248.827066\" style=\"stroke: #000000\"/>\n",
       "     <use xlink:href=\"#m27ae13b059\" x=\"93.179635\" y=\"239.079782\" style=\"stroke: #000000\"/>\n",
       "     <use xlink:href=\"#m27ae13b059\" x=\"96.160653\" y=\"246.390245\" style=\"stroke: #000000\"/>\n",
       "     <use xlink:href=\"#m27ae13b059\" x=\"99.141672\" y=\"246.390245\" style=\"stroke: #000000\"/>\n",
       "     <use xlink:href=\"#m27ae13b059\" x=\"102.12269\" y=\"251.263887\" style=\"stroke: #000000\"/>\n",
       "     <use xlink:href=\"#m27ae13b059\" x=\"105.103708\" y=\"241.516603\" style=\"stroke: #000000\"/>\n",
       "     <use xlink:href=\"#m27ae13b059\" x=\"108.084727\" y=\"256.137529\" style=\"stroke: #000000\"/>\n",
       "     <use xlink:href=\"#m27ae13b059\" x=\"111.065745\" y=\"256.137529\" style=\"stroke: #000000\"/>\n",
       "     <use xlink:href=\"#m27ae13b059\" x=\"114.046763\" y=\"261.011172\" style=\"stroke: #000000\"/>\n",
       "     <use xlink:href=\"#m27ae13b059\" x=\"117.027782\" y=\"261.011172\" style=\"stroke: #000000\"/>\n",
       "     <use xlink:href=\"#m27ae13b059\" x=\"120.0088\" y=\"251.263887\" style=\"stroke: #000000\"/>\n",
       "     <use xlink:href=\"#m27ae13b059\" x=\"122.989818\" y=\"248.827066\" style=\"stroke: #000000\"/>\n",
       "     <use xlink:href=\"#m27ae13b059\" x=\"125.970837\" y=\"253.700708\" style=\"stroke: #000000\"/>\n",
       "     <use xlink:href=\"#m27ae13b059\" x=\"128.951855\" y=\"253.700708\" style=\"stroke: #000000\"/>\n",
       "     <use xlink:href=\"#m27ae13b059\" x=\"131.932874\" y=\"253.700708\" style=\"stroke: #000000\"/>\n",
       "     <use xlink:href=\"#m27ae13b059\" x=\"134.913892\" y=\"256.137529\" style=\"stroke: #000000\"/>\n",
       "     <use xlink:href=\"#m27ae13b059\" x=\"137.89491\" y=\"243.953424\" style=\"stroke: #000000\"/>\n",
       "     <use xlink:href=\"#m27ae13b059\" x=\"140.875929\" y=\"258.574351\" style=\"stroke: #000000\"/>\n",
       "     <use xlink:href=\"#m27ae13b059\" x=\"143.856947\" y=\"241.516603\" style=\"stroke: #000000\"/>\n",
       "     <use xlink:href=\"#m27ae13b059\" x=\"146.837965\" y=\"251.263887\" style=\"stroke: #000000\"/>\n",
       "     <use xlink:href=\"#m27ae13b059\" x=\"149.818984\" y=\"261.011172\" style=\"stroke: #000000\"/>\n",
       "     <use xlink:href=\"#m27ae13b059\" x=\"152.800002\" y=\"246.390245\" style=\"stroke: #000000\"/>\n",
       "     <use xlink:href=\"#m27ae13b059\" x=\"155.78102\" y=\"261.011172\" style=\"stroke: #000000\"/>\n",
       "     <use xlink:href=\"#m27ae13b059\" x=\"158.762039\" y=\"234.206139\" style=\"stroke: #000000\"/>\n",
       "     <use xlink:href=\"#m27ae13b059\" x=\"161.743057\" y=\"236.64296\" style=\"stroke: #000000\"/>\n",
       "     <use xlink:href=\"#m27ae13b059\" x=\"164.724076\" y=\"234.206139\" style=\"stroke: #000000\"/>\n",
       "     <use xlink:href=\"#m27ae13b059\" x=\"167.705094\" y=\"202.527465\" style=\"stroke: #000000\"/>\n",
       "     <use xlink:href=\"#m27ae13b059\" x=\"170.686112\" y=\"192.78018\" style=\"stroke: #000000\"/>\n",
       "     <use xlink:href=\"#m27ae13b059\" x=\"173.667131\" y=\"180.596075\" style=\"stroke: #000000\"/>\n",
       "     <use xlink:href=\"#m27ae13b059\" x=\"176.648149\" y=\"139.170116\" style=\"stroke: #000000\"/>\n",
       "     <use xlink:href=\"#m27ae13b059\" x=\"179.629167\" y=\"95.307335\" style=\"stroke: #000000\"/>\n",
       "     <use xlink:href=\"#m27ae13b059\" x=\"182.610186\" y=\"85.560051\" style=\"stroke: #000000\"/>\n",
       "     <use xlink:href=\"#m27ae13b059\" x=\"185.591204\" y=\"83.12323\" style=\"stroke: #000000\"/>\n",
       "     <use xlink:href=\"#m27ae13b059\" x=\"188.572222\" y=\"61.19184\" style=\"stroke: #000000\"/>\n",
       "     <use xlink:href=\"#m27ae13b059\" x=\"191.553241\" y=\"51.444555\" style=\"stroke: #000000\"/>\n",
       "     <use xlink:href=\"#m27ae13b059\" x=\"194.534259\" y=\"70.939124\" style=\"stroke: #000000\"/>\n",
       "     <use xlink:href=\"#m27ae13b059\" x=\"197.515278\" y=\"39.260449\" style=\"stroke: #000000\"/>\n",
       "     <use xlink:href=\"#m27ae13b059\" x=\"200.496296\" y=\"119.675547\" style=\"stroke: #000000\"/>\n",
       "     <use xlink:href=\"#m27ae13b059\" x=\"203.477314\" y=\"124.549189\" style=\"stroke: #000000\"/>\n",
       "     <use xlink:href=\"#m27ae13b059\" x=\"206.458333\" y=\"119.675547\" style=\"stroke: #000000\"/>\n",
       "     <use xlink:href=\"#m27ae13b059\" x=\"209.439351\" y=\"168.411969\" style=\"stroke: #000000\"/>\n",
       "     <use xlink:href=\"#m27ae13b059\" x=\"212.420369\" y=\"187.906538\" style=\"stroke: #000000\"/>\n",
       "     <use xlink:href=\"#m27ae13b059\" x=\"215.401388\" y=\"200.090644\" style=\"stroke: #000000\"/>\n",
       "     <use xlink:href=\"#m27ae13b059\" x=\"218.382406\" y=\"207.401107\" style=\"stroke: #000000\"/>\n",
       "     <use xlink:href=\"#m27ae13b059\" x=\"221.363424\" y=\"231.769318\" style=\"stroke: #000000\"/>\n",
       "     <use xlink:href=\"#m27ae13b059\" x=\"224.344443\" y=\"236.64296\" style=\"stroke: #000000\"/>\n",
       "     <use xlink:href=\"#m27ae13b059\" x=\"227.325461\" y=\"224.458855\" style=\"stroke: #000000\"/>\n",
       "     <use xlink:href=\"#m27ae13b059\" x=\"230.30648\" y=\"256.137529\" style=\"stroke: #000000\"/>\n",
       "     <use xlink:href=\"#m27ae13b059\" x=\"233.287498\" y=\"261.011172\" style=\"stroke: #000000\"/>\n",
       "     <use xlink:href=\"#m27ae13b059\" x=\"236.268516\" y=\"261.011172\" style=\"stroke: #000000\"/>\n",
       "     <use xlink:href=\"#m27ae13b059\" x=\"239.249535\" y=\"263.447993\" style=\"stroke: #000000\"/>\n",
       "     <use xlink:href=\"#m27ae13b059\" x=\"242.230553\" y=\"263.447993\" style=\"stroke: #000000\"/>\n",
       "     <use xlink:href=\"#m27ae13b059\" x=\"245.211571\" y=\"256.137529\" style=\"stroke: #000000\"/>\n",
       "     <use xlink:href=\"#m27ae13b059\" x=\"248.19259\" y=\"261.011172\" style=\"stroke: #000000\"/>\n",
       "     <use xlink:href=\"#m27ae13b059\" x=\"251.173608\" y=\"261.011172\" style=\"stroke: #000000\"/>\n",
       "     <use xlink:href=\"#m27ae13b059\" x=\"254.154626\" y=\"256.137529\" style=\"stroke: #000000\"/>\n",
       "     <use xlink:href=\"#m27ae13b059\" x=\"257.135645\" y=\"263.447993\" style=\"stroke: #000000\"/>\n",
       "     <use xlink:href=\"#m27ae13b059\" x=\"260.116663\" y=\"261.011172\" style=\"stroke: #000000\"/>\n",
       "     <use xlink:href=\"#m27ae13b059\" x=\"263.097682\" y=\"261.011172\" style=\"stroke: #000000\"/>\n",
       "     <use xlink:href=\"#m27ae13b059\" x=\"266.0787\" y=\"258.574351\" style=\"stroke: #000000\"/>\n",
       "     <use xlink:href=\"#m27ae13b059\" x=\"269.059718\" y=\"263.447993\" style=\"stroke: #000000\"/>\n",
       "     <use xlink:href=\"#m27ae13b059\" x=\"272.040737\" y=\"263.447993\" style=\"stroke: #000000\"/>\n",
       "     <use xlink:href=\"#m27ae13b059\" x=\"275.021755\" y=\"261.011172\" style=\"stroke: #000000\"/>\n",
       "     <use xlink:href=\"#m27ae13b059\" x=\"278.002773\" y=\"261.011172\" style=\"stroke: #000000\"/>\n",
       "     <use xlink:href=\"#m27ae13b059\" x=\"280.983792\" y=\"253.700708\" style=\"stroke: #000000\"/>\n",
       "     <use xlink:href=\"#m27ae13b059\" x=\"283.96481\" y=\"261.011172\" style=\"stroke: #000000\"/>\n",
       "     <use xlink:href=\"#m27ae13b059\" x=\"286.945828\" y=\"258.574351\" style=\"stroke: #000000\"/>\n",
       "     <use xlink:href=\"#m27ae13b059\" x=\"292.907865\" y=\"253.700708\" style=\"stroke: #000000\"/>\n",
       "     <use xlink:href=\"#m27ae13b059\" x=\"295.888884\" y=\"258.574351\" style=\"stroke: #000000\"/>\n",
       "     <use xlink:href=\"#m27ae13b059\" x=\"298.869902\" y=\"263.447993\" style=\"stroke: #000000\"/>\n",
       "     <use xlink:href=\"#m27ae13b059\" x=\"304.831939\" y=\"265.884814\" style=\"stroke: #000000\"/>\n",
       "     <use xlink:href=\"#m27ae13b059\" x=\"307.812957\" y=\"253.700708\" style=\"stroke: #000000\"/>\n",
       "     <use xlink:href=\"#m27ae13b059\" x=\"310.793975\" y=\"265.884814\" style=\"stroke: #000000\"/>\n",
       "     <use xlink:href=\"#m27ae13b059\" x=\"313.774994\" y=\"256.137529\" style=\"stroke: #000000\"/>\n",
       "     <use xlink:href=\"#m27ae13b059\" x=\"316.756012\" y=\"256.137529\" style=\"stroke: #000000\"/>\n",
       "     <use xlink:href=\"#m27ae13b059\" x=\"319.73703\" y=\"253.700708\" style=\"stroke: #000000\"/>\n",
       "     <use xlink:href=\"#m27ae13b059\" x=\"322.718049\" y=\"251.263887\" style=\"stroke: #000000\"/>\n",
       "     <use xlink:href=\"#m27ae13b059\" x=\"325.699067\" y=\"258.574351\" style=\"stroke: #000000\"/>\n",
       "     <use xlink:href=\"#m27ae13b059\" x=\"328.680086\" y=\"263.447993\" style=\"stroke: #000000\"/>\n",
       "     <use xlink:href=\"#m27ae13b059\" x=\"331.661104\" y=\"256.137529\" style=\"stroke: #000000\"/>\n",
       "     <use xlink:href=\"#m27ae13b059\" x=\"334.642122\" y=\"263.447993\" style=\"stroke: #000000\"/>\n",
       "     <use xlink:href=\"#m27ae13b059\" x=\"337.623141\" y=\"256.137529\" style=\"stroke: #000000\"/>\n",
       "     <use xlink:href=\"#m27ae13b059\" x=\"340.604159\" y=\"263.447993\" style=\"stroke: #000000\"/>\n",
       "    </g>\n",
       "   </g>\n",
       "   <g id=\"patch_4\">\n",
       "    <path d=\"M 29.08774 268.321635 \n",
       "L 29.08774 3.00024 \n",
       "\" style=\"fill: none; stroke: #000000; stroke-width: 0.8; stroke-linejoin: miter; stroke-linecap: square\"/>\n",
       "   </g>\n",
       "   <g id=\"patch_5\">\n",
       "    <path d=\"M 356.99976 268.321635 \n",
       "L 356.99976 3.00024 \n",
       "\" style=\"fill: none; stroke: #000000; stroke-width: 0.8; stroke-linejoin: miter; stroke-linecap: square\"/>\n",
       "   </g>\n",
       "   <g id=\"patch_6\">\n",
       "    <path d=\"M 29.08774 268.321635 \n",
       "L 356.99976 268.321635 \n",
       "\" style=\"fill: none; stroke: #000000; stroke-width: 0.8; stroke-linejoin: miter; stroke-linecap: square\"/>\n",
       "   </g>\n",
       "   <g id=\"patch_7\">\n",
       "    <path d=\"M 29.08774 3.00024 \n",
       "L 356.99976 3.00024 \n",
       "\" style=\"fill: none; stroke: #000000; stroke-width: 0.8; stroke-linejoin: miter; stroke-linecap: square\"/>\n",
       "   </g>\n",
       "  </g>\n",
       " </g>\n",
       " <defs>\n",
       "  <clipPath id=\"p77ac18d8ac\">\n",
       "   <rect x=\"29.08774\" y=\"3.00024\" width=\"327.91202\" height=\"265.321395\"/>\n",
       "  </clipPath>\n",
       " </defs>\n",
       "</svg>\n"
      ],
      "text/plain": [
       "┌─────────────────────────────────────────────────────────────────────────┐\n",
       "│                                Migrad                                   │\n",
       "├──────────────────────────────────┬──────────────────────────────────────┤\n",
       "│ FCN = 106.9 (χ²/ndof = 1.1)      │              Nfcn = 101              │\n",
       "│ EDM = 9.95e-07 (Goal: 0.0002)    │                                      │\n",
       "├──────────────────────────────────┼──────────────────────────────────────┤\n",
       "│          Valid Minimum           │   Below EDM threshold (goal x 10)    │\n",
       "├──────────────────────────────────┼──────────────────────────────────────┤\n",
       "│      No parameters at limit      │           Below call limit           │\n",
       "├──────────────────────────────────┼──────────────────────────────────────┤\n",
       "│             Hesse ok             │         Covariance accurate          │\n",
       "└──────────────────────────────────┴──────────────────────────────────────┘\n",
       "┌───┬───────┬───────────┬───────────┬────────────┬────────────┬─────────┬─────────┬───────┐\n",
       "│   │ Name  │   Value   │ Hesse Err │ Minos Err- │ Minos Err+ │ Limit-  │ Limit+  │ Fixed │\n",
       "├───┼───────┼───────────┼───────────┼────────────┼────────────┼─────────┼─────────┼───────┤\n",
       "│ 0 │ s     │   1000    │    35     │            │            │    0    │         │       │\n",
       "│ 1 │ mu    │  0.4983   │  0.0018   │            │            │    0    │    1    │       │\n",
       "│ 2 │ sigma │  0.0482   │  0.0014   │            │            │    0    │         │       │\n",
       "│ 3 │ b     │    510    │    27     │            │            │    0    │         │       │\n",
       "│ 4 │ slope │   0.95    │   0.15    │            │            │    0    │         │       │\n",
       "└───┴───────┴───────────┴───────────┴────────────┴────────────┴─────────┴─────────┴───────┘\n",
       "┌───────┬────────────────────────────────────────────────────────┐\n",
       "│       │          s         mu      sigma          b      slope │\n",
       "├───────┼────────────────────────────────────────────────────────┤\n",
       "│     s │    1.2e+03   -48.4e-6  8.9237e-3     -0.2e3     -0.368 │\n",
       "│    mu │   -48.4e-6   3.09e-06         -0    61.5e-6   -17.0e-6 │\n",
       "│ sigma │  8.9237e-3         -0   2.12e-06 -8.9641e-3   -16.5e-6 │\n",
       "│     b │     -0.2e3    61.5e-6 -8.9641e-3        711      0.354 │\n",
       "│ slope │     -0.368   -17.0e-6   -16.5e-6      0.354     0.0213 │\n",
       "└───────┴────────────────────────────────────────────────────────┘"
      ]
     },
     "execution_count": 7,
     "metadata": {},
     "output_type": "execute_result"
    }
   ],
   "source": [
    "m.migrad()"
   ]
  },
  {
   "cell_type": "markdown",
   "metadata": {
    "slideshow": {
     "slide_type": "slide"
    }
   },
   "source": [
    "* Fit can be written as estimator"
   ]
  },
  {
   "cell_type": "code",
   "execution_count": 8,
   "metadata": {
    "slideshow": {
     "slide_type": "-"
    }
   },
   "outputs": [],
   "source": [
    "def estimator(x):\n",
    "    w = np.histogram(x, bins=xe)[0]\n",
    "    nll = ExtendedBinnedNLL(w, xe, model)\n",
    "    m = Minuit(nll, **truth)\n",
    "    m.limits[\"mu\"] = (0, 1)\n",
    "    m.limits[\"s\", \"b\", \"sigma\", \"slope\"] = (0, None)\n",
    "    m.migrad()\n",
    "    assert m.valid\n",
    "    return m.values"
   ]
  },
  {
   "cell_type": "code",
   "execution_count": 9,
   "metadata": {
    "slideshow": {
     "slide_type": "slide"
    }
   },
   "outputs": [],
   "source": [
    "replicates = []\n",
    "for seed in range(100):\n",
    "    x_k = make_data(*m.values, seed=seed+1)\n",
    "    p_k = estimator(x_k)\n",
    "    replicates.append(p_k)\n",
    "\n",
    "replicates = np.transpose(replicates)"
   ]
  },
  {
   "cell_type": "markdown",
   "metadata": {
    "slideshow": {
     "slide_type": "slide"
    }
   },
   "source": [
    "**Exercise**\n",
    "\n",
    "* Compute bias and standard deviation of replicates for each parameter\n",
    "* Compare standard deviation of replicates with Minuit's uncertainty estimate, accessible via `m.errors`"
   ]
  },
  {
   "cell_type": "code",
   "execution_count": 10,
   "metadata": {},
   "outputs": [],
   "source": [
    "# do exercise here"
   ]
  },
  {
   "cell_type": "markdown",
   "metadata": {
    "slideshow": {
     "slide_type": "slide"
    }
   },
   "source": [
    "## Nonparametric bootstrap\n",
    "\n",
    "* Can do the same by sampling directly from $\\{ x_i \\}$\n",
    "* Standard method for samples of fixed size $N$:\n",
    "  * Pick $N$ random samples from $\\{ x_i \\}$ with replacement to obtain $\\{ x_i \\}_k$\n",
    "  * Compute $\\hat a_k$ from $\\{ x_i \\}_k$ and proceed as before\n",
    "* \"Extended method\" for samples of variable size (Poisson):\n",
    "  * Randomly draw $M$ from Poisson distribution with $\\lambda = N$\n",
    "  * Pick $M$ random samples from $\\{ x_i \\}$ with replacement to obtain $\\{ x_i \\}_k$\n",
    "  * ...\n",
    "* Convenient: use same algorithms for any distribution\n",
    "* Efficient implementations for both algorithms in `resample`"
   ]
  },
  {
   "cell_type": "markdown",
   "metadata": {
    "slideshow": {
     "slide_type": "slide"
    }
   },
   "source": [
    "![](https://resample.readthedocs.io/en/stable/_images/logo.svg)"
   ]
  },
  {
   "cell_type": "code",
   "execution_count": 11,
   "metadata": {},
   "outputs": [
    {
     "data": {
      "text/plain": [
       "'1.7.1'"
      ]
     },
     "execution_count": 11,
     "metadata": {},
     "output_type": "execute_result"
    }
   ],
   "source": [
    "import resample\n",
    "\n",
    "resample.__version__"
   ]
  },
  {
   "cell_type": "code",
   "execution_count": 12,
   "metadata": {
    "slideshow": {
     "slide_type": "-"
    }
   },
   "outputs": [
    {
     "name": "stdout",
     "output_type": "stream",
     "text": [
      "[0.58820262 0.58820262 0.52000786 ... 0.38532216 0.26892968 0.26892968]\n"
     ]
    }
   ],
   "source": [
    "from resample.bootstrap import resample\n",
    "\n",
    "# generate replicated samples of varying size (Poisson distributed)\n",
    "for x_k in resample(x, size=100, method=\"extended\", random_state=1):\n",
    "    print(x_k)\n",
    "    break"
   ]
  },
  {
   "cell_type": "markdown",
   "metadata": {
    "slideshow": {
     "slide_type": "slide"
    }
   },
   "source": [
    "**Exercise**\n",
    "\n",
    "* Again compute replicated fit results using `resampe` and store results in a list\n",
    "* Copy previous code where possible\n",
    "* Again compute bias and standard deviation of replicates and compare with Minuit's uncertainty estimate"
   ]
  },
  {
   "cell_type": "code",
   "execution_count": 13,
   "metadata": {},
   "outputs": [],
   "source": [
    "# do exercise here"
   ]
  },
  {
   "cell_type": "markdown",
   "metadata": {
    "slideshow": {
     "slide_type": "slide"
    }
   },
   "source": [
    "* `resample` provides shortcut for computing variance"
   ]
  },
  {
   "cell_type": "code",
   "execution_count": 14,
   "metadata": {},
   "outputs": [
    {
     "name": "stdout",
     "output_type": "stream",
     "text": [
      "s        𝜎(Minuit) =     35 𝜎(bootstrap) =     33\n",
      "mu       𝜎(Minuit) = 0.0018 𝜎(bootstrap) = 0.0017\n",
      "sigma    𝜎(Minuit) = 0.0015 𝜎(bootstrap) = 0.0014\n",
      "b        𝜎(Minuit) =     27 𝜎(bootstrap) =     27\n",
      "slope    𝜎(Minuit) =   0.15 𝜎(bootstrap) =   0.17\n"
     ]
    }
   ],
   "source": [
    "from resample.bootstrap import variance\n",
    "\n",
    "var = variance(estimator, x, method=\"extended\", size=100, random_state=1)\n",
    "\n",
    "for i, name in enumerate(m.parameters):\n",
    "    std = var[i] ** 0.5\n",
    "    print(f\"{name:8} 𝜎(Minuit) = {m.errors[i]:6.2g} 𝜎(bootstrap) = {std:6.2g}\")"
   ]
  },
  {
   "cell_type": "markdown",
   "metadata": {
    "slideshow": {
     "slide_type": "slide"
    }
   },
   "source": [
    "**Exercise**\n",
    "\n",
    "* Repeat the variance calculation without using `method=\"extended\"`\n",
    "* Compare the uncertainties of $s$ and $b$"
   ]
  },
  {
   "cell_type": "code",
   "execution_count": 15,
   "metadata": {},
   "outputs": [],
   "source": [
    "# do exercise here"
   ]
  },
  {
   "cell_type": "markdown",
   "metadata": {
    "slideshow": {
     "slide_type": "slide"
    }
   },
   "source": [
    "* Bootstrap can be applied to most statistical problems in HEP\n",
    "* Restriction: samples must be identically and independently distributed\n",
    "* May work well even with small samples (< 10)"
   ]
  },
  {
   "cell_type": "markdown",
   "metadata": {
    "slideshow": {
     "slide_type": "slide"
    }
   },
   "source": [
    "## Error propagation\n",
    "\n",
    "* Full analysis typically combines many intermediate results with uncertainties into final result\n",
    "* Consider $\\vec b = g(\\vec a)$ with uncertainties in $\\vec a$\n",
    "* Two ways of computing uncertainties of $\\vec b$\n",
    "  * Monte-Carlo simulation\n",
    "  * Error propagation\n",
    "* Can be equally used for statistical and systematic uncertainties"
   ]
  },
  {
   "cell_type": "markdown",
   "metadata": {
    "slideshow": {
     "slide_type": "slide"
    }
   },
   "source": [
    "### Monte-Carlo simulation\n",
    "\n",
    "* Draw variations of fit result from multivariate normal distribution\n",
    "* Compute variable of interest from variations\n",
    "* Compute standard deviation or covariance of "
   ]
  },
  {
   "cell_type": "markdown",
   "metadata": {
    "slideshow": {
     "slide_type": "slide"
    }
   },
   "source": [
    "* Example: compute uncertainty of $\\hat N = \\hat s + \\hat b$"
   ]
  },
  {
   "cell_type": "code",
   "execution_count": 16,
   "metadata": {},
   "outputs": [
    {
     "name": "stdout",
     "output_type": "stream",
     "text": [
      "𝜎(N, simulation) = 37.7\n",
      "𝜎(N, naive)      = 43.7\n",
      "𝜎(N, expected)   = 38.8\n"
     ]
    }
   ],
   "source": [
    "rng = np.random.default_rng(1)\n",
    "a_k = rng.multivariate_normal(m.values, m.covariance, size=1000)\n",
    "\n",
    "def g(a):\n",
    "    return a[0] + a[3]\n",
    "\n",
    "b_k = np.apply_along_axis(g, -1, a_k)\n",
    "\n",
    "print(f\"𝜎(N, simulation) = {np.std(b_k):.3g}\")\n",
    "print(f\"𝜎(N, naive)      = {(m.errors[0]**2 + m.errors[3]**2)**0.5:.3g}\")\n",
    "print(f\"𝜎(N, expected)   = {np.sqrt(len(x)):.3g}\")"
   ]
  },
  {
   "cell_type": "markdown",
   "metadata": {
    "slideshow": {
     "slide_type": "fragment"
    }
   },
   "source": [
    "* $\\sigma_{N,\\text{simulation}}^2 < \\sigma_s^2 + \\sigma_b^2$, because $s_k$ and $b_k$ are anti-correlated "
   ]
  },
  {
   "cell_type": "markdown",
   "metadata": {
    "slideshow": {
     "slide_type": "slide"
    }
   },
   "source": [
    "### Error propagation\n",
    "* Given: $\\vec a$ with covariance matrix $C_a$ and differentiable function $\\vec b = g(\\vec a)$\n",
    "* $\\vec b$ can have different dimensionality from $\\vec a$\n",
    "* One can derive via first-order Taylor expansion:\n",
    "  $$\n",
    "  C_b = J \\, C_a \\, J^T \\text{ with } J_{ik} = \\frac{\\partial g_i}{\\partial a_k}\n",
    "  $$"
   ]
  },
  {
   "cell_type": "markdown",
   "metadata": {
    "slideshow": {
     "slide_type": "slide"
    }
   },
   "source": [
    "* Useful special cases\n",
    "    * Sum of scaled independent random values $c = \\alpha a + \\beta b$ ($\\alpha, \\beta$ are constant)\n",
    "    $$\n",
    "    \\sigma^2_c = \\alpha^2 \\sigma^2_a + \\beta^2 \\sigma^2_b\n",
    "    $$\n",
    "    * Product of powers of independent random values $c = a^\\alpha \\, b^\\beta$\n",
    "    $$\n",
    "    \\left(\\frac{\\sigma_c}{c}\\right)^2 = \\alpha^2 \\left(\\frac{\\sigma_a}{a}\\right)^2 + \\beta^2 \\left(\\frac{\\sigma_b}{b}\\right)^2\n",
    "    $$\n",
    "* Final uncertainty often dominated by one term\n",
    "* When estimating systematic uncertainties: put your effort in estimating **largest term** and be lax on others"
   ]
  },
  {
   "cell_type": "markdown",
   "metadata": {
    "slideshow": {
     "slide_type": "slide"
    }
   },
   "source": [
    "* Computation of $J$ by hand error-prone and tedious\n",
    "* `jacobi` library offers automatic error propagation based on a robust numerical derivative"
   ]
  },
  {
   "cell_type": "markdown",
   "metadata": {
    "slideshow": {
     "slide_type": "slide"
    }
   },
   "source": [
    "![](https://camo.githubusercontent.com/27771f02972dd2b6acd8219907d15eb6a4e349e9086191b2ea33e2fd534b42b7/68747470733a2f2f6864656d62696e736b692e6769746875622e696f2f6a61636f62692f5f696d616765732f6c6f676f2e737667)"
   ]
  },
  {
   "cell_type": "code",
   "execution_count": 17,
   "metadata": {},
   "outputs": [
    {
     "data": {
      "text/plain": [
       "'0.9.2'"
      ]
     },
     "execution_count": 17,
     "metadata": {},
     "output_type": "execute_result"
    }
   ],
   "source": [
    "import jacobi\n",
    "\n",
    "jacobi.__version__"
   ]
  },
  {
   "cell_type": "code",
   "execution_count": 18,
   "metadata": {
    "slideshow": {
     "slide_type": "slide"
    }
   },
   "outputs": [
    {
     "data": {
      "text/plain": [
       "'𝜎(N, error propagation) = 38.9 𝜎(N, expected) = 38.8'"
      ]
     },
     "execution_count": 18,
     "metadata": {},
     "output_type": "execute_result"
    }
   ],
   "source": [
    "b, cov_b = jacobi.propagate(g, m.values, m.covariance)\n",
    "\n",
    "f\"𝜎(N, error propagation) = {cov_b ** 0.5:.3g} 𝜎(N, expected) = {np.sqrt(len(x)):.3g}\""
   ]
  },
  {
   "cell_type": "markdown",
   "metadata": {
    "slideshow": {
     "slide_type": "slide"
    }
   },
   "source": [
    "* `jacobi.propagate` works for any differentiable mapping, which even includes most fits!"
   ]
  },
  {
   "cell_type": "code",
   "execution_count": 19,
   "metadata": {},
   "outputs": [
    {
     "data": {
      "text/plain": [
       "(array([1., 2.]),\n",
       " array([[ 1.00000000e+00, -1.84267416e-12],\n",
       "        [-1.84267416e-12,  1.00000000e+00]]))"
      ]
     },
     "execution_count": 19,
     "metadata": {},
     "output_type": "execute_result"
    }
   ],
   "source": [
    "from iminuit.cost import LeastSquares\n",
    "\n",
    "def h(pvec):\n",
    "    a, b = pvec\n",
    "    x = np.array([1, 2, 3])\n",
    "    y = a + b * x\n",
    "    m = Minuit(LeastSquares(x, y, 1, lambda x, a, b: a + b * x), a=0, b=0)\n",
    "    m.strategy = 0\n",
    "    m.migrad()\n",
    "    assert m.valid\n",
    "    return m.values\n",
    "\n",
    "jacobi.propagate(h, (1, 2), (1, 1))"
   ]
  },
  {
   "cell_type": "markdown",
   "metadata": {
    "slideshow": {
     "slide_type": "slide"
    }
   },
   "source": [
    "* `jacobi.propagate` makes complex error propagation feasible\n",
    "* Extensively used in the [pp @ 13 TeV analysis of prompt charged particle production](https://inspirehep.net/literature/1889335)\n",
    "![](covariance_example.png)"
   ]
  },
  {
   "cell_type": "markdown",
   "metadata": {
    "slideshow": {
     "slide_type": "slide"
    }
   },
   "source": [
    "## Systematic uncertainties: Known unknowns\n",
    "\n",
    "\"There are known knowns, things we know that we know;<br>\n",
    "and there are known unknowns, things that we know we don't know.<br>\n",
    "But there are also unknown unknowns, things we do not know we don't know.\"<br>\n",
    "*Donald Rumsfeld*\n",
    "\n",
    "* Why data analyses take so long: study data, detector, and methods to turn **unknown unknowns** into **known knowns** or **known unknowns**\n",
    "* **known unknowns** = systematic uncertainties\n",
    "* No formal way, but generally...\n"
   ]
  },
  {
   "cell_type": "markdown",
   "metadata": {
    "slideshow": {
     "slide_type": "slide"
    }
   },
   "source": [
    "Worry\n",
    "* What could go wrong?\n",
    "* What are my assumptions?"
   ]
  },
  {
   "cell_type": "markdown",
   "metadata": {
    "slideshow": {
     "slide_type": "fragment"
    }
   },
   "source": [
    "Example\n",
    "* You take an efficiency or correction factor from simulation, but simulation differs from real experiment.\n",
    "* Solution: Perform control measurement to estimate how much simulation differs from real experiment."
   ]
  },
  {
   "cell_type": "markdown",
   "metadata": {
    "slideshow": {
     "slide_type": "slide"
    }
   },
   "source": [
    "Methods\n",
    "  * Use methods that are known to be optimal for your problem or derive them from first principles\n",
    "  * General purpose methods often safer to use than special-case methods\n",
    "  * Maximum-likelihood fit > least-squares fit\n",
    "  * Bootstrap estimate of uncertainty > other uncertainty estimates"
   ]
  },
  {
   "cell_type": "markdown",
   "metadata": {
    "slideshow": {
     "slide_type": "slide"
    }
   },
   "source": [
    "Apply **checks**\n",
    "* Validate whole analysis on simulated data (sometimes you can use toy simulation)\n",
    "* Split data by magnet polarity, fill, etc., analyze splits separately, check for agreement"
   ]
  },
  {
   "cell_type": "markdown",
   "metadata": {
    "slideshow": {
     "slide_type": "slide"
    }
   },
   "source": [
    "Guidelines for handling systematic errors\n",
    "* [Roger Barlow: Systematic Errors: Facts and Fictions (2002)](https://arxiv.org/pdf/hep-ex/0207026.pdf)\n",
    "* [Roger Barlow, \"Practical Statistics for Particle Physics\" (2019), Section 6.5 ](https://arxiv.org/pdf/1905.12362.pdf)\n"
   ]
  },
  {
   "cell_type": "markdown",
   "metadata": {
    "slideshow": {
     "slide_type": "slide"
    }
   },
   "source": [
    "## Further resources for learning\n",
    "\n",
    "### LHCb Statistics and ML WG\n",
    "\n",
    "* [TWiki page](https://twiki.cern.ch/twiki/bin/view/LHCbPhysics/LHCbStatistics)\n",
    "\n",
    "* [Statistics Guidelines](https://gitlab.cern.ch/lhcb/statistics-guidelines/-/blob/master/main.md) to collect information about best practices"
   ]
  },
  {
   "cell_type": "markdown",
   "metadata": {
    "slideshow": {
     "slide_type": "slide"
    }
   },
   "source": [
    "### Introductory statistics books\n",
    "\n",
    "* [List of books on TWiki pages of Statistis and Machine Learning WG](https://twiki.cern.ch/twiki/bin/viewauth/LHCbPhysics/LHCbStatistics)\n",
    "\n",
    "* Books I personally like a lot\n",
    "    * Glen Cowan, \"Statistical Data Analysis\", Oxford University Press, 1998\n",
    "    * F. James, \"Statistical Methods in Experimental Physics\", 2nd edition, World Scientific, 2006\n",
    "    * R. Barlow, \"Statistics: a Guide to the Use of Statistical Methods in the Physical Sciences\", Wiley, 1989\n",
    "    * B. Efron, R.J. Tibshirani, \"An Introduction to the Bootstrap\", CRC Press, 1994\n"
   ]
  },
  {
   "cell_type": "markdown",
   "metadata": {
    "slideshow": {
     "slide_type": "slide"
    }
   },
   "source": [
    "### Lectures, papers, notebooks\n",
    "\n",
    "* Roger Barlow\n",
    "    * [Introductory lecture (2019)](http://barlow.web.cern.ch/barlow/talks/2019/10.pdf)\n",
    "    * [Systematic Errors: Facts and Fictions (2002)](https://arxiv.org/pdf/hep-ex/0207026.pdf)\n",
    "    * [\"Practical Statistics for Particle Physics\" (2019), Section 6.5 ](https://arxiv.org/pdf/1905.12362.pdf)"
   ]
  },
  {
   "cell_type": "markdown",
   "metadata": {
    "slideshow": {
     "slide_type": "fragment"
    }
   },
   "source": [
    "* More Jupyter notebooks\n",
    "    * [Matt Kenzie, PDG averaging](https://github.com/matthewkenzie/notebooks/blob/master/pdg_averaging.ipynb)\n",
    "    * [Matt Kenzie, MLE uncertainties](https://github.com/matthewkenzie/notebooks/blob/master/LikelihoodProb.ipynb)\n",
    "    * [iminuit tutorials on various fitting topics](https://iminuit.readthedocs.io/en/stable/tutorials.html)"
   ]
  },
  {
   "cell_type": "markdown",
   "metadata": {
    "slideshow": {
     "slide_type": "fragment"
    }
   },
   "source": [
    "* All about sWeights and COWs with gentle derivation\n",
    "  * [HD, M. Kenzie, C. Langenbruch, M. Schmelling, Nucl.Instrum.Meth.A 1040 (2022) 167270](https://inspirehep.net/literature/1986730)"
   ]
  },
  {
   "cell_type": "markdown",
   "metadata": {
    "slideshow": {
     "slide_type": "fragment"
    }
   },
   "source": [
    "* Machine learning\n",
    "    * [Scikit-Learn](https://scikit-learn.org/stable/)\n",
    "    * [UvA Deep Learning tutorials (JAX/FLAX or Torch)](https://uvadlc-notebooks.readthedocs.io/en/latest/index.html)"
   ]
  }
 ],
 "metadata": {
  "celltoolbar": "Slideshow",
  "kernelspec": {
   "display_name": "starterkit",
   "language": "python",
   "name": "starterkit"
  },
  "language_info": {
   "codemirror_mode": {
    "name": "ipython",
    "version": 3
   },
   "file_extension": ".py",
   "mimetype": "text/x-python",
   "name": "python",
   "nbconvert_exporter": "python",
   "pygments_lexer": "ipython3",
   "version": "3.11.5"
  }
 },
 "nbformat": 4,
 "nbformat_minor": 2
}
