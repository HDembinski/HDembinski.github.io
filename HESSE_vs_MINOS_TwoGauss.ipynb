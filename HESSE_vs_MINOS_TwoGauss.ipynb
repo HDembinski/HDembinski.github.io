{
 "cells": [
  {
   "cell_type": "code",
   "execution_count": 6,
   "metadata": {},
   "outputs": [],
   "source": [
    "from iminuit import Minuit\n",
    "from iminuit.cost import UnbinnedNLL\n",
    "from progressbar import ProgressBar\n",
    "from numba_stats import norm_pdf\n",
    "import numpy as np\n",
    "import numba as nb\n",
    "from matplotlib import pyplot as plt\n",
    "from IPython.display import display"
   ]
  },
  {
   "cell_type": "code",
   "execution_count": 7,
   "metadata": {},
   "outputs": [
    {
     "data": {
      "text/html": [
       "<table>\n",
       "    <tr>\n",
       "        <td colspan=\"2\" style=\"text-align:left\" title=\"Minimum value of function\"> FCN = 3.065e+04 </td>\n",
       "        <td colspan=\"3\" style=\"text-align:center\" title=\"No. of function evaluations in last call and total number\"> Nfcn = 31 </td>\n",
       "    </tr>\n",
       "    <tr>\n",
       "        <td colspan=\"2\" style=\"text-align:left\" title=\"Estimated distance to minimum and goal\"> EDM = 9.53e-06 (Goal: 0.0002) </td>\n",
       "        <td colspan=\"3\" style=\"text-align:center\" title=\"No. of gradient evaluations in last call and total number\">  </td>\n",
       "    </tr>\n",
       "    <tr>\n",
       "        <td style=\"text-align:center;background-color:#92CCA6;color:black\"> Valid Minimum </td>\n",
       "        <td style=\"text-align:center;background-color:#92CCA6;color:black\"> Valid Parameters </td>\n",
       "        <td colspan=\"3\" style=\"text-align:center;background-color:#92CCA6;color:black\"> No Parameters at limit </td>\n",
       "    </tr>\n",
       "    <tr>\n",
       "        <td colspan=\"2\" style=\"text-align:center;background-color:#92CCA6;color:black\"> Below EDM threshold (goal x 10) </td>\n",
       "        <td colspan=\"3\" style=\"text-align:center;background-color:#92CCA6;color:black\"> Below call limit </td>\n",
       "    </tr>\n",
       "    <tr>\n",
       "        <td style=\"text-align:center;background-color:#92CCA6;color:black\"> Covariance </td>\n",
       "        <td style=\"text-align:center;background-color:#92CCA6;color:black\"> Hesse ok </td>\n",
       "        <td style=\"text-align:center;background-color:#92CCA6;color:black\" title=\"Is covariance matrix accurate?\"> Accurate </td>\n",
       "        <td style=\"text-align:center;background-color:#92CCA6;color:black\" title=\"Is covariance matrix positive definite?\"> Pos. def. </td>\n",
       "        <td style=\"text-align:center;background-color:#92CCA6;color:black\" title=\"Was positive definiteness enforced by Minuit?\"> Not forced </td>\n",
       "    </tr>\n",
       "</table><table>\n",
       "    <tr>\n",
       "        <td></td>\n",
       "        <th title=\"Variable name\"> Name </th>\n",
       "        <th title=\"Value of parameter\"> Value </th>\n",
       "        <th title=\"Hesse error\"> Hesse Error </th>\n",
       "        <th title=\"Minos lower error\"> Minos Error- </th>\n",
       "        <th title=\"Minos upper error\"> Minos Error+ </th>\n",
       "        <th title=\"Lower limit of the parameter\"> Limit- </th>\n",
       "        <th title=\"Upper limit of the parameter\"> Limit+ </th>\n",
       "        <th title=\"Is the parameter fixed in the fit\"> Fixed </th>\n",
       "    </tr>\n",
       "    <tr>\n",
       "        <th> 0 </th>\n",
       "        <td> mu_a </td>\n",
       "        <td> -0.014 </td>\n",
       "        <td> 0.020 </td>\n",
       "        <td>  </td>\n",
       "        <td>  </td>\n",
       "        <td>  </td>\n",
       "        <td>  </td>\n",
       "        <td>  </td>\n",
       "    </tr>\n",
       "    <tr>\n",
       "        <th> 1 </th>\n",
       "        <td> mu_b </td>\n",
       "        <td> 1.013 </td>\n",
       "        <td> 0.020 </td>\n",
       "        <td>  </td>\n",
       "        <td>  </td>\n",
       "        <td>  </td>\n",
       "        <td>  </td>\n",
       "        <td>  </td>\n",
       "    </tr>\n",
       "</table><table>\n",
       "    <tr>\n",
       "        <td></td>\n",
       "        <th> mu_a </th>\n",
       "        <th> mu_b </th>\n",
       "    </tr>\n",
       "    <tr>\n",
       "        <th> mu_a </th>\n",
       "        <td> 0.000412 </td>\n",
       "        <td style=\"background-color:rgb(200,200,250);color:black\"> -0.000159 <strong>(-0.386)</strong> </td>\n",
       "    </tr>\n",
       "    <tr>\n",
       "        <th> mu_b </th>\n",
       "        <td style=\"background-color:rgb(200,200,250);color:black\"> -0.000159 <strong>(-0.386)</strong> </td>\n",
       "        <td> 0.00041 </td>\n",
       "    </tr>\n",
       "</table>"
      ],
      "text/plain": [
       "┌──────────────────────────────────┬──────────────────────────────────────┐\n",
       "│ FCN = 3.065e+04                  │              Nfcn = 31               │\n",
       "│ EDM = 9.53e-06 (Goal: 0.0002)    │                                      │\n",
       "├───────────────┬──────────────────┼──────────────────────────────────────┤\n",
       "│ Valid Minimum │ Valid Parameters │        No Parameters at limit        │\n",
       "├───────────────┴──────────────────┼──────────────────────────────────────┤\n",
       "│ Below EDM threshold (goal x 10)  │           Below call limit           │\n",
       "├───────────────┬──────────────────┼───────────┬─────────────┬────────────┤\n",
       "│  Covariance   │     Hesse ok     │ Accurate  │  Pos. def.  │ Not forced │\n",
       "└───────────────┴──────────────────┴───────────┴─────────────┴────────────┘\n",
       "┌───┬──────┬───────────┬───────────┬────────────┬────────────┬─────────┬─────────┬───────┐\n",
       "│   │ Name │   Value   │ Hesse Err │ Minos Err- │ Minos Err+ │ Limit-  │ Limit+  │ Fixed │\n",
       "├───┼──────┼───────────┼───────────┼────────────┼────────────┼─────────┼─────────┼───────┤\n",
       "│ 0 │ mu_a │  -0.014   │   0.020   │            │            │         │         │       │\n",
       "│ 1 │ mu_b │   1.013   │   0.020   │            │            │         │         │       │\n",
       "└───┴──────┴───────────┴───────────┴────────────┴────────────┴─────────┴─────────┴───────┘\n",
       "┌──────┬─────────────────────┐\n",
       "│      │      mu_a      mu_b │\n",
       "├──────┼─────────────────────┤\n",
       "│ mu_a │  0.000412 -0.000159 │\n",
       "│ mu_b │ -0.000159   0.00041 │\n",
       "└──────┴─────────────────────┘"
      ]
     },
     "metadata": {},
     "output_type": "display_data"
    },
    {
     "data": {
      "image/png": "[encoded data removed]",
      "text/plain": [
       "<Figure size 432x288 with 1 Axes>"
      ]
     },
     "metadata": {
      "needs_background": "light"
     },
     "output_type": "display_data"
    }
   ],
   "source": [
    "sigma = 1\n",
    "\n",
    "def gen_data(rng, n):\n",
    "    n0 = rng.binomial(n, 0.5)\n",
    "    n1 = n - n0\n",
    "    return np.append(rng.normal(0, sigma, size=n0), rng.normal(1, sigma, size=n1))\n",
    "\n",
    "@nb.njit(nogil=True)\n",
    "def model(x, mu_a, mu_b):\n",
    "    return 0.5 * (norm_pdf(x, mu_a, sigma) + norm_pdf(x, mu_b, sigma))\n",
    "\n",
    "rng = np.random.default_rng(0)\n",
    "\n",
    "data = gen_data(rng, 10000)\n",
    "m = Minuit(UnbinnedNLL(data, model), mu_a=0, mu_b=1)\n",
    "display(m.migrad())\n",
    "w, xe, _ = plt.hist(data, bins=20)\n",
    "xm = np.linspace(np.min(data), np.max(data))\n",
    "plt.plot(xm, model(xm, *m.values) * len(data) * (xe[1] - xe[0]));"
   ]
  },
  {
   "cell_type": "code",
   "execution_count": 8,
   "metadata": {},
   "outputs": [
    {
     "name": "stderr",
     "output_type": "stream",
     "text": [
      "100% (1000 of 1000) |####################| Elapsed Time: 0:00:14 Time:  0:00:14\n",
      "100% (1000 of 1000) |####################| Elapsed Time: 0:00:14 Time:  0:00:14"
     ]
    },
    {
     "name": "stdout",
     "output_type": "stream",
     "text": [
      "70 hesse 0.75 minos 0.67 <corr> -0.472 n_fail=0\n"
     ]
    },
    {
     "name": "stderr",
     "output_type": "stream",
     "text": [
      "100% (1000 of 1000) |####################| Elapsed Time: 0:00:16 Time:  0:00:16\n",
      "100% (1000 of 1000) |####################| Elapsed Time: 0:00:16 Time:  0:00:16"
     ]
    },
    {
     "name": "stdout",
     "output_type": "stream",
     "text": [
      "50 hesse 0.75 minos 0.67 <corr> -0.458 n_fail=0\n"
     ]
    },
    {
     "name": "stderr",
     "output_type": "stream",
     "text": [
      "100% (1000 of 1000) |####################| Elapsed Time: 0:00:22 Time:  0:00:22\n",
      " 44% (440 of 1000) |#########            | Elapsed Time: 0:00:22 ETA:   0:00:21"
     ]
    },
    {
     "name": "stdout",
     "output_type": "stream",
     "text": [
      "100 hesse 0.77 minos 0.69 <corr> -0.461 n_fail=0\n"
     ]
    },
    {
     "name": "stderr",
     "output_type": "stream",
     "text": [
      "100% (1000 of 1000) |####################| Elapsed Time: 0:00:26 Time:  0:00:26\n",
      "100% (1000 of 1000) |####################| Elapsed Time: 0:00:26 Time:  0:00:26"
     ]
    },
    {
     "name": "stdout",
     "output_type": "stream",
     "text": [
      "20 hesse 0.77 minos 0.73 <corr> -0.450 n_fail=0\n"
     ]
    },
    {
     "name": "stderr",
     "output_type": "stream",
     "text": [
      "100% (1000 of 1000) |####################| Elapsed Time: 0:00:26 Time:  0:00:26\n",
      "100% (1000 of 1000) |####################| Elapsed Time: 0:00:26 Time:  0:00:26"
     ]
    },
    {
     "name": "stdout",
     "output_type": "stream",
     "text": [
      "10 hesse 0.76 minos 0.75 <corr> -0.388 n_fail=7\n"
     ]
    },
    {
     "name": "stderr",
     "output_type": "stream",
     "text": [
      "100% (1000 of 1000) |####################| Elapsed Time: 0:00:33 Time:  0:00:33\n",
      "100% (1000 of 1000) |####################| Elapsed Time: 0:00:33 Time:  0:00:33"
     ]
    },
    {
     "name": "stdout",
     "output_type": "stream",
     "text": [
      "1000 hesse 0.67 minos 0.67 <corr> -0.407 n_fail=0\n"
     ]
    },
    {
     "name": "stderr",
     "output_type": "stream",
     "text": [
      "100% (1000 of 1000) |####################| Elapsed Time: 0:00:34 Time:  0:00:34\n",
      "100% (1000 of 1000) |####################| Elapsed Time: 0:00:34 Time:  0:00:34"
     ]
    },
    {
     "name": "stdout",
     "output_type": "stream",
     "text": [
      "500 hesse 0.70 minos 0.69 <corr> -0.413 n_fail=0\n"
     ]
    },
    {
     "name": "stderr",
     "output_type": "stream",
     "text": [
      "100% (1000 of 1000) |####################| Elapsed Time: 0:00:34 Time:  0:00:34\n",
      "100% (1000 of 1000) |####################| Elapsed Time: 0:00:34 Time:  0:00:34"
     ]
    },
    {
     "name": "stdout",
     "output_type": "stream",
     "text": [
      "400 hesse 0.70 minos 0.69 <corr> -0.422 n_fail=0\n"
     ]
    },
    {
     "name": "stderr",
     "output_type": "stream",
     "text": [
      "100% (1000 of 1000) |####################| Elapsed Time: 0:00:35 Time:  0:00:35\n",
      "100% (1000 of 1000) |####################| Elapsed Time: 0:00:35 Time:  0:00:35"
     ]
    },
    {
     "name": "stdout",
     "output_type": "stream",
     "text": [
      "2000 hesse 0.69 minos 0.69 <corr> -0.401 n_fail=0\n"
     ]
    },
    {
     "name": "stderr",
     "output_type": "stream",
     "text": [
      "100% (1000 of 1000) |####################| Elapsed Time: 0:00:35 Time:  0:00:35\n",
      "100% (1000 of 1000) |####################| Elapsed Time: 0:00:35 Time:  0:00:35"
     ]
    },
    {
     "name": "stdout",
     "output_type": "stream",
     "text": [
      "300 hesse 0.68 minos 0.67 <corr> -0.420 n_fail=0\n"
     ]
    },
    {
     "name": "stderr",
     "output_type": "stream",
     "text": [
      "100% (1000 of 1000) |####################| Elapsed Time: 0:00:35 Time:  0:00:35\n",
      "100% (1000 of 1000) |####################| Elapsed Time: 0:00:35 Time:  0:00:35"
     ]
    },
    {
     "name": "stdout",
     "output_type": "stream",
     "text": [
      "200 hesse 0.69 minos 0.66 <corr> -0.435 n_fail=0\n"
     ]
    },
    {
     "name": "stderr",
     "output_type": "stream",
     "text": [
      "100% (1000 of 1000) |####################| Elapsed Time: 0:00:35 Time:  0:00:35\n",
      "100% (1000 of 1000) |####################| Elapsed Time: 0:00:35 Time:  0:00:35"
     ]
    },
    {
     "name": "stdout",
     "output_type": "stream",
     "text": [
      "3000 hesse 0.69 minos 0.69 <corr> -0.404 n_fail=0\n"
     ]
    }
   ],
   "source": [
    "def compute(n):\n",
    "    n_try = 1000\n",
    "    rng = np.random.default_rng(n)\n",
    "    n_hesse = 0\n",
    "    n_minos = 0\n",
    "    h_pcov = []\n",
    "    m_pcov = []\n",
    "    cor = []\n",
    "    n_fail = 0\n",
    "    with ProgressBar() as bar:\n",
    "        for i_try in bar(range(n_try)):\n",
    "            for sub in range(5):\n",
    "                data = gen_data(rng, n)\n",
    "                nll = UnbinnedNLL(data, model)            \n",
    "                m = Minuit(nll, mu_a=0, mu_b=1)\n",
    "                m.migrad()\n",
    "                m.hesse()\n",
    "                m.minos()\n",
    "                if m.valid and m.accurate:\n",
    "                    break\n",
    "                n_fail += 1\n",
    "            mu = m.values[\"mu_a\"]\n",
    "            h_mu = m.errors[\"mu_a\"]\n",
    "            m_mu = m.merrors[\"mu_a\"]\n",
    "            cov = m.covariance\n",
    "            c = cov[1,0] / np.sqrt(cov[0, 0] * cov[1, 1])\n",
    "            if abs(mu) < h_mu:\n",
    "                n_hesse += 1\n",
    "            if (mu + m_mu.lower) < 0 < (mu + m_mu.upper):\n",
    "                n_minos += 1\n",
    "            cor.append(c)\n",
    "        h_pcov.append(n_hesse / n_try)\n",
    "        m_pcov.append(n_minos / n_try)\n",
    "    print(f\"{n} hesse {h_pcov[-1]:.2f} minos {m_pcov[-1]:.2f} <corr> {np.mean(cor):.3f} {n_fail=}\", flush=True)\n",
    "    return h_pcov, m_pcov, cor\n",
    "\n",
    "if __name__ == \"__main__\":\n",
    "    from concurrent.futures import ThreadPoolExecutor as Pool\n",
    "\n",
    "    n_pts = (10, 20, 50, 70, 100, 200, 300, 400, 500, 1000, 2000, 3000)\n",
    "\n",
    "    h_pcov = []\n",
    "    m_pcov = []\n",
    "    corr = []\n",
    "    with Pool() as pool:\n",
    "        for (h, m, c) in pool.map(compute, n_pts):\n",
    "            h_pcov.append(h)\n",
    "            m_pcov.append(m)\n",
    "            corr.append(c)"
   ]
  },
  {
   "cell_type": "code",
   "execution_count": 9,
   "metadata": {},
   "outputs": [
    {
     "data": {
      "image/png": "[encoded data removed]",
      "text/plain": [
       "<Figure size 432x288 with 1 Axes>"
      ]
     },
     "metadata": {
      "needs_background": "light"
     },
     "output_type": "display_data"
    }
   ],
   "source": [
    "plt.plot(n_pts, h_pcov, label=\"HESSE\")\n",
    "plt.plot(n_pts, m_pcov, label=\"MINOS\")\n",
    "plt.axhline(0.68, ls=\":\", color=\"0.5\", zorder=0)\n",
    "plt.semilogx()\n",
    "plt.legend()\n",
    "plt.ylim(0, 1);"
   ]
  }
 ],
 "metadata": {
  "kernelspec": {
   "display_name": "py38",
   "language": "python",
   "name": "py38"
  },
  "language_info": {
   "codemirror_mode": {
    "name": "ipython",
    "version": 3
   },
   "file_extension": ".py",
   "mimetype": "text/x-python",
   "name": "python",
   "nbconvert_exporter": "python",
   "pygments_lexer": "ipython3",
   "version": "3.8.6"
  }
 },
 "nbformat": 4,
 "nbformat_minor": 4
}
