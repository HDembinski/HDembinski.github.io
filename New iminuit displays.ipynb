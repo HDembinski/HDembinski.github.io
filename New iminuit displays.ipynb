{
 "cells": [
  {
   "cell_type": "markdown",
   "metadata": {},
   "source": [
    "# New Fit Result Display\n",
    "\n",
    "The next release of iminuit will feature a new Fit Result display.\n",
    "\n",
    "* The new fit result display is less cluttered.\n",
    "* It has a new field that warns if a parameter is fitted at a limit.\n",
    "* ASCII tables were replaced with beautiful unicode tables.\n",
    "* Errors are now easier to spot in text tables.\n",
    "\n",
    "You can see old vs. new below. Please commment!"
   ]
  },
  {
   "cell_type": "markdown",
   "metadata": {},
   "source": [
    "## Old displays"
   ]
  },
  {
   "cell_type": "code",
   "execution_count": 1,
   "metadata": {},
   "outputs": [
    {
     "name": "stdout",
     "output_type": "stream",
     "text": [
      "Collecting iminuit==1.4.8\n",
      "  Using cached iminuit-1.4.8-cp38-cp38-macosx_10_9_x86_64.whl (390 kB)\n",
      "Requirement already satisfied: numpy>=1.11.3 in /usr/local/lib/python3.8/site-packages (from iminuit==1.4.8) (1.19.0)\n",
      "Installing collected packages: iminuit\n",
      "  Attempting uninstall: iminuit\n",
      "    Found existing installation: iminuit 1.4.9\n",
      "    Uninstalling iminuit-1.4.9:\n",
      "      Successfully uninstalled iminuit-1.4.9\n",
      "Successfully installed iminuit-1.4.8\n"
     ]
    }
   ],
   "source": [
    "!pip install iminuit==1.4.8\n",
    "import iminuit"
   ]
  },
  {
   "cell_type": "markdown",
   "metadata": {},
   "source": [
    "### Good fit"
   ]
  },
  {
   "cell_type": "code",
   "execution_count": 2,
   "metadata": {},
   "outputs": [
    {
     "data": {
      "text/html": [
       "<table>\n",
       "<tr> <td colspan=\"2\" style=\"text-align:center\" title=\"Minimum value of function\"> FCN = 1 </td> <td colspan=\"3\" title=\"No. of calls in last algorithm and total number of calls\"> Ncalls = 19 (19 total) </td> </tr>\n",
       "<tr> <td colspan=\"2\" style=\"text-align:center\" title=\"Estimated distance to minimum and target threshold\"> EDM = 0 (Goal: 0.0002) </td> <td colspan=\"3\" title=\"Increase in FCN which corresponds to 1 standard deviation\"> up = 1.0 </td> </tr>\n",
       "<tr> <td title=\"Validity of the migrad call\"> Valid Min. </td> <td title=\"Validity of parameters\"> Valid Param. </td> <td title=\"Is EDM above goal EDM?\"> Above EDM </td> <td colspan=\"2\" title=\"Did last migrad call reach max call limit?\"> Reached call limit </td> </tr>\n",
       "<tr> <td style=\"background-color:#92CCA6;\"> True </td> <td style=\"background-color:#92CCA6;\"> True </td> <td style=\"background-color:#92CCA6;\"> False </td> <td colspan=\"2\" style=\"background-color:#92CCA6;\"> False </td> </tr>\n",
       "<tr> <td title=\"Did Hesse fail?\"> Hesse failed </td> <td title=\"Has covariance matrix\"> Has cov. </td> <td title=\"Is covariance matrix accurate?\"> Accurate </td> <td title=\"Is covariance matrix positive definite?\"> Pos. def. </td> <td title=\"Was positive definiteness enforced by Minuit?\"> Forced </td> </tr>\n",
       "<tr> <td style=\"background-color:#92CCA6;\"> False </td> <td style=\"background-color:#92CCA6;\"> True </td> <td style=\"background-color:#92CCA6;\"> True </td> <td style=\"background-color:#92CCA6;\"> True </td> <td style=\"background-color:#92CCA6;\"> False </td> </tr>\n",
       "</table>\n",
       "<table>\n",
       "<tr style=\"background-color:#F4F4F4;\"> <td/> <th title=\"Variable name\"> Name </th> <th title=\"Value of parameter\"> Value </th> <th title=\"Hesse error\"> Hesse Error </th> <th title=\"Minos lower error\"> Minos Error- </th> <th title=\"Minos upper error\"> Minos Error+ </th> <th title=\"Lower limit of the parameter\"> Limit- </th> <th title=\"Upper limit of the parameter\"> Limit+ </th> <th title=\"Is the parameter fixed in the fit\"> Fixed </th> </tr>\n",
       "<tr style=\"background-color:#FFFFFF;\"> <th> 0 </th> <td> a </td> <td> 0 </td> <td> 1 </td> <td>  </td> <td>  </td> <td>  </td> <td>  </td> <td>  </td> </tr>\n",
       "<tr style=\"background-color:#F4F4F4;\"> <th> 1 </th> <td> b </td> <td> 0 </td> <td> 1 </td> <td>  </td> <td>  </td> <td>  </td> <td>  </td> <td>  </td> </tr>\n",
       "</table>\n"
      ],
      "text/plain": [
       "------------------------------------------------------------------\n",
       "| FCN = 1                       |      Ncalls=19 (19 total)      |\n",
       "| EDM = 0 (Goal: 0.0002)        |            up = 1.0            |\n",
       "------------------------------------------------------------------\n",
       "|  Valid Min.   | Valid Param.  | Above EDM | Reached call limit |\n",
       "------------------------------------------------------------------\n",
       "|     True      |     True      |   False   |       False        |\n",
       "------------------------------------------------------------------\n",
       "| Hesse failed  |   Has cov.    | Accurate  | Pos. def. | Forced |\n",
       "------------------------------------------------------------------\n",
       "|     False     |     True      |   True    |   True    | False  |\n",
       "------------------------------------------------------------------\n",
       "------------------------------------------------------------------------------------------\n",
       "|   | Name |   Value   | Hesse Err | Minos Err- | Minos Err+ | Limit-  | Limit+  | Fixed |\n",
       "------------------------------------------------------------------------------------------\n",
       "| 0 | a    |     0     |     1     |            |            |         |         |       |\n",
       "| 1 | b    |     0     |     1     |            |            |         |         |       |\n",
       "------------------------------------------------------------------------------------------"
      ]
     },
     "execution_count": 2,
     "metadata": {},
     "output_type": "execute_result"
    }
   ],
   "source": [
    "m = iminuit.Minuit(lambda a, b: a ** 2 + b ** 2 + 1, pedantic=False)\n",
    "m.migrad()"
   ]
  },
  {
   "cell_type": "code",
   "execution_count": 3,
   "metadata": {},
   "outputs": [
    {
     "name": "stdout",
     "output_type": "stream",
     "text": [
      "------------------------------------------------------------------\n",
      "| FCN = 1                       |      Ncalls=19 (19 total)      |\n",
      "| EDM = 0 (Goal: 0.0002)        |            up = 1.0            |\n",
      "------------------------------------------------------------------\n",
      "|  Valid Min.   | Valid Param.  | Above EDM | Reached call limit |\n",
      "------------------------------------------------------------------\n",
      "|     True      |     True      |   False   |       False        |\n",
      "------------------------------------------------------------------\n",
      "| Hesse failed  |   Has cov.    | Accurate  | Pos. def. | Forced |\n",
      "------------------------------------------------------------------\n",
      "|     False     |     True      |   True    |   True    | False  |\n",
      "------------------------------------------------------------------\n",
      "------------------------------------------------------------------------------------------\n",
      "|   | Name |   Value   | Hesse Err | Minos Err- | Minos Err+ | Limit-  | Limit+  | Fixed |\n",
      "------------------------------------------------------------------------------------------\n",
      "| 0 | a    |     0     |     1     |            |            |         |         |       |\n",
      "| 1 | b    |     0     |     1     |            |            |         |         |       |\n",
      "------------------------------------------------------------------------------------------\n"
     ]
    }
   ],
   "source": [
    "m = iminuit.Minuit(lambda a, b: a ** 2 + b ** 2 + 1, pedantic=False)\n",
    "print(m.migrad())"
   ]
  },
  {
   "cell_type": "markdown",
   "metadata": {},
   "source": [
    "### Bad fits"
   ]
  },
  {
   "cell_type": "code",
   "execution_count": 4,
   "metadata": {},
   "outputs": [
    {
     "data": {
      "text/html": [
       "<table>\n",
       "<tr> <td colspan=\"2\" style=\"text-align:center\" title=\"Minimum value of function\"> FCN = 0 </td> <td colspan=\"3\" title=\"No. of calls in last algorithm and total number of calls\"> Ncalls = 20 (20 total) </td> </tr>\n",
       "<tr> <td colspan=\"2\" style=\"text-align:center\" title=\"Estimated distance to minimum and target threshold\"> EDM = 0 (Goal: 0.0002) </td> <td colspan=\"3\" title=\"Increase in FCN which corresponds to 1 standard deviation\"> up = 1.0 </td> </tr>\n",
       "<tr> <td title=\"Validity of the migrad call\"> Valid Min. </td> <td title=\"Validity of parameters\"> Valid Param. </td> <td title=\"Is EDM above goal EDM?\"> Above EDM </td> <td colspan=\"2\" title=\"Did last migrad call reach max call limit?\"> Reached call limit </td> </tr>\n",
       "<tr> <td style=\"background-color:#FF7878;\"> False </td> <td style=\"background-color:#92CCA6;\"> True </td> <td style=\"background-color:#92CCA6;\"> False </td> <td colspan=\"2\" style=\"background-color:#92CCA6;\"> False </td> </tr>\n",
       "<tr> <td title=\"Did Hesse fail?\"> Hesse failed </td> <td title=\"Has covariance matrix\"> Has cov. </td> <td title=\"Is covariance matrix accurate?\"> Accurate </td> <td title=\"Is covariance matrix positive definite?\"> Pos. def. </td> <td title=\"Was positive definiteness enforced by Minuit?\"> Forced </td> </tr>\n",
       "<tr> <td style=\"background-color:#FF7878;\"> True </td> <td style=\"background-color:#92CCA6;\"> True </td> <td style=\"background-color:#FF7878;\"> False </td> <td style=\"background-color:#FF7878;\"> False </td> <td style=\"background-color:#92CCA6;\"> False </td> </tr>\n",
       "</table>\n",
       "<table>\n",
       "<tr style=\"background-color:#F4F4F4;\"> <td/> <th title=\"Variable name\"> Name </th> <th title=\"Value of parameter\"> Value </th> <th title=\"Hesse error\"> Hesse Error </th> <th title=\"Minos lower error\"> Minos Error- </th> <th title=\"Minos upper error\"> Minos Error+ </th> <th title=\"Lower limit of the parameter\"> Limit- </th> <th title=\"Upper limit of the parameter\"> Limit+ </th> <th title=\"Is the parameter fixed in the fit\"> Fixed </th> </tr>\n",
       "<tr style=\"background-color:#FFFFFF;\"> <th> 0 </th> <td> x </td> <td> 0 </td> <td> 0 </td> <td>  </td> <td>  </td> <td>  </td> <td>  </td> <td>  </td> </tr>\n",
       "<tr style=\"background-color:#F4F4F4;\"> <th> 1 </th> <td> y </td> <td> 0 </td> <td> 0 </td> <td>  </td> <td>  </td> <td>  </td> <td>  </td> <td>  </td> </tr>\n",
       "</table>\n"
      ],
      "text/plain": [
       "------------------------------------------------------------------\n",
       "| FCN = 0                       |      Ncalls=20 (20 total)      |\n",
       "| EDM = 0 (Goal: 0.0002)        |            up = 1.0            |\n",
       "------------------------------------------------------------------\n",
       "|  Valid Min.   | Valid Param.  | Above EDM | Reached call limit |\n",
       "------------------------------------------------------------------\n",
       "|     False     |     True      |   False   |       False        |\n",
       "------------------------------------------------------------------\n",
       "| Hesse failed  |   Has cov.    | Accurate  | Pos. def. | Forced |\n",
       "------------------------------------------------------------------\n",
       "|     True      |     True      |   False   |   False   | False  |\n",
       "------------------------------------------------------------------\n",
       "------------------------------------------------------------------------------------------\n",
       "|   | Name |   Value   | Hesse Err | Minos Err- | Minos Err+ | Limit-  | Limit+  | Fixed |\n",
       "------------------------------------------------------------------------------------------\n",
       "| 0 | x    |     0     |     0     |            |            |         |         |       |\n",
       "| 1 | y    |     0     |     0     |            |            |         |         |       |\n",
       "------------------------------------------------------------------------------------------"
      ]
     },
     "execution_count": 4,
     "metadata": {},
     "output_type": "execute_result"
    }
   ],
   "source": [
    "m = iminuit.Minuit(lambda x, y : 0, pedantic=False)\n",
    "m.migrad()"
   ]
  },
  {
   "cell_type": "code",
   "execution_count": 5,
   "metadata": {},
   "outputs": [
    {
     "data": {
      "text/html": [
       "<table>\n",
       "<tr> <td colspan=\"2\" style=\"text-align:center\" title=\"Minimum value of function\"> FCN = 8.015e-09 </td> <td colspan=\"3\" title=\"No. of calls in last algorithm and total number of calls\"> Ncalls = 31 (31 total) </td> </tr>\n",
       "<tr> <td colspan=\"2\" style=\"text-align:center\" title=\"Estimated distance to minimum and target threshold\"> EDM = 8.01e-09 (Goal: 0.0002) </td> <td colspan=\"3\" title=\"Increase in FCN which corresponds to 1 standard deviation\"> up = 1.0 </td> </tr>\n",
       "<tr> <td title=\"Validity of the migrad call\"> Valid Min. </td> <td title=\"Validity of parameters\"> Valid Param. </td> <td title=\"Is EDM above goal EDM?\"> Above EDM </td> <td colspan=\"2\" title=\"Did last migrad call reach max call limit?\"> Reached call limit </td> </tr>\n",
       "<tr> <td style=\"background-color:#92CCA6;\"> True </td> <td style=\"background-color:#92CCA6;\"> True </td> <td style=\"background-color:#92CCA6;\"> False </td> <td colspan=\"2\" style=\"background-color:#92CCA6;\"> False </td> </tr>\n",
       "<tr> <td title=\"Did Hesse fail?\"> Hesse failed </td> <td title=\"Has covariance matrix\"> Has cov. </td> <td title=\"Is covariance matrix accurate?\"> Accurate </td> <td title=\"Is covariance matrix positive definite?\"> Pos. def. </td> <td title=\"Was positive definiteness enforced by Minuit?\"> Forced </td> </tr>\n",
       "<tr> <td style=\"background-color:#92CCA6;\"> False </td> <td style=\"background-color:#92CCA6;\"> True </td> <td style=\"background-color:#FF7878;\"> False </td> <td style=\"background-color:#FF7878;\"> False </td> <td style=\"background-color:#FF7878;\"> True </td> </tr>\n",
       "</table>\n",
       "<table>\n",
       "<tr style=\"background-color:#F4F4F4;\"> <td/> <th title=\"Variable name\"> Name </th> <th title=\"Value of parameter\"> Value </th> <th title=\"Hesse error\"> Hesse Error </th> <th title=\"Minos lower error\"> Minos Error- </th> <th title=\"Minos upper error\"> Minos Error+ </th> <th title=\"Lower limit of the parameter\"> Limit- </th> <th title=\"Upper limit of the parameter\"> Limit+ </th> <th title=\"Is the parameter fixed in the fit\"> Fixed </th> </tr>\n",
       "<tr style=\"background-color:#FFFFFF;\"> <th> 0 </th> <td> x </td> <td> 0.3 </td> <td> 0.8 </td> <td>  </td> <td>  </td> <td> 0 </td> <td> 1 </td> <td>  </td> </tr>\n",
       "<tr style=\"background-color:#F4F4F4;\"> <th> 1 </th> <td> y </td> <td> 0 </td> <td> 16 </td> <td>  </td> <td>  </td> <td>  </td> <td>  </td> <td>  </td> </tr>\n",
       "</table>\n"
      ],
      "text/plain": [
       "------------------------------------------------------------------\n",
       "| FCN = 8.015e-09               |      Ncalls=31 (31 total)      |\n",
       "| EDM = 8.01e-09 (Goal: 0.0002) |            up = 1.0            |\n",
       "------------------------------------------------------------------\n",
       "|  Valid Min.   | Valid Param.  | Above EDM | Reached call limit |\n",
       "------------------------------------------------------------------\n",
       "|     True      |     True      |   False   |       False        |\n",
       "------------------------------------------------------------------\n",
       "| Hesse failed  |   Has cov.    | Accurate  | Pos. def. | Forced |\n",
       "------------------------------------------------------------------\n",
       "|     False     |     True      |   False   |   False   |  True  |\n",
       "------------------------------------------------------------------\n",
       "------------------------------------------------------------------------------------------\n",
       "|   | Name |   Value   | Hesse Err | Minos Err- | Minos Err+ | Limit-  | Limit+  | Fixed |\n",
       "------------------------------------------------------------------------------------------\n",
       "| 0 | x    |    0.3    |    0.8    |            |            |    0    |    1    |       |\n",
       "| 1 | y    |     0     |    16     |            |            |         |         |       |\n",
       "------------------------------------------------------------------------------------------"
      ]
     },
     "execution_count": 5,
     "metadata": {},
     "output_type": "execute_result"
    }
   ],
   "source": [
    "m = iminuit.Minuit(lambda x, y : (x-y) ** 2, limit_x=(0, 1), pedantic=False)\n",
    "m.migrad()"
   ]
  },
  {
   "cell_type": "code",
   "execution_count": 6,
   "metadata": {},
   "outputs": [
    {
     "name": "stdout",
     "output_type": "stream",
     "text": [
      "------------------------------------------------------------------\n",
      "| FCN = 8.015e-09               |      Ncalls=31 (31 total)      |\n",
      "| EDM = 8.01e-09 (Goal: 0.0002) |            up = 1.0            |\n",
      "------------------------------------------------------------------\n",
      "|  Valid Min.   | Valid Param.  | Above EDM | Reached call limit |\n",
      "------------------------------------------------------------------\n",
      "|     True      |     True      |   False   |       False        |\n",
      "------------------------------------------------------------------\n",
      "| Hesse failed  |   Has cov.    | Accurate  | Pos. def. | Forced |\n",
      "------------------------------------------------------------------\n",
      "|     False     |     True      |   False   |   False   |  True  |\n",
      "------------------------------------------------------------------\n",
      "------------------------------------------------------------------------------------------\n",
      "|   | Name |   Value   | Hesse Err | Minos Err- | Minos Err+ | Limit-  | Limit+  | Fixed |\n",
      "------------------------------------------------------------------------------------------\n",
      "| 0 | x    |    0.3    |    0.8    |            |            |    0    |    1    |       |\n",
      "| 1 | y    |     0     |    16     |            |            |         |         |       |\n",
      "------------------------------------------------------------------------------------------\n"
     ]
    }
   ],
   "source": [
    "m = iminuit.Minuit(lambda x, y : (x-y) ** 2, limit_x=(0, 1), pedantic=False)\n",
    "print(m.migrad())"
   ]
  },
  {
   "cell_type": "markdown",
   "metadata": {},
   "source": [
    "## New displays\n",
    "\n",
    "This part requires a restart of the Jupyter kernel."
   ]
  },
  {
   "cell_type": "code",
   "execution_count": 1,
   "metadata": {
    "scrolled": false
   },
   "outputs": [
    {
     "name": "stdout",
     "output_type": "stream",
     "text": [
      "Processing /Users/hdembinski/Extern/iminuit\n",
      "Requirement already satisfied, skipping upgrade: numpy>=1.11.3 in /usr/local/lib/python3.8/site-packages (from iminuit==1.4.9) (1.19.0)\n",
      "Building wheels for collected packages: iminuit\n",
      "  Building wheel for iminuit (setup.py) ... \u001b[?25ldone\n",
      "\u001b[?25h  Created wheel for iminuit: filename=iminuit-1.4.9-cp38-cp38-macosx_10_15_x86_64.whl size=384671 sha256=47eca3e0bfe147cd23e46366c554f9fe26ca47f5bb537bb66a6988eeb956f930\n",
      "  Stored in directory: /private/var/folders/tl/pv6mt7z17tz0stm1fjfg01cc0000gn/T/pip-ephem-wheel-cache-o8yzp6vm/wheels/e7/61/b4/0dd6b8fc20e6d6b170f3e0bd185533497f2fe08c4ae74cc799\n",
      "Successfully built iminuit\n",
      "Installing collected packages: iminuit\n",
      "  Attempting uninstall: iminuit\n",
      "    Found existing installation: iminuit 1.4.9\n",
      "    Uninstalling iminuit-1.4.9:\n",
      "      Successfully uninstalled iminuit-1.4.9\n",
      "Successfully installed iminuit-1.4.9\n"
     ]
    }
   ],
   "source": [
    "!pip install --upgrade ../iminuit\n",
    "import iminuit"
   ]
  },
  {
   "cell_type": "markdown",
   "metadata": {},
   "source": [
    "### Good fit"
   ]
  },
  {
   "cell_type": "code",
   "execution_count": 2,
   "metadata": {},
   "outputs": [
    {
     "data": {
      "text/html": [
       "<table>\n",
       "    <tr>\n",
       "        <td colspan=\"2\" style=\"text-align:left\" title=\"Minimum value of function\"> FCN = 1 </td>\n",
       "        <td colspan=\"3\" style=\"text-align:center\" title=\"No. of calls in last algorithm and total number of calls\"> Ncalls = 19 (19 total) </td>\n",
       "    </tr>\n",
       "    <tr>\n",
       "        <td colspan=\"2\" style=\"text-align:left\" title=\"Estimated distance to minimum and goal\"> EDM = 0 (Goal: 0.0002) </td>\n",
       "        <td colspan=\"3\" style=\"text-align:center\" title=\"Increase in FCN which corresponds to 1 standard deviation\"> up = 1.0 </td>\n",
       "    </tr>\n",
       "    <tr>\n",
       "        <td style=\"text-align:center;background-color:#92CCA6;\"> Valid Minimum </td>\n",
       "        <td style=\"text-align:center;background-color:#92CCA6;\"> Valid Parameters </td>\n",
       "        <td colspan=\"3\" style=\"text-align:center;background-color:#92CCA6;\"> No Parameters at limit </td>\n",
       "    </tr>\n",
       "    <tr>\n",
       "        <td colspan=\"2\" style=\"text-align:center;background-color:#92CCA6;\"> Below EDM goal </td>\n",
       "        <td colspan=\"3\" style=\"text-align:center;background-color:#92CCA6;\"> Below call limit </td>\n",
       "    </tr>\n",
       "    <tr>\n",
       "        <td style=\"text-align:center;background-color:#92CCA6;\"> Hesse ok </td>\n",
       "        <td style=\"text-align:center;background-color:#92CCA6;\"> Has Covariance </td>\n",
       "        <td style=\"text-align:center;background-color:#92CCA6;\" title=\"Is covariance matrix accurate?\"> Accurate </td>\n",
       "        <td style=\"text-align:center;background-color:#92CCA6;\" title=\"Is covariance matrix positive definite?\"> Pos. def. </td>\n",
       "        <td style=\"text-align:center;background-color:#92CCA6;\" title=\"Was positive definiteness enforced by Minuit?\"> Not forced </td>\n",
       "    </tr>\n",
       "</table><table>\n",
       "    <tr style=\"background-color:#F4F4F4;\">\n",
       "        <td></td>\n",
       "        <th title=\"Variable name\"> Name </th>\n",
       "        <th title=\"Value of parameter\"> Value </th>\n",
       "        <th title=\"Hesse error\"> Hesse Error </th>\n",
       "        <th title=\"Minos lower error\"> Minos Error- </th>\n",
       "        <th title=\"Minos upper error\"> Minos Error+ </th>\n",
       "        <th title=\"Lower limit of the parameter\"> Limit- </th>\n",
       "        <th title=\"Upper limit of the parameter\"> Limit+ </th>\n",
       "        <th title=\"Is the parameter fixed in the fit\"> Fixed </th>\n",
       "    </tr>\n",
       "    <tr style=\"background-color:#FFFFFF;\">\n",
       "        <th> 0 </th>\n",
       "        <td> a </td>\n",
       "        <td> 0 </td>\n",
       "        <td> 1 </td>\n",
       "        <td>  </td>\n",
       "        <td>  </td>\n",
       "        <td>  </td>\n",
       "        <td>  </td>\n",
       "        <td>  </td>\n",
       "    </tr>\n",
       "    <tr style=\"background-color:#F4F4F4;\">\n",
       "        <th> 1 </th>\n",
       "        <td> b </td>\n",
       "        <td> 0 </td>\n",
       "        <td> 1 </td>\n",
       "        <td>  </td>\n",
       "        <td>  </td>\n",
       "        <td>  </td>\n",
       "        <td>  </td>\n",
       "        <td>  </td>\n",
       "    </tr>\n",
       "</table>"
      ],
      "text/plain": [
       "┌──────────────────────────────────┬──────────────────────────────────────┐\n",
       "│ FCN = 1                          │        Ncalls = 19 (19 total)        │\n",
       "│ EDM = 0 (Goal: 0.0002)           │               up = 1.0               │\n",
       "├───────────────┬──────────────────┼──────────────────────────────────────┤\n",
       "│ Valid Minimum │ Valid Parameters │        No Parameters at limit        │\n",
       "├───────────────┴──────────────────┼──────────────────────────────────────┤\n",
       "│          Below EDM goal          │           Below call limit           │\n",
       "├───────────────┬──────────────────┼───────────┬─────────────┬────────────┤\n",
       "│   Hesse ok    │  Has Covariance  │ Accurate  │  Pos. def.  │ Not forced │\n",
       "└───────────────┴──────────────────┴───────────┴─────────────┴────────────┘\n",
       "┌───┬──────┬───────────┬───────────┬────────────┬────────────┬─────────┬─────────┬───────┐\n",
       "│   │ Name │   Value   │ Hesse Err │ Minos Err- │ Minos Err+ │ Limit-  │ Limit+  │ Fixed │\n",
       "├───┼──────┼───────────┼───────────┼────────────┼────────────┼─────────┼─────────┼───────┤\n",
       "│ 0 │ a    │     0     │     1     │            │            │         │         │       │\n",
       "│ 1 │ b    │     0     │     1     │            │            │         │         │       │\n",
       "└───┴──────┴───────────┴───────────┴────────────┴────────────┴─────────┴─────────┴───────┘"
      ]
     },
     "execution_count": 2,
     "metadata": {},
     "output_type": "execute_result"
    }
   ],
   "source": [
    "m = iminuit.Minuit(lambda a, b: a ** 2 + b ** 2 + 1, pedantic=False)\n",
    "m.migrad()"
   ]
  },
  {
   "cell_type": "code",
   "execution_count": 3,
   "metadata": {},
   "outputs": [
    {
     "name": "stdout",
     "output_type": "stream",
     "text": [
      "┌──────────────────────────────────┬──────────────────────────────────────┐\n",
      "│ FCN = 1                          │        Ncalls = 19 (19 total)        │\n",
      "│ EDM = 0 (Goal: 0.0002)           │               up = 1.0               │\n",
      "├───────────────┬──────────────────┼──────────────────────────────────────┤\n",
      "│ Valid Minimum │ Valid Parameters │        No Parameters at limit        │\n",
      "├───────────────┴──────────────────┼──────────────────────────────────────┤\n",
      "│          Below EDM goal          │           Below call limit           │\n",
      "├───────────────┬──────────────────┼───────────┬─────────────┬────────────┤\n",
      "│   Hesse ok    │  Has Covariance  │ Accurate  │  Pos. def.  │ Not forced │\n",
      "└───────────────┴──────────────────┴───────────┴─────────────┴────────────┘\n",
      "┌───┬──────┬───────────┬───────────┬────────────┬────────────┬─────────┬─────────┬───────┐\n",
      "│   │ Name │   Value   │ Hesse Err │ Minos Err- │ Minos Err+ │ Limit-  │ Limit+  │ Fixed │\n",
      "├───┼──────┼───────────┼───────────┼────────────┼────────────┼─────────┼─────────┼───────┤\n",
      "│ 0 │ a    │     0     │     1     │            │            │         │         │       │\n",
      "│ 1 │ b    │     0     │     1     │            │            │         │         │       │\n",
      "└───┴──────┴───────────┴───────────┴────────────┴────────────┴─────────┴─────────┴───────┘\n"
     ]
    }
   ],
   "source": [
    "m = iminuit.Minuit(lambda a, b: a ** 2 + b ** 2 + 1, pedantic=False)\n",
    "print(m.migrad())"
   ]
  },
  {
   "cell_type": "markdown",
   "metadata": {},
   "source": [
    "### Bad fits"
   ]
  },
  {
   "cell_type": "code",
   "execution_count": 4,
   "metadata": {},
   "outputs": [
    {
     "data": {
      "text/html": [
       "<table>\n",
       "    <tr>\n",
       "        <td colspan=\"2\" style=\"text-align:left\" title=\"Minimum value of function\"> FCN = 0 </td>\n",
       "        <td colspan=\"3\" style=\"text-align:center\" title=\"No. of calls in last algorithm and total number of calls\"> Ncalls = 20 (20 total) </td>\n",
       "    </tr>\n",
       "    <tr>\n",
       "        <td colspan=\"2\" style=\"text-align:left\" title=\"Estimated distance to minimum and goal\"> EDM = 0 (Goal: 0.0002) </td>\n",
       "        <td colspan=\"3\" style=\"text-align:center\" title=\"Increase in FCN which corresponds to 1 standard deviation\"> up = 1.0 </td>\n",
       "    </tr>\n",
       "    <tr>\n",
       "        <td style=\"text-align:center;background-color:#FF7878;\"> INVALID Minimum </td>\n",
       "        <td style=\"text-align:center;background-color:#92CCA6;\"> Valid Parameters </td>\n",
       "        <td colspan=\"3\" style=\"text-align:center;background-color:#92CCA6;\"> No Parameters at limit </td>\n",
       "    </tr>\n",
       "    <tr>\n",
       "        <td colspan=\"2\" style=\"text-align:center;background-color:#92CCA6;\"> Below EDM goal </td>\n",
       "        <td colspan=\"3\" style=\"text-align:center;background-color:#92CCA6;\"> Below call limit </td>\n",
       "    </tr>\n",
       "    <tr>\n",
       "        <td style=\"text-align:center;background-color:#FF7878;\"> Hesse FAILED </td>\n",
       "        <td style=\"text-align:center;background-color:#92CCA6;\"> Has Covariance </td>\n",
       "        <td style=\"text-align:center;background-color:#FFF79A;\" title=\"Is covariance matrix accurate?\"> APPROXIMATE </td>\n",
       "        <td style=\"text-align:center;background-color:#FF7878;\" title=\"Is covariance matrix positive definite?\"> NOT pos. def. </td>\n",
       "        <td style=\"text-align:center;background-color:#92CCA6;\" title=\"Was positive definiteness enforced by Minuit?\"> Not forced </td>\n",
       "    </tr>\n",
       "</table><table>\n",
       "    <tr style=\"background-color:#F4F4F4;\">\n",
       "        <td></td>\n",
       "        <th title=\"Variable name\"> Name </th>\n",
       "        <th title=\"Value of parameter\"> Value </th>\n",
       "        <th title=\"Hesse error\"> Hesse Error </th>\n",
       "        <th title=\"Minos lower error\"> Minos Error- </th>\n",
       "        <th title=\"Minos upper error\"> Minos Error+ </th>\n",
       "        <th title=\"Lower limit of the parameter\"> Limit- </th>\n",
       "        <th title=\"Upper limit of the parameter\"> Limit+ </th>\n",
       "        <th title=\"Is the parameter fixed in the fit\"> Fixed </th>\n",
       "    </tr>\n",
       "    <tr style=\"background-color:#FFFFFF;\">\n",
       "        <th> 0 </th>\n",
       "        <td> x </td>\n",
       "        <td> 0 </td>\n",
       "        <td> 0 </td>\n",
       "        <td>  </td>\n",
       "        <td>  </td>\n",
       "        <td>  </td>\n",
       "        <td>  </td>\n",
       "        <td>  </td>\n",
       "    </tr>\n",
       "    <tr style=\"background-color:#F4F4F4;\">\n",
       "        <th> 1 </th>\n",
       "        <td> y </td>\n",
       "        <td> 0 </td>\n",
       "        <td> 0 </td>\n",
       "        <td>  </td>\n",
       "        <td>  </td>\n",
       "        <td>  </td>\n",
       "        <td>  </td>\n",
       "        <td>  </td>\n",
       "    </tr>\n",
       "</table>"
      ],
      "text/plain": [
       "┌──────────────────────────────────┬──────────────────────────────────────┐\n",
       "│ FCN = 0                          │        Ncalls = 20 (20 total)        │\n",
       "│ EDM = 0 (Goal: 0.0002)           │               up = 1.0               │\n",
       "├───────────────┬──────────────────┼──────────────────────────────────────┤\n",
       "│INVALID Minimum│ Valid Parameters │        No Parameters at limit        │\n",
       "├───────────────┴──────────────────┼──────────────────────────────────────┤\n",
       "│          Below EDM goal          │           Below call limit           │\n",
       "├───────────────┬──────────────────┼───────────┬─────────────┬────────────┤\n",
       "│ Hesse FAILED  │  Has Covariance  │APPROXIMATE│NOT pos. def.│ Not forced │\n",
       "└───────────────┴──────────────────┴───────────┴─────────────┴────────────┘\n",
       "┌───┬──────┬───────────┬───────────┬────────────┬────────────┬─────────┬─────────┬───────┐\n",
       "│   │ Name │   Value   │ Hesse Err │ Minos Err- │ Minos Err+ │ Limit-  │ Limit+  │ Fixed │\n",
       "├───┼──────┼───────────┼───────────┼────────────┼────────────┼─────────┼─────────┼───────┤\n",
       "│ 0 │ x    │     0     │     0     │            │            │         │         │       │\n",
       "│ 1 │ y    │     0     │     0     │            │            │         │         │       │\n",
       "└───┴──────┴───────────┴───────────┴────────────┴────────────┴─────────┴─────────┴───────┘"
      ]
     },
     "execution_count": 4,
     "metadata": {},
     "output_type": "execute_result"
    }
   ],
   "source": [
    "m = iminuit.Minuit(lambda x, y : 0, pedantic=False)\n",
    "m.migrad()"
   ]
  },
  {
   "cell_type": "code",
   "execution_count": 5,
   "metadata": {},
   "outputs": [
    {
     "data": {
      "text/html": [
       "<table>\n",
       "    <tr>\n",
       "        <td colspan=\"2\" style=\"text-align:left\" title=\"Minimum value of function\"> FCN = 8.015e-09 </td>\n",
       "        <td colspan=\"3\" style=\"text-align:center\" title=\"No. of calls in last algorithm and total number of calls\"> Ncalls = 31 (31 total) </td>\n",
       "    </tr>\n",
       "    <tr>\n",
       "        <td colspan=\"2\" style=\"text-align:left\" title=\"Estimated distance to minimum and goal\"> EDM = 8.01e-09 (Goal: 0.0002) </td>\n",
       "        <td colspan=\"3\" style=\"text-align:center\" title=\"Increase in FCN which corresponds to 1 standard deviation\"> up = 1.0 </td>\n",
       "    </tr>\n",
       "    <tr>\n",
       "        <td style=\"text-align:center;background-color:#92CCA6;\"> Valid Minimum </td>\n",
       "        <td style=\"text-align:center;background-color:#92CCA6;\"> Valid Parameters </td>\n",
       "        <td colspan=\"3\" style=\"text-align:center;background-color:#FFF79A;\"> SOME Parameters at limit </td>\n",
       "    </tr>\n",
       "    <tr>\n",
       "        <td colspan=\"2\" style=\"text-align:center;background-color:#92CCA6;\"> Below EDM goal </td>\n",
       "        <td colspan=\"3\" style=\"text-align:center;background-color:#92CCA6;\"> Below call limit </td>\n",
       "    </tr>\n",
       "    <tr>\n",
       "        <td style=\"text-align:center;background-color:#92CCA6;\"> Hesse ok </td>\n",
       "        <td style=\"text-align:center;background-color:#92CCA6;\"> Has Covariance </td>\n",
       "        <td style=\"text-align:center;background-color:#FFF79A;\" title=\"Is covariance matrix accurate?\"> APPROXIMATE </td>\n",
       "        <td style=\"text-align:center;background-color:#FF7878;\" title=\"Is covariance matrix positive definite?\"> NOT pos. def. </td>\n",
       "        <td style=\"text-align:center;background-color:#FF7878;\" title=\"Was positive definiteness enforced by Minuit?\"> FORCED </td>\n",
       "    </tr>\n",
       "</table><table>\n",
       "    <tr style=\"background-color:#F4F4F4;\">\n",
       "        <td></td>\n",
       "        <th title=\"Variable name\"> Name </th>\n",
       "        <th title=\"Value of parameter\"> Value </th>\n",
       "        <th title=\"Hesse error\"> Hesse Error </th>\n",
       "        <th title=\"Minos lower error\"> Minos Error- </th>\n",
       "        <th title=\"Minos upper error\"> Minos Error+ </th>\n",
       "        <th title=\"Lower limit of the parameter\"> Limit- </th>\n",
       "        <th title=\"Upper limit of the parameter\"> Limit+ </th>\n",
       "        <th title=\"Is the parameter fixed in the fit\"> Fixed </th>\n",
       "    </tr>\n",
       "    <tr style=\"background-color:#FFFFFF;\">\n",
       "        <th> 0 </th>\n",
       "        <td> x </td>\n",
       "        <td> 0.3 </td>\n",
       "        <td> 0.8 </td>\n",
       "        <td>  </td>\n",
       "        <td>  </td>\n",
       "        <td> 0 </td>\n",
       "        <td> 1 </td>\n",
       "        <td>  </td>\n",
       "    </tr>\n",
       "    <tr style=\"background-color:#F4F4F4;\">\n",
       "        <th> 1 </th>\n",
       "        <td> y </td>\n",
       "        <td> 0 </td>\n",
       "        <td> 16 </td>\n",
       "        <td>  </td>\n",
       "        <td>  </td>\n",
       "        <td>  </td>\n",
       "        <td>  </td>\n",
       "        <td>  </td>\n",
       "    </tr>\n",
       "</table>"
      ],
      "text/plain": [
       "┌──────────────────────────────────┬──────────────────────────────────────┐\n",
       "│ FCN = 8.015e-09                  │        Ncalls = 31 (31 total)        │\n",
       "│ EDM = 8.01e-09 (Goal: 0.0002)    │               up = 1.0               │\n",
       "├───────────────┬──────────────────┼──────────────────────────────────────┤\n",
       "│ Valid Minimum │ Valid Parameters │       SOME Parameters at limit       │\n",
       "├───────────────┴──────────────────┼──────────────────────────────────────┤\n",
       "│          Below EDM goal          │           Below call limit           │\n",
       "├───────────────┬──────────────────┼───────────┬─────────────┬────────────┤\n",
       "│   Hesse ok    │  Has Covariance  │APPROXIMATE│NOT pos. def.│   FORCED   │\n",
       "└───────────────┴──────────────────┴───────────┴─────────────┴────────────┘\n",
       "┌───┬──────┬───────────┬───────────┬────────────┬────────────┬─────────┬─────────┬───────┐\n",
       "│   │ Name │   Value   │ Hesse Err │ Minos Err- │ Minos Err+ │ Limit-  │ Limit+  │ Fixed │\n",
       "├───┼──────┼───────────┼───────────┼────────────┼────────────┼─────────┼─────────┼───────┤\n",
       "│ 0 │ x    │    0.3    │    0.8    │            │            │    0    │    1    │       │\n",
       "│ 1 │ y    │     0     │    16     │            │            │         │         │       │\n",
       "└───┴──────┴───────────┴───────────┴────────────┴────────────┴─────────┴─────────┴───────┘"
      ]
     },
     "execution_count": 5,
     "metadata": {},
     "output_type": "execute_result"
    }
   ],
   "source": [
    "m = iminuit.Minuit(lambda x, y : (x-y) ** 2, limit_x=(0, 1), pedantic=False)\n",
    "m.migrad()"
   ]
  },
  {
   "cell_type": "code",
   "execution_count": 6,
   "metadata": {},
   "outputs": [
    {
     "name": "stdout",
     "output_type": "stream",
     "text": [
      "┌──────────────────────────────────┬──────────────────────────────────────┐\n",
      "│ FCN = 8.015e-09                  │        Ncalls = 31 (31 total)        │\n",
      "│ EDM = 8.01e-09 (Goal: 0.0002)    │               up = 1.0               │\n",
      "├───────────────┬──────────────────┼──────────────────────────────────────┤\n",
      "│ Valid Minimum │ Valid Parameters │       SOME Parameters at limit       │\n",
      "├───────────────┴──────────────────┼──────────────────────────────────────┤\n",
      "│          Below EDM goal          │           Below call limit           │\n",
      "├───────────────┬──────────────────┼───────────┬─────────────┬────────────┤\n",
      "│   Hesse ok    │  Has Covariance  │APPROXIMATE│NOT pos. def.│   FORCED   │\n",
      "└───────────────┴──────────────────┴───────────┴─────────────┴────────────┘\n",
      "┌───┬──────┬───────────┬───────────┬────────────┬────────────┬─────────┬─────────┬───────┐\n",
      "│   │ Name │   Value   │ Hesse Err │ Minos Err- │ Minos Err+ │ Limit-  │ Limit+  │ Fixed │\n",
      "├───┼──────┼───────────┼───────────┼────────────┼────────────┼─────────┼─────────┼───────┤\n",
      "│ 0 │ x    │    0.3    │    0.8    │            │            │    0    │    1    │       │\n",
      "│ 1 │ y    │     0     │    16     │            │            │         │         │       │\n",
      "└───┴──────┴───────────┴───────────┴────────────┴────────────┴─────────┴─────────┴───────┘\n"
     ]
    }
   ],
   "source": [
    "m = iminuit.Minuit(lambda x, y : (x-y) ** 2, limit_x=(0, 1), pedantic=False)\n",
    "print(m.migrad())"
   ]
  }
 ],
 "metadata": {
  "kernelspec": {
   "display_name": "Python 3",
   "language": "python",
   "name": "python3"
  },
  "language_info": {
   "codemirror_mode": {
    "name": "ipython",
    "version": 3
   },
   "file_extension": ".py",
   "mimetype": "text/x-python",
   "name": "python",
   "nbconvert_exporter": "python",
   "pygments_lexer": "ipython3",
   "version": "3.8.3"
  }
 },
 "nbformat": 4,
 "nbformat_minor": 4
}
