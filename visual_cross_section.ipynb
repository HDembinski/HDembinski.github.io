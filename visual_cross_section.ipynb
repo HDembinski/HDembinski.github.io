{
 "cells": [
  {
   "attachments": {},
   "cell_type": "markdown",
   "metadata": {},
   "source": [
    "# Visual cross-section for particle production\n",
    "\n",
    "When you look for a somewhat rare decay, you want to know how much luminosity is required to see N decays in your detector. For this one needs to compute the visual cross-section, this is the part of the production cross-section for the particle for which the decay products all fall into the acceptance of the detector.\n",
    "\n",
    "We compute the visual cross-section here for the decay of Omega and Xi with chromo. We then go on and compute the expected rate of interactions for running LHCb in fixed-target mode."
   ]
  },
  {
   "attachments": {},
   "cell_type": "markdown",
   "metadata": {},
   "source": [
    "## Visual cross-section"
   ]
  },
  {
   "attachments": {},
   "cell_type": "markdown",
   "metadata": {},
   "source": [
    "We compute the inelastic cross-section for p-He collisions in fixed-target configuration where the proton has 13 TeV with chromo."
   ]
  },
  {
   "cell_type": "code",
   "execution_count": 1,
   "metadata": {},
   "outputs": [],
   "source": [
    "from chromo.models import Pythia8, EposLHC\n",
    "from chromo.kinematics import FixedTarget, TeV, GeV\n",
    "import numpy as np\n",
    "from particle import literals as lp\n",
    "from chromo.util import pdg2name"
   ]
  },
  {
   "cell_type": "code",
   "execution_count": 2,
   "metadata": {},
   "outputs": [
    {
     "name": "stdout",
     "output_type": "stream",
     "text": [
      "###################################################################\n",
      "#        EPOS LHC      K. WERNER, T. PIEROG                       #\n",
      "#                      Contact: tanguy.pierog@kit.edu             #\n",
      "###################################################################\n",
      "#        WARNING: This is a special retuned version !!!           #\n",
      "#     Do not publish results without contacting the authors.      #\n",
      "###################################################################\n",
      "read from /usr/local/lib/python3.10/site-packages/chromo/iamdata/epos/epos.iniev ...\n",
      "read from /usr/local/lib/python3.10/site-packages/chromo/iamdata/epos/epos.initl ...\n",
      "read from /usr/local/lib/python3.10/site-packages/chromo/iamdata/epos/epos.inirj.lhc ...\n",
      "read from /usr/local/lib/python3.10/site-packages/chromo/iamdata/epos/epos.inics.lhc ...\n",
      " Compute Cross-section (can take a while...)\n",
      "seedj:         2     0.2429813325513193-313\n"
     ]
    }
   ],
   "source": [
    "kin = FixedTarget(13*TeV, \"p\", \"He\")\n",
    "\n",
    "epos = EposLHC(kin)\n",
    "cs = epos.cross_section()"
   ]
  },
  {
   "cell_type": "code",
   "execution_count": 3,
   "metadata": {},
   "outputs": [
    {
     "data": {
      "text/plain": [
       "73.32463836669922"
      ]
     },
     "execution_count": 3,
     "metadata": {},
     "output_type": "execute_result"
    }
   ],
   "source": [
    "cs.inelastic"
   ]
  },
  {
   "attachments": {},
   "cell_type": "markdown",
   "metadata": {},
   "source": [
    "Now we compute with Pythia8, which fraction of inelastic events produce the following decays so that all charged final state decay products are in the LHCb acceptance, given by $p > 2$ GeV/c and $2 < \\eta < 5$.\n",
    "$$\n",
    "\\Xi^- \\to \\Lambda \\pi^- \\; (99.887\\,\\%)\n",
    "$$\n",
    "$$\n",
    "\\Omega^- \\to \\Lambda K^- \\; (67.8\\,\\%)\n",
    "$$"
   ]
  },
  {
   "cell_type": "code",
   "execution_count": 18,
   "metadata": {},
   "outputs": [],
   "source": [
    "pid_xi = abs(lp.Xi_minus.pdgid)\n",
    "pid_omega = abs(lp.Omega_minus.pdgid)\n",
    "pid_lambda = abs(lp.Lambda.pdgid)\n",
    "pid_pi = abs(lp.pi_plus.pdgid)\n",
    "pid_proton = abs(lp.proton.pdgid)\n",
    "pid_K = abs(lp.K_plus.pdgid)\n",
    "\n",
    "epos.set_stable(pid_xi, False)\n",
    "epos.set_stable(-pid_xi, False)\n",
    "epos.set_stable(pid_omega, False)\n",
    "epos.set_stable(-pid_omega, False)\n",
    "epos.set_stable(pid_lambda, False)\n",
    "epos.set_stable(-pid_lambda, False)"
   ]
  },
  {
   "cell_type": "code",
   "execution_count": 21,
   "metadata": {},
   "outputs": [
    {
     "name": "stdout",
     "output_type": "stream",
     "text": [
      "{'Xi': 82, 'Omega': 3} out of 100000\n"
     ]
    }
   ],
   "source": [
    "def is_decay(ptot, eta, apid, children, par, apid1, apid2):\n",
    "    ch = children[par]\n",
    "    if len(ch) != 2:\n",
    "        return False\n",
    "    for i in ch:\n",
    "        if apid[i] != apid1 and apid[i] != apid2:\n",
    "            return False\n",
    "        if apid[i] == pid_lambda:\n",
    "            if not is_decay(ptot, eta, apid, children, i, pid_proton, pid_pi):\n",
    "                return False\n",
    "        if ptot[i] < 2*GeV or eta[i] < 2 or eta[i] > 5:\n",
    "            return False\n",
    "    return True\n",
    "\n",
    "n_inel = 100000\n",
    "n_decays = {\"Xi\": 0, \"Omega\": 0}\n",
    "for event in epos(n_inel):\n",
    "    apid = np.abs(event.pid)\n",
    "    mask_xi = apid == pid_xi\n",
    "    mask_omega = apid == pid_omega\n",
    "    if np.any(mask_xi | mask_omega):\n",
    "        # collect children of each parent\n",
    "        children = {}\n",
    "        for i, par in enumerate(event.parents):\n",
    "            if par[0] == 0:\n",
    "                continue\n",
    "            children.setdefault(par[0] - 1, []).append(i)\n",
    "\n",
    "        ptot = event.p_tot\n",
    "        eta = event.eta\n",
    "\n",
    "        # investigate Xi decays\n",
    "        for par in np.arange(len(mask_xi))[mask_xi]:\n",
    "            if is_decay(ptot, eta, apid, children, par, pid_lambda, pid_pi):\n",
    "                n_decays[\"Xi\"] += 1\n",
    "\n",
    "        # investigate Omega decays\n",
    "        for par in np.arange(len(mask_omega))[mask_omega]:\n",
    "            if is_decay(ptot, eta, apid, children, par, pid_lambda, pid_K):\n",
    "                n_decays[\"Omega\"] += 1\n",
    "\n",
    "print(n_decays, \"out of\", n_inel)\n"
   ]
  },
  {
   "cell_type": "code",
   "execution_count": 29,
   "metadata": {},
   "outputs": [
    {
     "name": "stdout",
     "output_type": "stream",
     "text": [
      "visible cross-section\n",
      "Xi         0.0601 mb\n",
      "Omega      0.0022 mb\n"
     ]
    }
   ],
   "source": [
    "sigma_vis = {k: v / n_inel * cs.inelastic for k, v in n_decays.items()}\n",
    "\n",
    "print(\"visible cross-section\")\n",
    "for k, s in sigma_vis.items():\n",
    "    print(f\"{k:10} {s:.4f} mb\")"
   ]
  },
  {
   "attachments": {},
   "cell_type": "markdown",
   "metadata": {},
   "source": [
    "## LHCb in fixed-target mode\n",
    "\n",
    "LHCb in fixed-target mode uses a gas target. We compute the event rate for the SMOG 1 configuration where the gas is injected directly into the LHCb Vertex Locator (VELO).\n",
    "\n",
    "The average number of interactions per bunch crossing is\n",
    "$$\n",
    "\\mu = \\sigma L N p \\frac{N_A}{22400}\n",
    "$$\n",
    "where $L = 60$ cm is the length of the detection region in the VELO, $N=10^{11}$ is the bunch population in Run 2, $p$ is gas pressure in bar, and $N_A$ is Avogadro's constant."
   ]
  },
  {
   "cell_type": "code",
   "execution_count": 32,
   "metadata": {},
   "outputs": [],
   "source": [
    "avogradro = 6.02214076e23"
   ]
  },
  {
   "cell_type": "code",
   "execution_count": 38,
   "metadata": {},
   "outputs": [
    {
     "data": {
      "text/plain": [
       "0.00021428571428571427"
      ]
     },
     "execution_count": 38,
     "metadata": {},
     "output_type": "execute_result"
    }
   ],
   "source": [
    "200e-3 * 60e-2 * 1e-10 * 1e11 * 4 / 22400"
   ]
  },
  {
   "cell_type": "code",
   "execution_count": 30,
   "metadata": {},
   "outputs": [],
   "source": [
    "#  Helium injection, 24/11/2022, target pressure on the VELO 1.2E-8mbar\n",
    "p = 1.2e-8 * 1e-3"
   ]
  },
  {
   "cell_type": "code",
   "execution_count": null,
   "metadata": {},
   "outputs": [],
   "source": []
  }
 ],
 "metadata": {
  "kernelspec": {
   "display_name": "Python 3",
   "language": "python",
   "name": "python3"
  },
  "language_info": {
   "codemirror_mode": {
    "name": "ipython",
    "version": 3
   },
   "file_extension": ".py",
   "mimetype": "text/x-python",
   "name": "python",
   "nbconvert_exporter": "python",
   "pygments_lexer": "ipython3",
   "version": "3.10.9"
  },
  "orig_nbformat": 4
 },
 "nbformat": 4,
 "nbformat_minor": 2
}
