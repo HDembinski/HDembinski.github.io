{
 "cells": [
  {
   "cell_type": "code",
   "execution_count": 18,
   "id": "fifteen-number",
   "metadata": {},
   "outputs": [],
   "source": [
    "import numpy as np\n",
    "import emcee\n",
    "import matplotlib.pyplot as plt\n",
    "import numba as nb\n",
    "from concurrent.futures import ThreadPoolExecutor as Pool"
   ]
  },
  {
   "cell_type": "code",
   "execution_count": 30,
   "id": "female-gravity",
   "metadata": {},
   "outputs": [
    {
     "name": "stderr",
     "output_type": "stream",
     "text": [
      "100%|██████████| 100/100 [00:00<00:00, 219.83it/s]\n"
     ]
    },
    {
     "name": "stdout",
     "output_type": "stream",
     "text": [
      "2.0002429043400904 0.04408006476190386\n"
     ]
    },
    {
     "data": {
      "image/png": "[encoded data removed]",
      "text/plain": [
       "<Figure size 432x288 with 1 Axes>"
      ]
     },
     "metadata": {
      "needs_background": "light"
     },
     "output_type": "display_data"
    }
   ],
   "source": [
    "rng = np.random.default_rng(1)\n",
    "\n",
    "y = 2.0\n",
    "\n",
    "@nb.njit\n",
    "def model(mu):\n",
    "    return mu + np.random.randn()\n",
    "\n",
    "@nb.njit\n",
    "def log_prob(mu, y):\n",
    "    diff = y - model(mu)\n",
    "    return -0.5 * np.sum(diff ** 2)\n",
    "\n",
    "nwalkers = 1000\n",
    "ndim = 1\n",
    "sampler = emcee.EnsembleSampler(nwalkers, ndim, log_prob, args=[y])\n",
    "\n",
    "start = rng.normal(size=(nwalkers, ndim))\n",
    "r = sampler.run_mcmc(start, 100, progress=True)\n",
    "\n",
    "plt.hist(r.coords)\n",
    "print(np.mean(r.coords), np.std(r.coords) / np.sqrt(len(r.coords)))"
   ]
  },
  {
   "cell_type": "code",
   "execution_count": null,
   "id": "pregnant-supply",
   "metadata": {},
   "outputs": [],
   "source": []
  }
 ],
 "metadata": {
  "kernelspec": {
   "display_name": "py38",
   "language": "python",
   "name": "py38"
  },
  "language_info": {
   "codemirror_mode": {
    "name": "ipython",
    "version": 3
   },
   "file_extension": ".py",
   "mimetype": "text/x-python",
   "name": "python",
   "nbconvert_exporter": "python",
   "pygments_lexer": "ipython3",
   "version": "3.8.6"
  }
 },
 "nbformat": 4,
 "nbformat_minor": 5
}
