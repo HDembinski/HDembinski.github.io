{
 "cells": [
  {
   "cell_type": "markdown",
   "id": "raising-smoke",
   "metadata": {},
   "source": [
    "# p-value computation and conversion: one-sided, two-sided?\n",
    "\n",
    "This is an attempt to clear up the confusion around p-value computation and based on the authorative source on that matter:\n",
    "\n",
    "[G. Cowan, K. Cranmer, E. Gross, O. Vitells, Eur.Phys.J.C 71 (2011) 1554](https://inspirehep.net/literature/860907)\n",
    "\n",
    "The point of that paper is that one should use two different test statistics based on the likelihood-ratio for deviations that are always positive and for deviations where the sign is not known a priori. One gets two different p-values accordingly. The conversion to significance is then always the same.\n",
    "\n",
    "I generate a flat distribution from $(-1,1)$ which represents background-only samples, then I fit a Gaussian peak centered at 0 with width 0.1 to this data test the two hypotheses\n",
    "\n",
    "* $H_0$: there is only background\n",
    "* $H_1$: there is background and a signal\n",
    "\n",
    "The $H_1$ in these kinds of tests is never arbitrary in terms of the signal, we do not seek for any deviation, but a rather specific one. In our example, we seek for a signal in particular location (here centered at 0). This is important for the computation of the p-value later. The less constrained $H_1$ is, the more of the Look-Elsewhere Effect I get, because more random fluctuations of the background can be confused with a signal.\n",
    "\n",
    "When fitting the toys, I allow the amplitude $\\mu$ of the signal to be positive or negative (following Cowan et al.). As a test statistic for a deviation from the background-only case I use $t_0$ (again following Cowan et al. in the notation)\n",
    "$$\n",
    "t_0 = -2\\ln \\lambda(0) = -2 \\ln \\frac{L(0, \\hat {\\hat \\theta})}{L(\\hat \\mu, \\hat \\theta)}\n",
    "$$\n",
    "where\n",
    "* $\\mu$ is the amplitude of the hypothetical signal\n",
    "* $\\theta$ are nuisance parameters\n",
    "* $\\hat \\mu$ is the fitted value of $\\mu$\n",
    "* $\\hat\\theta$ are the fitted values of $\\theta$ when $\\mu$ is also fitted\n",
    "* $\\hat{\\hat\\theta}$ are the fitted values of $\\theta$ under the condition $\\mu = 0$.\n",
    "\n",
    "If you search for $t_0$ in the paper, it is not explicitly written there, $t_0$ is $t_\\mu$ from section 2.1 with $\\mu = 0$."
   ]
  },
  {
   "cell_type": "code",
   "execution_count": 19,
   "id": "handy-pastor",
   "metadata": {},
   "outputs": [],
   "source": [
    "import numpy as np\n",
    "from iminuit import Minuit\n",
    "from iminuit.cost import ExtendedUnbinnedNLL\n",
    "from numba_stats import uniform_pdf, norm_pdf\n",
    "import matplotlib.pyplot as plt\n",
    "import boost_histogram as bh"
   ]
  },
  {
   "cell_type": "code",
   "execution_count": 3,
   "id": "improved-frontier",
   "metadata": {},
   "outputs": [],
   "source": [
    "rng = np.random.default_rng(1)\n",
    "\n",
    "def model(x, mu, theta):\n",
    "    return mu + theta, mu * norm_pdf(x, 0, 0.1) + theta * uniform_pdf(x, -1, 2)\n",
    "\n",
    "positive = [0]\n",
    "negative = [0]\n",
    "t0 = []\n",
    "mu = []\n",
    "for imc in range(1000):\n",
    "    b = rng.uniform(-1, 1, size=1000)\n",
    "    c = ExtendedUnbinnedNLL(b, model)\n",
    "    m = Minuit(c, mu=0, theta=len(b))\n",
    "    m.limits[\"theta\"] = (0, None)\n",
    "    m.fixed[\"mu\"] = True\n",
    "    m.migrad()\n",
    "    assert m.valid\n",
    "    lnL_b = -m.fval\n",
    "    m.fixed[\"mu\"] = False\n",
    "    m.migrad()\n",
    "    mui = m.values[\"mu\"]\n",
    "    lnL_sb = -m.fval\n",
    "    t0i = 2 * (lnL_sb - lnL_b)\n",
    "    t0.append(t0i)\n",
    "    mu.append(mui)\n",
    "    if mui > 0 and t0i > positive[0]:\n",
    "        h = bh.Histogram(bh.axis.Regular(100, -1, 1))\n",
    "        h.fill(b)\n",
    "        positive = (t0i, h, m.values[:], m.covariance[:])\n",
    "    elif mui < 0 and t0i > negative[0]:\n",
    "        h = bh.Histogram(bh.axis.Regular(100, -1, 1))\n",
    "        h.fill(b)\n",
    "        negative = (t0i, h, m.values[:], m.covariance[:])\n",
    "        \n",
    "t0 = np.array(t0)\n",
    "mu = np.array(mu)"
   ]
  },
  {
   "cell_type": "markdown",
   "id": "waiting-passport",
   "metadata": {},
   "source": [
    "Let's look at the two most extreme deviations from $H_0$, the ones with the largest and smallest signal."
   ]
  },
  {
   "cell_type": "code",
   "execution_count": 7,
   "id": "hybrid-modern",
   "metadata": {},
   "outputs": [
    {
     "data": {
      "image/png": "[encoded data removed]",
      "text/plain": [
       "<Figure size 1008x360 with 2 Axes>"
      ]
     },
     "metadata": {
      "needs_background": "light"
     },
     "output_type": "display_data"
    }
   ],
   "source": [
    "fig, ax = plt.subplots(1, 2, figsize=(14, 5), sharex=True, sharey=True)\n",
    "for (t0i, h, par, cov), axi in zip((negative, positive), ax):\n",
    "    plt.sca(axi)\n",
    "    scale = 1/h.axes[0].widths\n",
    "    plt.errorbar(h.axes[0].centers, h.values() * scale, h.variances()**0.5 * scale, fmt=\"ok\", label=\"data\")\n",
    "    scale = 1 / h.axes[0].widths\n",
    "    xm = np.linspace(-1, 1)\n",
    "    plt.plot(xm, model(xm, *par)[1], label=\"fit\")\n",
    "    plt.legend()\n",
    "    dev = par[0] / cov[0,0] ** 0.5\n",
    "    plt.title(f\"$\\mu = {par[0]:.1f}$        $t_0 = {t0i:.2f}$\")\n",
    "    plt.ylabel(\"density\")\n",
    "    plt.xlabel(\"$x$\")"
   ]
  },
  {
   "cell_type": "markdown",
   "id": "spread-conflict",
   "metadata": {},
   "source": [
    "Both upward and downward fluctuations are unlikely events  if $H_0$ is true and therefore both get a large value of our test statistic $t_0$, which does not know in which way the deviation went.\n",
    "\n",
    "#### Searches with $\\mu > 0$ (for a new particle, new decay mode, etc.)\n",
    "\n",
    "In most cases we look for a positive peak (new particle, new decay mode, etc). If we see a downward fluctuation, we **know for sure** that this cannot be what we are looking for. Therefore, when we compute the p-value for some observation from a simulation like this one, we must not regard large values of the test statistic when the fluctuation was negative, since this is not a deviation of $H_0$ that mimics our signal. Instead we should set $t_0$ to zero in such cases. Cowan et al. use $q_0$ for this modified test statistic\n",
    "$$\n",
    "q_0 = \\begin{cases}\n",
    "t_0 &\\text{if } \\hat\\mu \\ge 0 \\\\\n",
    "0 &\\text{otherwise}\n",
    "\\end{cases}\n",
    "$$"
   ]
  },
  {
   "cell_type": "code",
   "execution_count": 11,
   "id": "still-martial",
   "metadata": {},
   "outputs": [
    {
     "data": {
      "image/png": "[encoded data removed]",
      "text/plain": [
       "<Figure size 432x288 with 1 Axes>"
      ]
     },
     "metadata": {
      "needs_background": "light"
     },
     "output_type": "display_data"
    }
   ],
   "source": [
    "plt.hist(t0, alpha=0.5, bins=20, range=(0, 20), label=\"$t_0$\")\n",
    "q0 = t0.copy()\n",
    "q0 = np.where(mu < 0, 0, t0)\n",
    "plt.hist(q0, alpha=0.5, bins=20, range=(0, 20), label=\"$q_0$\")\n",
    "plt.legend()\n",
    "plt.axhline()\n",
    "plt.xlabel(\"$t_0, q_0$\")\n",
    "plt.semilogy();"
   ]
  },
  {
   "cell_type": "markdown",
   "id": "fresh-window",
   "metadata": {},
   "source": [
    "If we observed $t_0 = q_0 = 15$ in a real experiment, we need to compare it with the $q_0$ distribution and not with the $t_0$ distribution to compute the p-value."
   ]
  },
  {
   "cell_type": "code",
   "execution_count": 29,
   "id": "negative-margin",
   "metadata": {},
   "outputs": [
    {
     "name": "stdout",
     "output_type": "stream",
     "text": [
      "Wrong: p-value based on t0-distribution 0.006\n",
      "Right: p-value based on q0-distribution 0.004\n"
     ]
    }
   ],
   "source": [
    "print(f\"Wrong: p-value based on t0-distribution {np.mean(t0 > 15)}\")\n",
    "print(f\"Right: p-value based on q0-distribution {np.mean(q0 > 15)}\")"
   ]
  },
  {
   "cell_type": "markdown",
   "id": "unlike-bracelet",
   "metadata": {},
   "source": [
    "As we can see, the p-value is enhanced in this case, because we do not need to consider the negative fluctuations at all. The conversion to significance $Z$ is done with a normal distribution."
   ]
  },
  {
   "cell_type": "code",
   "execution_count": 27,
   "id": "impaired-redhead",
   "metadata": {},
   "outputs": [
    {
     "name": "stdout",
     "output_type": "stream",
     "text": [
      "Z = 2.65\n"
     ]
    }
   ],
   "source": [
    "from scipy.stats import norm\n",
    "\n",
    "p = np.mean(q0 > 15)\n",
    "print(f\"Z = {norm.ppf(1 - p):.2f}\")"
   ]
  },
  {
   "cell_type": "markdown",
   "id": "brutal-diary",
   "metadata": {},
   "source": [
    "#### Searches for deviations where the sign of $\\mu$ is not known a priori\n",
    "\n",
    "If cannot exclude a priori that our signal has $\\mu < 0$, we need to use the $t_0$ distribution instead of $q_0$.\n",
    "\n",
    "If we observed $t_0 = 15$ in a real experiment, we need to compare it with $t_0$ distribution to compute the p-value."
   ]
  },
  {
   "cell_type": "code",
   "execution_count": 31,
   "id": "future-olympus",
   "metadata": {},
   "outputs": [
    {
     "name": "stdout",
     "output_type": "stream",
     "text": [
      "Right: p-value based on t0-distribution 0.006\n"
     ]
    }
   ],
   "source": [
    "print(f\"Right: p-value based on t0-distribution {np.mean(t0 > 15)}\")"
   ]
  },
  {
   "cell_type": "markdown",
   "id": "pharmaceutical-survey",
   "metadata": {},
   "source": [
    "As we can see, the p-value is diluted in this case, because we need to consider fluctuations in both directions. In other words, the Look-Elsewhere Effect is larger in this case, because more kinds of fluctuations in the background can be confused with a signal."
   ]
  },
  {
   "cell_type": "code",
   "execution_count": 26,
   "id": "marked-amber",
   "metadata": {},
   "outputs": [
    {
     "name": "stdout",
     "output_type": "stream",
     "text": [
      "Z = 2.51\n"
     ]
    }
   ],
   "source": [
    "from scipy.stats import norm\n",
    "\n",
    "p = np.mean(t0 > 15)\n",
    "print(f\"Z = {norm.ppf(1 - p):.2f}\")"
   ]
  },
  {
   "cell_type": "markdown",
   "id": "fewer-renewal",
   "metadata": {},
   "source": [
    "Accordingly, the significance is a bit lower compared to the previous case."
   ]
  }
 ],
 "metadata": {
  "kernelspec": {
   "display_name": "py38",
   "language": "python",
   "name": "py38"
  },
  "language_info": {
   "codemirror_mode": {
    "name": "ipython",
    "version": 3
   },
   "file_extension": ".py",
   "mimetype": "text/x-python",
   "name": "python",
   "nbconvert_exporter": "python",
   "pygments_lexer": "ipython3",
   "version": "3.8.6"
  }
 },
 "nbformat": 4,
 "nbformat_minor": 5
}
