{
 "cells": [
  {
   "cell_type": "code",
   "execution_count": 1,
   "metadata": {},
   "outputs": [],
   "source": [
    "#!pip install ipywidgets matplotlib scipy numpy ipympl\n",
    "%matplotlib widget\n",
    "from matplotlib import pyplot as plt\n",
    "from scipy.stats import johnsonsu, norm, t\n",
    "from ipywidgets import interact, widgets\n",
    "import numpy as np"
   ]
  },
  {
   "cell_type": "code",
   "execution_count": 9,
   "metadata": {},
   "outputs": [
    {
     "data": {
      "application/vnd.jupyter.widget-view+json": {
       "model_id": "2b8a3098bfc14ef6b75679c5d1ef15c6",
       "version_major": 2,
       "version_minor": 0
      },
      "text/plain": [
       "Canvas(toolbar=Toolbar(toolitems=[('Home', 'Reset original view', 'home', 'home'), ('Back', 'Back to previous …"
      ]
     },
     "metadata": {},
     "output_type": "display_data"
    },
    {
     "data": {
      "application/vnd.jupyter.widget-view+json": {
       "model_id": "8bcbb06b94cd48eeb0fb1317275b4b35",
       "version_major": 2,
       "version_minor": 0
      },
      "text/plain": [
       "interactive(children=(FloatSlider(value=0.0, description='a', max=10.0, min=-10.0), FloatSlider(value=0.0, des…"
      ]
     },
     "metadata": {},
     "output_type": "display_data"
    }
   ],
   "source": [
    "x = np.linspace(-5, 5, 1000)\n",
    "\n",
    "fig = plt.figure()\n",
    "plt.plot(x, norm.pdf(x), label=\"normal\")\n",
    "line, = plt.plot(x, x, label=\"other\")\n",
    "plt.legend()\n",
    "plt.ylim(0, 1)\n",
    "\n",
    "def update(a, b, which):\n",
    "    if which == \"Johnson SU\":\n",
    "        y = johnsonsu.pdf(x, a, np.exp(b))\n",
    "    elif which == \"Student-t\":\n",
    "        y = t.pdf(x, np.exp(b))\n",
    "    line.set_ydata(y)\n",
    "    fig.canvas.draw_idle()\n",
    "    \n",
    "interact(update,\n",
    "         a=(-10.0, 10.0),\n",
    "         b=widgets.FloatSlider(0.0, min=-10.0, max=5.0),\n",
    "         which=[\"Johnson SU\", \"Student-t\"]);"
   ]
  },
  {
   "cell_type": "code",
   "execution_count": null,
   "metadata": {},
   "outputs": [],
   "source": []
  }
 ],
 "metadata": {
  "kernelspec": {
   "display_name": "Python 3",
   "language": "python",
   "name": "python3"
  },
  "language_info": {
   "codemirror_mode": {
    "name": "ipython",
    "version": 3
   },
   "file_extension": ".py",
   "mimetype": "text/x-python",
   "name": "python",
   "nbconvert_exporter": "python",
   "pygments_lexer": "ipython3",
   "version": "3.7.6"
  }
 },
 "nbformat": 4,
 "nbformat_minor": 4
}
