{
 "cells": [
  {
   "cell_type": "code",
   "execution_count": 3,
   "metadata": {},
   "outputs": [],
   "source": [
    "import numpy as np\n",
    "import numba as nb\n",
    "import matplotlib.pyplot as plt\n",
    "from iminuit import Minuit\n",
    "from scipy.stats import norm\n",
    "import boost_histogram as bh "
   ]
  },
  {
   "cell_type": "code",
   "execution_count": 15,
   "metadata": {},
   "outputs": [],
   "source": [
    "@nb.njit\n",
    "def cost_lsq(w, wvar, mu):\n",
    "    r = 0.0\n",
    "    for i in range(len(w)):\n",
    "        if wvar[i] > 0:\n",
    "            r += (w[i] - mu) ** 2 / wvar[i]\n",
    "    return r\n",
    "\n",
    "\n",
    "@nb.njit\n",
    "def cost_ml(w, wvar, mu):\n",
    "    # Bohm and Zech, NIMA 748 (2014) 1-6\n",
    "    r = 0.0\n",
    "    for i in range(len(w)):\n",
    "        if wvar[i] > 0 and w[i] * mu > 0:\n",
    "            s_inv = w[i] / wvar[i]\n",
    "            mu_prime = mu * s_inv\n",
    "            n_prime = w[i] * s_inv      \n",
    "            r += mu_prime - n_prime * np.log(mu_prime)\n",
    "    return 2 * r"
   ]
  },
  {
   "cell_type": "code",
   "execution_count": 40,
   "metadata": {},
   "outputs": [
    {
     "name": "stdout",
     "output_type": "stream",
     "text": [
      "LSQ\n",
      "relative bias = -0.042\n",
      "1.966, 2.158\n",
      "ML\n",
      "relative bias = -0.001\n",
      "2.008, 2.035\n"
     ]
    }
   ],
   "source": [
    "nmc = 1000\n",
    "\n",
    "def run(cost, w_mu, w_sigma_rel, mu_pts, bins):\n",
    "    expected_mu = w_mu * mu_pts / bins\n",
    "    rng = np.random.default_rng(seed=1)\n",
    "    fitted_mu = []\n",
    "    fitted_mu_var = []\n",
    "    h = bh.Histogram(bh.axis.Regular(bins, 0, 1), storage=bh.storage.Weight())\n",
    "    for imc in range(nmc):\n",
    "        h.reset()\n",
    "        n = rng.poisson(mu_pts)\n",
    "        x = rng.uniform(size=n)\n",
    "        wi = rng.normal(w_mu, w_sigma_rel * w_mu, size=n)\n",
    "        h.fill(x, weight=wi)\n",
    "        w = h.view()\n",
    "        m = Minuit(lambda mu: cost(w.value, w.variance, mu), mu=expected_mu, limit_mu=(0, None), pedantic=False)\n",
    "        m.migrad()\n",
    "        m.hesse()\n",
    "        if m.migrad_ok():\n",
    "            fitted_mu.append(m.values[0])\n",
    "            fitted_mu_var.append(m.errors[0] ** 2)\n",
    "        else:\n",
    "            print(\"error\", imc)\n",
    "    \n",
    "    bias = np.mean(fitted_mu) - expected_mu\n",
    "    sample_var = np.var(fitted_mu, ddof=1)\n",
    "    mean_fitted_var = np.mean(fitted_mu_var)\n",
    "    return expected_mu, bias, mean_fitted_var, sample_var\n",
    "\n",
    "results = tuple(map(lambda cost: run(cost, 1.0, 0.1, 100, 5), (cost_lsq, cost_ml)))\n",
    "results = np.array(results)\n",
    "\n",
    "labels = \"LSQ\", \"ML\"\n",
    "for itype in range(2):\n",
    "    print(labels[itype])\n",
    "    expected_mu, bias, mean_fitted_var, sample_var = results[itype]\n",
    "    print(f\"relative bias = {bias / expected_mu:.3f}\")\n",
    "    print(f\"{mean_fitted_var ** 0.5:.3f}, {sample_var ** 0.5:.3f}\")"
   ]
  },
  {
   "cell_type": "code",
   "execution_count": null,
   "metadata": {},
   "outputs": [],
   "source": []
  },
  {
   "cell_type": "code",
   "execution_count": null,
   "metadata": {},
   "outputs": [],
   "source": []
  }
 ],
 "metadata": {
  "kernelspec": {
   "display_name": "prompt_hadrons",
   "language": "python",
   "name": "prompt_hadrons"
  },
  "language_info": {
   "codemirror_mode": {
    "name": "ipython",
    "version": 3
   },
   "file_extension": ".py",
   "mimetype": "text/x-python",
   "name": "python",
   "nbconvert_exporter": "python",
   "pygments_lexer": "ipython3",
   "version": "3.6.7"
  }
 },
 "nbformat": 4,
 "nbformat_minor": 4
}
