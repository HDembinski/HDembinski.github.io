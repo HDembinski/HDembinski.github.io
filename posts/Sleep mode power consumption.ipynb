{
 "cells": [
  {
   "cell_type": "code",
   "execution_count": 28,
   "metadata": {},
   "outputs": [],
   "source": [
    "kg_of_co2_for_burning_kg_of_wood = 1.9\n",
    "kg_of_co2_per_wh = 0.94e-3 \n",
    "macbook_power_consumption_off_in_watt = 0.07\n",
    "macbook_power_consumption_sleep_mode_in_watt = 0.34"
   ]
  },
  {
   "cell_type": "code",
   "execution_count": 22,
   "metadata": {},
   "outputs": [],
   "source": [
    "sleep_hours_per_year = 52 * (5 * 10 + 2 * 24)"
   ]
  },
  {
   "cell_type": "code",
   "execution_count": 26,
   "metadata": {},
   "outputs": [],
   "source": [
    "macbook_power_consumption_sleep_mode_in_wh_per_year = sleep_hours_per_year * macbook_power_consumption_sleep_mode_in_watt"
   ]
  },
  {
   "cell_type": "code",
   "execution_count": 29,
   "metadata": {},
   "outputs": [
    {
     "data": {
      "text/plain": [
       "0.8572008421052631"
      ]
     },
     "execution_count": 29,
     "metadata": {},
     "output_type": "execute_result"
    }
   ],
   "source": [
    "macbook_power_consumption_sleep_mode_in_wh_per_year * kg_of_co2_per_wh / kg_of_co2_for_burning_kg_of_wood"
   ]
  },
  {
   "cell_type": "code",
   "execution_count": null,
   "metadata": {},
   "outputs": [],
   "source": []
  }
 ],
 "metadata": {
  "kernelspec": {
   "display_name": "Python 3",
   "language": "python",
   "name": "python3"
  },
  "language_info": {
   "codemirror_mode": {
    "name": "ipython",
    "version": 3
   },
   "file_extension": ".py",
   "mimetype": "text/x-python",
   "name": "python",
   "nbconvert_exporter": "python",
   "pygments_lexer": "ipython3",
   "version": "3.7.6"
  }
 },
 "nbformat": 4,
 "nbformat_minor": 4
}
