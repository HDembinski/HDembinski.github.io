{
 "cells": [
  {
   "cell_type": "markdown",
   "metadata": {},
   "source": [
    "# Chance of seeing 1 σ deviation in random splits"
   ]
  },
  {
   "cell_type": "code",
   "execution_count": 47,
   "metadata": {},
   "outputs": [],
   "source": [
    "import numpy as np\n",
    "from scipy.stats import chi2\n",
    "from matplotlib import pyplot as plt"
   ]
  },
  {
   "cell_type": "code",
   "execution_count": 61,
   "metadata": {},
   "outputs": [
    {
     "name": "stdout",
     "output_type": "stream",
     "text": [
      "normal fraction with < 1 sigma deviation 0.8255\n",
      "uniform fraction with < 1 sigma deviation 0.8238\n",
      "exponential fraction with < 1 sigma deviation 0.8281\n"
     ]
    }
   ],
   "source": [
    "rng = np.random.default_rng(0)\n",
    "\n",
    "for distribution in (rng.normal, rng.uniform, rng.exponential):\n",
    "    x = rng.uniform(size=20)\n",
    "    \n",
    "    deltas = []\n",
    "    ntry = 10000\n",
    "    for itry in range(ntry):\n",
    "        rng.shuffle(x)\n",
    "        a = x[:int(len(x) / 2) ]\n",
    "        b = x[int(len(x) / 2):]\n",
    "        ma = np.mean(a)\n",
    "        mb = np.mean(b)\n",
    "        va = np.var(a) / len(a)\n",
    "        vb = np.var(b) / len(b)\n",
    "        v = va + vb\n",
    "        deltas.append((ma - mb) / v ** 0.5)\n",
    "    deltas = np.array(deltas)\n",
    "    \n",
    "    print(distribution.__name__, \"fraction with < 1 sigma deviation\", np.sum(deltas < 1) / len(deltas))"
   ]
  },
  {
   "cell_type": "code",
   "execution_count": null,
   "metadata": {},
   "outputs": [],
   "source": []
  }
 ],
 "metadata": {
  "kernelspec": {
   "display_name": "Python 3",
   "language": "python",
   "name": "python3"
  },
  "language_info": {
   "codemirror_mode": {
    "name": "ipython",
    "version": 3
   },
   "file_extension": ".py",
   "mimetype": "text/x-python",
   "name": "python",
   "nbconvert_exporter": "python",
   "pygments_lexer": "ipython3",
   "version": "3.8.12"
  }
 },
 "nbformat": 4,
 "nbformat_minor": 4
}
