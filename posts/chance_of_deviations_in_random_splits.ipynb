{
 "cells": [
  {
   "cell_type": "markdown",
   "metadata": {},
   "source": [
    "# Chance of seeing a one-sigma deviation in random splits\n",
    "\n",
    "We randomly split a sample into two parts and check whether their respective arithmetic means deviate by more than one standard deviation from each other. The chance for this two happen appears to be independent of the distribution from which the original samples are drawn."
   ]
  },
  {
   "cell_type": "code",
   "execution_count": 1,
   "metadata": {},
   "outputs": [],
   "source": [
    "import numpy as np"
   ]
  },
  {
   "cell_type": "code",
   "execution_count": 2,
   "metadata": {},
   "outputs": [
    {
     "name": "stdout",
     "output_type": "stream",
     "text": [
      "normal fraction with < 1 sigma deviation 0.8255\n",
      "uniform fraction with < 1 sigma deviation 0.8238\n",
      "exponential fraction with < 1 sigma deviation 0.8281\n"
     ]
    }
   ],
   "source": [
    "rng = np.random.default_rng(0)\n",
    "\n",
    "for distribution in (rng.normal, rng.uniform, rng.exponential):\n",
    "    x = rng.uniform(size=20)\n",
    "    \n",
    "    deltas = []\n",
    "    ntry = 10000\n",
    "    for itry in range(ntry):\n",
    "        rng.shuffle(x)\n",
    "        a = x[:int(len(x) / 2) ]\n",
    "        b = x[int(len(x) / 2):]\n",
    "        ma = np.mean(a)\n",
    "        mb = np.mean(b)\n",
    "        va = np.var(a) / len(a)\n",
    "        vb = np.var(b) / len(b)\n",
    "        v = va + vb\n",
    "        deltas.append((ma - mb) / v ** 0.5)\n",
    "    deltas = np.array(deltas)\n",
    "    \n",
    "    print(distribution.__name__, \"fraction with < 1 sigma deviation\", np.sum(deltas < 1) / len(deltas))"
   ]
  }
 ],
 "metadata": {
  "kernelspec": {
   "display_name": "Python 3",
   "language": "python",
   "name": "python3"
  },
  "language_info": {
   "codemirror_mode": {
    "name": "ipython",
    "version": 3
   },
   "file_extension": ".py",
   "mimetype": "text/x-python",
   "name": "python",
   "nbconvert_exporter": "python",
   "pygments_lexer": "ipython3",
   "version": "3.11.9"
  }
 },
 "nbformat": 4,
 "nbformat_minor": 4
}
