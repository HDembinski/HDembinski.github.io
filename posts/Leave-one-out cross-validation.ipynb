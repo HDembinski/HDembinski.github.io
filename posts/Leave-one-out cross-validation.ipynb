{
 "cells": [
  {
   "cell_type": "markdown",
   "metadata": {},
   "source": [
    "# Leave-one-out cross-validation\n",
    "\n",
    "General steps for LOO cross-validation:\n",
    "- Remove i-th datum from input data set\n",
    "- Fit model to remaining data set\n",
    "- Use fitted model to predict the i-th datum and store difference to original i-th datum\n",
    "- Do this for all i and compute variance of the differences\n",
    "- Select model with smallest variance\n",
    "\n",
    "I demonstrate below how to select the optimal order for a polynomial model with leave-one-out (LOO) cross validation."
   ]
  },
  {
   "cell_type": "code",
   "execution_count": 1,
   "metadata": {},
   "outputs": [],
   "source": [
    "#!pip install numpy matplotlib iminuit tabulate\n",
    "import numpy as np\n",
    "import matplotlib.pyplot as plt\n",
    "from iminuit import Minuit \n",
    "from tabulate import tabulate"
   ]
  },
  {
   "cell_type": "code",
   "execution_count": 2,
   "metadata": {},
   "outputs": [],
   "source": [
    "rng = np.random.default_rng(seed=1)"
   ]
  },
  {
   "cell_type": "code",
   "execution_count": 15,
   "metadata": {},
   "outputs": [
    {
     "data": {
      "image/png": "[encoded data removed]",
      "text/plain": [
       "<Figure size 432x288 with 1 Axes>"
      ]
     },
     "metadata": {
      "needs_background": "light"
     },
     "output_type": "display_data"
    }
   ],
   "source": [
    "# create some toy data that follows polynomials of increasing degree\n",
    "x = np.linspace(0, 1, 100)\n",
    "y_set = np.empty((3, len(x)))\n",
    "for poly_degree in (0, 1, 2):\n",
    "    y_set[poly_degree] = np.polyval(np.ones(poly_degree + 1), x) + rng.normal(0, 0.1, len(x))\n",
    "    \n",
    "for y in y_set:\n",
    "    plt.plot(x, y, \".\")"
   ]
  },
  {
   "cell_type": "code",
   "execution_count": 16,
   "metadata": {},
   "outputs": [
    {
     "name": "stdout",
     "output_type": "stream",
     "text": [
      "true polynomial order 0; selected order 0\n",
      "  model order    LOO variance\n",
      "-------------  --------------\n",
      "            0       0.0105525\n",
      "            1       0.0105614\n",
      "            2       0.0107262\n",
      "            3       0.0107479\n",
      "            4       0.0107608\n",
      "\n",
      "true polynomial order 1; selected order 1\n",
      "  model order    LOO variance\n",
      "-------------  --------------\n",
      "            0       0.0903401\n",
      "            1       0.0121111\n",
      "            2       0.0122902\n",
      "            3       0.0124952\n",
      "            4       0.0124547\n",
      "\n",
      "true polynomial order 2; selected order 2\n",
      "  model order    LOO variance\n",
      "-------------  --------------\n",
      "            0       0.347969\n",
      "            1       0.017877\n",
      "            2       0.0117249\n",
      "            3       0.0118761\n",
      "            4       0.011895\n",
      "\n"
     ]
    }
   ],
   "source": [
    "# apply leave-one-out cross-validation\n",
    "for true_poly_order, y in enumerate(y_set):\n",
    "\n",
    "    variances = []\n",
    "    tested_poly_orders = np.arange(5)\n",
    "    for tested_poly_order in tested_poly_orders:\n",
    "        deltas = []\n",
    "\n",
    "        # leave out the i-th (x, y) pair in the fit\n",
    "        for i in range(len(y)):\n",
    "            mask = np.ones(len(y), dtype=bool)\n",
    "            mask[i] = 0\n",
    "            x_without_i = x[mask]\n",
    "            y_without_i = y[mask]\n",
    "\n",
    "            # least-squares cost function to fit a polynomial to the toy data\n",
    "            def lsq(par):\n",
    "                ym = np.polyval(par, x_without_i)\n",
    "                return np.sum((y_without_i - ym) ** 2 / 0.1 ** 2)\n",
    "            \n",
    "            m = Minuit.from_array_func(lsq, np.zeros(tested_poly_order+1), pedantic=False)\n",
    "            m.strategy = 0 # faster and does not compute errors automatically\n",
    "            m.migrad()\n",
    "\n",
    "            # predict the i-th y value with the fitted model and \n",
    "            # store the delta to the real value\n",
    "            assert m.migrad_ok()\n",
    "            \n",
    "            yi_predicted = np.polyval(m.np_values(), x[i])\n",
    "            deltas.append(y[i] - yi_predicted)\n",
    "\n",
    "        variances.append(np.var(deltas))\n",
    "\n",
    "    print(f\"true polynomial order {true_poly_order}; selected order {np.argmin(variances)}\")\n",
    "    print(tabulate(np.transpose((tested_poly_orders, variances)),\n",
    "                   headers=(\"model order\", \"LOO variance\")) + \"\\n\")"
   ]
  }
 ],
 "metadata": {
  "kernelspec": {
   "display_name": "Python 3",
   "language": "python",
   "name": "python3"
  },
  "language_info": {
   "codemirror_mode": {
    "name": "ipython",
    "version": 3
   },
   "file_extension": ".py",
   "mimetype": "text/x-python",
   "name": "python",
   "nbconvert_exporter": "python",
   "pygments_lexer": "ipython3",
   "version": "3.7.7"
  }
 },
 "nbformat": 4,
 "nbformat_minor": 4
}
