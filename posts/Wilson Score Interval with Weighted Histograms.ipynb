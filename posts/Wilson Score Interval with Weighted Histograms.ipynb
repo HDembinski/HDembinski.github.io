{
 "cells": [
  {
   "cell_type": "markdown",
   "id": "southwest-constant",
   "metadata": {},
   "source": [
    "# The Wilson score interval and weighted histograms\n",
    "\n",
    "The Wilson Score interval (WSI) has won the LHCb internal challenge for the most suitable interval for efficiencies. The question is what to do when events are weighted was left open at the time. It is addressed here, the WSI can be used also with weighted histograms if ordinary counts in unweighted histograms are replaced with effective counts in weighted histograms."
   ]
  },
  {
   "cell_type": "code",
   "execution_count": 8,
   "id": "inappropriate-aging",
   "metadata": {},
   "outputs": [],
   "source": [
    "import numpy as np\n",
    "import boost_histogram as bh\n",
    "from matplotlib import pyplot as plt"
   ]
  },
  {
   "cell_type": "markdown",
   "id": "careful-copyright",
   "metadata": {},
   "source": [
    "The Wilson score interval is given by, see e.g. https://en.wikipedia.org/wiki/Binomial_proportion_confidence_interval:\n",
    "$$\n",
    "p_\\text{min} = \\frac{n_S + \\frac 12 z^2}{n_S + n_F + z^2} - \\frac{z}{n_S + n_F + z^2} \\sqrt{\\frac{n_S n_F}{n_S + n_F} + \\frac{z^2}{4}}\n",
    "$$\n",
    "$$\n",
    "p_\\text{max} = \\frac{n_S + \\frac 12 z^2}{n_S + n_F + z^2} + \\frac{z}{n_S + n_F + z^2} \\sqrt{\\frac{n_S n_F}{n_S + n_F} + \\frac{z^2}{4}}\n",
    "$$\n",
    "with $n_S$ counts of selected events, $n_F$ counts of rejected events, $z$ number of sigmas ($z = 1$ for standard intervals).\n",
    "\n",
    "In case of weighted events, the $n_S,n_F$ are the effective counts, computed as\n",
    "$$\n",
    "n_\\text{effective} = \\frac{\\big(\\sum_i w_i\\big)^2}{\\sum_i w^2_i}.\n",
    "$$"
   ]
  },
  {
   "cell_type": "code",
   "execution_count": 9,
   "id": "competent-hollywood",
   "metadata": {},
   "outputs": [],
   "source": [
    "def wilson_score_interval(n_s, n_f, z=1):\n",
    "    n = n_s + n_f\n",
    "    z2 = z * z\n",
    "    center = (n_s + 0.5 * z2) / (n + z2)\n",
    "    delta = z / (n + z2) * np.sqrt(n_s * n_f / n + 0.25 * z2)\n",
    "    return center - delta, center + delta"
   ]
  },
  {
   "cell_type": "markdown",
   "id": "9c8a868e",
   "metadata": {},
   "source": [
    "In boost-histogram, this is computed as `n_eff = h.values() ** 2 / h.variances()` for a histogram `h` with `WeightedSum` storage. Since we look into a single bin here, we skip the histogram and just use the `WeightedSum()` accumulator directly, which is one element of the storage."
   ]
  },
  {
   "cell_type": "code",
   "execution_count": 14,
   "id": "editorial-reunion",
   "metadata": {
    "scrolled": true
   },
   "outputs": [
    {
     "data": {
      "text/plain": [
       "(WeightedSum(value=29.7824, variance=357.384),\n",
       " WeightedSum(value=1008.21, variance=25830.4))"
      ]
     },
     "execution_count": 14,
     "metadata": {},
     "output_type": "execute_result"
    }
   ],
   "source": [
    "p_truth = 0.1\n",
    "\n",
    "rng = np.random.default_rng(1)\n",
    "\n",
    "w_s = bh.accumulators.WeightedSum()\n",
    "w_f = bh.accumulators.WeightedSum()\n",
    "\n",
    "w = rng.exponential(10, size=100)\n",
    "m = rng.uniform(size=len(w)) < p_truth\n",
    "\n",
    "w_s.fill(w[m]), w_f.fill(w[~m])"
   ]
  },
  {
   "cell_type": "code",
   "execution_count": 15,
   "id": "thermal-mongolia",
   "metadata": {},
   "outputs": [
    {
     "name": "stdout",
     "output_type": "stream",
     "text": [
      "efficiency = 0.06 - 0.03 + 0.05\n"
     ]
    }
   ],
   "source": [
    "n_s = w_s.value ** 2 / w_s.variance if w_s.variance > 0 else 0\n",
    "n_f = w_f.value ** 2 / w_f.variance if w_f.variance > 0 else 0\n",
    "\n",
    "p = n_s / (n_s + n_f)\n",
    "p_min, p_max = wilson_score_interval(n_s, n_f)\n",
    "\n",
    "print(f\"efficiency = {p:.2f} - {p-p_min:.2f} + {p_max-p:.2f}\")"
   ]
  },
  {
   "cell_type": "markdown",
   "id": "marked-gibraltar",
   "metadata": {},
   "source": [
    "Note that the error is asymmetric in general. This is especially noticable when p is close to 0 or 1.\n",
    "\n",
    "Let's check with a parametric bootstrap simulation whether this uncertainty is correct. It is parametric because we know that the weights are exponentially distributed."
   ]
  },
  {
   "cell_type": "code",
   "execution_count": 16,
   "id": "circular-insight",
   "metadata": {},
   "outputs": [
    {
     "name": "stdout",
     "output_type": "stream",
     "text": [
      "efficiency = 0.06 - 0.03 + 0.05\n",
      "efficiency(boot) = 0.06 - 0.03 + 0.03\n"
     ]
    },
    {
     "data": {
      "image/png": "[encoded data removed]",
      "text/plain": [
       "<Figure size 640x480 with 1 Axes>"
      ]
     },
     "metadata": {},
     "output_type": "display_data"
    }
   ],
   "source": [
    "rng = np.random.default_rng(1)\n",
    "\n",
    "w_mean = np.mean(w)\n",
    "\n",
    "p_boot = []\n",
    "for iboot in range(1000):\n",
    "    wi = rng.exponential(w_mean, size=len(w))\n",
    "    mi = rng.uniform(size=len(w)) < p\n",
    "    t_s = bh.accumulators.WeightedSum()\n",
    "    t_f = bh.accumulators.WeightedSum()\n",
    "    t_s.fill(wi[mi])\n",
    "    t_f.fill(wi[~mi])\n",
    "    p_boot.append(t_s.value / (t_s.value + t_f.value))\n",
    "    \n",
    "center = np.mean(p_boot)\n",
    "delta = np.std(p_boot)\n",
    "p_min_boot = center - delta\n",
    "p_max_boot = center + delta\n",
    "\n",
    "plt.errorbar([1], [p], [[p-p_min], [p_max-p]], fmt=\"ok\")\n",
    "plt.errorbar([2], [p], [[p-p_min_boot], [p_max_boot-p]], fmt=\"sr\")\n",
    "plt.axhline(p_truth, ls=\"--\", color=\"0.5\")\n",
    "\n",
    "print(f\"efficiency = {p:.2f} - {p-p_min:.2f} + {p_max-p:.2f}\")\n",
    "print(f\"efficiency(boot) = {p:.2f} - {p-p_min_boot:.2f} + {p_max_boot-p:.2f}\")"
   ]
  },
  {
   "cell_type": "markdown",
   "id": "higher-agent",
   "metadata": {},
   "source": [
    "Ok, check passed."
   ]
  }
 ],
 "metadata": {
  "kernelspec": {
   "display_name": ".venv",
   "language": "python",
   "name": "python3"
  },
  "language_info": {
   "codemirror_mode": {
    "name": "ipython",
    "version": 3
   },
   "file_extension": ".py",
   "mimetype": "text/x-python",
   "name": "python",
   "nbconvert_exporter": "python",
   "pygments_lexer": "ipython3",
   "version": "3.12.3"
  }
 },
 "nbformat": 4,
 "nbformat_minor": 5
}
