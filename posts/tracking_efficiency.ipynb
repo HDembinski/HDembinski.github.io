{
 "cells": [
  {
   "cell_type": "markdown",
   "metadata": {},
   "source": [
    "# Tracking efficiency for two-body decay\n",
    "\n",
    "- Consider decay $A \\to B C$\n",
    "- Want to know corrected efficiency $\\epsilon'_A$\n",
    "  - Given: $\\epsilon_A(x)$, $\\epsilon_B(x)$, $\\epsilon_C(x)$, correction factor $\\gamma(x)$ for B, C\n",
    "  - Efficiency and correction factors depend on variable $x$ (can be multidimensional)\n",
    "  - $f(x_B, x_C)$ is probability density to find decay products $B$ and $C$ at locations $x_B$ and $x_C$, respectively\n",
    "\n",
    "$$\n",
    "\\epsilon'_A = \\int \\text{d}x_B\\! \\int \\text{d}x_C\\, \\epsilon'_B(x_B) \\, \\epsilon'_C(x_C) \\; f(x_B, x_C)\n",
    "$$\n",
    "\n",
    "$$\n",
    "\\epsilon'_A = \\int \\text{d}x_B\\! \\int \\text{d}x_C \\, \\gamma(x_B) \\, \\gamma(x_C) \\, \\epsilon_B(x_B) \\, \\epsilon_C(x_C) \\; f(x_B, x_C)\n",
    "$$\n",
    "\n",
    "$$\n",
    "\\epsilon'_A = \\text{E}[\\gamma(x_B) \\, \\gamma(x_C) \\, \\epsilon_B(x_B) \\, \\epsilon_C(x_C)]\n",
    "$$\n",
    "\n",
    "## Compute sample estimator\n",
    "\n",
    "- Apply plugin estimate $\\text{E}[f(x)] \\to \\frac 1N \\sum_k f(x_k)$, $N$ is generated number of A decays\n",
    "\n",
    "$$\n",
    "\\epsilon'_A = \\frac 1 N \\sum_k \\gamma(x_{B,k}) \\, \\gamma(x_{C,k}) \\, \\epsilon_B(x_{B,k}) \\, \\epsilon_C(x_{C,k})\n",
    "$$\n",
    "\n",
    "- Apply second plugin estimate: $\\sum_k \\epsilon(x_k) \\to \\sum_k \\beta_k$,  with $\\beta_k \\in \\{0, 1\\}$, $\\beta_k$ is outcome of the Bernoulli process which determines whether child is reconstructed or not\n",
    "\n",
    "$$\n",
    "\\epsilon'_A = \\frac 1 N \\sum_k \\gamma(x_{B,k}) \\, \\gamma(x_{C,k}) \\, \\beta_{B,k} \\, \\beta_{C,k}\n",
    "$$\n",
    "\n",
    "- For $\\gamma(x)$ that is piece-wise constant over $x$-bins $i$, this is equal to\n",
    "$$\n",
    "\\epsilon'_A = \\frac 1 N \\sum_{i,j} n_{ij} \\, \\gamma_{i} \\, \\gamma_{j} \\quad\n",
    "\\text{with} \\quad n_{ij} = \\sum_k \\delta_{B,ik} \\delta_{C,jk} \\beta_{B,k} \\beta_{C,k}\n",
    "$$\n",
    "  - $\\delta_{X,ik}$ is one if particle X from decay $k$ is inside $x$-bin $i$ and zero otherwise\n",
    "\n",
    "- If we only sum over decays $\\ell$ with $\\beta_{\\ell,B} \\, \\beta_{\\ell,C} = 1$, this further simplifies to\n",
    "$$\n",
    "n_{ij} = \\sum_{\\ell} \\delta_{B,i\\ell} \\delta_{C,j\\ell}\n",
    "$$\n",
    "\n",
    "- Correction factor for $A$ then is with $n = \\sum_{i,j} n_{i,j}$\n",
    "\n",
    "$$\n",
    "\\gamma_A = \\frac{\\epsilon'_A}{\\epsilon_A} = \\frac{\\sum_{i,j} n_{ij} \\, \\gamma_{i} \\, \\gamma_{`j}}{\\sum_{i,j} n_{ij}} = \\frac 1 n \\sum_{i,j} n_{ij} \\, \\gamma_{i} \\, \\gamma_{j}\n",
    "$$"
   ]
  },
  {
   "cell_type": "markdown",
   "metadata": {},
   "source": [
    "## Error propagation\n",
    "\n",
    "- Neglect error on $n_{ij}$ and $n$ to simplify\n",
    "- Variance of $\\gamma_i$ is $V_{\\gamma,i}$\n",
    "- Variance of $\\gamma_A$ is\n",
    "$$\n",
    "V_{\\gamma_A} = \\sum_k J_k^2 \\, V_{\\gamma,k} \\quad \\text{with} \\quad J_k = \\frac{\\partial \\epsilon'_A}{\\partial \\gamma_k} = \\frac{1}{n} \\sum_i \\gamma_i (n_{ki} + n_{ik}) \n",
    "$$"
   ]
  },
  {
   "cell_type": "markdown",
   "metadata": {},
   "source": [
    "- Check of analytical formula against numerical calculation"
   ]
  },
  {
   "cell_type": "code",
   "execution_count": 97,
   "metadata": {},
   "outputs": [],
   "source": [
    "from jacobi import propagate\n",
    "import numpy as np"
   ]
  },
  {
   "cell_type": "code",
   "execution_count": 112,
   "metadata": {},
   "outputs": [],
   "source": [
    "rng = np.random.default_rng(1)\n",
    "\n",
    "# in general, n is not symmetric, n_ij != n_ji\n",
    "n = rng.random(size=(3, 3)) * 100\n",
    "g = 0.5 + rng.random(size=3)\n",
    "vg = 1 + rng.random(size=3)\n",
    "\n",
    "m = np.sum(n)"
   ]
  },
  {
   "cell_type": "code",
   "execution_count": 113,
   "metadata": {},
   "outputs": [
    {
     "data": {
      "text/plain": [
       "(array(0.80687392), array(1.65110298))"
      ]
     },
     "execution_count": 113,
     "metadata": {},
     "output_type": "execute_result"
    }
   ],
   "source": [
    "def compute(x):\n",
    "    nx = np.reshape(x[:n.size], n.shape)\n",
    "    gx = x[n.size:]\n",
    "    return np.einsum(\"i,j,ij\", gx, gx, nx) / m\n",
    "\n",
    "x = np.append(n.reshape(-1), g)\n",
    "vx = np.append(np.zeros(n.size), vg)\n",
    "\n",
    "y, vy = propagate(compute, x, vx)\n",
    "y, vy"
   ]
  },
  {
   "cell_type": "code",
   "execution_count": 114,
   "metadata": {},
   "outputs": [
    {
     "data": {
      "text/plain": [
       "1.6511029832764388"
      ]
     },
     "execution_count": 114,
     "metadata": {},
     "output_type": "execute_result"
    }
   ],
   "source": [
    "def analytical(n, g, vg):\n",
    "    j = g @ (n + n.T) / m\n",
    "    vy = np.sum(j ** 2 * vg)\n",
    "    return vy\n",
    "\n",
    "vy2 = analytical(n, g, vg)\n",
    "vy2"
   ]
  },
  {
   "cell_type": "markdown",
   "metadata": {},
   "source": [
    "Numerical and analytical calculations agree.\n",
    "\n",
    "Now I compare my formula with the formula on the TWiki page of the Tracking Group."
   ]
  },
  {
   "cell_type": "code",
   "execution_count": 115,
   "metadata": {},
   "outputs": [
    {
     "data": {
      "text/plain": [
       "0.802978765901557"
      ]
     },
     "execution_count": 115,
     "metadata": {},
     "output_type": "execute_result"
    }
   ],
   "source": [
    "# Formula on TWiki seems to assume that g ~ 1\n",
    "g = np.ones(3)\n",
    "\n",
    "def analytical_twiki(n, vg):\n",
    "    s = 0\n",
    "    sg = vg ** 0.5\n",
    "    for i in range(n.shape[0]):\n",
    "        for j in range(n.shape[1]):\n",
    "            s += n[i,j] ** 2 * (sg[i] + sg[j]) ** 2\n",
    "    return s / m ** 2\n",
    "\n",
    "vy3 = analytical_twiki(n, vg)\n",
    "vy3"
   ]
  },
  {
   "cell_type": "code",
   "execution_count": 116,
   "metadata": {},
   "outputs": [
    {
     "data": {
      "text/plain": [
       "1.9900608390572314"
      ]
     },
     "execution_count": 116,
     "metadata": {},
     "output_type": "execute_result"
    }
   ],
   "source": [
    "analytical(n, g, vg)"
   ]
  },
  {
   "cell_type": "markdown",
   "metadata": {},
   "source": [
    "The formula from the TWiki seems to give a variance that is much too small by more than a factor of two in this case."
   ]
  }
 ],
 "metadata": {
  "kernelspec": {
   "display_name": "Python 3.10.8 64-bit",
   "language": "python",
   "name": "python3"
  },
  "language_info": {
   "codemirror_mode": {
    "name": "ipython",
    "version": 3
   },
   "file_extension": ".py",
   "mimetype": "text/x-python",
   "name": "python",
   "nbconvert_exporter": "python",
   "pygments_lexer": "ipython3",
   "version": "3.10.8"
  },
  "orig_nbformat": 4,
  "vscode": {
   "interpreter": {
    "hash": "b0fa6594d8f4cbf19f97940f81e996739fb7646882a419484c72d19e05852a7e"
   }
  }
 },
 "nbformat": 4,
 "nbformat_minor": 2
}
