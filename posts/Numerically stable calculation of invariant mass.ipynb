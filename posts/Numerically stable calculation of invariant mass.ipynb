{
 "cells": [
  {
   "cell_type": "markdown",
   "id": "found-stream",
   "metadata": {},
   "source": [
    "# Numerically stable calculation of invariant mass\n",
    "\n",
    "The art of writing numerical stable formulas is to find a mathematically equivalent computation for a formula that produces accurate results even though computation with floating point numbers suffers from finite precision and round-off. We derive here numerically stable formulas for the calculation of the invariant mass of an ancestor particle in particle physics from the momenta and (assumed) masses of its products.\n",
    "\n",
    "## Two-body decay\n",
    "\n",
    "We start with a derivation of a numerically stable formula for the 1D case, and then move to the general 3D case. The 1D solution is not applicable in practice, but it is easier to understand one of the two main numerical issues with the naive implementation when we start in 1D.\n",
    "\n",
    "### Solution in 1D\n",
    "\n",
    "We start with the formula for the invariant mass squared of an ancestor particle which decays into two children,\n",
    "\n",
    "$$\n",
    "M^2 = m_1^2  + m_2^2 + 2 (E_1 E_2 - \\vec{p}_1 \\vec{p}_2).\n",
    "$$\n",
    "\n",
    "For small $m_i$, we have a catastrophic cancelation in the third term. In floating point precision, the third term can be zero, even if the masses are small but positive. Due to round-off errors, it is even possible that the third term gets negative.\n",
    "\n",
    "To fix this, we rewrite the product of the energies\n",
    "\n",
    "$$\n",
    "E_1 E_2 = \\sqrt{|\\vec{p}_1|^2 + m_1^2}\\sqrt{|\\vec{p}_2| + m_2^2} = |\\vec{p}_1| |\\vec{p}_2| \\sqrt{\\left(1 + \\frac{m_1^2}{|\\vec{p}_1|^2}\\right)\\left(1 + \\frac{m_2^2}{|\\vec{p}_2|^2}\\right)} = |\\vec{p}_1| |\\vec{p}_2| \\sqrt{1 + x}\n",
    "$$\n",
    "\n",
    "with\n",
    "\n",
    "$$\n",
    "x = \\frac{m_1^2}{|\\vec{p}_1|^2} + \\frac{m_2^2}{|\\vec{p}_2|^2} + \\frac{m_1^2}{|\\vec{p}_1|^2} \\frac{m_2^2}{|\\vec{p}_2|^2}\n",
    "$$\n",
    "\n",
    "In 1D, we have (assuming parallel vectors)\n",
    "\n",
    "$$\n",
    "E_1 E_2 - \\vec{p}_1 \\vec{p}_2 = E_1 E_2 - |\\vec{p}_1||\\vec{p}_2| = |\\vec{p}_1||\\vec{p}_2| (\\sqrt{x + 1} - 1)\n",
    "$$\n",
    "\n",
    "The cancellation is now reduced to the expression $\\sqrt{x + 1} - 1$. With a [brilliant trick from Stackoverflow](https://stackoverflow.com/questions/32444817/numerically-stable-evaluation-of-sqrtxa-sqrtx?rq=1), we can rewrite this as\n",
    "\n",
    "$$\n",
    "\\sqrt{x + 1} - 1 = \\frac{(\\sqrt{x + 1} - 1)(\\sqrt{x + 1} + 1)}{\\sqrt{x + 1} + 1} = \\frac{x}{\\sqrt{x + 1} + 1}\n",
    "$$\n",
    "\n",
    "which is numerically stable, as the following plot demonstrates."
   ]
  },
  {
   "cell_type": "code",
   "execution_count": 1,
   "id": "veterinary-conversion",
   "metadata": {},
   "outputs": [
    {
     "data": {
      "image/png": "[encoded data removed]",
      "text/plain": [
       "<Figure size 432x288 with 1 Axes>"
      ]
     },
     "metadata": {
      "needs_background": "light"
     },
     "output_type": "display_data"
    }
   ],
   "source": [
    "import numpy as np\n",
    "import matplotlib.pyplot as plt\n",
    "\n",
    "x = np.geomspace(1e-8, 1e2, 1000).astype(np.float32)\n",
    "\n",
    "plt.plot(x, np.sqrt(x ** 2 + 1) - 1, label=\"sqrt(x^2 + 1) - 1\")\n",
    "plt.plot(x, x ** 2 / (np.sqrt(x ** 2 + 1) + 1), label=\"x^2 / (sqrt(x^2 + 1) + 1)\")\n",
    "plt.loglog()\n",
    "plt.legend();"
   ]
  },
  {
   "cell_type": "markdown",
   "id": "dress-bangkok",
   "metadata": {},
   "source": [
    "The rewritten formula for $M^2$ produces a value that **is always non-negative** even in the presence of round-off errors. This is a common issue with naive implementations even in double precision. \n",
    "\n",
    "Below, we compare a naive implementation `msq1` with the numerically stable implementation `msq2` on random values. The reference is computed with the naive implementation using `mpmath` on floating point numbers with 100 digits of precision."
   ]
  },
  {
   "cell_type": "code",
   "execution_count": 2,
   "id": "senior-revolution",
   "metadata": {},
   "outputs": [
    {
     "data": {
      "image/png": "[encoded data removed]",
      "text/plain": [
       "<Figure size 648x288 with 2 Axes>"
      ]
     },
     "metadata": {
      "needs_background": "light"
     },
     "output_type": "display_data"
    }
   ],
   "source": [
    "import numpy as np\n",
    "import numba as nb\n",
    "import matplotlib.pyplot as plt\n",
    "import mpmath as mp\n",
    "\n",
    "# naive implementation\n",
    "def msq1(p1, p2, m1, m2):\n",
    "    m1_sq = m1 ** 2\n",
    "    m2_sq = m2 ** 2\n",
    "    \n",
    "    # energies of particles 1 and 2\n",
    "    e1 = np.sqrt(p1 ** 2 + m1_sq)\n",
    "    e2 = np.sqrt(p2 ** 2 + m2_sq)\n",
    "\n",
    "    # dangerous cancelation in third term\n",
    "    return m1_sq + m2_sq + 2 * (e1 * e2 - p1 * p2)\n",
    "\n",
    "\n",
    "# numerically stable implementation\n",
    "@nb.vectorize\n",
    "def msq2(p1, p2, m1, m2):\n",
    "    x1 = (m1 / p1) ** 2\n",
    "    x2 = (m2 / p2) ** 2\n",
    "    x = x1 + x2 + x1 * x2\n",
    "    y = 2 * p1 * p2 * x / (np.sqrt(1 + x) + 1)\n",
    "    return m1 ** 2 + m2 ** 2 + y\n",
    "\n",
    "\n",
    "rng = np.random.default_rng(1)\n",
    "\n",
    "p1 = 10 ** rng.uniform(0, 5, size=10000).astype(np.float32)\n",
    "p2 = 10 ** rng.uniform(0, 5, size=10000).astype(np.float32)\n",
    "m1 = 10 ** rng.uniform(-5, 5, size=10000).astype(np.float32)\n",
    "m2 = 10 ** rng.uniform(-5, 5, size=10000).astype(np.float32)\n",
    "\n",
    "# as reference we use naive formula computed with mpmath\n",
    "M0 = []\n",
    "with mp.workdps(100):\n",
    "    for p1i, p2i, m1i, m2i in zip(p1, p2, m1, m2):        \n",
    "        p1i = mp.mpf(float(p1i))\n",
    "        p2i = mp.mpf(float(p2i))\n",
    "        \n",
    "        m1_sq = mp.mpf(float(m1i)) ** 2\n",
    "        m2_sq = mp.mpf(float(m2i)) ** 2\n",
    "\n",
    "        e1 = mp.sqrt(p1i ** 2 + m1_sq)\n",
    "        e2 = mp.sqrt(p2i ** 2 + m2_sq)\n",
    "\n",
    "        M0.append(float(m1_sq + m2_sq + 2 * (e1 * e2 - p1i * p2i)))\n",
    "\n",
    "M0 = np.array(M0)\n",
    "\n",
    "M = {f.__name__: f(p1, p2, m1, m2) for f in (msq1, msq2)}\n",
    "\n",
    "fig, ax = plt.subplots(1, len(M), figsize=(len(M) * 4.5, 4), sharey=True)\n",
    "for (fname, Mi), axi in zip(M.items(), ax):    \n",
    "    axi.hist((Mi - M0) / M0, bins=100)\n",
    "    axi.set_yscale(\"log\")\n",
    "    axi.set_title(fname)\n",
    "fig.supxlabel(r\"$(M'^2 - M^2) / M^2$\");"
   ]
  },
  {
   "cell_type": "markdown",
   "id": "infinite-mailman",
   "metadata": {},
   "source": [
    "The numerically stable formula retains full accuracy, while the naive formula suffers a catastrophic loss of accuracy for certain input values."
   ]
  },
  {
   "cell_type": "markdown",
   "id": "square-dominican",
   "metadata": {},
   "source": [
    "### Solution in 3D\n",
    "\n",
    "In 3D, the solution is more complex than in the 1D case. We have now\n",
    "\n",
    "$$\n",
    "E_1 E_2 - \\vec{p}_1 \\vec{p}_2 = |\\vec{p}_1| |\\vec{p}_2| \\left(\\sqrt{x + 1} - \\frac{\\vec{p}_1 \\vec{p}_2}{|\\vec{p}_1| |\\vec{p}_2|}\\right) = |\\vec{p}_1| |\\vec{p}_2| \\left(\\sqrt{x + 1} - \\cos{\\alpha}\\right)\n",
    "$$\n",
    "\n",
    "where $\\alpha$ is the angle between $\\vec{p}_1$ and $\\vec{p}_2$. We have again a numerical instability for small $x$ and small $\\alpha$, when $\\vec{p}_1$ and $\\vec{p}_2$ are nearly parallel, which happens often in practice.\n",
    "\n",
    "To avoid the cancelation in the subtraction of two numbers close to 1, we use the same trick as before, but get a different outcome\n",
    "\n",
    "$$\n",
    "\\sqrt{x + 1} - \\cos{\\alpha} = \\frac{x + 1 - \\cos^2{\\alpha}}{\\sqrt{x + 1} + \\cos{\\alpha}} = \\frac{x + \\sin^2{\\alpha}}{\\sqrt{x + 1} + \\cos{\\alpha}}.\n",
    "$$\n",
    "\n",
    "This time we only replace the left-hand side with the right-hand side if $\\cos{\\alpha} > 0$, since for other values of the cosine, there is no subtraction happening. The expression is again guaranteed to produce a non-negative value even in the presence of round-off errors.\n",
    "\n",
    "So far so good, but we face an additional issue. The naive computation of $\\alpha$ is also not numerically stable for small $\\alpha$ and we need [another trick from Stackoverflow](https://scicomp.stackexchange.com/questions/27689/numerically-stable-way-of-computing-angles-between-vectors) to compute it accurately,\n",
    "\n",
    "$$\n",
    "\\alpha = \\rm{arctan2}(|\\vec{p}_1 \\times \\vec{p}_2|, \\vec{p}_1 \\vec{p}_2 )\n",
    "$$\n",
    "\n",
    "where $\\rm{arctan2}$ refers to the computer function with the same name.\n",
    "\n",
    "We again compare a naive implementation `msq1` with the numerically stable version `msq2` on random inputs."
   ]
  },
  {
   "cell_type": "code",
   "execution_count": 3,
   "id": "curious-radar",
   "metadata": {},
   "outputs": [
    {
     "data": {
      "image/png": "[encoded data removed]",
      "text/plain": [
       "<Figure size 648x288 with 2 Axes>"
      ]
     },
     "metadata": {
      "needs_background": "light"
     },
     "output_type": "display_data"
    }
   ],
   "source": [
    "import numpy as np\n",
    "import numba as nb\n",
    "import matplotlib.pyplot as plt\n",
    "import mpmath as mp\n",
    "\n",
    "# naive implementation\n",
    "def msq1(px1, py1, pz1, px2, py2, pz2, m1, m2):\n",
    "    p1_sq = px1 ** 2 + py1 ** 2 + pz1 ** 2\n",
    "    p2_sq = px2 ** 2 + py2 ** 2 + pz2 ** 2\n",
    "    m1_sq = m1 ** 2\n",
    "    m2_sq = m2 ** 2\n",
    "    \n",
    "    # energies of particles 1 and 2\n",
    "    e1 = np.sqrt(p1_sq + m1_sq)\n",
    "    e2 = np.sqrt(p2_sq + m2_sq)\n",
    "\n",
    "    # dangerous cancelation in third term\n",
    "    return m1_sq + m2_sq + 2 * (e1 * e2 - (px1 * px2 + py1 * py2 + pz1 * pz2))\n",
    "\n",
    "\n",
    "# numerically stable implementation\n",
    "@nb.vectorize\n",
    "def msq2(px1, py1, pz1, px2, py2, pz2, m1, m2):\n",
    "    p1_sq = px1 ** 2 + py1 ** 2 + pz1 ** 2\n",
    "    p2_sq = px2 ** 2 + py2 ** 2 + pz2 ** 2\n",
    "    m1_sq = m1 ** 2\n",
    "    m2_sq = m2 ** 2\n",
    "    x1 = m1_sq / p1_sq\n",
    "    x2 = m2_sq / p2_sq\n",
    "    x = x1 + x2 + x1 * x2\n",
    "    a = angle(px1, py1, pz1, px2, py2, pz2)\n",
    "    cos_a = np.cos(a)\n",
    "    if cos_a >= 0:\n",
    "        y1 = (x + np.sin(a) ** 2) / (np.sqrt(x + 1) + cos_a) \n",
    "    else:\n",
    "        y1 = -cos_a + np.sqrt(x + 1) \n",
    "    y2 = 2 * np.sqrt(p1_sq * p2_sq)\n",
    "    return m1_sq + m2_sq + y1 * y2\n",
    "\n",
    "\n",
    "# numerically stable calculation of angle\n",
    "@nb.njit\n",
    "def angle(x1, y1, z1, x2, y2, z2):\n",
    "    # cross product\n",
    "    cx = y1 * z2 - y2 * z1\n",
    "    cy = x1 * z2 - x2 * z1\n",
    "    cz = x1 * y2 - x2 * y1\n",
    "    \n",
    "    # norm of cross product\n",
    "    c = np.sqrt(cx * cx + cy * cy + cz * cz)\n",
    "    \n",
    "    # dot product\n",
    "    d = x1 * x2 + y1 * y2 + z1 * z2\n",
    "    \n",
    "    return np.arctan2(c, d)\n",
    "\n",
    "\n",
    "rng = np.random.default_rng(1)\n",
    "\n",
    "dtype = np.float32\n",
    "size = 10000\n",
    "px1 = (10 ** rng.uniform(0, 5, size=size) * rng.choice([-1, 1], size=size)).astype(dtype)\n",
    "py1 = (10 ** rng.uniform(0, 5, size=size) * rng.choice([-1, 1], size=size)).astype(dtype)\n",
    "pz1 = (10 ** rng.uniform(0, 5, size=size) * rng.choice([-1, 1], size=size)).astype(dtype)\n",
    "px2 = (10 ** rng.uniform(0, 5, size=size) * rng.choice([-1, 1], size=size)).astype(dtype)\n",
    "py2 = (10 ** rng.uniform(0, 5, size=size) * rng.choice([-1, 1], size=size)).astype(dtype)\n",
    "pz2 = (10 ** rng.uniform(0, 5, size=size) * rng.choice([-1, 1], size=size)).astype(dtype)\n",
    "m1 = 10 ** rng.uniform(-5, 5, size=size).astype(dtype)\n",
    "m2 = 10 ** rng.uniform(-5, 5, size=size).astype(dtype)\n",
    "\n",
    "# as reference we use naive formula computed with mpmath\n",
    "M0 = []\n",
    "with mp.workdps(100):\n",
    "    for px1i, py1i, pz1i, px2i, py2i, pz2i, m1i, m2i in zip(px1, py1, pz1, px2, py2, pz2, m1, m2):\n",
    "        px1i = mp.mpf(float(px1i))\n",
    "        py1i = mp.mpf(float(py1i))\n",
    "        pz1i = mp.mpf(float(pz1i))\n",
    "        px2i = mp.mpf(float(px2i))\n",
    "        py2i = mp.mpf(float(py2i))\n",
    "        pz2i = mp.mpf(float(pz2i))\n",
    "        \n",
    "        m1_sq = mp.mpf(float(m1i)) ** 2\n",
    "        m2_sq = mp.mpf(float(m2i)) ** 2\n",
    "\n",
    "        e1 = mp.sqrt(px1i ** 2 + py1i ** 2 + pz1i ** 2 + m1_sq)\n",
    "        e2 = mp.sqrt(px2i ** 2 + py2i ** 2 + pz2i ** 2 + m2_sq)\n",
    "\n",
    "        M0.append(float(m1_sq + m2_sq + 2 * (e1 * e2 - (px1i * px2i + py1i * py2i + pz1i * pz2i))))\n",
    "\n",
    "M0 = np.array(M0)\n",
    "\n",
    "M = {f.__name__: f(px1, py1, pz1, px2, py2, pz2, m1, m2) for f in (msq1, msq2)}\n",
    "\n",
    "fig, ax = plt.subplots(1, len(M), figsize=(len(M) * 4.5, 4), sharey=True)\n",
    "for (fname, Mi), axi in zip(M.items(), ax):\n",
    "    d = (Mi - M0) / M0\n",
    "    axi.hist(d, bins=100)\n",
    "    axi.set_yscale(\"log\")\n",
    "    axi.set_title(f\"{fname}\")\n",
    "fig.supxlabel(r\"$(M'^2 - M^2) / M^2$\", y=-0.05);"
   ]
  },
  {
   "cell_type": "markdown",
   "id": "leading-medline",
   "metadata": {},
   "source": [
    "We again see great loss of accuracy for the naive implementation, while the numerically stable formula produces accurate results."
   ]
  }
 ],
 "metadata": {
  "kernelspec": {
   "display_name": "Python 3",
   "language": "python",
   "name": "python3"
  },
  "language_info": {
   "codemirror_mode": {
    "name": "ipython",
    "version": 3
   },
   "file_extension": ".py",
   "mimetype": "text/x-python",
   "name": "python",
   "nbconvert_exporter": "python",
   "pygments_lexer": "ipython3",
   "version": "3.8.12"
  }
 },
 "nbformat": 4,
 "nbformat_minor": 5
}
