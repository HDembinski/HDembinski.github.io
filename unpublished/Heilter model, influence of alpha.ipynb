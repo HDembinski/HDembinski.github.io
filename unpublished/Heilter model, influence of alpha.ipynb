{
 "cells": [
  {
   "cell_type": "code",
   "execution_count": 1,
   "metadata": {},
   "outputs": [],
   "source": [
    "from sympy import *"
   ]
  },
  {
   "cell_type": "code",
   "execution_count": 17,
   "metadata": {},
   "outputs": [],
   "source": [
    "nmu, energy, xi, alpha, M = symbols(\"N_mu E xi alpha M\", real=True, positive=True)"
   ]
  },
  {
   "cell_type": "code",
   "execution_count": 22,
   "metadata": {},
   "outputs": [],
   "source": [
    "nmu1 = (energy/xi)**(1 + log(alpha) / log(M))"
   ]
  },
  {
   "cell_type": "code",
   "execution_count": 23,
   "metadata": {},
   "outputs": [
    {
     "data": {
      "text/latex": [
       "$\\displaystyle \\frac{\\left(\\frac{E}{\\xi}\\right)^{1 + \\frac{\\log{\\left(\\alpha \\right)}}{\\log{\\left(M \\right)}}} \\log{\\left(\\frac{E}{\\xi} \\right)}}{\\alpha \\log{\\left(M \\right)}}$"
      ],
      "text/plain": [
       "(E/xi)**(1 + log(alpha)/log(M))*log(E/xi)/(alpha*log(M))"
      ]
     },
     "execution_count": 23,
     "metadata": {},
     "output_type": "execute_result"
    }
   ],
   "source": [
    "d = diff(nmu1, alpha); d"
   ]
  },
  {
   "cell_type": "code",
   "execution_count": 24,
   "metadata": {},
   "outputs": [
    {
     "data": {
      "text/latex": [
       "$\\displaystyle \\frac{N_{\\mu} \\log{\\left(\\frac{E}{\\xi} \\right)}}{\\alpha \\log{\\left(M \\right)}}$"
      ],
      "text/plain": [
       "N_mu*log(E/xi)/(alpha*log(M))"
      ]
     },
     "execution_count": 24,
     "metadata": {},
     "output_type": "execute_result"
    }
   ],
   "source": [
    "d.subs(nmu1, nmu)"
   ]
  },
  {
   "cell_type": "code",
   "execution_count": null,
   "metadata": {},
   "outputs": [],
   "source": []
  }
 ],
 "metadata": {
  "kernelspec": {
   "display_name": "py38",
   "language": "python",
   "name": "py38"
  },
  "language_info": {
   "codemirror_mode": {
    "name": "ipython",
    "version": 3
   },
   "file_extension": ".py",
   "mimetype": "text/x-python",
   "name": "python",
   "nbconvert_exporter": "python",
   "pygments_lexer": "ipython3",
   "version": "3.8.6"
  }
 },
 "nbformat": 4,
 "nbformat_minor": 4
}
