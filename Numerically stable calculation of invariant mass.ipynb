{
 "cells": [
  {
   "cell_type": "code",
   "execution_count": 1,
   "id": "identical-elephant",
   "metadata": {},
   "outputs": [],
   "source": [
    "import numpy as np\n",
    "import numba as nb\n",
    "import matplotlib.pyplot as plt\n",
    "import mpmath as mp"
   ]
  },
  {
   "cell_type": "code",
   "execution_count": 2,
   "id": "urban-secret",
   "metadata": {},
   "outputs": [],
   "source": [
    "# (slightly less) naive implementation\n",
    "def msq1(p1, p2, m1, m2):\n",
    "    m1_sq = m1 ** 2\n",
    "    m2_sq = m2 ** 2\n",
    "    \n",
    "    # energies of particles 1 and 2\n",
    "    e1 = np.sqrt(p1 ** 2 + m1_sq)\n",
    "    e2 = np.sqrt(p2 ** 2 + m2_sq)\n",
    "\n",
    "    # dangerous cancelation in third term\n",
    "    return m1_sq + m2_sq + 2 * (e1 * e2 - p1 * p2)"
   ]
  },
  {
   "cell_type": "code",
   "execution_count": 3,
   "id": "illegal-currency",
   "metadata": {},
   "outputs": [],
   "source": [
    "@nb.njit\n",
    "def unrolled_sort(a, b, c):\n",
    "    # unrolled sort of three items\n",
    "    if a < b:\n",
    "        if c < b:\n",
    "            if a < c:\n",
    "                b, c = c, b\n",
    "            else:\n",
    "                t = a\n",
    "                a = c\n",
    "                c = b\n",
    "                b = t\n",
    "    else:\n",
    "        if b < c:\n",
    "            if a < c:\n",
    "                a, b = b, a\n",
    "            else:\n",
    "                t = a\n",
    "                a = b\n",
    "                b = c\n",
    "                c = t\n",
    "        else:\n",
    "            a, c = c, a\n",
    "    return a, b, c\n",
    "\n",
    "\n",
    "assert unrolled_sort(1, 2, 3) == (1, 2, 3)\n",
    "assert unrolled_sort(1, 3, 2) == (1, 2, 3)\n",
    "assert unrolled_sort(2, 1, 3) == (1, 2, 3)\n",
    "assert unrolled_sort(2, 3, 1) == (1, 2, 3)\n",
    "assert unrolled_sort(3, 1, 2) == (1, 2, 3)\n",
    "assert unrolled_sort(3, 2, 1) == (1, 2, 3)"
   ]
  },
  {
   "cell_type": "code",
   "execution_count": 4,
   "id": "hydraulic-snake",
   "metadata": {},
   "outputs": [],
   "source": [
    "@nb.vectorize\n",
    "def msq2(p1, p2, m1, m2):\n",
    "    x1 = (m1 / p1) ** 2\n",
    "    x2 = (m2 / p2) ** 2\n",
    "    x = x1 + x2 + x1 * x2\n",
    "    # sqrt(x + 1) - 1 = x / (sqrt(x + 1) + 1)\n",
    "    y = 2 * p1 * p2 * x / (np.sqrt(1 + x) + 1)\n",
    "    return m1 ** 2 + m2 ** 2 + y\n",
    "\n",
    "    \n",
    "@nb.vectorize\n",
    "def msq3(p1, p2, m1, m2):\n",
    "    x1 = (m1 / p1) ** 2\n",
    "    x2 = (m2 / p2) ** 2\n",
    "    x = sum(unrolled_sort(x1, x2, x1 * x2))\n",
    "    # sqrt(x + 1) - 1 = x / (sqrt(x + 1) + 1)\n",
    "    c = 2 * p1 * p2 * x / (np.sqrt(1 + x) + 1)\n",
    "    return sum(unrolled_sort(m1 ** 2, m2 ** 2, c))"
   ]
  },
  {
   "cell_type": "code",
   "execution_count": 5,
   "id": "senior-revolution",
   "metadata": {},
   "outputs": [
    {
     "name": "stderr",
     "output_type": "stream",
     "text": [
      "<ipython-input-5-26b26857b37f>:25: RuntimeWarning: invalid value encountered in msq3\n",
      "  M = {f.__name__: f(p1.astype(np.float32),\n"
     ]
    },
    {
     "data": {
      "image/png": "[encoded data removed]",
      "text/plain": [
       "<Figure size 972x288 with 3 Axes>"
      ]
     },
     "metadata": {
      "needs_background": "light"
     },
     "output_type": "display_data"
    }
   ],
   "source": [
    "rng = np.random.default_rng(1)\n",
    "\n",
    "p1 = 10 ** rng.uniform(0, 5, size=10000)\n",
    "p2 = 10 ** rng.uniform(0, 5, size=10000)\n",
    "m1 = 10 ** rng.uniform(-5, 5, size=10000)\n",
    "m2 = 10 ** rng.uniform(-5, 5, size=10000)\n",
    "\n",
    "# as reference we use naive formula computed with mpmath\n",
    "M0 = []\n",
    "with mp.workdps(100):\n",
    "    for p1i, p2i, m1i, m2i in zip(p1, p2, m1, m2):        \n",
    "        p1i = mp.mpf(p1i)\n",
    "        p2i = mp.mpf(p2i)\n",
    "        \n",
    "        m1_sq = mp.mpf(m1i) ** 2\n",
    "        m2_sq = mp.mpf(m2i) ** 2\n",
    "\n",
    "        e1 = mp.sqrt(p1i ** 2 + m1_sq)\n",
    "        e2 = mp.sqrt(p2i ** 2 + m2_sq)\n",
    "\n",
    "        M0.append(m1_sq + m2_sq + 2 * (e1 * e2 - p1i * p2i))\n",
    "\n",
    "M0 = np.array(M0, dtype=float)\n",
    "\n",
    "M = {f.__name__: f(p1.astype(np.float32),\n",
    "       p2.astype(np.float32),\n",
    "       m1.astype(np.float32),\n",
    "       m2.astype(np.float32)) for f in (msq1, msq2, msq3)}\n",
    "\n",
    "fig, ax = plt.subplots(1, len(M), figsize=(len(M) * 4.5, 4), sharey=True)\n",
    "for (fname, Mi), axi in zip(M.items(), ax):    \n",
    "    axi.hist((Mi - M0) / M0, bins=100)\n",
    "    axi.set_yscale(\"log\")\n",
    "    axi.set_title(fname)\n",
    "fig.supxlabel(r\"$(M'^2 - M^2) / M^2$\");"
   ]
  }
 ],
 "metadata": {
  "kernelspec": {
   "display_name": "Python 3",
   "language": "python",
   "name": "python3"
  },
  "language_info": {
   "codemirror_mode": {
    "name": "ipython",
    "version": 3
   },
   "file_extension": ".py",
   "mimetype": "text/x-python",
   "name": "python",
   "nbconvert_exporter": "python",
   "pygments_lexer": "ipython3",
   "version": "3.8.12"
  }
 },
 "nbformat": 4,
 "nbformat_minor": 5
}
