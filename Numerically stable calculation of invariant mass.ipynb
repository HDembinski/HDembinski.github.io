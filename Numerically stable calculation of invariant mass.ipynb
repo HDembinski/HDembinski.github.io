{
 "cells": [
  {
   "cell_type": "markdown",
   "id": "parliamentary-manor",
   "metadata": {},
   "source": [
    "# Numerically stable calculation of invariant mass\n",
    "\n",
    "## Two-body decay\n",
    "\n",
    "### Solution in 1D\n",
    "\n",
    "We start with the formula\n",
    "\n",
    "$$\n",
    "M^2 = m_1^2  + m_2^2 + 2 (E_1 E_2 - \\vec{p}_1 \\vec{p}_2)\n",
    "$$\n",
    "\n",
    "and rewrite the product of the energies\n",
    "\n",
    "$$\n",
    "E_1 E_2 = \\sqrt{|\\vec{p}_1|^2 + m_1^2}\\sqrt{|\\vec{p}_2| + m_2^2} = |\\vec{p}_1| |\\vec{p}_2| \\sqrt{\\left(1 + \\frac{m_1^2}{|\\vec{p}_1|^2}\\right)\\left(1 + \\frac{m_2^2}{|\\vec{p}_2|^2}\\right)} = |\\vec{p}_1| |\\vec{p}_2| \\sqrt{1 + x}\n",
    "$$\n",
    "\n",
    "with\n",
    "\n",
    "$$\n",
    "x = \\frac{m_1^2}{|\\vec{p}_1|^2} + \\frac{m_2^2}{|\\vec{p}_2|^2} + \\frac{m_1^2}{|\\vec{p}_1|^2} \\frac{m_2^2}{|\\vec{p}_2|^2}\n",
    "$$\n",
    "\n",
    "In 1D, we have\n",
    "\n",
    "$$\n",
    "E_1 E_2 - \\vec{p}_1 \\vec{p}_2 = E_1 E_2 - |\\vec{p}_1||\\vec{p}_2| = |\\vec{p}_1||\\vec{p}_2| (\\sqrt{x + 1} - 1)\n",
    "$$\n",
    "\n",
    "The cancellation is now reduced to the expression $\\sqrt{x + 1} - 1$. With the [brilliant trick from a Stackoverflow answer](https://stackoverflow.com/questions/32444817/numerically-stable-evaluation-of-sqrtxa-sqrtx?rq=1), we can rewrite this as\n",
    "\n",
    "$$\n",
    "\\sqrt{x + 1} - 1 = \\frac{(\\sqrt{x + 1} - 1)(\\sqrt{x + 1} + 1)}{\\sqrt{x + 1} + 1} = \\frac{x}{\\sqrt{x + 1} + 1}\n",
    "$$\n",
    "\n",
    "which is numerically stable. With this formula, $M^2$ is always non-negative even in the presence of round-off errors. "
   ]
  },
  {
   "cell_type": "code",
   "execution_count": 3,
   "id": "identical-elephant",
   "metadata": {},
   "outputs": [],
   "source": [
    "import numpy as np\n",
    "import numba as nb\n",
    "import matplotlib.pyplot as plt\n",
    "import mpmath as mp"
   ]
  },
  {
   "cell_type": "code",
   "execution_count": 4,
   "id": "urban-secret",
   "metadata": {},
   "outputs": [],
   "source": [
    "# (slightly less) naive implementation\n",
    "def msq1(p1, p2, m1, m2):\n",
    "    m1_sq = m1 ** 2\n",
    "    m2_sq = m2 ** 2\n",
    "    \n",
    "    # energies of particles 1 and 2\n",
    "    e1 = np.sqrt(p1 ** 2 + m1_sq)\n",
    "    e2 = np.sqrt(p2 ** 2 + m2_sq)\n",
    "\n",
    "    # dangerous cancelation in third term\n",
    "    return m1_sq + m2_sq + 2 * (e1 * e2 - p1 * p2)"
   ]
  },
  {
   "cell_type": "code",
   "execution_count": 5,
   "id": "expressed-verse",
   "metadata": {},
   "outputs": [],
   "source": [
    "@nb.njit\n",
    "def unrolled_sort(a, b, c):\n",
    "    # unrolled sort of three items\n",
    "    if a < b:\n",
    "        if c < b:\n",
    "            if a < c:\n",
    "                b, c = c, b\n",
    "            else:\n",
    "                t = a\n",
    "                a = c\n",
    "                c = b\n",
    "                b = t\n",
    "    else:\n",
    "        if b < c:\n",
    "            if a < c:\n",
    "                a, b = b, a\n",
    "            else:\n",
    "                t = a\n",
    "                a = b\n",
    "                b = c\n",
    "                c = t\n",
    "        else:\n",
    "            a, c = c, a\n",
    "    return a, b, c\n",
    "\n",
    "\n",
    "assert unrolled_sort(1, 2, 3) == (1, 2, 3)\n",
    "assert unrolled_sort(1, 3, 2) == (1, 2, 3)\n",
    "assert unrolled_sort(2, 1, 3) == (1, 2, 3)\n",
    "assert unrolled_sort(2, 3, 1) == (1, 2, 3)\n",
    "assert unrolled_sort(3, 1, 2) == (1, 2, 3)\n",
    "assert unrolled_sort(3, 2, 1) == (1, 2, 3)"
   ]
  },
  {
   "cell_type": "code",
   "execution_count": 6,
   "id": "hydraulic-snake",
   "metadata": {},
   "outputs": [],
   "source": [
    "@nb.vectorize\n",
    "def msq2(p1, p2, m1, m2):\n",
    "    x1 = (m1 / p1) ** 2\n",
    "    x2 = (m2 / p2) ** 2\n",
    "    x = x1 + x2 + x1 * x2\n",
    "    # sqrt(x + 1) - 1 = x / (sqrt(x + 1) + 1)\n",
    "    y = 2 * p1 * p2 * x / (np.sqrt(1 + x) + 1)\n",
    "    return m1 ** 2 + m2 ** 2 + y\n",
    "\n",
    "    \n",
    "@nb.vectorize\n",
    "def msq3(p1, p2, m1, m2):\n",
    "    x1 = (m1 / p1) ** 2\n",
    "    x2 = (m2 / p2) ** 2\n",
    "    x = sum(unrolled_sort(x1, x2, x1 * x2))\n",
    "    # sqrt(x + 1) - 1 = x / (sqrt(x + 1) + 1)\n",
    "    c = 2 * p1 * p2 * x / (np.sqrt(1 + x) + 1)\n",
    "    return sum(unrolled_sort(m1 ** 2, m2 ** 2, c))"
   ]
  },
  {
   "cell_type": "code",
   "execution_count": 7,
   "id": "senior-revolution",
   "metadata": {},
   "outputs": [
    {
     "name": "stderr",
     "output_type": "stream",
     "text": [
      "<ipython-input-7-26b26857b37f>:25: RuntimeWarning: invalid value encountered in msq3\n",
      "  M = {f.__name__: f(p1.astype(np.float32),\n"
     ]
    },
    {
     "data": {
      "image/png": "[encoded data removed]",
      "text/plain": [
       "<Figure size 972x288 with 3 Axes>"
      ]
     },
     "metadata": {
      "needs_background": "light"
     },
     "output_type": "display_data"
    }
   ],
   "source": [
    "rng = np.random.default_rng(1)\n",
    "\n",
    "p1 = 10 ** rng.uniform(0, 5, size=10000)\n",
    "p2 = 10 ** rng.uniform(0, 5, size=10000)\n",
    "m1 = 10 ** rng.uniform(-5, 5, size=10000)\n",
    "m2 = 10 ** rng.uniform(-5, 5, size=10000)\n",
    "\n",
    "# as reference we use naive formula computed with mpmath\n",
    "M0 = []\n",
    "with mp.workdps(100):\n",
    "    for p1i, p2i, m1i, m2i in zip(p1, p2, m1, m2):        \n",
    "        p1i = mp.mpf(p1i)\n",
    "        p2i = mp.mpf(p2i)\n",
    "        \n",
    "        m1_sq = mp.mpf(m1i) ** 2\n",
    "        m2_sq = mp.mpf(m2i) ** 2\n",
    "\n",
    "        e1 = mp.sqrt(p1i ** 2 + m1_sq)\n",
    "        e2 = mp.sqrt(p2i ** 2 + m2_sq)\n",
    "\n",
    "        M0.append(m1_sq + m2_sq + 2 * (e1 * e2 - p1i * p2i))\n",
    "\n",
    "M0 = np.array(M0, dtype=float)\n",
    "\n",
    "M = {f.__name__: f(p1.astype(np.float32),\n",
    "       p2.astype(np.float32),\n",
    "       m1.astype(np.float32),\n",
    "       m2.astype(np.float32)) for f in (msq1, msq2, msq3)}\n",
    "\n",
    "fig, ax = plt.subplots(1, len(M), figsize=(len(M) * 4.5, 4), sharey=True)\n",
    "for (fname, Mi), axi in zip(M.items(), ax):    \n",
    "    axi.hist((Mi - M0) / M0, bins=100)\n",
    "    axi.set_yscale(\"log\")\n",
    "    axi.set_title(fname)\n",
    "fig.supxlabel(r\"$(M'^2 - M^2) / M^2$\");"
   ]
  },
  {
   "cell_type": "markdown",
   "id": "level-hours",
   "metadata": {},
   "source": [
    "### Solution in 3D\n",
    "\n",
    "In 3D, the solution is a bit more complex than in the 1D case. We have now\n",
    "\n",
    "$$\n",
    "E_1 E_2 - \\vec{p}_1 \\vec{p}_2 = |\\vec{p}_1| |\\vec{p}_2| \\left(\\sqrt{x + 1} - \\frac{\\vec{p}_1 \\vec{p}_2}{|\\vec{p}_1| |\\vec{p}_2|}\\right) = |\\vec{p}_1| |\\vec{p}_2| \\left(\\sqrt{x + 1} - \\cos{\\alpha}\\right)\n",
    "$$\n",
    "\n",
    "where $\\alpha$ is the angle between $\\vec{p}_1$ and $\\vec{p}_2$. We have again a numerical instability for small $x$ and small $\\alpha$, when $\\vec{p}_1$ and $\\vec{p}_2$ are nearly parallel, which happens often in practice.\n",
    "\n",
    "To avoid the instability, we use a similar trick as before\n",
    "\n",
    "$$\n",
    "\\sqrt{x + 1} - \\cos{\\alpha} = \\frac{x + 1 - \\cos^2{\\alpha}}{\\sqrt{x + 1} + \\cos{\\alpha}} = \\frac{x + \\sin^2{\\alpha}}{\\sqrt{x + 1} + \\cos{\\alpha}}\n",
    "$$\n",
    "\n",
    "We again avoided the subtraction of two numbers which are almost 1. We now face an additional issue. The naive computation of $\\alpha$ is also not numerically stable for small $\\alpha$ and we need [another trick from Stackoverflow](https://scicomp.stackexchange.com/questions/27689/numerically-stable-way-of-computing-angles-between-vectors) to compute it accurately,\n",
    "\n",
    "$$\n",
    "\\alpha = \\rm{arctan2}(|\\vec{p}_1 \\times \\vec{p}_2|, \\vec{p}_1 \\vec{p}_2 )\n",
    "$$\n",
    "\n",
    "where $\\rm{arctan2}$ refers to the computer function with the same name. "
   ]
  },
  {
   "cell_type": "code",
   "execution_count": 80,
   "id": "utility-malawi",
   "metadata": {},
   "outputs": [],
   "source": [
    "# (slightly less) naive implementation\n",
    "def msq1(px1, py1, pz1, px2, py2, pz2, m1, m2):\n",
    "    p1_sq = px1 ** 2 + py1 ** 2 + pz1 ** 2\n",
    "    p2_sq = px2 ** 2 + py2 ** 2 + pz2 ** 2\n",
    "    m1_sq = m1 ** 2\n",
    "    m2_sq = m2 ** 2\n",
    "    \n",
    "    # energies of particles 1 and 2\n",
    "    e1 = np.sqrt(p1_sq + m1_sq)\n",
    "    e2 = np.sqrt(p2_sq + m2_sq)\n",
    "\n",
    "    # dangerous cancelation in third term\n",
    "    return m1_sq + m2_sq + 2 * (e1 * e2 - (px1 * px2 + py1 * py2 + pz1 * pz2))"
   ]
  },
  {
   "cell_type": "code",
   "execution_count": 81,
   "id": "western-development",
   "metadata": {},
   "outputs": [],
   "source": [
    "# numerically stable calculation of angle\n",
    "@nb.njit\n",
    "def angle(x1, y1, z1, x2, y2, z2):\n",
    "    a = np.empty_like(x1, dtype=x1.dtype)\n",
    "    for i in nb.prange(len(x1)):\n",
    "        v1 = np.array((x1[i], y1[i], z1[i]), dtype=x1.dtype)\n",
    "        v2 = np.array((x2[i], y2[i], z2[i]), dtype=x2.dtype)\n",
    "        v3 = np.cross(v1, v2)\n",
    "        a[i] = np.arctan2(np.dot(v3, v3) ** 0.5, np.dot(v1, v2))\n",
    "    return a\n",
    "\n",
    "\n",
    "@nb.njit\n",
    "def msq2(px1, py1, pz1, px2, py2, pz2, m1, m2):\n",
    "    p1_sq = px1 ** 2 + py1 ** 2 + pz1 ** 2\n",
    "    p2_sq = px2 ** 2 + py2 ** 2 + pz2 ** 2\n",
    "    a = angle(px1, py1, pz1, px2, py2, pz2)\n",
    "    sin_theta_sq = np.sin(a) ** 2\n",
    "    m1_sq = m1 ** 2\n",
    "    m2_sq = m2 ** 2\n",
    "    x1 = m1_sq / p1_sq\n",
    "    x2 = m2_sq / p2_sq\n",
    "    x = x1 + x2 + x1 * x2\n",
    "    y = 2 * np.sqrt(p1_sq * p2_sq) * (x + sin_theta_sq) / (np.sqrt(x + 1) + np.cos(a))\n",
    "    return m1_sq + m2_sq + y"
   ]
  },
  {
   "cell_type": "code",
   "execution_count": 82,
   "id": "curious-radar",
   "metadata": {},
   "outputs": [
    {
     "data": {
      "image/png": "[encoded data removed]",
      "text/plain": [
       "<Figure size 648x288 with 2 Axes>"
      ]
     },
     "metadata": {
      "needs_background": "light"
     },
     "output_type": "display_data"
    }
   ],
   "source": [
    "rng = np.random.default_rng(1)\n",
    "\n",
    "dtype = np.float32\n",
    "px1 = 10 ** rng.uniform(0, 3, size=10000).astype(dtype)\n",
    "py1 = 10 ** rng.uniform(0, 3, size=10000).astype(dtype)\n",
    "pz1 = 10 ** rng.uniform(0, 5, size=10000).astype(dtype)\n",
    "px2 = 10 ** rng.uniform(0, 3, size=10000).astype(dtype)\n",
    "py2 = 10 ** rng.uniform(0, 3, size=10000).astype(dtype)\n",
    "pz2 = 10 ** rng.uniform(0, 5, size=10000).astype(dtype)\n",
    "m1 = 10 ** rng.uniform(-5, 5, size=10000).astype(dtype)\n",
    "m2 = 10 ** rng.uniform(-5, 5, size=10000).astype(dtype)\n",
    "\n",
    "# as reference we use naive formula computed with mpmath\n",
    "M0 = []\n",
    "with mp.workdps(100):\n",
    "    for px1i, py1i, pz1i, px2i, py2i, pz2i, m1i, m2i in zip(px1, py1, pz1, px2, py2, pz2, m1, m2):\n",
    "        px1i = mp.mpf(float(px1i))\n",
    "        py1i = mp.mpf(float(py1i))\n",
    "        pz1i = mp.mpf(float(pz1i))\n",
    "        px2i = mp.mpf(float(px2i))\n",
    "        py2i = mp.mpf(float(py2i))\n",
    "        pz2i = mp.mpf(float(pz2i))\n",
    "        \n",
    "        m1_sq = mp.mpf(float(m1i)) ** 2\n",
    "        m2_sq = mp.mpf(float(m2i)) ** 2\n",
    "\n",
    "        e1 = mp.sqrt(px1i ** 2 + py1i ** 2 + pz1i ** 2 + m1_sq)\n",
    "        e2 = mp.sqrt(px2i ** 2 + py2i ** 2 + pz2i ** 2 + m2_sq)\n",
    "\n",
    "        M0.append(m1_sq + m2_sq + 2 * (e1 * e2 - (px1i * px2i + py1i * py2i + pz1i * pz2i)))\n",
    "\n",
    "M0 = np.array(M0, dtype=float)\n",
    "\n",
    "M = {f.__name__: f(px1, py1, pz1, px2, py2, pz2, m1, m2) for f in (msq1, msq2)}\n",
    "\n",
    "fig, ax = plt.subplots(1, len(M), figsize=(len(M) * 4.5, 4), sharey=True)\n",
    "for (fname, Mi), axi in zip(M.items(), ax):\n",
    "    d = (Mi - M0) / M0\n",
    "    axi.hist(d, bins=100)\n",
    "    axi.set_yscale(\"log\")\n",
    "    axi.set_title(f\"{fname}\")\n",
    "fig.supxlabel(r\"$(M'^2 - M^2) / M^2$\", y=-0.05);"
   ]
  }
 ],
 "metadata": {
  "kernelspec": {
   "display_name": "Python 3",
   "language": "python",
   "name": "python3"
  },
  "language_info": {
   "codemirror_mode": {
    "name": "ipython",
    "version": 3
   },
   "file_extension": ".py",
   "mimetype": "text/x-python",
   "name": "python",
   "nbconvert_exporter": "python",
   "pygments_lexer": "ipython3",
   "version": "3.8.12"
  }
 },
 "nbformat": 4,
 "nbformat_minor": 5
}
